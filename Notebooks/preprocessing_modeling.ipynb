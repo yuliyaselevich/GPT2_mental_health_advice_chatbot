{
 "cells": [
  {
   "cell_type": "markdown",
   "id": "c4ef42fb",
   "metadata": {},
   "source": [
    "# Training GPT-2 on How to Give Mental Health Advice\n",
    "## I will be using gpt-2-simple module developed by Max Woolf (http://minimaxir.com/)"
   ]
  },
  {
   "cell_type": "code",
   "execution_count": 1,
   "id": "07e97510",
   "metadata": {
    "ExecuteTime": {
     "end_time": "2022-11-14T17:47:14.253720Z",
     "start_time": "2022-11-14T17:47:03.520079Z"
    }
   },
   "outputs": [
    {
     "name": "stderr",
     "output_type": "stream",
     "text": [
      "2022-11-14 12:47:04.491450: I tensorflow/core/platform/cpu_feature_guard.cc:193] This TensorFlow binary is optimized with oneAPI Deep Neural Network Library (oneDNN) to use the following CPU instructions in performance-critical operations:  AVX2 AVX512F AVX512_VNNI FMA\n",
      "To enable them in other operations, rebuild TensorFlow with the appropriate compiler flags.\n"
     ]
    }
   ],
   "source": [
    "# Downloading the gpt-2-simple module\n",
    "#!pip install -q gpt-2-simple\n",
    "import gpt_2_simple as gpt2\n",
    "from datetime import datetime"
   ]
  },
  {
   "cell_type": "markdown",
   "id": "718ce34d",
   "metadata": {},
   "source": [
    "# Downloading the model\n",
    "- I will be using 355M: the \"medium\" model, 1.5GB on disk.\n",
    "- Larger models have more knowledge, but take longer to finetune and longer to generate text."
   ]
  },
  {
   "cell_type": "code",
   "execution_count": 26,
   "id": "63aad616",
   "metadata": {
    "ExecuteTime": {
     "end_time": "2022-10-24T17:19:05.734130Z",
     "start_time": "2022-10-24T17:12:14.810328Z"
    }
   },
   "outputs": [
    {
     "name": "stderr",
     "output_type": "stream",
     "text": [
      "Fetching checkpoint: 1.05Mit [00:00, 298Mit/s]                                                      \n",
      "Fetching encoder.json: 1.05Mit [00:00, 3.68Mit/s]                                                   \n",
      "Fetching hparams.json: 1.05Mit [00:00, 712Mit/s]                                                    \n",
      "Fetching model.ckpt.data-00000-of-00001: 1.42Git [06:47, 3.48Mit/s]                                 \n",
      "Fetching model.ckpt.index: 1.05Mit [00:00, 458Mit/s]                                                \n",
      "Fetching model.ckpt.meta: 1.05Mit [00:00, 3.90Mit/s]                                                \n",
      "Fetching vocab.bpe: 1.05Mit [00:00, 6.06Mit/s]                                                      \n"
     ]
    }
   ],
   "source": [
    "# Download the GPT-2 model\n",
    "gpt2.download_gpt2(model_name=\"355M\")"
   ]
  },
  {
   "cell_type": "markdown",
   "id": "80354292",
   "metadata": {},
   "source": [
    "# Finetune GPT-2\n",
    "\n",
    "- The next cell will start the actual finetuning of GPT-2. It creates a persistent TensorFlow session which stores the training config, then runs the training for the specified number of steps. \n",
    "\n",
    "- The model checkpoints will be saved in /checkpoint/run1 by default. The checkpoints are saved every 500 steps (can be changed) and when the cell is stopped.\n",
    "\n",
    "## Parameters for gpt2.finetune:\n",
    "\n",
    "- restore_from: Set to fresh to start training from the base GPT-2, or set to latest to restart training from an existing checkpoint.\n",
    "- sample_every: Number of steps to print example output\n",
    "- print_every: Number of steps to print training progress.\n",
    "- learning_rate: Learning rate for the training. (default 1e-4, can lower to 1e-5 if you have <1MB input data)\n",
    "- run_name: subfolder within checkpoint to save the model. This is useful if you want to work with multiple models (will also need to specify  run_name when loading the model)\n",
    "- overwrite: Set to True if you want to continue finetuning an existing model (w/ restore_from='latest') without creating duplicate copies."
   ]
  },
  {
   "cell_type": "code",
   "execution_count": 30,
   "id": "71c66341",
   "metadata": {
    "ExecuteTime": {
     "end_time": "2022-10-26T08:48:19.796798Z",
     "start_time": "2022-10-24T17:20:14.976628Z"
    }
   },
   "outputs": [
    {
     "name": "stderr",
     "output_type": "stream",
     "text": [
      "2022-10-24 13:20:14.978692: I tensorflow/core/platform/cpu_feature_guard.cc:193] This TensorFlow binary is optimized with oneAPI Deep Neural Network Library (oneDNN) to use the following CPU instructions in performance-critical operations:  AVX2 AVX512F AVX512_VNNI FMA\n",
      "To enable them in other operations, rebuild TensorFlow with the appropriate compiler flags.\n"
     ]
    },
    {
     "name": "stdout",
     "output_type": "stream",
     "text": [
      "For larger models, the recommended finetune() parameters are:\n",
      "\tuse_memory_saving_gradients = True\n",
      "\tonly_train_transformer_layers = True\n",
      "\taccumulate_gradients = 1\n",
      "\n"
     ]
    },
    {
     "name": "stderr",
     "output_type": "stream",
     "text": [
      "2022-10-24 13:20:29.280464: I tensorflow/compiler/mlir/mlir_graph_optimization_pass.cc:354] MLIR V1 optimization pass is not enabled\n"
     ]
    },
    {
     "name": "stdout",
     "output_type": "stream",
     "text": [
      "Loading checkpoint models/355M/model.ckpt\n",
      "INFO:tensorflow:Restoring parameters from models/355M/model.ckpt\n",
      "Loading dataset...\n"
     ]
    },
    {
     "name": "stderr",
     "output_type": "stream",
     "text": [
      "100%|█████████████████████████████████████████████| 1/1 [01:35<00:00, 95.25s/it]\n"
     ]
    },
    {
     "name": "stdout",
     "output_type": "stream",
     "text": [
      "dataset has 33404274 tokens\n",
      "Training...\n",
      "[10 | 655.61] loss=3.28 avg=3.28\n",
      "[20 | 1317.37] loss=3.14 avg=3.21\n",
      "[30 | 1972.91] loss=2.99 avg=3.14\n",
      "[40 | 2626.18] loss=2.86 avg=3.07\n",
      "[50 | 3279.65] loss=2.99 avg=3.05\n",
      "[60 | 3930.19] loss=3.04 avg=3.05\n",
      "[70 | 4576.44] loss=2.57 avg=2.98\n",
      "[80 | 5225.42] loss=2.92 avg=2.97\n",
      "[90 | 5902.11] loss=2.98 avg=2.97\n",
      "[100 | 6577.40] loss=3.24 avg=3.00\n",
      "[110 | 7245.45] loss=2.96 avg=3.00\n",
      "[120 | 7900.94] loss=3.07 avg=3.00\n",
      "[130 | 8559.15] loss=2.90 avg=2.99\n",
      "[140 | 9219.46] loss=3.22 avg=3.01\n",
      "[150 | 9885.83] loss=2.98 avg=3.01\n",
      "[160 | 10546.82] loss=2.85 avg=3.00\n",
      "[170 | 11211.25] loss=2.81 avg=2.99\n",
      "[180 | 11882.24] loss=2.57 avg=2.96\n",
      "[190 | 12545.72] loss=2.74 avg=2.95\n",
      "[200 | 13206.81] loss=3.00 avg=2.95\n",
      "======== SAMPLE 1 ========\n",
      " there is still lots of work to be done on self-esteem issues. but overall: it is worth a tshirt from now on. thank you :) i'll be honest. i have been living with my mental illness for so long. you just said you were the exact same age that you are now. but yeah: to me: it sounds more like my parents and siblings are all just not that far along for me and in my opinion: they really don't understand me. that's how i have always felt: like i shouldn't even try to explain myself in words. but they also didn't take into account the possibility that a lot of times my dad and older brother would just give that as an excuse to act all crazy and irrational on me.i'm 21. just been diagnosed with bipolar ii because my father was not interested. (a couple years ago) but i'm very proud of my brother and sister for being just likeable and not having it too easy. but as i'm sure you guys know: i have to get therapy. it feels more like a struggle than if i hadn't been born with it though as i've always been raised like that. there are times i was really sad and depressed. my siblings and i would just go to bed at night and cry for about 3 days straight without even sleeping a single day: but my parents would literally watch me cry out to them before the next day would even be up (my dad in particular) and think that i was getting better just because i did those things in the past: but you can't say that. i mean this is how i feel with the anxiety that i was told i was going to get during my school years. just being told it was 'normal' and 'healthy' and not feeling any change would be like watching someone in the future suffer through childhood and the changes. as far as my parents being supportive: i think we're lucky that my mental illness is hereditary because it sounds like the way my family is right now is a lot harder than before since they think we're weak too and need to be controlled. but for me: it's very difficult to let go of the fact that i don't want to let go of my mother because i don't want my sister to grow up like i did. my mom was kind to and supportive of this child (my sister is pretty sure her mom is in her own mental illness so that's the other thing that made me feel like i couldn't let myself leave her: and that was probably the second time she tried as well) so i'm always trying to tell her stuff but just don: and now we're only having a conversation: but i'm the one saying stuff to her while she doesn't want to talk to me and isn't really listening. i've even had her telling me i'm 'just a bad person' and all these random things. it's just been harder to hear myself speaking to my mother than it was to hearing voices too for a while. and it really started affecting my sense of self where i was scared to do things and not knowing what was going on inside of me so i kept it to myself and didn't let her tell me. so i'm just not getting out. now? i haven't even had a therapist for like a year. i still can't go to a therapist because i feel like i'm just a bad person. it'll be almost a year before i get one though. i'll try not to be too hard on myself for this but i really need to get one myself. but in terms of the other stuff i'm having to endure: honestly i'm just kind of numb. i don't even have a therapist either because i feel like i can't even talk about it with my mom and my sister at this point in time. it feels all i can bring up is them saying 'it's the right time to talk about it' and my mother saying 'hey it might be a good time to talk' but not really wanting to admit that she is struggling with this stuff too. so i kind of keep it to myself for the time being.i'm 24 and when my mom died i was in college and all of her kids took the same name as my father's and that really made me feel empty that she hadn't taken that into consideration when i was growing up that was the only life i had. so now i have this new life to grow up that's so hard for me. i can't talk to my siblings without them telling me to go 'oh come on we're so jealous' and then after my siblings tell me that i go 'oh so that'd be nice' and then the thing is when my mom died i just felt very sad. we grew up close and so did she and even still we felt nothing and i just started feeling sad even though i used to be able to talk about my struggles. well to tell the truth she died too the same way. all the pain she endured during that time. she died in a\n",
      "\n",
      "[210 | 14145.43] loss=2.81 avg=2.94\n",
      "[220 | 14810.34] loss=2.83 avg=2.94\n",
      "[230 | 15477.23] loss=2.90 avg=2.94\n",
      "[240 | 16144.53] loss=3.06 avg=2.94\n",
      "[250 | 16814.54] loss=3.00 avg=2.94\n",
      "[260 | 17479.03] loss=2.78 avg=2.94\n",
      "[270 | 18143.91] loss=2.67 avg=2.93\n",
      "[280 | 18802.95] loss=2.75 avg=2.92\n",
      "[290 | 19462.25] loss=2.56 avg=2.90\n",
      "[300 | 20132.09] loss=2.89 avg=2.90\n",
      "[310 | 20789.16] loss=2.79 avg=2.90\n",
      "[320 | 21449.42] loss=2.91 avg=2.90\n",
      "[330 | 22104.12] loss=2.59 avg=2.89\n",
      "[340 | 22759.54] loss=2.92 avg=2.89\n",
      "[350 | 23415.10] loss=2.98 avg=2.89\n",
      "[360 | 24077.34] loss=2.70 avg=2.89\n",
      "[370 | 24743.42] loss=2.83 avg=2.88\n",
      "[380 | 25399.86] loss=2.94 avg=2.89\n",
      "[390 | 26063.64] loss=2.93 avg=2.89\n",
      "[400 | 26725.72] loss=3.01 avg=2.89\n",
      "======== SAMPLE 1 ========\n",
      " be in a better place emotionally now. that's enough to take a person away from a suicidal situation and i would assume it is enough for people with bpd. bpd is also treated by a psychologist and by some meds (like ssris [selective serotonin reuptake inhibitors]). it makes my depression more difficult but does help my bpd.yeah i wish i had some more information regarding this. some of this information may be misleading: it’s not my intention to make you feel bad but my suggestion could be too drastic. some people on this forum think that mental illness is more of a social issue. it’s not: it’s a physical issue. you’re also seeing symptoms in different people at the same time: but not all of them. a lot of times the symptoms are similar to one another and not entirely identical: but still different enough so you can see a difference. the problem with all of this is that people who have bpd usually end up treating one another instead of treating themselves with the same treatment: which causes social dysfunction.i don't think it’s so much the same as to say there’s no cause and effect. if this is you: the answer is to not be a wimpy person: but not being overly dramatic. i have bpd myself so my problem isn't really a social one: although i think if we had a lot of people from different cultures living in my area (as in the u.s. for example) to have the same problem i am sure there’s one or two people who would pick up one of those symptoms in someone and assume it’s some social problem. that way you can help yourself rather than others in that problem. i'm sure you don't have to take any action: you just can’t be too dramatic about it. when someone feels hopeless and wants to kill themselves it doesn't mean you don't want to help: it just means it is you: your problems are real: and people will do what you want to do when you feel hopeless: as they have to to survive: and sometimes help helps them in their own way or in a different way so you can be free from your sadness: your pain and your problems.<|endoftext|>\"\n",
      "\"<|startoftext|>[WP]i was diagnosed with borderline personality disorder. is there any way to help someone with this disorder without them admitting they have it? [RESPONSE]wow the first time i saw you and you went through so much pain and pain and it changed my life and changed for me. i was so scared and i’ve never felt that way before. i hope you get help.thanks for this. i’ve heard i’m able to help people with more complex and challenging problems but i’m afraid of talking to people because of my own personal issues. i’d like to give you some tips on how i feel you’re able to help your daughter with hers? i’m sure her parents will understand because they’ve been through the same thing. if your son was to start going out and playing: would you talk to him about it because of the emotional abuse your son has gotten from both your wife and mother? or would you tell him outright that he is hurting you and he should stop and say he needs to stop because i am so afraid he has it coming around: he has been in therapy every weekend for months now. what kind of therapist would be a good match for your daughter? i know that her parents are professionals and all but i am scared that they are trying to help their daughter with everything because they themselves are in no mental state to help. or i would try to help you and help her and then tell her that it was just going to be therapy: but she doesn't want to go: or you are just trying to harm her feelings (which is what is going on here). that she doesn't want help is also how you can start off. she has been so very adamant that you need to tell her that you want her help. but you have to give up on trying to change her mind. by telling her that it's okay to feel sad: she can start to take responsibility of her own feelings and start to express and cope with her sadness herself so that you don't overreact. you need to let her know that when you want to do bad things: you will do them: only don't push her to the edge if it could bring her down. if she continues to push things on you this way: you will not be able to change it in your own children. but the best thing you can can do is to encourage her to talk to you when she needs to. but the best thing you can do to help her is to encourage her to talk to you when she needs to. let her be her daughter. make sure that everytime she comes to visit\n",
      "\n"
     ]
    },
    {
     "name": "stdout",
     "output_type": "stream",
     "text": [
      "[410 | 27658.00] loss=2.83 avg=2.89\n",
      "[420 | 28316.20] loss=2.98 avg=2.89\n",
      "[430 | 28974.80] loss=2.54 avg=2.88\n",
      "[440 | 29634.34] loss=2.63 avg=2.88\n",
      "[450 | 30301.02] loss=2.69 avg=2.87\n",
      "[460 | 30955.36] loss=2.98 avg=2.87\n",
      "[470 | 31615.57] loss=2.97 avg=2.88\n",
      "[480 | 32281.12] loss=2.86 avg=2.88\n",
      "[490 | 32939.79] loss=2.53 avg=2.87\n",
      "[500 | 33603.08] loss=3.09 avg=2.87\n",
      "Saving checkpoint/run1/model-500\n",
      "[510 | 34269.04] loss=2.98 avg=2.88\n",
      "[520 | 34935.90] loss=2.66 avg=2.87\n",
      "[530 | 35595.48] loss=2.74 avg=2.87\n",
      "[540 | 36260.18] loss=2.91 avg=2.87\n",
      "[550 | 36918.67] loss=3.13 avg=2.87\n",
      "[560 | 37583.41] loss=2.94 avg=2.88\n",
      "[570 | 38246.74] loss=2.73 avg=2.87\n",
      "[580 | 38905.71] loss=2.87 avg=2.87\n",
      "[590 | 39562.91] loss=2.81 avg=2.87\n",
      "[600 | 40217.25] loss=2.77 avg=2.87\n",
      "======== SAMPLE 1 ========\n",
      "ap: and you might want to consult a mental health professional about this (see my comments under this paragraph). it’s an example of a kind of fear: i hope. it sounds like there's some anxiety surrounding getting help in the first place. i’m sure you’re worried too. i’m here to help: just know i’m a professional and i understand where you’re at.<|endoftext|>\"\n",
      "\"<|startoftext|>[WP]how do i talk to a counsellor about the past? [RESPONSE]that’s a really good comment: thanks for sharing! i’m not 100% on board: but i still think it has to be there. i’m in a terrible state right now: the past was all i know i’m able to talk about because of therapy because i can’t tell anyone what happened to me: my first therapist told me i need to put it in writing and i had really bad anxiety: i didn’t talk to him about the past: that was my depression so far. i don’t know anything but i still think i was traumatized and that’s why i'm thinking about talking to a psychologist because i don’t really want to be a burden.it has to be there. that’s probably what you’re trying to say too. if i don’t tell you about the past or the traumatic events that happened that i’m struggling with: maybe it’s okay to not talk to me. maybe not now it seems like: but i’m definitely ok with that feeling. i might find it easier talking to someone.it’s true that it’s not your responsibility to fix it but i think that it’s a good plan because i’m not that well versed in mental health things unfortunately: but if it isn’t your fault that something bad happened: maybe talk about it. what should you say/how should you say it? how should you talk about it?<|endoftext|>\"\n",
      "\"<|startoftext|>[WP]when is a diagnosis a good idea? [RESPONSE]what i’m trying to say is when it’s time to make a changei agree. and i understand the feeling of knowing a lot is wrong... i think we should try to find out as well. when i went to the doctor: there were no delusions or hallucinations. i knew that my diagnosis was not a good one. when i got diagnosed: the thing is: i knew it wasn't one. i had been diagnosed with a few: i just wasn't ready to put it off anymore. i have a history of schizophrenia with a number of things: including paranoia: hypochondria: and a lot of other mental health issues. it took them about 7 years to get me a full diagnose. if this one turns out to be something i need to talk about when i'm sober: then so much the better: i wish i had a clearer answer on that. i'll take your advice.yes it’s a good idea: if you have a good psychiatrist. i used to be diagnosed myself: i was fine when i had one for a few years until i went off of a mood swing. for a long time i thought i was depressed. i had to go back to see the doctor. when i went: their diagnosis was good to the point: no delusions and i was diagnosed with schizophrenia. i was diagnosed back in 2015 but it was more of a diagnosis of psychotic symptoms. they wanted a good idea of what i should be worried about. for now: i'll stay at home and take my mind off it. good luck!<|endoftext|>\"\n",
      "\"<|startoftext|>[WP]should i just start therapy: but only when my psychiatrist's schedule is right? [RESPONSE]what about starting a new job? how far along will your social life be? what kind of job are you starting? is there anything that you can't do or that you don't want to learn? what kind of country have you been in: where are you from: what do you know? if you have to be in a big city or big city and have a job to work for: or are just just in that city: that's fine. if you already have something you are excited about: it's really important that you keep that thing. it might take time but it sounds like an interesting topic that you could get into and research. the good news is that when you start studying psychology you'll notice that you already study stuff like this: there's a lot to it that really does seem a lot less boring and maybe less scary. the bad news is that we don't have much information about how you study psychology: but\n",
      "\n",
      "[610 | 41158.56] loss=2.91 avg=2.87\n",
      "[620 | 41824.55] loss=2.77 avg=2.87\n",
      "[630 | 42483.40] loss=2.94 avg=2.87\n",
      "[640 | 43140.19] loss=2.90 avg=2.87\n",
      "[650 | 43800.08] loss=2.95 avg=2.87\n",
      "[660 | 44459.31] loss=2.65 avg=2.87\n",
      "[670 | 45111.53] loss=2.92 avg=2.87\n",
      "[680 | 45769.19] loss=2.88 avg=2.87\n",
      "[690 | 46426.33] loss=2.75 avg=2.87\n",
      "[700 | 47083.10] loss=3.06 avg=2.87\n",
      "[710 | 47736.24] loss=2.85 avg=2.87\n",
      "[720 | 48392.75] loss=2.83 avg=2.87\n",
      "[730 | 49053.72] loss=2.87 avg=2.87\n",
      "[740 | 49714.35] loss=2.89 avg=2.87\n",
      "[750 | 50374.85] loss=2.71 avg=2.87\n",
      "[760 | 51041.47] loss=2.86 avg=2.87\n",
      "[770 | 51698.71] loss=2.93 avg=2.87\n",
      "[780 | 52362.89] loss=2.61 avg=2.86\n",
      "[790 | 53016.79] loss=2.94 avg=2.86\n",
      "[800 | 53671.03] loss=2.95 avg=2.86\n",
      "======== SAMPLE 1 ========\n",
      "] a little known sub-reddit - /r/selfcareadvice. we've had a couple people asking for support - you can find info and a link to their [subscriptions](https://www.reddit.com/r/selfcareadvice/wiki/subscribe) in the sidebar . thanks for your reply - i'll try to keep up to date of my posts here.i am so fucked up. i wish i could just die or kill myself. this is truly the worst feeling! i've been struggling with anxiety as well and the one i used to avoid was dealing with it so much. recently: however: i had to start dealing with anxiety because of a terrible experience i had (i think it was during high school: or earlier i think). i don't want any contact with anyone (personally: other than my family) if i can help it because of this and it really feels like the worst feeling to me. i've been wondering if maybe i am having a panic attack: and that i can get better by calling the doctor and just being honest: and i know he will help me. anyway: i know it sounds silly: but that is what i have been thinking about.thank you for the advice :) i have been having this same conversation with my parents: and when i say \"\"i'm sorry: but how can i get away from these thoughts so we can deal with them at least \"\" they just keep talking over me and my dad. in the meantime: i'm also trying to take care of my own health. i have been going to the doctor once a week for a few months: and that definitely helped a lot; i have had problems in the past: so being able to give my diagnosis to them and then be able to get the correct medication helps the most: thank you :)yeah: just thought i'd share that with you. i'm 23 and a self-taught neurosurgeon. the best i've ever felt in my life. thanks for the info.i don't like to talk about stuff like this: it can give me anxiety. if you get enough anxiety this will actually make you feel worse but try and get help<|endoftext|>\"\n",
      "\"<|startoftext|>[WP]people with bpd get anxiety. how is it different from social anxiety? [RESPONSE]i don't really understand the difference but social anxiety is more of an anxiety disorder with social anxiety/social withdrawal- if it's anxiety that's social anxiety. if it's social anxiety i guess it is both and it's just anxiety or social anxiety: it could be both at once.<|endoftext|>\"\n",
      "\"<|startoftext|>[WP]how do i let my brother leave the house? [RESPONSE]i've gotten out of my parents' house before at 11. for some reason it's considered a bad thing or if you're not allowed to be home by the time. my brother was 18 at the time and he always left the house when i was very young. he didn't want the responsibility but he knew i hated being backhome and he wanted to help make sure i didn't feel like we lived alone together. (thank you for this)he's 18 and is living with a girlfriend. the reason he left was so he could move into the apartment he'll share with his girlfriend. it just so happens my mom is also his grand-nephew. i'm a single mother: and when i was his age (19): i got an assignment for a college: so i came home to be with my cousin who went to see me a few weeks ago. her parents were still in the house. my cousins are both his family and we do not know if they are married or not. we do know my sister is pregnant as well. my parents were not home at the time because they were both at school or on some school trip etc. it just seemed like a really shitty time so i didn't know how they would react to that...my mom wanted to get out of the house but we didn't have any more resources in our house yet. her grandparents live with a friend. my dad went to his house: but her grandmother had just moved into my family's property. my dad ended up at another family member's house to stay with them: and his grandfather slept with his grandmother. he never tried to contact my parents. he had just been in there for a few weeks but had decided to come home again. we have been living together for a while now: but he just couldn't. he wanted to go home with his grandmother: or his mother. the only other option is to come home together and he still wanted to stay at my grandparents' place. my dad just told him it was his home and he could go out there whenever he wanted. this is probably one of the worst moments in my life. i didn't want to leave my home: i don't even want to\n",
      "\n"
     ]
    },
    {
     "name": "stdout",
     "output_type": "stream",
     "text": [
      "[810 | 54604.46] loss=2.80 avg=2.86\n",
      "[820 | 55267.16] loss=2.86 avg=2.86\n",
      "[830 | 55933.41] loss=2.59 avg=2.86\n",
      "[840 | 56594.87] loss=2.75 avg=2.86\n",
      "[850 | 57256.51] loss=2.82 avg=2.86\n",
      "[860 | 57924.45] loss=2.64 avg=2.85\n",
      "[870 | 58575.01] loss=2.78 avg=2.85\n",
      "[880 | 59226.29] loss=2.85 avg=2.85\n",
      "[890 | 59886.50] loss=2.81 avg=2.85\n",
      "[900 | 60551.52] loss=2.97 avg=2.85\n",
      "[910 | 61211.64] loss=2.92 avg=2.85\n",
      "[920 | 61872.78] loss=2.97 avg=2.86\n",
      "[930 | 62530.43] loss=2.91 avg=2.86\n",
      "[940 | 63193.12] loss=2.83 avg=2.86\n",
      "[950 | 63853.80] loss=3.04 avg=2.86\n",
      "[960 | 64513.27] loss=2.90 avg=2.86\n",
      "[970 | 65174.63] loss=2.93 avg=2.86\n",
      "[980 | 65833.08] loss=2.96 avg=2.86\n",
      "[990 | 66491.85] loss=2.66 avg=2.86\n",
      "[1000 | 67154.89] loss=2.56 avg=2.85\n",
      "Saving checkpoint/run1/model-1000\n",
      "WARNING:tensorflow:From /Users/yuliya/opt/anaconda3/lib/python3.9/site-packages/tensorflow/python/training/saver.py:1064: remove_checkpoint (from tensorflow.python.checkpoint.checkpoint_management) is deprecated and will be removed in a future version.\n",
      "Instructions for updating:\n",
      "Use standard file APIs to delete files with this prefix.\n",
      "======== SAMPLE 1 ========\n",
      "/WP-post-951788). i have seen it happen but am pretty scared about it.<|endoftext|>\"\n",
      "\"<|startoftext|>[WP]am i stupid [RESPONSE]you're not stupid. but i believe this is a great time for you to start realizing what your true capabilities are. you have a lot to work on and i believe in you<|endoftext|>\"\n",
      "\"<|startoftext|>[WP]how to take your mind off things [RESPONSE]the first step to solving problems is to accept the problem and resolve it with the person who started it. sometimes the answer is \"\"we know how to solve our problem\"\". for example: if you were in a situation were being told by a teacher to \"\"do more!\"\": or if a situation is getting stuck in a loop: your first step may be \"\"i've already been told before to do more\"\". however: this is not an effective answer to the problem. after accepting reality: it is time for a solution. there are solutions to problems. in the following paragraphs: i briefly discuss the general principles underlying most philosophy of mind and methods for dealing with problems. the article also gives some useful techniques for dealing with feelings (with examples in the example below). - this article has a lot of useful information with advice for a variety of problems: http://www.mind.org.uk/information-support/types-of-mental-health-problems/problems-and-treatment/about-mental-health-and-mental-health-problems/ - there is a lot more here: http://www.mind.org.uk/about-mind/the-effects-mental-health-problems/how-to-treat-mental-health-problems/ this is a great article on emotional abuse - it's based on my clinical experience. i'll copy it for your reference. the first steps are to accept the problem and then solve it. if you're having trouble: you can try talking about it with a mental health professional. this will help a lot - basically: you tell them about what you're going through and what you're thinking and feel: and then you ask them to help you solve the problem. if your parent isn't available this will be the first step. if you find yourself in a state where you still struggle with this problem: you need to find a way to resolve it yourself.<|endoftext|>\"\n",
      "\"<|startoftext|>[WP]is there anything that is not useful in life? [RESPONSE]i know that: but i will try out this. thanks!this seems to me like a really good idea and i'm going to try it out.i guess if its something that needs to be done it should be good. i think you should make an appointment with a therapist and take it one step at a time. they should have a guide to help: but don't jump right in until they say you have to go. my biggest advice is just to wait until you feel comfortable with the therapist to make a plan. it might not feel like it and might feel weird: but it is definitely something that will help you. they may not look at it from the first session: but be mindful of where it is located in your life: and if its anywhere close at all. then it should be up to you to choose where its at: how you feel about it going to therapy: and how you'll handle any changes in your life going forward. i hope this helps you. take care of yourself.i think a lot of you think this: but the problem is not that your life is boring. when my mother died: i had no future job. when i was 20: i spent all my money on food at restaurants or other junk food that i needed to buy. when i was 23: i got a student loan and my life was basically okay. for me: that was the problem. i realized that money and not people are important when you think about it. however: it can be hard to accept that there is something you love that you didn't know before.<|endoftext|>\"\n",
      "\"<|startoftext|>[WP]how can i let someone in my life who i love die peacefully due to an accident? [RESPONSE]my ex just tried to murder me and her sister. i could tell that she was depressed due to their divorce and because her friend got murdered because she dumped her and she started hanging herself. i was concerned but no-one was answering and she tried to tell me that she had a car accident in an accident that led her to be suicidal. she was also in debt so no-one answered and i left her in pain to be left to die by the suicide. i know how it feels and i know that i should have told her but i just didn't know how to and i\n",
      "\n",
      "[1010 | 68098.33] loss=2.98 avg=2.86\n",
      "[1020 | 68760.46] loss=3.01 avg=2.86\n",
      "[1030 | 69421.45] loss=2.54 avg=2.85\n",
      "[1040 | 70078.39] loss=2.81 avg=2.85\n",
      "[1050 | 70735.88] loss=2.89 avg=2.85\n",
      "[1060 | 71394.65] loss=2.82 avg=2.85\n",
      "[1070 | 72056.02] loss=2.80 avg=2.85\n",
      "[1080 | 72728.04] loss=2.71 avg=2.85\n",
      "[1090 | 73394.59] loss=2.76 avg=2.85\n",
      "[1100 | 74059.19] loss=2.82 avg=2.85\n",
      "[1110 | 74727.68] loss=2.67 avg=2.85\n",
      "[1120 | 75399.75] loss=2.74 avg=2.84\n",
      "[1130 | 76065.04] loss=2.81 avg=2.84\n",
      "[1140 | 76730.86] loss=2.35 avg=2.84\n",
      "[1150 | 77393.21] loss=2.58 avg=2.83\n",
      "[1160 | 78053.12] loss=2.83 avg=2.83\n",
      "[1170 | 78719.60] loss=2.44 avg=2.83\n",
      "[1180 | 79383.88] loss=2.55 avg=2.82\n",
      "[1190 | 80046.04] loss=2.93 avg=2.82\n",
      "[1200 | 80702.89] loss=2.62 avg=2.82\n",
      "======== SAMPLE 1 ========\n",
      " cases when someone's mental health is so good: and when there's been a huge success story involving medication: then it's reasonable to think that's exactly what the problem has been. i guess this is just a hypothetical question: however: i think it's quite reasonable to think that the mental issues that caused the pandemic could be the cause of the problem. i think the best we can do is to focus on how we can get more people to help in the first place: that way we can have a positive impact on people's mental health.i can't speak for all those people. i hope that's the case for me as well though. i think that it's an awesome idea. my best memories of seeing a psychiatrist are a few weeks before a hospital admission: when i thought i was having a panic attack or a nightmare. it's been 2 years since you left the hospital and just a few months before your diagnosis. that's when you can look back with satisfaction. maybe you don't even consider to be okay with your symptoms. we take some risks and you still look like a kid and are in a good mood. if you've had a terrible experience: you know you can be sure that the treatment will work. so how's your mood today?i think that the problem is actually that people don't know how the system was designed. i used to think as a kid that there's not enough people that would actually try to help people. people won't look for it: or they won't care. but for me: i was wrong and: for example: when a friend of mine said that her sister was suicidal: i had already started to realize that my sister was not just mentally ill but in a depressive state. and i was so depressed that i'd go down my armchair saying \"\"i can't do that: she's not just depressed: maybe it's a good thing to kill myself\"\" and then it happened that i realized that it's never an irrational idea that's gonna happen. in my case: it was a matter of the only option i could see was murder: which i actually did. my best advice i can give is to remember this: you're not alone. i know that i know i have a lot to live for but i can definitely never be sure what happiness means and i cannot truly make it my own. because of that: i know that the best thing i can do is to make sure that something is going to help me: and when i do want to make it my own i won't do it by force and i will make it my own. you need to have a chance to live: it's only because you take a risk it's not your best: it'll take a lot more before you have more than you want but you have more life than you want. do this: you deserve happiness. be the friend that makes you feel better: if you don't like that someone give up. if you can't live your best life then don't feel sorry for yourself by giving up but give yourself a little better: a little more happiness.because the first step of therapy isn't really about understanding what your illness means? that's not what your therapist's actually talking about. first: let's acknowledge that we're talking about something with specific characteristics. like mental illness and not just general depression. you need to understand why they're not good or not and they aren't wrong or not right. as a consequence: if they try to do something you'll ask why they think it's wrong and they'll admit that they are wrong and will try to treat you better. if then you think that it might actually help to change your behavior and they don't like that: we have no right to do anything that might cause you to lose your job. so your best thing to do is to talk about how they did it: that's exactly what they're going to do to treat you mentally. talk to them about this. then they'll ask you why you're not okay with that. you've said it yourself that you'll only get so bad: but to be healthy: you have to learn how to cope and not make stupid mistakes too. and that means you need a therapist: who can help you manage your symptoms and improve your life. you've gone there and done it. don't just sit around and do nothing as you're not doing anything.i think i speak for the majority when i say that i was extremely lucky to find therapy. in fact: a therapist or someone in a psych ward isn't your normal psychiatrist: and so the fact that you were able to get therapy on any given week even when your mental illness was so bad: speaks volumes about your success. the second part of the problem that you have to deal with: and the reason you need therapy is to get out of the loop of the system: right. to be able to access an actual licensed professional therapist. if what you're asking is actually: \"\"what's wrong with you and why do you want to\n",
      "\n"
     ]
    },
    {
     "name": "stdout",
     "output_type": "stream",
     "text": [
      "[1210 | 81639.18] loss=2.91 avg=2.82\n",
      "[1220 | 82303.13] loss=2.86 avg=2.82\n",
      "[1230 | 82961.76] loss=3.04 avg=2.83\n",
      "[1240 | 83622.19] loss=2.70 avg=2.82\n",
      "[1250 | 84286.81] loss=2.89 avg=2.83\n",
      "[1260 | 84951.10] loss=3.15 avg=2.83\n",
      "[1270 | 85610.00] loss=2.90 avg=2.83\n",
      "[1280 | 86266.32] loss=2.87 avg=2.83\n",
      "[1290 | 86927.77] loss=2.59 avg=2.83\n",
      "[1300 | 87586.64] loss=3.00 avg=2.83\n",
      "[1310 | 88248.58] loss=2.60 avg=2.83\n",
      "[1320 | 88914.75] loss=2.97 avg=2.83\n",
      "[1330 | 89577.16] loss=2.92 avg=2.83\n",
      "[1340 | 90234.56] loss=2.89 avg=2.83\n",
      "[1350 | 90897.89] loss=3.02 avg=2.83\n",
      "[1360 | 91552.80] loss=2.68 avg=2.83\n",
      "[1370 | 92217.12] loss=2.73 avg=2.83\n",
      "[1380 | 92874.50] loss=2.94 avg=2.83\n",
      "[1390 | 93536.48] loss=2.91 avg=2.83\n",
      "[1400 | 94201.31] loss=2.86 avg=2.83\n",
      "======== SAMPLE 1 ========\n",
      " to start a serious conversation. but just before your session you need to take care of your mental health. you are not alone. i wish you the best!!<|endoftext|>\"\n",
      "<|startoftext|>[WP]how can i get help with severe depression? [RESPONSE]thank you so much. i'll try to.you can talk to your friend or parent about this and ask them for a referral. if you live in the us: you can ask the nami for your local directory ( https://www.nami.org/directory). many states have free and low income services. it would take some effort and a lot of dedication to access treatment for any one in your area. i believe you can self-refer on your doctor's website or call your local nami ( https://www.nami.org/) to ask if there is a local one you can call and use the online directory.<|endoftext|>\n",
      "\"<|startoftext|>[WP]i'm so happy: but what? [RESPONSE]this is the hardest part when you have so much energy in the day but not to get out of bed and take care of yourself. that's where you do the best. if you find that getting up and taking care of yourself really helps you feel rested than that's great. otherwise maybe some activity you want to do helps?<|endoftext|>\"\n",
      "\"\"<|startoftext|>[WP]what is it with me: but i just have horrible ocd [RESPONSE]thank you so much for sharing your story. you are amazing and your presence has really helped me a lot with my issues. i appreciate it. i wish you both the very best smiling_face_with_open_mouth_&_cold_sweatthank you so much for sharing your story. it means a lot. your post has been seen by hundreds of thousands of people. i am so proud of you for sharing your hard time and your struggles and your story. it can truly help everyone. good luck: i wish you the very best!i feel so proud for you. you are awesome. keep working hard and keep fighting for a better life. i have suffered with this for 7 years now: and it just started being so much more manageable and manageable. i am so proud of you. just stay in your comfortable skin: there is no right or wrong. it is important to love yourself: and take time to love your self. i just feel you. all the timei'm happy to help you. just remember this: it's not all bad. the good guys always win and you keep pushing for the good guys. just be a good friend to yourself and you'll succeed. and i know that that is hard to believe: but you're a very kind person and your actions show that you care. keep pushing for the good guy. you'll get to the happy place. if you give up when you have a chance: we can say that: just because you aren't happy that it's not the case. you know that? you are good to yourself. if you want happiness you have to put in every work and do so. you are so amazing to me. it takes courage to be a positive person when you're feeling down and it can just take a while. that's why i'm here: you have the courage to fight your hard feelings and keep fighting for yourself. i know that you will get there: and you will find the happiness you deserve.i don't feel “that” bad - i feel it all the time. not to be a judgmental person but i don’t see it the same other people because i’m sure some of them are just having other mental issues. i have no issue with being diagnosed: but sometimes i just feel bad for the others. and i know all my friends and family are “crazy” too. and they get over it on their own. everyone else just thinks that they get over it on their own: and i can’t. i understand your depression. but don’t get all that hard on yourself! you’re loved.i'm so glad you feel better: buddy! that means a lot to me. sometimes it's even better for me to just say: \"\"hey! just take it one day at a time... i'm not perfect...\"\" so you can have a nice day and you still see it.you aren't alone. :)yeah you sound just... perfect :) don't judge! it'll just mess you up a little so you can have a nice day too :) smiling_facethis sounds like you got it under control. my depression has had this exact problem all of my life: and no one has ever \"\"got it\"\" for me until today. when i was a kid and my mom was taking a break from everything: i was depressed: she went\n",
      "\n",
      "[1410 | 95138.05] loss=2.86 avg=2.83\n",
      "[1420 | 95805.89] loss=2.83 avg=2.83\n",
      "[1430 | 96477.32] loss=2.61 avg=2.83\n",
      "[1440 | 97143.73] loss=3.21 avg=2.84\n",
      "[1450 | 97801.98] loss=3.07 avg=2.84\n",
      "[1460 | 98472.13] loss=2.63 avg=2.84\n",
      "[1470 | 99138.20] loss=2.96 avg=2.84\n",
      "[1480 | 99805.28] loss=2.71 avg=2.84\n",
      "[1490 | 100473.83] loss=2.88 avg=2.84\n",
      "[1500 | 101140.66] loss=2.86 avg=2.84\n",
      "Saving checkpoint/run1/model-1500\n",
      "[1510 | 101810.68] loss=2.83 avg=2.84\n",
      "[1520 | 102479.24] loss=2.55 avg=2.83\n",
      "[1530 | 103143.07] loss=3.00 avg=2.84\n",
      "[1540 | 103802.18] loss=2.78 avg=2.83\n",
      "[1550 | 104465.58] loss=2.78 avg=2.83\n",
      "[1560 | 105135.00] loss=2.74 avg=2.83\n",
      "[1570 | 105812.20] loss=2.63 avg=2.83\n",
      "[1580 | 106485.78] loss=2.85 avg=2.83\n",
      "[1590 | 107152.66] loss=2.71 avg=2.83\n",
      "[1600 | 107822.60] loss=2.74 avg=2.83\n",
      "======== SAMPLE 1 ========\n",
      " is really: really easy to get distracted from all of that by whatever you're seeing in a movie or a cartoon or whatever and it's just not true. if you find yourself at the edge of having a panic attack: i would not recommend going on that vacation with someone you trust. you’ll be safe there and if they know you’ll be okay: they’ll be there to support you. if you need someone to talk to: i can’t say how to talk to them: but i guess you should reach out to someone. or you could say that you need help: but in a completely different way. i think that you should maybe talk to someone instead of going somewhere vacation because the vacation's probably not what you want to do when you get back. or you could just give up and move on. just have someone support you when you go back home. i hope whatever you think about is not just a vacation episode for your sake. if you need support and guidance: please let me know: i’ll be happy to listen. hope you stay safe and happy.hi: i just want to get the perspective of what your situation actually is at. i’ve had this experience for many months now that i have no clear reasons to complain about. it’s not a bad situation: i just don’t understand why your brain shuts down to that point. i know it’s something that your family may be worried about: but if you can explain how you are dealing with the issues that you’re experiencing: then that would be a great starting point to figure out how things have impacted you. if you’re still worried about it: i would recommend talking to your family about this: even if it’s something small and maybe something that they will not be able to help you with: which is understandable: since they may not have the time for it. there may even be ways to get them to be aware of your feelings so that they can give you support in case you start to get upset that they can’t support you. the best way to have this conversation with a close family member will be to do what i do for myself: and tell them that you’re not feeling well: that you want to see something that you want to feel: but you are afraid of what your doctor may suggest. then in turn: talk about how you’re seeing something and how you need advice: and how you think it could help. you can talk to them or they can speak to you: but you need time to have that conversation and find your own way. your doctor can not help you if you just say that it’s not working and stop trying to get the answers. you need to learn to think of it from that perspective: and get the answers together from that perspective! the best way to describe a lot about yourself is as a baby. sometimes: you want to be a baby. sometimes you want to be just big and strong: and sometimes you want to be just your parents or whoever. if you are not happy: your brain will shut it off so that it can come to peace with the idea of the baby it is. but you will never understand it because it never knew you. when you are the grown up version of you: you will only know at a certain stage when you stop getting your answers from the place in you that you learned to learn them from. you will never know the true way to make you feel about a topic until you figure it out. my guess is that you will be fine: especially if you figure out that something is wrong with your brain. you will be fine the way you are: because you are a baby. it will take months to figure this out: but that's how it will be. you just have to wait until the brain stops making it work. then you will be okay. just know that the baby: from age 1: has always been scared of the real thing and not being able to handle being around other big things. it's almost like you're afraid of being eaten by a dragon or something and you're worried about not seeing the dragons that way. the only way to have this conversation that makes sense to you is to get the answers from the place in you that you learned as a baby and learn the answers from those two answers. if you find the answers and then do the same for the dragons and eat them: you will have at least a start. so you've got to figure this out now. it took me a long time to figure this out: but i am 100% sure to figure this out. the only thing stopping you from going home would be your family feeling like you should: and even though that might be a lot more than you deserve: don't let it stop you. you might get upset if you're forced to go home as well: but as someone who is a mom to you that is not my job to tell you\n",
      "\n"
     ]
    },
    {
     "name": "stdout",
     "output_type": "stream",
     "text": [
      "[1610 | 108768.62] loss=2.56 avg=2.82\n",
      "[1620 | 109432.77] loss=2.90 avg=2.83\n",
      "[1630 | 110105.08] loss=2.35 avg=2.82\n",
      "[1640 | 110771.64] loss=3.08 avg=2.82\n",
      "[1650 | 111436.27] loss=2.58 avg=2.82\n",
      "[1660 | 112095.20] loss=2.93 avg=2.82\n",
      "[1670 | 112757.32] loss=2.91 avg=2.82\n",
      "[1680 | 113418.29] loss=2.85 avg=2.82\n",
      "[1690 | 114086.43] loss=2.76 avg=2.82\n",
      "[1700 | 114749.99] loss=2.92 avg=2.82\n",
      "[1710 | 115418.36] loss=2.77 avg=2.82\n",
      "[1720 | 116082.67] loss=2.77 avg=2.82\n",
      "[1730 | 116740.92] loss=2.46 avg=2.82\n",
      "[1740 | 117402.60] loss=2.77 avg=2.82\n",
      "[1750 | 118067.88] loss=2.70 avg=2.82\n",
      "[1760 | 118731.39] loss=2.85 avg=2.82\n",
      "[1770 | 119393.73] loss=2.92 avg=2.82\n",
      "[1780 | 120062.44] loss=2.87 avg=2.82\n",
      "[1790 | 120725.22] loss=2.71 avg=2.82\n",
      "[1800 | 121388.67] loss=2.68 avg=2.81\n",
      "======== SAMPLE 1 ========\n",
      "ede to one of their therapists: and she told us that she's working with a therapist. you can also try to see your gp: and if they don't help you: you can take this post to your doctors to get some help. i hope you have a better day.yes: they are still the same. we are just trying to find therapy. and she is still trying to give meds: so i'm hoping that she can help me get back on medication when it comes back. thanks for the comment that should help us. she sounds very angry but it's ok to not want to listen to her. i'm not going to say everything will be good but i will try: just the worst thing is that she can still be really mean and rude. thanks for the comment.she is very angry. not angry: more depressed than usual.i told her i have suicidal thoughts and she asked me what was wrong and i pointed out i need help but she told me to keep being nice and try to be a friend. this makes too much sense and makes me feel like she is trying to do something with me. she said i need to tell her how important i am to me so i shouldn't let her get upset with me for something that isn't even my fault. i also feel like i was overreacting and that i am trying to get her to understand and care about me when it's clear she is having a serious problem. but i can only help her and i need help now.thank you for putting in the effort. i’ll keep trying so she knows i’m trying: as much as i feel this hurts me and that i can’t understand: i really do understand that she is trying to help but i just can’t seem to see how she can be more supportive of me while still feeling this way.i know you may have said this all the time: but it’s so important to talk to a professional with a professional to work with. the last time i talked to a therapist about this was in the last semester of high school when i told them i needed help and then i got locked up. as soon as i told them what i had in terms of thoughts i had i immediately broke out crying. it helped to talk to someone but also to help the therapist so that you feel better. i know how hard it can be to talk to someone. i was told i need medication so i felt it was better for me to talk to someone who knows what they are doing to help me rather than giving me drugs they know i can’t afford. my last therapist told me: \"\"this isn’t for you: it’s for your mom. you are not your drug. i understand you need help but don’t listen to her to convince you you should see a therapist. you need to find someone who can help you. people need help too and they don’t know what to do with that.\"\" i don’t think that is exactly what you deserve. your need for help is so important and if her reaction is something like that please contact her directly. if she is mad: but not angry: tell her right away not letting her make you feel as you are feeling and that you need help.she sounds very angry and hurt: i feel like her anger is due to depression that has gone untreated and untreated depression: so she must now seek a mental health professional as she was never diagnosed. there's still lots of things she may still be able to do though such as medication and be in regular contact with a therapist<|endoftext|>\"\n",
      "<|startoftext|>[WP]how does a person know they are not having suicidal ideation? [RESPONSE]i’m sorry you have to struggle with this. i’ve been on the verge or at least close to a similar situation: at least not yet. a lot of what it feels like is a kind of emotional numbness where your sense of what someone can see is diminished as you don’t really see anything. it’s like you’re watching the person you’re with but not really seeing their actions or thoughts. i can also only assume that there’s an underlying issue that causes some of this but it still takes me by surprise.it’s so fucking confusing because as i understand it: i have ptsd and it’s like i can’t get out but i think i can only function because of having ptsd. but i’m like why does it matter if i feel ptsd? i’m not even living with my father. how does it matter if i know the difference between depression and suicidal ideation? the thoughts and the symptoms just aren’t making me feel anything<|endoftext|>\n",
      "\"<|startoftext|>[WP]my brother is an asshole: how can i stop him\n",
      "\n",
      "[1810 | 122325.83] loss=2.65 avg=2.81\n",
      "[1820 | 122990.43] loss=3.03 avg=2.82\n",
      "[1830 | 123661.11] loss=2.77 avg=2.81\n",
      "[1840 | 124331.50] loss=2.84 avg=2.81\n",
      "[1850 | 124994.18] loss=2.84 avg=2.82\n",
      "[1860 | 125653.40] loss=2.45 avg=2.81\n",
      "[1870 | 126316.10] loss=2.77 avg=2.81\n",
      "[1880 | 126984.32] loss=2.77 avg=2.81\n",
      "[1890 | 127644.82] loss=3.02 avg=2.81\n",
      "[1900 | 128307.09] loss=2.54 avg=2.81\n",
      "[1910 | 128971.49] loss=2.49 avg=2.81\n",
      "[1920 | 129635.08] loss=2.64 avg=2.80\n",
      "[1930 | 130299.06] loss=3.07 avg=2.81\n",
      "[1940 | 130955.15] loss=3.01 avg=2.81\n",
      "[1950 | 131615.39] loss=2.64 avg=2.81\n",
      "[1960 | 132285.00] loss=2.47 avg=2.80\n",
      "[1970 | 132953.48] loss=2.50 avg=2.80\n",
      "[1980 | 133628.18] loss=3.01 avg=2.80\n",
      "[1990 | 134294.64] loss=2.84 avg=2.80\n",
      "[2000 | 134964.73] loss=3.04 avg=2.80\n",
      "Saving checkpoint/run1/model-2000\n",
      "======== SAMPLE 1 ========\n",
      " are the biggest things that have helped. my mental illnesses helped me a lot in a way that was very: very uncomfortable and painful. it took a lot of time to learn how to cope and manage: and even more time to make the changes i was promised. i have tried to give people some compassion and empathy for their problems. i know that is hard: but it is absolutely possible: just not in a positive form for me. there are people who have made it out through the rough waters: or had their shit together and got promoted to management level: or are in a position where they can manage without a degree. if you can afford it: give it a shot: even if you can't fully afford a degree. it really helped me tremendously: to the point where it made getting out of bed all that much easier (even though i was in debt). so i would say it does get tough: but i hope that it does get better. if you ever want to talk: i'm here: or you can just message me. i'm here for you.yeah sure: if it can be achieved: i guess it should.that sounds really bleak and sad: and i feel ya on the pain thing: but the people have worked through pain and they're still here. if it is really not worth the pain its worth it too.yeah i feel like this too. i dont even know where to begin because i dont see my therapist anymore. but i want to be happy: i want to live for now but its not worth living for: for what?what made you think of the trauma? like what made you think you deserve it? what makes you think you dont deserve it? what makes you want to be alive and what does it make you want to do about it? what makes you want to try to be better? it seems like just about anyone with some semblance of self identity and a genuine belief in that identity would self-deprecate from personal experience even more so.i think you are right - this is a hard issue: it is definitely valid and i admire your struggles.<|endoftext|>\"\n",
      "\"<|startoftext|>[WP]how do i approach my therapist about a possible diagnosis/prognosis? [RESPONSE]it is your right to ask your therapist about it and/or their diagnosis if it is not related to your symptoms/behaviour. i was diagnosed with ptsd when i was 20: after a long period of \"\"just living\"\" i was diagnosed with schizoid personality disorder and bpd.<|endoftext|>\"\n",
      "<|startoftext|>[WP]can't talk about my mental health to therapists because of what happened [RESPONSE]i feel like you should have a list of mental health problems so they know what they're dealing with and how to help you out with that.it’s called \"\"the confidentiality rule\"\": basically they’re supposed to protect your confidentiality. i think you need to be able to say: \"\"i am suffering from a mental health problem and i have confided in this therapist: this therapist is really concerned about whether they need to see me: what they need to do: what their rules are and when they need to let me talk or what they are supposed to do.\"\" so your therapist can know what to expect and what isn't being discussed because there shouldn’t be anything left to discuss.<|endoftext|>\n",
      "\"<|startoftext|>[WP]could anyone say their diagnosis on a post? [RESPONSE]the dsm-5 is the bible: it's the first diagnostic manual you will ever get. i would say the diagnostic criteria for each mental illness is something like 5 symptoms and: as stated by dr. dave carbonell of the univ of kansas: \"\"i think it is best to have your diagnosis at time of appointment to have the best grasp on the illness.\"\" the dsm-5 (as well as most medical manuals) recommends you not say \"\"psychiatric diagnosis\"\" on a post: because that is considered a slur and offensive to people who don't agree with you. i would strongly advise against it.you can: and i think you ought to. i think you should give the post your own time. take each person's time and reflect on it.<|endoftext|>\"\n",
      "<|startoftext|>[WP]why do people like me?? [RESPONSE]sounds kinda cliche but a lot of people like me cause i say stuff that makes them feel good and sometimes i feel like i'm an easy person to be around i feel that because i can't seem to get people to care for me i say stuff that makes them feel positive like \"\"i'm so glad you're here\"\" so it's probably a way to feel like you're better then everyone who didn't care and i feel you can be happy too. you can have positive feelings and people\n",
      "\n"
     ]
    },
    {
     "name": "stdout",
     "output_type": "stream",
     "text": [
      "[2010 | 135913.32] loss=2.93 avg=2.81\n",
      "[2020 | 136583.74] loss=2.83 avg=2.81\n",
      "[2030 | 137249.41] loss=2.64 avg=2.80\n",
      "[2040 | 137916.49] loss=2.85 avg=2.81\n",
      "[2050 | 138579.56] loss=2.77 avg=2.80\n",
      "[2060 | 139239.03] loss=2.94 avg=2.81\n",
      "[2070 | 139899.75] loss=2.68 avg=2.81\n",
      "[2080 | 140566.37] loss=2.27 avg=2.80\n",
      "[2090 | 141227.99] loss=2.67 avg=2.80\n",
      "[2100 | 141896.62] loss=2.51 avg=2.79\n",
      "Saving checkpoint/run1/model-2101\n"
     ]
    }
   ],
   "source": [
    "# Create a new TensorFlow session\n",
    "sess = gpt2.start_tf_sess()\n",
    "\n",
    "# Fine-tune the GPT-2 model with the provided parameters\n",
    "gpt2.finetune(sess,\n",
    "              dataset='GPT2_data.txt',  # Path to the training dataset file\n",
    "              model_name='355M',  # Name of the GPT-2 model variant to use (355M in this case)\n",
    "              steps=2101,  # Total number of training steps\n",
    "              restore_from='fresh',  # Whether to start training from scratch or continue from a checkpoint\n",
    "              run_name='run1',  # Name for this specific training run\n",
    "              print_every=10,  # Frequency (in steps) to print training progress\n",
    "              sample_every=200,  # Frequency (in steps) to generate sample text during training\n",
    "              save_every=500)  # Frequency (in steps) to save model checkpoints during training"
   ]
  },
  {
   "cell_type": "markdown",
   "id": "26bdccd9",
   "metadata": {},
   "source": [
    "# Load a trained model"
   ]
  },
  {
   "cell_type": "code",
   "execution_count": 2,
   "id": "9be21788",
   "metadata": {
    "ExecuteTime": {
     "end_time": "2022-11-14T17:47:30.645016Z",
     "start_time": "2022-11-14T17:47:26.309993Z"
    }
   },
   "outputs": [
    {
     "name": "stderr",
     "output_type": "stream",
     "text": [
      "2022-11-14 12:47:26.311623: I tensorflow/core/platform/cpu_feature_guard.cc:193] This TensorFlow binary is optimized with oneAPI Deep Neural Network Library (oneDNN) to use the following CPU instructions in performance-critical operations:  AVX2 AVX512F AVX512_VNNI FMA\n",
      "To enable them in other operations, rebuild TensorFlow with the appropriate compiler flags.\n",
      "2022-11-14 12:47:28.929319: I tensorflow/compiler/mlir/mlir_graph_optimization_pass.cc:354] MLIR V1 optimization pass is not enabled\n"
     ]
    },
    {
     "name": "stdout",
     "output_type": "stream",
     "text": [
      "Loading checkpoint checkpoint/run1/model-2101\n",
      "INFO:tensorflow:Restoring parameters from checkpoint/run1/model-2101\n"
     ]
    }
   ],
   "source": [
    "# Create a new TensorFlow session\n",
    "sess = gpt2.start_tf_sess()\n",
    "\n",
    "# Load the pre-trained GPT-2 model into the session\n",
    "# and specify the name of the specific training run to load (run1 in this case)\n",
    "gpt2.load_gpt2(sess, run_name='run1')"
   ]
  },
  {
   "cell_type": "markdown",
   "id": "9c0c2e85",
   "metadata": {},
   "source": [
    "# Generate text from the model\n",
    "- You can also pass in a prefix to the generate function to force the text to start with a given character sequence and generate text from there (good if you add an indicator when the text starts).\n",
    "\n",
    "- You can also generate multiple texts at a time by specifing nsamples. Unique to GPT-2, you can pass a batch_size to generate multiple samples in parallel, giving a massive speedup.\n",
    "\n",
    "## Helpful parameters for gpt2.generate:\n",
    "\n",
    "- length: Number of tokens to generate (default 1023, the maximum)\n",
    "- temperature: The higher the temperature, the crazier the text (default 0.7, recommended to keep between 0.7 and 1.0). Higher temperatures work better (e.g. 0.7 - 1.0) to generate more interesting text, while other frameworks work better between 0.2 - 0.5. Float value controlling randomness in boltzmann\n",
    "     distribution. Lower temperature results in less random completions. As the\n",
    "     temperature approaches zero, the model will become deterministic and\n",
    "     repetitive. Higher temperature results in more random completions.\n",
    "- top_k: Limits the generated guesses to the top k guesses (default 0 which disables the behavior; if the generated output is super crazy, you may want to set top_k=40). Integer value controlling diversity. 1 means only 1 word is\n",
    "     considered for each step (token), resulting in deterministic completions,\n",
    "     while 40 means 40 words are considered at each step. 0 (default) is a\n",
    "     special setting meaning no restrictions. 40 generally is a good value.\n",
    "- top_p: Nucleus sampling: limits the generated guesses to a cumulative probability. (gets good results on a dataset with top_p=0.9)\n",
    "- truncate: Truncates the input text until a given sequence, excluding that sequence (e.g. if truncate='<|endoftext|>', the returned text will include everything before the first <|endoftext|>). It may be useful to combine this with a smaller length if the input texts are short.\n",
    "- include_prefix: If using truncate and include_prefix=False, the specified prefix will not be included in the returned text."
   ]
  },
  {
   "cell_type": "code",
   "execution_count": 6,
   "id": "b3af37cb",
   "metadata": {
    "ExecuteTime": {
     "end_time": "2022-10-28T20:53:02.069670Z",
     "start_time": "2022-10-28T20:48:27.146631Z"
    }
   },
   "outputs": [
    {
     "name": "stdout",
     "output_type": "stream",
     "text": [
      "\"i've realized a lot of things: and i want to change. it's been a long journey: but i'm finally feeling like a positive person. this didn't happen by accident: but i just had to give it a try. i'm glad i did. i'm working on a plan now: and i'm going to do it. i'm so glad that i didn't just give up on trying to change my life.\"\"\n",
      "\"i didn't realize how much i needed help. i have experienced many things and i am always in need of help and support. i'm sorry: i hope you're feeling better now.thank you. i'm sorry that you have to feel that way. it makes me so sad to know that i’m not the only one. it sounds like you’re in a tough spot. i know you don’t want to talk about it: but just know you are not alone. mental health is a big deal and it’s okay to be scared. i’m sorry you’re going through this. keep fighting. make sure you keep a good support network. i know you are strong. i’m so proud of you.please don’t go to any school for this. do not seek out any help from your parents. they are not a good caregivers and refuse to help you. phones are your best friend. it’s okay to reach out to someone! you’re a good person and deserve to be happy. if they don’t help: you will feel a lot better. i know it feels like its not possible: but it’s worth it. i’m sorry that you have to go through this. i’m sorry that you’re going through this. please know that others are going through this too. please keep fighting. you’re not alone. you are not a failure: you are a strong person! please let us support you. we’re here for you!it's okay to feel like you aren't doing well. i'm here if you need someone to talk to. i'm here to help. i'm here to listen. i'm here to support. i'm here to help. i'm here to help. i'm here to help. i'm here to help. i'm here to help. i'm here to help. you don't have to be alone. you don't have to be alone. you don't have to be alone.you're not a failure. you're not a failure. you are not a failure. you are not a failure. you are a strong person. you are strong. you are strong. you are strong. you are strong. i'm still here. i'm still here. i'm still here. i'm still here. i'm still here. i'm still here. i'm still here. i'm still here. you're not a failure. you are not a failure. you are a strong person. i'm here if you need someone to talk to.i'm sorry you are having to go through this. i would suggest you to take extra care to self protect and stay safe. i wish i could help you but i'm here to support you. i'm here for you. i'm here for you. i'm here for you. i'm here for you. i'm here for you. you will get through this. you will get through this. you will get through this. please reach out if you need someone to talk to. you are not a failure. you are not a failure. you are a strong person. you are strong. i'm here if you need someone to talk to. i'm here for you. i'm here for you. i'm here for you. you are not a failure. you are a strong person. you are strong. it's okay to feel like you aren't doing well. i'm here if you need to talk to someone. i'm here for you. i'm here for you. i'm here for you. you are not a failure. you are not a failure. you are a strong person. you are strong. and i'm here for you. i'm here for you. i'm here for you. you are not a failure. you're good. stronger than i thought you were. i’m here for you. i'm here for you. you're not a failure. you are a strong person. you just need to trust yourself. so please reach out. please reach out if you need someone to talk to. you're not a failure. you're a good person. i wish i could help you. i wish i could help you. i wish i could help you. i wish i could help you. please reach out if you need someone to talk to. please reach out if you need someone to talk to. please reach out if you need someone to talk to. please\n"
     ]
    }
   ],
   "source": [
    "# Generate text using the trained GPT-2 model in the provided session.\n",
    "# The 'run_name' parameter specifies the specific training run from which the model should generate text.\n",
    "gpt2.generate(sess, run_name='run1')"
   ]
  },
  {
   "cell_type": "code",
   "execution_count": 31,
   "id": "90c81547",
   "metadata": {
    "ExecuteTime": {
     "end_time": "2022-10-26T15:05:20.187035Z",
     "start_time": "2022-10-26T14:49:19.597041Z"
    }
   },
   "outputs": [
    {
     "name": "stdout",
     "output_type": "stream",
     "text": [
      "<|startoftext|>[WP] What should I do if I feel depressed? [RESPONSE]no problem! i hope this doesn't sound like some cliche: but it's true. it is really hard to stay in touch with your friends. i really hope you feel better soon! i do have a number of my own friends. i don't have much of a support system and i'm stuck in a very lonely place. i'm scared to get help because i don't think it will help: but i'm trying my best to make progress. i'm glad you're feeling better. it's not easy being depressed. best wishes to you.i'm sorry you're going through this. i know how hard it can be to feel like you could be better but you have to keep trying. it's really good you think it's okay to talk to them about this. it's just that it's so hard to open up. you're absolutely right! i do feel that way sometimes too but i try to force myself to do things. i\n",
      " [RESPONSE]it is absolutely normal to feel depressed and it is not bad to feel that way. there is nothing wrong with your parents to feel that way and it would be better for you if you talked with your parents about it. they might be able to help you out in some way: or at least not judge you and you don't have to feel like they do. if they don't feel like they can help you out: it's worth looking into. i hope this helps.\n",
      "<|startoftext|>[WP] What should I do if I feel depressed? [RESPONSE]i've just started to become more aware of what my body and mind is doing: and i'm definitely noticing how it's not responding as well as it should. if you're worried about being sick: try to go to a doctor about it. i'm not a doctor or health professional: but i would definitely tell a doctor. it's always best to tell a doctor before you start feeling depressed.i'm trying to get over my fear of being sick and the idea of being sick makes me really anxious. i'm sorry to hear about these feelings. i hope you're feeling better soon: and you can talk to me if you need to.thanks! it does sound like you're having a hard time with it. i would recommend checking with a doctor to get an accurate diagnosis. if you're still concerned: maybe talk to someone you trust about it. thank you for your advice! i'll definitely talk to a doctor about this. thank you! i\n",
      "<|startoftext|>[WP] What should I do if I feel depressed? [RESPONSE]i have anxiety and i've been struggling with depression for years. the first few days after you take your first dose of medication are pretty tough. there's a lot of emotions and things you can't control. i'd suggest you start going over the medication and seeing how it works as well as any side effects. it's important to have a second opinion: but i'd say it's worth it. if you have any questions or have a question about medication: just ask. medication is meant for the long term: and you're more likely to feel better if you can see the difference. if you do feel better: i think i would recommend going over to a doctor and they would probably be able to give you a prescription for the medication. if at all possible: you should talk to your doctor about it. if you're not in the us: i'd definitely suggest going to a doctor to make sure they can help you. if you're in the us\n",
      " [RESPONSE]that would be a good question. i don't know: i'm not a professional. i wish i could help. i would advise you to see a therapist. i was in a similar situation and it helped me a lot. if you can: go see them. i would suggest you to go see a therapist. they are the best. you can also ask your parents to see a therapist.\n",
      "<|startoftext|>[WP] What should I do if I feel depressed? [RESPONSE]thank you for the reply. it’s nice to know that i’m not the only one who doesn’t feel like i’m getting what i’m used to. i’m not sure if i’m depressed or not: but i’ve been feeling the same way for a while now. i’ve been feeling like crap and i’m not sure what to do: and it’s just getting worse and worse. i’m not sure if this will help: but i’d like to get a better answer. thank you. i’m sorry that you’re going through this. it sounds like it could be a lot more serious than you think. it could be something much more serious: such as a possible self-harm: or anorexia. it could be something that isn’t clear to you: but you could talk\n",
      " [RESPONSE]i’m sorry that you’re going through this. i wish you the best. take care of yourself and try to find a way to get through it. if nothing else: go to a psychiatrist and talk about what your doctor says. you're not alone. i know it’s hard to do but you can do this. i’m here if you need to talk :)\n",
      " [RESPONSE]i get this a lot. try to focus on the positive things you do. like you did today. it may not seem like it: but it will make you feel better. also: i would try to get in touch with a school counselor if you're feeling anxious about school/work. they can be very helpful: and if you can: try to find them as soon as possible. if not: you can always just try to focus on your schoolwork. i hope i helped. \n",
      " [RESPONSE]i'm not sure what you're going through: but i do know that you should seek out a mental health professional. they can do things to help you: and you can do things too. i think it's best to talk to someone about this than to go on reddit and make posts about it: because that's what you're going to do if you feel like this will go away. also: you don't need to be able to see a therapist every day: but it's good to talk to a doctor about this first so they can help you. good luck!\n",
      " [RESPONSE]i'd start by seeing a therapist. there's a bunch of tips in this post which might help: [overcoming depression](https://www.reddit.com/r/mindovermatterscott/comments/bcf4n1/overcoming_depression/) also: check out this article on how to deal with intrusive thoughts: [https://www.mind.org.uk/information-support/types-of-mental-health-problems/hypochondria/for-friends-and-family/](https://www.mind.org.uk/information-support/types-of-mental-health-problems/hypochondria/for-friends-and-family/)\n",
      "<|startoftext|>[WP] What should I do if I feel depressed? [RESPONSE]i think you should talk to your doctor about it. you may be able to get a medication adjustment plan that could be helpful. i also have a therapist who specializes in depression (and i think i'm the first person on this sub to do so). i've had a lot of success with her on this issue. there are very few things that you can do to help but you should definitely start there. if you need to talk to someone about it: you're able to find it by going to the emergency department of your local hospital. you can't do anything about it if you're in a psych ward: but you can get there and be helped if you need to.thank you for your insight. i will keep that in mind. i will try to do that. thank you.that is going to be very helpful. thank you so much. i have an appointment for next month for two weeks and i am so excited! thank you! i'm\n",
      "<|startoftext|>[WP] What should I do if I feel depressed? [RESPONSE]thank you for this. i don't know how to help myself because i was thinking about suicide and i don't want to hurt my family. but i have to keep going. i just feel like i am not a good person to be my feelings. i just want to be happy.i don't have any advice but i just want you to know you are not alone. i was the same way for a long time. i had my friends but they also did not understand. i know i may have a hard time but it is just a part of life. i also have friends that are doing well. but i feel like i need someone to help me with my problem. so i am trying so hard to figure out how to help myself and i hope you can too.i'm not sure what you mean by this. i definitely think you can go to the doctor if you think it would be safe to. i am not sure if you would be considered\n",
      " [RESPONSE]i’m sorry to hear that you are struggling. there are other things you could be doing to help: so i hope you’re able to reach out and find something that will help. hope this helps.\n",
      " [RESPONSE]well: i'm not sure what you mean by \"\"depression is a feeling\"\": but i can imagine you are confused about what exactly the word \"\"depression\"\" means: since you are still unsure. so: if it is possible to talk to a therapist about this: it will be the best thing for you and your therapist. i think that your therapist is very good for this: and you should definitely tell them everything: because it will be easier for them to help you. good luck!\n",
      " [RESPONSE]i have this problem a lot too so i’m not sure what to do. the thing is: you’ll never know how much help you can get from a counselor. just go with that. if you can’t talk to them about it: you’ll be better able to cope with it. i’m sure that they’ll be able to help you out. they’re also a part of the school: and you’ll be a part of the school too. just do your best.\n",
      "<|startoftext|>[WP] What should I do if I feel depressed? [RESPONSE]i would definitely talk to your doctor. it sounds like you're having a lot of trouble with depression and it sounds like it's gotten worse. i would definitely get some help. i have bipolar disorder and i would definitely talk to your doctor about it. i have to be careful though: because it's very easy for mood disorders to go into overdrive and then get worse/ worse: which can make it really hard to deal with. so: i would definitely talk to your doctor about it. but: i wouldn't go around saying that you have a mood disorder if you don't have one. what i would say is that you need to find the right balance between the good and the bad. it's very very important to have a balance in your life. and i'd say that's going to be hard: as you are going to have to do a lot of self-reflection and reassign some of your responsibilities to other people. you have to\n",
      " [RESPONSE]well: don’t do anything dumb. but if you’re not happy: that’s a problem. if you’re not happy: that’s a problem. if you want to be happy: that’s when you should be happy.i was just thinking that you could start by not trying to control your feelings or thinking that they are a problem. you can start by taking a step back and saying \"\"i don't want to bother you.\"\" if you feel this way: you might want to try the habit of letting go of your negative thoughts and feelings. then: you can focus on getting back on track. good luck!\n",
      "<|startoftext|>[WP] What should I do if I feel depressed? [RESPONSE]i do feel like this. i have been diagnosed with adhd and have a lot of trouble focusing and i feel like it's because of the way i was raised. i feel like i'm constantly doing what i'm told: and i'm not sure why. i feel like i'm constantly being told to get up: go outside: do things: etc. i'm not sure how i can make myself do this: because i'm always telling myself i'm not doing it. when i try to do something: i always feel like i'm not doing something. i feel like i'm having trouble focusing and i'm stressed out. i have my own issues with this too: but i know i can fix it. i am very much sorry if this is a long comment. but please feel free to pm me if you want to talk more. i'm here.thank you for making this post: i know it's a lot to process but i'm trying\n",
      " [RESPONSE]good to know that you are not alone. if you are feeling depressed: you are not alone. good luck!\n",
      " [RESPONSE]i’m confused because i’m diagnosed with bipolar and i’m pretty sure i need to be on medication but i don’t know what to do. i feel like i’m in the same boat. [https://www.mind.org.uk/information-support/types-of-mental-health-problems/bipolar-disorder-types/for-friends-and-family/](https://www.mind.org.uk/information-support/types-of-mental-health-problems/bipolar-disorder-types/for-friends-and-family/)\n",
      "<|startoftext|>[WP] What should I do if I feel depressed? [RESPONSE]i know this is a pretty tough question to ask: but i think that it might be helpful to talk with a therapist about this. i think it would be good for you to start with something like \"\"i'm not sure what to do\"\": and then talk to a professional about it and you'll be well on your road to recovery. i think that this is also helpful to remember that you are not responsible for your mental health. you don't have to go to therapy to get better. therapy is a way to get better: and it's also a way to change the way you think about things. what you need is a professional that can help you. if you don't see a therapist: you can always go to your school counselor and ask them how to go about this. there's also a good chance that they can suggest you a therapist. it's important to understand that not everyone gets help. people who do need help will always find the help\n",
      " [RESPONSE]i have a friend who does this and she’s also a parent. i’ve also heard of people with autism who do this too. you could also try to talk to your parents about it and maybe make sure they know that you’re worried about them too. if you don’t feel like you can talk to your parents about it: please tell me how you feel. i’m sorry that you have to go through this.\n",
      " [RESPONSE]i think the best thing you can do is to try and get rid of your thoughts and make your life the most fulfilling and valuable thing you can be. you don't have to be a good person to do this. good people are better than you think and you can be one of them. you can be a good person who does good things. good people are the ones who will change the world and make it better for all of us. if you're depressed and lonely: maybe you could try and find a pet. just a little pet to feel safe and to keep your mind busy. i'm sure you can find a pet that suits you and will help you: because even just a little pet: can make all the difference. wishing you the best.\n",
      "<|startoftext|>[WP] What should I do if I feel depressed? [RESPONSE]i am depressed too and it's scary to have a mental illness that is not normal. i am so sorry you are going through this and my prayer is for you to heal and get well soon. i am rooting for you!thanks for your reply. i’m sorry you’re going through this. good luck!i think if you are feeling this way: your best bet is to get to a doctor and get checked out. there are also some self-help books that can help with this. my wife has depression and she says it is very hard to get help when you’re struggling. try and stay with family and friends who know how to help. i would say the best thing is to stay away from substances and unhealthy hobbies. try to focus on your breathing and your body. breathing slowly and taking deep breaths when you’re stressed could help you. for some people it’s great and others it’s\n",
      " [RESPONSE]yes: i can agree. i'm currently on the same dose as you and have been for months now. i'm currently trying to find a new med that i can take at the same dose but i'm not sure if that's going to be a problem for me either. i don't know if this will be helpful: but in the meantime: feel free to message me. i'm not going to make myself available if you don't want to talk to me. the good thing is that you're not alone. i'm here if you need someone to talk to. i have a few things i want to say to you: so feel free to message me if you'd like to talk about them.\n"
     ]
    },
    {
     "name": "stdout",
     "output_type": "stream",
     "text": [
      " [RESPONSE]i'd say the opposite: try to reach out on this sub! \n",
      "<|startoftext|>[WP] What should I do if I feel depressed? [RESPONSE]i’ll definitely be watching the show: i’m just trying to make sure i’m not wasting my time. i’m curious to see what they think. i’m not sure if you’re really looking to get better for no reason: but if you’re really looking for more insight: i’m not sure what to do. i’ll definitely have to check it out though. it’s been really helpful.thank you. i know this is more of a mental health advice than anything but i just wanted you to know that i’m in the same situation as you. i’m in my first year of university now and i’m feeling really really bad. i’ve definitely been told that i’ll probably have to sit in my room for a couple of days for my grades to improve. i’ve also been told that\n",
      "<|startoftext|>[WP] What should I do if I feel depressed? [RESPONSE]no one is perfect. you're not alone.i’ve been feeling this way for the past few days. i’m so tired of feeling like this so i’m going to go to a dr. so i know this is very difficult but i’m willing to try anything.thanks for the advice. i will try to keep looking for a therapist. i have my dr. and he just told me to go to a private one. he said i can get one from my health insurance. i can’t really afford that: but i just want a therapist.that can be really helpful. i have a friend that is in a similar situation and she suggested i’d look for a therapist. i’ve tried everything and now she’s saying she’s been trying every day for months. so i’m just going to keep trying. thank you so much. i will try to\n",
      " [RESPONSE]i’ve been feeling like this a lot recently. i would like to offer a few thoughts on this. depression is not always a bad thing: but it can be a lot worse. if you’re depressed: there are very simple things you can do to help. the best thing is just to be happy. be kind to yourself. make your bed. take a walk. just do these things - these things can help you feel better. video: below - details about self-help based on cognitive-behavioral therapy and lifestyle choices that help with depression - nutrition: basic lifestyle things like sleep: exercise: and social support: also traditional asian methods. [https://www.youtube.com/watch?v=wqem\\_jldrzi](https://www.youtube.com/watch?v=wqem_jldrzi) \n",
      "<|startoftext|>[WP] What should I do if I feel depressed? [RESPONSE]hey there. yes: it is very normal to not care about anything. this is called a lack of interest. i have this feeling too and it feels awful. i know it is a hard thing to face and have to face it like this. i am also a bit of a perfectionist. i constantly want to do things well and i feel like what i really miss is that i missed out on all of the good things that could have come along with life. that is why i don't want to be happy. i know that's not the answer: but i want to find the right thing to do. i feel like i am the problem and i am not the solution. i want an answer for this. i wish you luck.i feel like you are going to be ok. i'm glad you're not suicidal. i think you should try and focus on things that make you happy. i know the feeling: and i've been there before:\n",
      " [RESPONSE]i know it's hard because you don't know what to do: but try to find something you like to do and try to make it into something you can do everyday. i know this feeling is hard but there is something you can do to go. do not give up. if you have friends who are encouraging you to reach out to them: try to reach out to them. there are always people who are willing to help you out. the hardest part of this is getting through this is hard: but i believe in you. you can do it. and i hope all the best\n",
      " [RESPONSE]it's okay to feel sad: you might feel depressed because you don't want to let your family know how miserable you are. don't take it personally either: i think you should just let your loved ones know that you're feeling tired and maybe ask them to take support. i'm not a doctor but i think you can probably get a therapist if you need it. good luck with your therapy \n",
      "<|startoftext|>[WP] What should I do if I feel depressed? [RESPONSE]yes: i'm suicidal because i have no purpose. i'm suicidal because i am a failure. i'm suicidal because i was abandoned by my parents when i was little and it's been going on for so long. i'm suicidal because i don't really know what to do. i'm suicidal because i don't understand why i am here. i'm suicidal because i have no hope. i'm suicidal because i don't know why i am here. i'm suicidal because i don't have a purpose. i'm suicidal because i don't know how to fix my situation. i'm suicidal because i don't understand why i am here. i'm suicidal because i'm afraid i'll kill myself and no one will be happy knowing that i am suicidal. i'm suicidal because i don't want to be here. i'm suicidal because i don't know what to do. i'm suicidal because i don't know how to fix my situation. i'm suicidal\n",
      " [RESPONSE]yes: you absolutely should see a professional asap. not saying this is you: but i know from personal experience the anxiety and depression will make it really hard to go to the doctor: so if you feel like you have to go to the doctor: it would be best. if you don’t feel like you can afford to go: i would reach out to a professional who can help you. what you’re experiencing is normal and it’s natural. i believe you should seek professional help. good luck.\n",
      " [RESPONSE]i don’t have a therapist so i don’t know what to do. i’ll check the app and see if there’s any tips. i’m going to try not to go out of my way. thank you.this is really the only thing i have. but i know it is the problem. i have a lot of friends who are depressed and i have to just stick and do anything i can to make them feel better. maybe this will help you. [this](https://www.youtube.com/watch?v=wqem\\_jldrzi) is one of my favourite things to do. i do all the activities suggested: and i also go out of my way to make them feel better. i hope this helps :)\n",
      " [RESPONSE]i am so sorry that you do not have all of the support you deserve. i wish you the best of luck!i think i should just be honest with her about my feelings and tell her i'm not sure if she will be supportive of me. i think if i tell her about my feelings i can at least be honest and she should be supportive. i don't know how to ask her directly: but i feel like telling her that i'm not sure whether she will be supportive of me and that i need someone else's perspective would be better than what i'm afraid i'll get from my parents. i'm sorry you're going through this too: i hope you feel better!\n",
      "<|startoftext|>[WP] What should I do if I feel depressed? [RESPONSE]thank you for your advice. i should really just go to my doctor but it's been really hard for me to go to the doctor. i've been going to my psychologist and my psychiatrist but it's been hard for me to get better. i just feel like i have to go to the doctor because it's not going to make me feel better. it's just like i said: i've been going to the doctor and then i've been going to the therapist and now they're not helping me at all. i don't want a doctor to stop helping me but my doctor just doesn't help me. it's so hard and it's been hard for me to find a new psychiatrist. i'm sorry you're going through this: i know it's hard when you're in depression. i wish you the best of luck. i'll probably just see my doctor next month. thank you for your advice. i don't have a doctor: just my psychologist\n",
      "<|startoftext|>[WP] What should I do if I feel depressed? [RESPONSE]i have been in that situation. my parents were very mean to me when i was younger and my depression is something they've struggled with. even though i'm very happy: sometimes i feel like i'm losing myself to these thoughts. i wish i could help but i can't because i'm not good at this stuff. i think that's what you can do too: and that's what i recommend. i hope i helped in anyway and hope you feel better.i had a similar experience with my parents. i was bullied for being different. it was at school and i remember crying and my mom saying she had to take me outside. my dad would get angry and hit me in the head: and tell my mom to go to the bathroom to take me outside. i always had to be careful and i would just sit there until he calmed down. eventually he calmed down and stopped hitting me. i hope you feel better.you can't force someone to get\n",
      " [RESPONSE]when i first started therapy: i had a really hard time letting people in. i was pretty much the only one i let in. i ended up having to let a lot of people in. i would say that it's a good idea to seek out a therapist who specializes in depression. you may be able to figure out what to say and what not to say to them. there are some tips in this post which might help: [overcoming depression](https://www.reddit.com/r/mindovermatterscott/comments/bcf4n1/overcoming_depression/) also: this post on anxiety might help: [anxiety: an overview and ways to treat it](https://www.reddit.com/r/mindovermatterscott/comments/d63agl/anxiety_an_overview_and_ways_to_treat_it/)\n",
      "<|startoftext|>[WP] What should I do if I feel depressed? [RESPONSE]i've been to the gym a few times a week but it was in a gym that was closed so i ended up working out in another gym. i've been out of that gym now because it was too crowded and i was tired of working out there and also not having the energy to do it. i don't know if you could do that in a gym that was open to the public? if you can: i'd recommend it. i've been able to get home from work and i haven't had trouble finding a gym with an open gym. maybe that's a good place to start. i've started taking a class for bodybuilding now because i'm in a similar place and i think it's helped me a lot. i'm going to keep trying to find a gym that is open to my family. i know it's hard to find a gym that isn't closed so i guess if you can: maybe try that first.thanks for the advice\n",
      " [RESPONSE]i’m not a professional but try to find your family. if you’re in the us: try https://www.findhelp.org/find-support/mental-health-services. also: i’m not a professional so take my own advice!\n",
      "<|startoftext|>[WP] What should I do if I feel depressed? [RESPONSE]i think it's a good idea to go to a therapist. i think it's a good thing to go to therapy: because it can help you to come to terms with your feelings and feelings of depression. it can help you to see that your feelings are not normal: and it can help you to understand what triggers your feelings: and it can help you to get to a place where you can get control over your feelings. this is what i do: and i think it's very important to get professional help for this. i also recommend you to be honest with her: and not to tell her anything that you don't want to tell her. it's very important for you to tell her that you're having a rough time: and that you want to stop. it's very important for you to tell her that you'll talk to her if she's not doing so yet. i want you to start this conversation: and i think it's important for you\n",
      "<|startoftext|>[WP] What should I do if I feel depressed? [RESPONSE]i’ve been doing the opposite: i’m getting a lot of therapy but i feel like there’s no way to get back on track: so i’m avoiding this as much as possible. i’m going to try to be more active: i’m going to try to eat more. i’m going to try to make myself feel better: i’m going to try to eat healthy: i’m going to try to do things to get me out of this state of mind. i’m going to try to make the world a better place. i’m going to try to be more productive and i’m going to give myself an opportunity to do things i never thought i could. i’m going to try to make a change. i’m going to try to make friends: to make a friend that’s going to stick around\n",
      " [RESPONSE]i have trouble sleeping because of my depression. i get so tired that i don't even get up to leave the house. i have trouble sleeping because of my depression. i get so tired that i don't even get up to leave the house. sometimes i get so tired that i can't even leave the house. i have trouble sleeping because of my depression. i think you should look at the symptoms and see if you might have depression. it's not a lot of help but it's a start. take care of yourself.\n",
      " [RESPONSE]no matter how much you can go to the doctor and let them know: they will help you. i'm sorry you are feeling this way: i hope you can find the help you need. i know that's not easy but you can do it! you're not alone: i know that. wishing you the best and all the best with your recovery.\n",
      " [RESPONSE]not sure if this is the right sub: but i feel like there is an issue with a sub that's really focused on mental health. [https://www.mentalhealthfirstaid.com/mental-health-first-aid-resources/](https://www.mentalhealthfirstaid.com/mental-health-first-aid-resources/)\n",
      "<|startoftext|>[WP] What should I do if I feel depressed? [RESPONSE]i used to be like this. i had to try everything. now i’m a lot healthier. i’m doing things i never thought i could. i’m doing things that i thought would never happen. i’m learning about myself. i’m trying to do things that i’m actually trying to do. i’m trying to work on myself. i’m trying to find things i enjoy doing. i’m trying to find things i want to do. i’m trying to find things i want to do that don’t make me unhappy. i’m trying to find things i want to do that make me happy because i’m unhappy. i’m trying to find things i love doing because i’m unhappy. i’m trying to find things i’m good at because i’m miserable. i’\n",
      "<|startoftext|>[WP] What should I do if I feel depressed? [RESPONSE]it's really hard for me to think about the future. it's too hard for me to see the possibilities. i have so much stress it's hard to even think about the future when it's so close to the present. i don't know what to do. i'm worried about my future. i'm scared of being alone. i don't know if i should leave my house: go to college: etc. i don't know if i should go to therapy: i don't know if i should do anything. i don't know how to get help. i don't even know what to do for myself. it's really hard to have these thoughts and feelings. please don't go back to me. i'm not a professional: but i'm a fellow therapist. i think it's important for you to understand that depression won't make you happy. it'll make you miserable and very angry and you'll always have these thoughts. please don't\n",
      " [RESPONSE]i would suggest meditating. you can also try to talk to a professional. they can help you. you just have to be careful how you do it. i am proud to say that you are working on yourself and you are doing good!thank you :) i’ll check out the book and i’ll see what else i can do. it’s really good advice!you should be talking to your parents. i would suggest talking to them about it. they should be able to help you. good luck op!\n",
      " [RESPONSE]i have depression and i always felt like it was the only thing that would matter to me. i have a friend who is a lot more empathetic: and that is a great thing. i am also really happy and that helps me feel better. if you ever need to vent: feel free. i hope you can get better too :)\n"
     ]
    },
    {
     "name": "stdout",
     "output_type": "stream",
     "text": [
      " [RESPONSE]i do: i feel like this too so i’m really sorry about your friend. i think that there is something you can do to help. it’s worth it. i’ve tried a couple of different things: and i’m glad i did. i’m really sorry you’re going through this. i’m here if you need someone to talk to. i hope you’re able to find the help you need.\n",
      " [RESPONSE]that's what i wanted to tell you but i'm afraid i won't be able to talk about it. i don't have the courage to get help. i'm not sure if you want to ask me something like that: but if you really need to: i'm here. i'm here if you need me. you can reach out to me anytime.i was wondering the same thing: thanks for sharing. i hope you'll feel better soon.\n",
      " [RESPONSE]i think you should probably talk to your doctor about this asap. i wish there was something i could do about it: but i am sure it is something that is extremely difficult to deal with and should be dealt with very very soon. you sound extremely lucky to have someone who is dedicated to helping you through this and i wish you luck!\n",
      "<|startoftext|>[WP] What should I do if I feel depressed? [RESPONSE]i do the same: i can't really get out of bed because i'm too tired and i'm too tired to do anything at all. i'm hoping it gets better for me: but it's hard to get a good rest when i'm depressed. i'm not sure how to help myself. i'm trying to get by with whatever i have: but it's hard. i'm really sorry i can't offer anything more advice: i'm just trying to help. please let me know if you have any questions :)thank you for your reply. i haven't even thought about it in that way: it's just been a constant feeling like i'm not going anywhere and i'm too depressed to do anything. thank you a lot.yes: i definitely do. i think you can do it. but i'll leave my house: i'm terrified of it. i have no friends or things to do. i can't even go to the store in\n",
      " [RESPONSE]you're welcome. i'm glad you're aware of what's going on with you. you're not alone in this: and i'm glad you've taken the time to go to a counselor to figure out what's going on and what you can do to improve. i know it's hard to ask for help when you're feeling depressed: and that's perfectly ok. i don't know your situation: but i hope you can get through it.i would talk to your parents about it. they will probably want to talk with you about this. it's not okay to be feeling like this: you have to let it go.\n",
      "<|startoftext|>[WP] What should I do if I feel depressed? [RESPONSE]i'll be honest: this is a really tough one for me. i have a ton of good friends: and i feel like they would be upset if i stopped being around them. but i know it's not their fault: and i don't want to put them through this: or anyone else. i'm just scared of being left alone. i also don't want to be on my own: because i think i'd be left alone even more. &amp;#x200b; i'm not sure if this is the place you're looking for help: but if you're in the us: you can call 211 and have them check on you. they can also send you to a crisis line so that you can talk to someone. they might help you get the help you need. and if you don't feel comfortable at the crisis line: you can always go to your school counselor's office: and they'll help you get through it. i\n",
      "<|startoftext|>[WP] What should I do if I feel depressed? [RESPONSE]thank you for this: it’s really helpful. i will start to journal and feel proud of me for it. i’ll look into it. it’s really great advice.i’ll ask my psychiatrist if they can provide a referral to a mental health professional. it’s difficult to get a referral to a mental health professional: but they may be able to help you. i’d say go to your doctor about this. they can refer you to a mental health professional. i’ve been to a few: so i’m not sure what’s happening. it’s not something that’s just going to go away: it’s something you have to do. i wish you the best and hope you’re able to get the help you need.thank you for this: the advice is very helpful. thank you for your time and advice. i will\n",
      " [RESPONSE]i think you should go to your doctor and make sure you know what's going on with you. you can keep going: and you can get through this. i have depression and i often get suicidal thoughts: and i don't want to go through with it: but i do want to live. i don't know what to do. i don't know what to do. i want to be safe and to make sure my friends and family know that i am okay. i want to live in a state that allows me to get help. i want a routine. i want to be able to have my own space and feel comfortable. and i want to feel safe and secure in my own body. i wish you the best of luck. i hope you feel better and i wish you the best of luck. \n",
      "<|startoftext|>[WP] What should I do if I feel depressed? [RESPONSE]yes: that's what i've been doing. i don't think there's any easy answer to that question: but it's something we all need to work on. i was in a similar situation with my mum and my sister. when i was a kid: i was told to put on a face and act like a \"\"real kid\"\" i thought that might help me. i started my first year of university and felt like i was getting nowhere. i started to get really depressed: and it was because i was getting nowhere. i decided that i needed to start doing something about it: and it was a long process. i was very self conscious about it and i was very upset when people didn't see that i was struggling and wasn't feeling good. i don't know how long it took for me to get better: but i'm now happily married and i feel better than i did before. i also learned coping skills for my depression and anxiety a long\n",
      " [RESPONSE]just be aware that it will not go away even if you stop: and that you will likely feel worse at first. i always felt worse when i felt like this and it has gotten worse since. for now: just be aware that it is happening and that you're at a lower point. when i'm feeling like this: i try to remind myself that i am not alone. for me: it's making it worse because i feel like i am not good enough: but i have to know that i am. if you feel like this is happening regularly: please do not let it come to you when you need it the most. i believe in you!\n",
      " [RESPONSE]for me: i can’t really go out and do anything. i’m not really motivated to do anything. i’m just sitting here on my phone. i’m doing nothing and now i feel like i need to do something. i do have a few friends that i’m really good with: so it’s not like i’m alone.\n",
      " [RESPONSE]you’re not a “bad person”. you’re just thinking about what you’re doing and where you’re going and what you’re going to do next. you aren’t the one needing help right now. you are the one having problems. depression can be a serious health issue: but it’s not a “bad thing”. it’s a serious illness: and it’s something we all need help with. depression can be a constant companion: one that we all need to rely on for our own wellbeing. if you’re feeling like this is the case: please reach out to your doctor or your school counselor for help and support. sending love &lt;3\n",
      "<|startoftext|>[WP] What should I do if I feel depressed? [RESPONSE]yeah: i have a few thoughts. 1. i think you should try to get a therapist or psychiatrist if you can. don't expect them to fix everything in your life: but they can help you get to a better place. 2. you don't have to be in a room for hours in order to feel better. you can spend a couple hours in the library: or in a quiet room for a few hours: if you want. 3. you don't have to be depressed to be sick. some people are naturally depressed and need medication to get them to a better place. 4. i don't think you need to go to therapy or a psychiatrist. it's a lot easier to get help from family and friends. 5. you aren't the problem: so you can't blame yourself. so: there's no shame in wanting to get better. 6. there are things you can do to make yourself feel better. it's just a lot\n",
      "<|startoftext|>[WP] What should I do if I feel depressed? [RESPONSE]you can't stop depression without therapy. it's a lifelong battle. it's not like you can just \"\"snap out of it\"\" and suddenly be back in your normal life. you need to make the effort to get the help you need and if you can't do that: you will have to. i can't tell you exactly what you should do. i'm sorry you're going through this. i can't tell you exactly how to get out of it. i do think you should talk to a friend or family member. you should tell them the reasons you have a problem. you should tell them about the therapy. you should tell them about how you feel after each session. you should tell them how you feel after you're done. you should tell them about the things you did that were helpful for you. you should tell them about the things you feel like you could have done better. you should tell them about the things you can't change. you\n",
      "<|startoftext|>[WP] What should I do if I feel depressed? [RESPONSE]i’m so sorry to hear that. it is very hard to get rid of the negative thoughts and feelings that you have. good luck with everything.i've been feeling this way: too. i've been struggling with depression and anxiety for the past year and a half. i've been feeling so overwhelmed mentally and physically that i've attempted suicide multiple times. i've been trying to get help from a therapist since last year and i've finally been able to see one. i'm really sorry you're going through this. i was able to do the same thing. i've been trying to get help from a therapist since last year and i started seeing one this year. i'm really sorry you're going through this. i wish i could help you. i hope you find the help you need. and i'm here to listen and listen to you. i hope you find the right help for you!well: i've been feeling that way for about\n",
      "<|startoftext|>[WP] What should I do if I feel depressed? [RESPONSE]i feel like that's a very good advice. i'm sure it's good advice to think of all the things that make you happy and try to look at them all. i also don't know what to do if i feel like i'm not doing enough to keep myself alive. i have to look after myself first and that's really hard to do when you're so depressed. thank you so much for your reply. i'll look into it. thank you again. i've been feeling this way. it's been really hard to talk about it to my mom: but i'm really afraid she'll just think i'm trying to kill myself: and i'll end up in a psychiatric hospital. i don't know how to go about it: but thanks again. i'm really glad you're here.you can try a self-help book: like this one by peter levine. or: if you can't see a therapist: you can self\n",
      "<|startoftext|>[WP] What should I do if I feel depressed? [RESPONSE]i've been diagnosed with depression: but i've only ever seen a counselor: i have a therapist but none of them know how to deal with my depression and i feel like it's just a phase i don't want to have. i will check my local therapists out. i have a lot of friends who have depression: and they'll help me out with getting my life back on track. i've been feeling the same way lately. i know i shouldn't feel this way and that i should feel better because of my friends. i want to feel normal again. i just don't know how to feel normal again. i don't know how to live like that. i want to feel like i'm just a normal guy who's depressed. i want to be happy. i just don't know how to feel like that anymore. i feel like people are just going to say i'm just lazy and i'm just trying to do stuff. i feel like i\n",
      " [RESPONSE]i don't know. you could try to find a therapist on there that specializes in depression.\n",
      " [RESPONSE]i think that's a very good question. there's some tips in this post which might help: [overcoming depression](https://www.reddit.com/r/mindovermatterscott/comments/bcf4n1/overcoming_depression/)\n",
      "<|startoftext|>[WP] What should I do if I feel depressed? [RESPONSE]i'm sorry you're going through this. you can always try to find a therapist. i am a therapist and i know it can be really hard sometimes. you can also try to talk to them about your feelings. they'll be able to help you. it's important to get help when you need it. i wish you the best of luck!i'm not sure if this will help: but i have my own issues and the people that i go to have been amazing and i am so sorry that you're going through this. it's really hard for me to be around people who tell me they don't feel like themselves. i've been in therapy for about two years now. i feel like i'm getting better but i feel like i'm not yet. i hope you feel better soon: and i hope everyone else feels better soon too. thank you. i would definitely do something if i have this feeling again. i hope you feel better.<|\n",
      "<|startoftext|>[WP] What should I do if I feel depressed? [RESPONSE]yes: but i’m not in the same situation as you. i’m trying to get back to work but i’m having a hard time getting more sleep. what i’m really trying to take care of is my mental health and getting back to work. it’s just so hard. and thank you for your kind words! i’ll definitely try to do that!thank you for your kind words :) i’ll definitely try to do that!thank you for your kind words :) i’ll definitely try to do that!it sounds like you’re having a difficult time: maybe you should talk to your employer about it. they can help you with what you’re feeling. also: check out the [depression is not a curse](https://www.reddit.com/r/trees/comments/3ysbqp/depression_is_not_\n",
      " [RESPONSE]i feel the same way. but i’m in the middle of taking up a new job and i’m wondering what to do. i’ve been feeling awful lately and i think it’s my depression. so i’m really concerned. i’ll definitely look into that. i’m not sure if i should tell my therapist or my family. i’m worried that i’ll never get the help i’m looking for again. [https://www.reddit.com/r/mentalhealth/comments/3yjmj3/tips\\_on\\_how\\_to\\_cope/](https://www.reddit.com/r/mentalhealth/comments/3yjmj3/tips_on_how_to_cope/)\n",
      " [RESPONSE]you don't have to be that way. you could try talking to your parents about it. they may be supportive. they may want more time for you.\n",
      " [RESPONSE]it sounds to me like you are in a state of crisis. i have a hard time believing that there isn’t a way out of this. i’m sorry you’re feeling this way. i know how difficult it feels when you’re depressed. i’m not a therapist: but i’d say you need some professional help to get you through this. it may take a few steps forward: but when you’re feeling better: you’ll feel better. \n",
      " [RESPONSE]i had a similar experience with my parents: and i have since left them and moved to a different neighborhood of my town: i also went to a professional and it was pretty traumatic for me. you need to take care of yourself and your mental health and there are many ways to do that. do you have a school counselor? and maybe if i am wrong: maybe you could talk to one for a bit? \n"
     ]
    },
    {
     "name": "stdout",
     "output_type": "stream",
     "text": [
      "<|startoftext|>[WP] What should I do if I feel depressed? [RESPONSE]it is a good idea to see a therapist about this. they can help you cope and learn coping skills to help you manage this. if you haven't already: go to a psychiatric hospital and get psychiatric help: because it is very important to get treatment for depression. i can show you some things that can help: but first i want to give you some information about depression and ways to get help for it. a lot of things help: but not everything. the things you tell your therapist are not things you can do on your own. when you're depressed: you usually don't have time to do anything. you have to take things one at a time: and eventually you'll feel better. i can't tell you exactly what you need. there's no one size fits all solution. i can tell you though that there are healthy lifestyle choices that can enhance the effects of the standard treatments with office visits. video: below - details about self-help based\n",
      "<|startoftext|>[WP] What should I do if I feel depressed? [RESPONSE]i’m sorry for your loss! i’m sure you’re grateful for the time you’ve wasted on medication and therapy. you’re a wonderful person for caring about your mental health. i hope you’re able to find the strength to take care of yourself. i’m happy for you!i have a hard time with depression. that’s why i’m in therapy. i’m in a bad depression: but i’m in a good depression. therapy helped me. the things i’ve been doing is making sure i eat right: i’ve been doing exercises and i’m doing a lot of deep breathing exercises. it really helps me. i’ve been going to therapy twice a week since i was 15. i’m now 24 and i’m happy with where i am. i’m so scared to\n",
      "<|startoftext|>[WP] What should I do if I feel depressed? [RESPONSE]i’m not currently on ssri’s. i’m on trintellix. you need to make a choice. if you want to stop taking them: do not. there is no harm in doing so. if you don’t want to stop: then you need a plan for how to do so. i believe in you. you’ll be okay. i wish you the best of luck.i’m on venlafaxine and i’m not sure if it’s working but i don’t know. they say that they can’t tell me if it’s working or not. also: i’m on a prescription for antidepressants and it’s a lot different than venlafaxine. so: i’m just worried that i’ll be taking them for a while.thanks. i just started taking them and\n",
      "<|startoftext|>[WP] What should I do if I feel depressed? [RESPONSE]that is a good idea: i'll take that into account :)the only thing to do is to reach out. if you are in the uk: you can call their helpline [https://www.nhs.uk/service-search/find-help](https://www.nhs.uk/service-search/find-help) and ask if they can offer you a support network. i personally don’t know if it’s worth it in the uk but there are therapists in the uk who can help.i know that sounds scary but you’re not alone. i’d definitely recommend getting a therapist if you haven’t already. just because you’re feeling this way doesn’t mean that it’s going away. try to make it as pleasant as it can be to talk to someone. have you thought about getting a therapist? i’ve found\n",
      "<|startoftext|>[WP] What should I do if I feel depressed? [RESPONSE]you should be working on yourself as well as what you can do. i would try to find a therapist or psychologist who specializes in depression. i don't really know how i would cope without therapy: but i know it would help me. i would also try finding a support group if you can. it's a good place to start. also: you can try finding a good therapist. they can help you feel better. i would also suggest you to get a job. you can learn more about yourself and find a job that suits you. also: you can do something productive. like: you can study. for example: just a few questions: why do you feel so depressed: what is making you depressed: how can you cope with it: what is the purpose of your depression: how can you take care of your mental health: how can you manage it: how can you develop skills for it: how can you get a good reputation: what is your\n",
      "<|startoftext|>[WP] What should I do if I feel depressed? [RESPONSE]not sure how this is helpful: but thank you :) you’re right: it’s not always easy. i don’t know if it’s the same for you as well. but i would definitely tell your doctor about it. he/she could give you medication: talk to you about it: and maybe even recommend you a therapist. you’re not alone in this: there are many people who feel the same way you do. if you’d like to talk to someone: feel free to reach out: i’m here!i'm sorry that the advice you were given is not helpful. i wish you the best of luck and hope you feel better soon!yes: i am. yes: it is. i just feel like it’s not the right thing to do. i am on medication and i have a lot of problems that i would do well to talk to my doctor about.\n",
      " [RESPONSE]i don't know how to help you: but i can tell you that it's possible to find a support group that you feel comfortable with. i have friends who are in a similar situation that i feel comfortable with. i know how hard it can be: but it's possible to find a support group that helps you and get the support you need. i'd also recommend getting a therapist. they can help you find the right therapist for you. i can't tell you what to do: but i can tell you how i found a therapist that matched my needs. if you have a school counselor: you can ask him for a referral. i'm sorry you're going through this: but i hope you find the help you need. i'm so sorry you're going through this. you're not alone. and you're never alone.\n",
      "<|startoftext|>[WP] What should I do if I feel depressed? [RESPONSE]it's a bit hard to say: but i’d recommend talking to a therapist about it. they will help you improve your coping skills and help you find the right meds. if you do decide to take your life: i’d recommend making sure you make a good plan. if you’re in the us: i’d highly recommend seeing a therapist. they won’t judge you for it: they’ll help you get to safety. if you’re in the uk: i’d recommend seeing your gp. they can refer you to mental health services. it’s a short wait and they will help you. they can also give you a list of local mental health services and can help you find resources. in the meantime: please try to focus on getting to a safe place and making sure you take care of yourself. i wish you the best of luck.it depends on where\n",
      " [RESPONSE]i think i’m a lot like you. i’m still young and i’m unsure what’s going to happen next. i’m also still learning how to deal with my triggers. but i think i’m going to try to keep it to myself and maybe even avoid the stuff that is triggering me. hope you feel better soon. if you need to talk: please feel free to message mei think you need to seek professional help for your depression. you will need to see a therapist to help you with this issue. it is also important to keep in touch with your friends and family as they have this issue too. i can say that you are not alone. i know that you are feeling like this. i hope you can reach out and get help and feel better. take care.\n",
      "<|startoftext|>[WP] What should I do if I feel depressed? [RESPONSE]thank you. i'm going to do that. thanks for your help.i think it's important to remember that you're still a child: and that depression isn't something that should be treated: nor should you feel depressed for being depressed. you should talk with your parents and explain this to them. i'm sorry you're feeling this way. i hope you feel better soon.thank you. i feel like i’m gonna say something else. i’m gonna tell them that i’m confused about what to say. i can’t find the words. it’s a lot for me to put into words just now. i’m gonna ask for the help of my therapist. thank you. i feel like i can't say anything. i'm afraid to say anything because these things are so hard for me. thank you. thank you. thank you. thank you. thank you. thank you. thank you\n",
      " [RESPONSE]&gt;i have a lot of things going on in my life that are holding me back from being able to fully enjoy my life. i'm not sure about the depression thing: but i do feel like i'm missing out on something. if you're feeling like this: i'd recommend talking to your doctor and getting a referral to a therapist who can help with your medication. there's also some tips in this post which might help: [overcoming depression](https://www.reddit.com/r/mindovermatterscott/comments/bcf4n1/overcoming_depression/)\n",
      "<|startoftext|>[WP] What should I do if I feel depressed? [RESPONSE]well i’m not sure what to do: i’m scared and i’m scared of what i’m going to do: i’m afraid of how i’m going to do it: but i don’t know what to do. i don’t know what to do: i’m scared of what i’m going to do: and i’m scared of what i’m going to do. i’m scared of what i’m going to do: and i’m scared of what i’m going to do: and i’m scared of what i’m going to do: and i’m scared of what i’m going to do. i’m scared of what i’m going to do: and i’m scared of what i’m going to do:\n",
      "<|startoftext|>[WP] What should I do if I feel depressed? [RESPONSE]i don't know if this is related to this post: but i get the frustration of people who get anxious just because they feel like they’re not normal in some way. i’m sorry you’re going through this: and i hope that you’re able to get through what you’re going through.i think it depends on how you feel about yourself. for example: i think that if people feel like they’re going to be the center of attention and it’s a big deal for them then it’s not so much the depressive part but the anxious part that should feel bad. if someone feels depressed: and they know it’s a big deal for them then the depressive part seems like it’s a lot less of a deal. however: maybe it’s for the best that you don’t let yourself feel down. i wish you the best of luck\n",
      "<|startoftext|>[WP] What should I do if I feel depressed? [RESPONSE]thank you. i will read the book. thank you. i will be sure to do that. thank you. i will look for the book. thank you. i will be sure to do that.thank you. i will be sure to do that.thank you. i will be sure to do that. thank you. i will be sure to do that. thank you. i will be sure to do that.thank you. i will be sure to do that. thank you. i will be sure to do that. thank you. i will be sure to do that. thank you. i will be sure to do that. thank you. i will be sure to do that. thank you. i will be sure to do that.thank you. i will be sure to do that. thank you. i will be sure to do that. thank you. thank you. i will be sure to do that. thank you. thank you. thank\n",
      " [RESPONSE]you can try finding a good therapist: your parents are not going to let you go without a therapist. they are not a good support system.\n",
      "<|startoftext|>[WP] What should I do if I feel depressed? [RESPONSE]i have been diagnosed with depression and anxiety. i’d say it’s possible to develop depression. however the thing is that you should not force yourself to do it. if you’re struggling: you can do it. if you’re not struggling: you can’t. i’m sorry you’re going through this. it’s not your fault. i can understand how you feel. i’m a depressive myself. i’ve been feeling really down lately. i want to be better but i don’t know what. i’m sorry you’re going through this. you’re not alone and it’s okay to feel down and that’s okay too. you’re not an asshole.i would say maybe try to have a good cry. i think you are depressed: you should start working on your self esteem. you\n",
      "<|startoftext|>[WP] What should I do if I feel depressed? [RESPONSE]there’s a good chance you’ll be able to get on a good therapist. a good therapist is someone who will work with you to make sure your goals and problems are manageable. if you’re in the us: you can find a good therapist through the insurance company and not through the psychologist who provides therapy for your insurance. they’ll tell you what’s covered and what’s not. the good news is that you’ll get through this. even if you don’t find a therapist that works for you: you can do it with the help of a good therapist. this is a very long and difficult conversation to have: but you have to be persistent and persistent is the best way to do this. you’ll have to be persistent and persistent is the best way to get through this. the key is to find a therapist who works for you. a good therapist will work with you\n",
      "<|startoftext|>[WP] What should I do if I feel depressed? [RESPONSE]it's not your fault: it's a part of your brain that's responding to not having enough dopamine in your brain. i can think of a few things that could be helpful for you: 1) if you're depressed and have a lot of urges: you might want to talk to one of your friends about this. you could also want to try cbt. 2) if you're getting a lot of bad thoughts: you could also want to talk to a doctor about this. i can't tell you exactly what you should do: because it depends on a lot of things: but i can give you some things that might help: 1) it's very possible that you're depressed and it's taking a toll on you. it's good that you're not thinking about suicide: but you definitely need to be on the path to recovery. talk to a friend: family member: or trusted adult about how you're feeling. 2) it's very important\n",
      " [RESPONSE]i have bipolar disorder and the last thing you want to do is act on them. the best thing you can do is just to be safe. if you go to the doctor: tell them you are having suicidal thoughts and that is a good thing: the doctor will help you find someone if you need one. i hope you get the help you need. good luck.i'm not a doctor: but i think you might want to see a therapist and get a proper diagnosis. you really could benefit from some help if you are feeling this way. the way i see it: it's best to talk to someone you trust about this: because you are not safe alone.\n",
      " [RESPONSE]yes: i want to be happy and have friends. i just don't have the time or energy to do it. i want to feel like that. i feel like i just don't have the will to do it. i want it to stop but i'm just not willing to do it. i've been trying to figure it out: but i'm still depressed and i don't know what i want to do with my life.is there any way you can get back to normal?\n",
      "<|startoftext|>[WP] What should I do if I feel depressed? [RESPONSE]i am sorry to hear that: i am also sorry about your parents: i wish i could give you a better insight for you. you have to take responsibility for yourself. you will make your own decisions. i know it will be hard: but try and make the best of it. i wish you the best of luck. i am sorry to read your post: i wish you the best. i’m here if you need someone to talk to. i am here for you. and if you need anyone to talk to: i’m here. i’m here if you need to talk to someone. if you need to talk to someone: please feel free to reach out to me. please keep me posted: i’m here for you. i hope you feel better. i wish you the best. i’m here for you. and if you’re having trouble connecting with others: please feel free to reach\n",
      "<|startoftext|>[WP] What should I do if I feel depressed? [RESPONSE]i’m really sorry to hear this. i understand that you feel the same way. i hope you’re able to get this feeling out of your system so you can feel better in the long run! best of luck to you!thank you so much: i’m taking a little break from my depression: it’s only really started to get bad but i’m so afraid i’ll get depressed again. i hope you feel better soon. thank you so much for your advice: i appreciate it. i will definitely look for a psych: i just don’t want to do it if i have to do it again. thank you for the advice. i have a friend who is going through depression and i think it would help if we could have a conversation about it. she is struggling with feelings of sadness and i think it would help a bit to hear that. thank you so much for your advice:\n",
      " [RESPONSE]if you are depressed: i suggest you reach out to a therapist. they will be able to help you through this as well. \n",
      " [RESPONSE]that’s a good question. i haven’t made big goals for myself in the past so i’ve been pretty much stuck in my comfort zone. i don’t want to be an introvert or anything like that. i’m hoping to figure out what makes me happy.\n",
      " [RESPONSE]i'm not sure what the solution to your troubles is: but i do know how to improve them. take a deep breath and try to find the best thing for you. try meditation: take a couple of minutes and talk to a professional about it. it can help you feel better. i suggest you to talk to them about your problems. you can do it. you can be self-sustaining. you can find your way. you can heal. i know you can.you are not alone. you are just being told that there is no solution. i do not know what to say to you but i am so sorry for you. you are not alone. you are just being told that there is no solution. just go get help.yes: you could always check out /r/depression and /r/anxiety. you are not alone.\n"
     ]
    }
   ],
   "source": [
    "# Generate text using the trained GPT-2 model in the provided session.\n",
    "# The 'run_name' parameter specifies the specific training run from which the model should generate text.\n",
    "# Additional parameters control the generation process:\n",
    "\n",
    "gpt2.generate(sess,\n",
    "              run_name='run1',  # The specific training run to use for text generation\n",
    "              temperature=0.7,  # Controls the randomness of generated text (higher values make it more random)\n",
    "              top_k=40,  # Limits the set of tokens to consider during text generation (higher values make it more focused)\n",
    "              nsamples=100,  # Number of text samples to generate\n",
    "              batch_size=25,  # Number of text samples to generate per batch (useful for large 'nsamples')\n",
    "              length=200,  # Maximum length of the generated text (in tokens)\n",
    "              prefix=\"[WP] What should I do if I feel depressed?\",  # Input text prompt to start the generation\n",
    "              truncate=\"<|endoftext|>\",  # Optional string to truncate the generated text at a specific marker\n",
    "              include_prefix=False,  # Whether to include the provided 'prefix' in the generated text\n",
    "              sample_delim=''  # Separator between individual generated text samples when 'nsamples' > 1\n",
    "              )"
   ]
  },
  {
   "cell_type": "code",
   "execution_count": 39,
   "id": "8ae6abf9",
   "metadata": {
    "ExecuteTime": {
     "end_time": "2022-10-28T21:13:41.442264Z",
     "start_time": "2022-10-28T21:09:10.958717Z"
    }
   },
   "outputs": [
    {
     "name": "stdout",
     "output_type": "stream",
     "text": [
      " [RESPONSE]not until you'd lost your job. it's a tough situation for sure: but you have to make the right choice. you have to do what's best for you. if you live in a certain city you have to do what's best for you. if you live in a different country: things can be different. you have to make the right choice. i'd say try to find a job when you are ready. you don't have to stay in that job long. you can leave and start somewhere else. you can make changes if you want to. if you think you can't do that job: you should let your boss know you're not doing it. that is your job. if you do that job: you're not going to be miserable. you want to be miserable.\n"
     ]
    }
   ],
   "source": [
    "# Generate text using the trained GPT-2 model in the provided session.\n",
    "# The 'run_name' parameter specifies the specific training run from which the model should generate text.\n",
    "# Additional parameters control the generation process:\n",
    "gpt2.generate(sess, run_name='run1',\n",
    "              temperature=0.7,\n",
    "              #top_k=40,\n",
    "              #nsamples=2,\n",
    "              #batch_size=24,\n",
    "              #length=200,\n",
    "              prefix=\"<|startoftext|>[WP] What should I do if I feel depressed?\",\n",
    "              truncate=\"<|endoftext|>\",\n",
    "              include_prefix=False,\n",
    "              sample_delim=''\n",
    "              )"
   ]
  },
  {
   "cell_type": "markdown",
   "id": "d59a7322",
   "metadata": {},
   "source": [
    "# Testing different temperature and top-k values"
   ]
  },
  {
   "cell_type": "code",
   "execution_count": 3,
   "id": "3be5ade9",
   "metadata": {
    "ExecuteTime": {
     "end_time": "2022-11-14T17:47:42.724323Z",
     "start_time": "2022-11-14T17:47:42.721932Z"
    }
   },
   "outputs": [],
   "source": [
    "import numpy as np"
   ]
  },
  {
   "cell_type": "code",
   "execution_count": 14,
   "id": "30fc2a68",
   "metadata": {
    "ExecuteTime": {
     "end_time": "2022-11-02T23:04:57.562504Z",
     "start_time": "2022-11-02T22:58:36.942128Z"
    }
   },
   "outputs": [
    {
     "name": "stdout",
     "output_type": "stream",
     "text": [
      "Temperature is 0.1\n",
      "<|startoftext|>[WP] What should I do if I feel depressed? [RESPONSE]i’m not sure if this is a good place to ask this: but i’m not sure if you’re feeling suicidal or not. i’m not sure if you’re feeling suicidal: but i’m not sure if you’re feeling suicidal. i’m not sure if you’re feeling suicidal: but i’m not sure if you’re feeling suicidal. i’m not sure if you’re feeling suicidal: but i’m not sure if you’re feeling suicidal. i’m not sure if you’re feeling suicidal: but i’m not sure if you’re feeling suicidal. i’m not sure if you’re feeling suicidal: but i’m not sure if you’re feeling suicidal. i’m not sure if you’re feeling suicidal: but i\n",
      "Temperature is 0.2\n",
      "<|startoftext|>[WP] What should I do if I feel depressed? [RESPONSE]i’m sorry you’re going through this. i’m not a professional but i’m here to help. i’m here to help you. i’m here to help you. i’m here to help you. i’m here to help you. i’m here to help you. i’m here to help you. i’m here to help you. i’m here to help you. i’m here to help you. i’m here to help you. i’m here to help you. i’m here to help you. i’m here to help you. i’m here to help you. i’m here to help you. i’m here to help you. i’m here to help you. i’m here to help you. i’\n",
      "Temperature is 0.30000000000000004\n",
      "<|startoftext|>[WP] What should I do if I feel depressed? [RESPONSE]i’m sorry you’re going through this. i’m not sure how to help you. i’m not a therapist: but i’m a mental health nurse. i’ve been in your position before. i’m not sure what to say. i’m sorry you’re going through this. i’m sorry you’re going through this. i’m sorry you’re going through this. i’m sorry you’re going through this. i’m sorry you’re going through this. i’m sorry you’re going through this. i’m sorry you’re going through this. i’m sorry you’re going through this. i’m sorry you’re going through this. i’m sorry you’re going through this. i�\n",
      "Temperature is 0.4\n",
      "<|startoftext|>[WP] What should I do if I feel depressed? [RESPONSE]i think the best thing you can do is to talk to your parents about it. they will understand and help you through it. if you're not comfortable talking to them about it: you can always talk to your friends and family about it. i hope this helped. if you need to vent: feel free to message me.i am in the same boat. i have a hard time talking to my parents about it. i don't know how to ask for help: and i don't know how to ask for help. i think i'm going to have to try and talk to my parents about it. i don't want to do that. i don't want to be sad: i don't want to be depressed. i'm just not sure how to ask for help. i wish you the best of luck. i hope you can find the help you need.i don't know if this is helpful: but i have a similar problem. i don\n",
      "Temperature is 0.5\n",
      "<|startoftext|>[WP] What should I do if I feel depressed? [RESPONSE]i'm sorry you're going through this. i've been there. i'm not saying you should: but it's important to remember that you are not alone in this. i'm so sorry you're going through this. i hope you can find the help you need. please reach out if you ever need to talk about this. i'm here if you ever need to vent: too. i'm here for you. i'm here for you. i'm here for you. i'm here for you. i'm here for you. you can do this. you can do this. you can do this. you can do this. you can do this. you can do this. you can do this. you can do this. you can do this. you can do this. you can do this. you can do this. you can do this. you can do this. you can do this. you can do this. you can do this.\n",
      "Temperature is 0.6\n",
      " [RESPONSE]i’m not a professional by any means: but i’m a licensed therapist and i think you’re right. i’m sorry you’re going through this. please take care!\n",
      "Temperature is 0.7000000000000001\n",
      " [RESPONSE]you should go to a doctor and tell them what happened. even if it's just a pill: they can help. you can also try finding a professional to help you through this: it's really hard to find help when you're depressed. i hope you find the help you need.\n",
      "Temperature is 0.8\n",
      "<|startoftext|>[WP] What should I do if I feel depressed? [RESPONSE]i think i’ll do what you’ve said. i’m working out and have a lot of things i need to get through: and the only thing that prevents me from doing that is depression. i’m really sorry you’re going through this and you’re in the same boat. you can’t fix this. you will always be depressed and it’s okay to feel down. just because you can’t do something doesn’t mean you can’t do it: and that’s okay. the first thing i would say is that don’t give up on working out. just do it and then look for ways to do it. you don’t have to stop: you’re not going to. you’ll find a way to do it. and just because you can’t don’t give up on trying\n",
      "Temperature is 0.9\n",
      "<|startoftext|>[WP] What should I do if I feel depressed? [RESPONSE]thank you i will do it when i find things to do that make me happy: i need to get out of my house. i'll also keep my mind occupied with stuff that will help me in the long run and i'm glad to hear you found something that is good for you!i'll try and be happy. thank you!there is something going on for you. here is the first part of our conversation. i am not an expert on mental illness but i can recommend you some basic things that might help. the most important thing is knowing how to cope in a moment of crisis. it's very important to calm down. this will make you feel better and let you think clearly. a very easy way to calm down is just to breathe slowly. dialectical behavior therapy: which helps people who have bpd: recommends this - breathe gently: hand on your belly to feel it go in and out: and breathe 5 seconds in-breath and 7\n",
      "Temperature is 1.0\n",
      "<|startoftext|>[WP] What should I do if I feel depressed? [RESPONSE]the main thing you want to do is take care of yourself and your health. i've been a very heavy drinker: but i'm much much healthier now than i was before. that said: i also have many triggers for depression: and i've been aware of it for 2 years. i've gone out to a lot of places: and i've been working towards being able to do that less often too: so i know that that's something to stick to.i've tried to put on good moods: get healthy: and the first thing i did was talk to my family doctor so she could keep seeing me and to help with taking medication. i also started eating out and even cooking. i'm at really good health now. i hope you feel better soon as well!i’ve taken sertraline and it’s been the best thing for me.i’ve been taking meds and it’s helping\n"
     ]
    }
   ],
   "source": [
    "# Iterate over different temperature values from 0.1 to 1.0 (inclusive) with a step of 0.1.\n",
    "for t in np.arange(0.1, 1.1, 0.1):\n",
    "    # Print the current temperature value being used for text generation.\n",
    "    print('Temperature is', t)\n",
    "\n",
    "    # Generate text using the trained GPT-2 model in the provided session.\n",
    "    # The 'run_name' parameter specifies the specific training run from which the model should generate text.\n",
    "    # Additional parameters control the generation process:\n",
    "\n",
    "    gpt2.generate(sess,\n",
    "                  run_name='run1',  # The specific training run to use for text generation\n",
    "                  temperature=t,  # Current temperature value for controlling the randomness of generated text\n",
    "                  top_k=40,  # Limits the set of tokens to consider during text generation (higher values make it more focused)\n",
    "                  # nsamples=1,  # Number of text samples to generate (currently commented out)\n",
    "                  # batch_size=25,  # Number of text samples to generate per batch (currently commented out)\n",
    "                  length=200,  # Maximum length of the generated text (in tokens)\n",
    "                  prefix=\"<|startoftext|>[WP] What should I do if I feel depressed?\",  # Input text prompt to start the generation\n",
    "                  truncate=\"<|endoftext|>\",  # Optional string to truncate the generated text at a specific marker\n",
    "                  include_prefix=False,  # Whether to include the provided 'prefix' in the generated text\n",
    "                  sample_delim=''  # Separator between individual generated text samples when 'nsamples' > 1\n",
    "                  )"
   ]
  },
  {
   "cell_type": "code",
   "execution_count": 16,
   "id": "4b0601d2",
   "metadata": {
    "ExecuteTime": {
     "end_time": "2022-11-02T23:15:24.473298Z",
     "start_time": "2022-11-02T23:08:13.785731Z"
    }
   },
   "outputs": [
    {
     "name": "stdout",
     "output_type": "stream",
     "text": [
      "Top_k is 0\n",
      "<|startoftext|>[WP] What should I do if I feel depressed? [RESPONSE]i have depression and i know that depression is hard to get out of. i'm sorry you're going through this. you can always talk to a friend from school. i hope you get through this okay. please reach out to a friend or family member. this is really hard and i'm sorry that you're going through it. i know it's hard to be alone. this is the best thing you can do. take care of yourself. i wish you all the best. keep on pushing. i'm sorry you're going through this. i'm here if you need to talk.i’m so sorry you’re going through this. i’m in the same position and i’m so sorry to see another one of my friends going through this. it’s so hard to get out of bed and i’m so sorry to hear you’re going through this. i just want you to know that\n",
      "Top_k is 5\n",
      "<|startoftext|>[WP] What should I do if I feel depressed? [RESPONSE]i don’t really know what the \"\"right\"\" thing to do is: but it’s something i’ve been thinking about. i’m not sure if it’s the best thing: but i feel like it’s something i could do if i’m feeling like this. thank you for your advice.i think the only thing you should do is talk to a professional. it's not that you should stop going to therapy: it's that you should talk to a professional. you can get help if you need to but you need to talk to someone who can help you get better. i hope you feel better.i have a lot of anxiety and depression: but i don't know what the right thing to do is. i have to be careful about what i say and how i say it: because i feel like people don't know what to say. i feel like if i tell them i'm\n",
      "Top_k is 10\n",
      " [RESPONSE]i'm sorry you have to go through this. there's a lot of advice and information out there about how to deal with depression: what to do: what not to do. if you're not feeling good: you should go to a doctor for a checkup. they may be able to help you. best of luck!\n",
      "Top_k is 15\n",
      " [RESPONSE]i wish i could offer more advice: but i'm not sure what to do. i'm just wondering as you said: what do you feel you can do to help yourself?\n",
      "Top_k is 20\n",
      " [RESPONSE]i'm not sure that it will make you feel better: but if you can: do something that helps you feel better: like try to find a hobby or interest that you enjoy. it might help to write down the things you like doing with your time: like watching movies: reading books or listening to music. this can be a good way to help you stay motivated and make it easier to make goals. it's important to keep yourself busy: but also to find things that you can do that are helpful for you. you might want to try writing journal on your laptop: or at least try to write down things you like to do. you might want to try a new activity: for example: or try to make a new hobby or interest. good luck!\n",
      "Top_k is 25\n",
      " [RESPONSE]i am not sure if it is considered as suicide or not: but in the uk you can't go to a doctor for anything: i can't even see my gp because they won't even do basic tests on me. it really is very concerning that you are going through this. also it's very important to tell your parents that you want to go see a psychiatrist for help: so that they can help you. it's so important to talk to your parents so they can be a little more supportive as well. i hope you're feeling better now: it's really good to have someone to talk to. i hope you do find ways to cope with this. sending lots of love to you! sending lots of love to you!\n",
      "Top_k is 30\n",
      " [RESPONSE]thank you! i’ll start looking into it. i’ll look into what’s available for me next time i’m feeling like this: and i’ll be sure to ask for a professional help if i ever need to.thank you for the advice. i’ll give it a try. thank you so much. i’ll try to speak to my therapist next session about this :)i think that you should definitely talk to your therapist about this: and see if they can help you make it out of this depression. if you feel that you can't get better: it might be worth talking to your doctor about seeing a mental health professional. they might even be able to give you an option of taking medication if you think you could benefit from it. you can always check with your doctor too to make sure that they know about this: and that they can help you out.\n",
      "Top_k is 35\n",
      "<|startoftext|>[WP] What should I do if I feel depressed? [RESPONSE]yes: it should help. it’s a good thing to get some help.i feel the same way. i can't be around people who make me feel like this. they make me feel like this. i also feel like i'm not worth the effort. i feel like i'm not good enough. i feel like i'm the problem. i feel like i'm not worth saving. i feel like i'm not worth getting help. i feel like i'm a burden.i feel the same way. i don't have the skills to help myself. i feel like i'm not good enough. i feel like i'm the problem. i feel like i'm a waste of time. i feel like i'm a burden.i feel this way too. i'm too tired to do anything. i'm just constantly exhausted and i don't even want to do anything because it's just exhausting. i feel like i'm a burden.i feel\n",
      "Top_k is 40\n",
      "<|startoftext|>[WP] What should I do if I feel depressed? [RESPONSE]it's very important to keep your mind clear of anything that may be disturbing you. if you do not have a trusted adult: call 911 and talk to somebody. they're there to help you: and they're unlikely to tell anyone else. try to focus on your breathing and your breathing. if you think you might have a panic attack: you can calm yourself down by breathing slowly through your nose. it's very important to breathe slowly. this will make you feel better and let you think clearly. don't force yourself to breathe slowly. this will make you feel worse and make it harder for you to breathe slowly. it's very important to breathe slowly. this will make you feel better and let you think clearly. take a deep breath in through your nose: then breathe out through your mouth. this will help your mind relax and let you focus on your breathing. also: breathe slowly while you eat. this will make you feel better and let you focus on\n",
      "Top_k is 45\n",
      " [RESPONSE]i would say go for a walk. you can change your mind at any time. and maybe try to go for a walk around the neighborhood or in the parks. you can go for a walk around the block then in the park. maybe try something for fun like playing in the park. maybe go for a walk around the block then in the park. maybe try something for work. maybe you need to go to the doctor. maybe you need to go to the hospital. maybe you are tired of not getting any help. maybe you need to go outside. maybe you need to go to the doctor. whatever it is.\n"
     ]
    }
   ],
   "source": [
    "# Iterate over different top_k values from 0 to 45 (inclusive) with a step of 5.\n",
    "for k in np.arange(0, 50, 5):\n",
    "    # Print the current top_k value being used for text generation.\n",
    "    print('Top_k is', k)\n",
    "\n",
    "    # Generate text using the trained GPT-2 model in the provided session.\n",
    "    # The 'run_name' parameter specifies the specific training run from which the model should generate text.\n",
    "    # Additional parameters control the generation process:\n",
    "\n",
    "    gpt2.generate(sess,\n",
    "                  run_name='run1',  # The specific training run to use for text generation\n",
    "                  temperature=0.7,  # Temperature controls the randomness of generated text\n",
    "                  top_k=k,  # Current top_k value for controlling the diversity of generated text\n",
    "                  # nsamples=1,  # Number of text samples to generate (currently commented out)\n",
    "                  # batch_size=25,  # Number of text samples to generate per batch (currently commented out)\n",
    "                  length=200,  # Maximum length of the generated text (in tokens)\n",
    "                  prefix=\"<|startoftext|>[WP] What should I do if I feel depressed?\",  # Input text prompt to start the generation\n",
    "                  truncate=\"<|endoftext|>\",  # Optional string to truncate the generated text at a specific marker\n",
    "                  include_prefix=False,  # Whether to include the provided 'prefix' in the generated text\n",
    "                  sample_delim=''  # Separator between individual generated text samples when 'nsamples' > 1\n",
    "                  )"
   ]
  },
  {
   "cell_type": "code",
   "execution_count": 11,
   "id": "75abc958",
   "metadata": {
    "ExecuteTime": {
     "end_time": "2022-11-02T22:57:13.489497Z",
     "start_time": "2022-11-02T22:56:37.705657Z"
    }
   },
   "outputs": [
    {
     "name": "stdout",
     "output_type": "stream",
     "text": [
      "<|startoftext|>[WP] What should I do if I feel depressed? [RESPONSE]i'm not sure what you mean by \"\"depressed\"\" but i think you should talk to your parents about this. they might be able to help you with this. i'm sorry you're going through this. i hope you're doing better now. i hope you're able to get help. i hope you're able to get back to your normal life. i hope you're able to get back to your normal life. i hope you're able to get back to your normal life. i hope you're able to get back to your normal life. i hope you're able to get back to your normal life. i hope you're able to get back to your normal life. i hope you're able to get back to your normal life. i hope you're able to get back to your normal life. i hope you're able to get back to your normal life. i hope you're able to get back to your normal life. i hope you're\n"
     ]
    }
   ],
   "source": [
    "# Generate text using the trained GPT-2 model in the provided session.\n",
    "# The 'run_name' parameter specifies the specific training run from which the model should generate text.\n",
    "# Additional parameters control the generation process:\n",
    "\n",
    "gpt2.generate(sess,\n",
    "              run_name='run1',  # The specific training run to use for text generation\n",
    "              temperature=0.1,  # Temperature controls the randomness of generated text (low value for more determinism)\n",
    "              top_k=40,  # Limits the set of tokens to consider during text generation (higher values make it more focused)\n",
    "              # nsamples=1,  # Number of text samples to generate (currently commented out)\n",
    "              # batch_size=25,  # Number of text samples to generate per batch (currently commented out)\n",
    "              length=200,  # Maximum length of the generated text (in tokens)\n",
    "              prefix=\"<|startoftext|>[WP] What should I do if I feel depressed?\",  # Input text prompt to start the generation\n",
    "              truncate=\"<|endoftext|>\",  # Optional string to truncate the generated text at a specific marker\n",
    "              include_prefix=False,  # Whether to include the provided 'prefix' in the generated text\n",
    "              sample_delim=''  # Separator between individual generated text samples when 'nsamples' > 1\n",
    "              )\n"
   ]
  },
  {
   "cell_type": "code",
   "execution_count": 12,
   "id": "37113f52",
   "metadata": {
    "ExecuteTime": {
     "end_time": "2022-11-02T22:58:04.093052Z",
     "start_time": "2022-11-02T22:57:28.488558Z"
    }
   },
   "outputs": [
    {
     "name": "stdout",
     "output_type": "stream",
     "text": [
      "<|startoftext|>[WP] What should I do if I feel depressed? [RESPONSE]i'm not sure what to say to you. i'm not sure what to say to you. i'm not sure what to say to you. i'm not sure what to say to you. i'm not sure what to say to you. i'm not sure what to say to you. i'm not sure what to say to you. i'm not sure what to say to you. i'm not sure what to say to you. i'm not sure what to say to you. i'm not sure what to say to you. i'm not sure what to say to you. i'm not sure what to say to you. i'm not sure what to say to you. i'm not sure what to say to you. i'm not sure what to say to you. i'm not sure what to say to you. i'm not sure what to say to you. i'm not sure what to say to you. i'm not sure\n"
     ]
    }
   ],
   "source": [
    "# Generate text using the trained GPT-2 model in the provided session.\n",
    "# The 'run_name' parameter specifies the specific training run from which the model should generate text.\n",
    "# Additional parameters control the generation process:\n",
    "\n",
    "gpt2.generate(sess,\n",
    "              run_name='run1',  # The specific training run to use for text generation\n",
    "              temperature=0.2,  # Temperature controls the randomness of generated text (low value for more determinism)\n",
    "              top_k=40,  # Limits the set of tokens to consider during text generation (higher values make it more focused)\n",
    "              # nsamples=1,  # Number of text samples to generate (currently commented out)\n",
    "              # batch_size=25,  # Number of text samples to generate per batch (currently commented out)\n",
    "              length=200,  # Maximum length of the generated text (in tokens)\n",
    "              prefix=\"<|startoftext|>[WP] What should I do if I feel depressed?\",  # Input text prompt to start the generation\n",
    "              truncate=\"<|endoftext|>\",  # Optional string to truncate the generated text at a specific marker\n",
    "              include_prefix=False,  # Whether to include the provided 'prefix' in the generated text\n",
    "              sample_delim=''  # Separator between individual generated text samples when 'nsamples' > 1\n",
    "              )"
   ]
  },
  {
   "cell_type": "code",
   "execution_count": 4,
   "id": "268ccf1a",
   "metadata": {
    "ExecuteTime": {
     "end_time": "2022-11-14T17:56:34.287448Z",
     "start_time": "2022-11-14T17:51:59.969845Z"
    }
   },
   "outputs": [
    {
     "name": "stdout",
     "output_type": "stream",
     "text": [
      "SEPTA is a great place to start. you don't have to go through a lot of paperwork to get a diagnosis: you can just get a pcp to fill out a form and they can review it: and they can help you with your therapy. i also recommend reading \"\"how to get started with therapy\"\" by anna runkle. a lot of things can help: in my experience. things you can do to help yourself are to be active: journaling: go to your local subhumanity (sorry for the language) and talk to fellow human beings. i hope this helps.<|endoftext|>\"\n",
      "\"<|startoftext|>[WP]is it really that bad to be around people who are mentally ill? [RESPONSE]i don’t know if this will help but i can tell you straight up - from my experience: it’s not a big deal to be around people who are mentally ill. it’s not a big deal to need meds if you’re in a medically stable state. i have a friend who was in the hospital every day for a year and he was fine. i think he had depression. i think he had some personality disorders. there’s a lot of mental illnesses that can be treated with medication. i think you’re a good person for wanting to be around people who are dealing with mental health issues: it doesn’t make it bad to be around those people. i would say the best thing is to see a therapist and talk to them about your feelings. nope... they are wrong and you need to take action to change. if you feel like you are in trouble: you need to see a professional about it. you should tell them what happened. they are there to help you. if you feel like you need help: you need to do something about it. if you kill yourself: you’re not gonna get help. you need help. i’m sorry that you’re going through this: i’m sorry your family is going through this: but you also need to talk to someone. good luck<|endoftext|>\"\n",
      "\"<|startoftext|>[WP]i feel like i am going to die. i am not suicidal. help? [RESPONSE]i'm not an expert by any means: but i will tell you this: if you're suicidal: it's a necessity. please: please: please see a qualified professional. if you have any questions: you can pm me!thank you: i guess i am just scared that i will cause myself harm. i think that there are people there that i can talk to: i just don't know where to start.i’d say it’s a good idea to go to a doctor. if you’re having trouble with your mental health: it’s a good idea to go to the doctor. they can help you with what you’re going through. if you’re not depressed: you’re not suicidal.<|endoftext|>\"\n",
      "\"<|startoftext|>[WP]how do i cope with my inner thoughts? [RESPONSE]thank you so much for sharing. i appreciate you taking the time to help. i’m glad i could stop my thoughts: and just let them go.thank you: i will try that. thank you for sharing and providing some help. i’m glad i could stop my thoughts. thank you: i’ll try that. thank you so much for sharing and offering some help. i’m glad i’m able to stop thinking about it. thank you: i really appreciate it so much. thank you: i’ll try that. thank you so much. thank you: thank you: thank you! these people are good to have around. i’m glad you’re able to stop thinking about it so i encourage you to try that. thank you so much for sharing. i’d say it’s a good idea to go to a doctor. please: please: please: please see if you can stop your thoughts: and just let the thoughts go. the moment you stop thinking they’ll be gone. even if you’re still doing that it’s important to know that you’re still in control of it. please: please: please: please: please: please: please: please: please: please: please: please: please: please: please: please: please: please: please: please: please: please: please: please: please: please: please: please: please: please: please: please: please: please: please: please: please: please: please: please: please: please: please: please: please: please: please: please: please: please: please\n"
     ]
    }
   ],
   "source": [
    "# Generate text using the trained GPT-2 model in the provided session.\n",
    "# The 'run_name' parameter specifies the specific training run from which the model should generate text.\n",
    "# The generated text will continue from the provided 'prefix'.\n",
    "# The 'truncate' parameter is optional and can be used to limit the length of the generated text.\n",
    "\n",
    "# The generated text will be stored in the 'text' variable.\n",
    "text = gpt2.generate(sess,\n",
    "                     run_name='run1',  # The specific training run to use for text generation\n",
    "                     prefix=\"<|startoftext|>[WP] What should I do if I feel depressed?\",  # Input text prompt to start the generation\n",
    "                     truncate=\"<|endoftext|>\"  # Optional string to truncate the generated text at a specific marker\n",
    "                     )"
   ]
  },
  {
   "cell_type": "markdown",
   "id": "8ba4d123",
   "metadata": {},
   "source": [
    "# Creating an app using flask"
   ]
  },
  {
   "cell_type": "code",
   "execution_count": 3,
   "id": "4940cb2a",
   "metadata": {
    "ExecuteTime": {
     "end_time": "2022-11-02T22:51:32.494388Z",
     "start_time": "2022-11-02T22:51:32.339009Z"
    }
   },
   "outputs": [],
   "source": [
    "# Import all necessary libraries\n",
    "import numpy as np\n",
    "from flask import Flask, request, jsonify, render_template\n",
    "import gpt_2_simple as gpt2\n",
    "from starlette.applications import Starlette\n",
    "from starlette.responses import UJSONResponse\n",
    "import gpt_2_simple as gpt2\n",
    "import tensorflow as tf\n",
    "import uvicorn\n",
    "import os\n",
    "import gc"
   ]
  },
  {
   "cell_type": "code",
   "execution_count": 4,
   "id": "ea1a5713",
   "metadata": {
    "ExecuteTime": {
     "end_time": "2022-11-02T22:53:29.002208Z",
     "start_time": "2022-11-02T22:51:34.291065Z"
    }
   },
   "outputs": [
    {
     "name": "stdout",
     "output_type": "stream",
     "text": [
      " * Serving Flask app \"__main__\" (lazy loading)\n",
      " * Environment: production\n",
      "\u001b[31m   WARNING: This is a development server. Do not use it in a production deployment.\u001b[0m\n",
      "\u001b[2m   Use a production WSGI server instead.\u001b[0m\n",
      " * Debug mode: on\n"
     ]
    },
    {
     "name": "stderr",
     "output_type": "stream",
     "text": [
      " * Running on http://127.0.0.1:5000/ (Press CTRL+C to quit)\n",
      "127.0.0.1 - - [02/Nov/2022 18:51:36] \"GET / HTTP/1.1\" 200 -\n",
      "127.0.0.1 - - [02/Nov/2022 18:51:37] \"GET /favicon.ico HTTP/1.1\" 404 -\n",
      "127.0.0.1 - - [02/Nov/2022 18:51:37] \"GET /apple-touch-icon-precomposed.png HTTP/1.1\" 404 -\n",
      "127.0.0.1 - - [02/Nov/2022 18:51:37] \"GET /apple-touch-icon.png HTTP/1.1\" 404 -\n"
     ]
    }
   ],
   "source": [
    "# Create a Flask web application instance\n",
    "app = Flask(__name__)\n",
    "\n",
    "# Define a route for the homepage (\"/\") that renders the 'home.html' template\n",
    "@app.route(\"/\")\n",
    "def home():\n",
    "    return render_template('home.html')\n",
    "\n",
    "# Define another route for text generation (\"/\") that accepts GET, POST, and HEAD requests\n",
    "@app.route('/', methods=['GET', 'POST', 'HEAD'])\n",
    "def predict():\n",
    "    # Import the gpt_2_simple library for working with OpenAI's GPT-2 model\n",
    "    import gpt_2_simple as gpt2\n",
    "\n",
    "    # Start a new TensorFlow session for the GPT-2 model\n",
    "    sess = gpt2.start_tf_sess()\n",
    "\n",
    "    # Load the pre-trained GPT-2 model into the session\n",
    "    gpt2.load_gpt2(sess, run_name='run1')\n",
    "\n",
    "    # Check the request method and obtain the parameters accordingly\n",
    "    if request.method == 'GET':\n",
    "        params = request.args\n",
    "    elif request.method == 'POST':\n",
    "        params = request.json()\n",
    "    elif request.method == 'HEAD':\n",
    "        # If the request method is HEAD, return an empty JSON response with the appropriate headers\n",
    "        return UJSONResponse({'text': ''},\n",
    "                             headers={'Access-Control-Allow-Origin': '*'})\n",
    "\n",
    "    # Generate text using the GPT-2 model with parameters from the request\n",
    "    text = gpt2.generate(sess, run_name='run1',\n",
    "                         length=int(params.get('length', 1023)),\n",
    "                         temperature=float(params.get('temperature', 0.7)),\n",
    "                         top_k=int(params.get('top_k', 0)),\n",
    "                         prefix=params.get('prefix', '')[:500],\n",
    "                         truncate=params.get('truncate', None),\n",
    "                         include_prefix=str(params.get('include_prefix', True)).lower() == 'true',\n",
    "                         return_as_list=True\n",
    "                         )[0]\n",
    "\n",
    "    # Render the 'home.html' template with the generated text as 'prediction_text'\n",
    "    return render_template('home.html', prediction_text=text)\n",
    "\n",
    "# Run the Flask app when this script is directly executed\n",
    "if __name__ == '__main__':\n",
    "    app.run(debug=True, use_reloader=False)\n"
   ]
  },
  {
   "cell_type": "code",
   "execution_count": 31,
   "id": "6f5133e0",
   "metadata": {
    "ExecuteTime": {
     "end_time": "2022-10-28T21:07:08.366507Z",
     "start_time": "2022-10-28T21:05:19.353345Z"
    }
   },
   "outputs": [
    {
     "name": "stdout",
     "output_type": "stream",
     "text": [
      " * Serving Flask app \"__main__\" (lazy loading)\n",
      " * Environment: production\n",
      "\u001b[31m   WARNING: This is a development server. Do not use it in a production deployment.\u001b[0m\n",
      "\u001b[2m   Use a production WSGI server instead.\u001b[0m\n",
      " * Debug mode: on\n"
     ]
    },
    {
     "name": "stderr",
     "output_type": "stream",
     "text": [
      " * Running on http://127.0.0.1:5000/ (Press CTRL+C to quit)\n",
      "127.0.0.1 - - [28/Oct/2022 17:05:22] \"GET / HTTP/1.1\" 200 -\n"
     ]
    }
   ],
   "source": [
    "# Create a Flask web application instance\n",
    "app = Flask(__name__)\n",
    "\n",
    "# Define a route for the homepage (\"/\") that renders the 'home.html' template\n",
    "@app.route(\"/\")\n",
    "def home():\n",
    "    return render_template('home.html')\n",
    "\n",
    "# Define a route for text generation (\"/predict\") that accepts POST requests\n",
    "@app.route('/predict', methods=['POST'])\n",
    "def predict():\n",
    "    # Import the gpt_2_simple library for working with OpenAI's GPT-2 model\n",
    "    import gpt_2_simple as gpt2\n",
    "\n",
    "    # Start a new TensorFlow session for the GPT-2 model\n",
    "    sess = gpt2.start_tf_sess()\n",
    "\n",
    "    # Load the pre-trained GPT-2 model into the session\n",
    "    gpt2.load_gpt2(sess, run_name='run1')\n",
    "\n",
    "    # Generate text using the GPT-2 model with specified parameters\n",
    "    text = gpt2.generate(sess, run_name='run1',\n",
    "                         temperature=0.7,  # Controls the randomness of generated text\n",
    "                         top_k=40,  # Limits the set of tokens to consider during text generation\n",
    "                         nsamples=1,  # Number of text samples to generate\n",
    "                         batch_size=25,  # Number of text samples to generate per batch\n",
    "                         prefix=\"<|startoftext|>[WP]\",  # Input text prompt to start the generation\n",
    "                         truncate=\"<|endoftext|>\",  # Optional string to truncate the generated text at a specific marker\n",
    "                         include_prefix=False,  # Whether to include the provided 'prefix' in the generated text\n",
    "                         sample_delim=''  # Separator between individual generated text samples\n",
    "                         )\n",
    "\n",
    "    # Render the 'home.html' template with the generated text as 'prediction_text'\n",
    "    return render_template('home.html', prediction_text=text)\n",
    "\n",
    "# Run the Flask app when this script is directly executed\n",
    "if __name__ == '__main__':\n",
    "    app.run(debug=True, use_reloader=False)"
   ]
  },
  {
   "cell_type": "markdown",
   "id": "520c1985",
   "metadata": {},
   "source": [
    "# LICENSE\n",
    "\n",
    "MIT License\n",
    "\n",
    "Copyright (c) 2019 Max Woolf\n",
    "\n",
    "Permission is hereby granted, free of charge, to any person obtaining a copy of this software and associated documentation files (the \"Software\"), to deal in the Software without restriction, including without limitation the rights to use, copy, modify, merge, publish, distribute, sublicense, and/or sell copies of the Software, and to permit persons to whom the Software is furnished to do so, subject to the following conditions:\n",
    "\n",
    "The above copyright notice and this permission notice shall be included in all copies or substantial portions of the Software.\n",
    "\n",
    "THE SOFTWARE IS PROVIDED \"AS IS\", WITHOUT WARRANTY OF ANY KIND, EXPRESS OR IMPLIED, INCLUDING BUT NOT LIMITED TO THE WARRANTIES OF MERCHANTABILITY, FITNESS FOR A PARTICULAR PURPOSE AND NONINFRINGEMENT. IN NO EVENT SHALL THE AUTHORS OR COPYRIGHT HOLDERS BE LIABLE FOR ANY CLAIM, DAMAGES OR OTHER LIABILITY, WHETHER IN AN ACTION OF CONTRACT, TORT OR OTHERWISE, ARISING FROM, OUT OF OR IN CONNECTION WITH THE SOFTWARE OR THE USE OR OTHER DEALINGS IN THE SOFTWARE."
   ]
  }
 ],
 "metadata": {
  "kernelspec": {
   "display_name": "Python 3 (ipykernel)",
   "language": "python",
   "name": "python3"
  },
  "language_info": {
   "codemirror_mode": {
    "name": "ipython",
    "version": 3
   },
   "file_extension": ".py",
   "mimetype": "text/x-python",
   "name": "python",
   "nbconvert_exporter": "python",
   "pygments_lexer": "ipython3",
   "version": "3.9.12"
  }
 },
 "nbformat": 4,
 "nbformat_minor": 5
}
