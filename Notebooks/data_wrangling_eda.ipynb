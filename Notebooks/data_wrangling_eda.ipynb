{
 "cells": [
  {
   "cell_type": "code",
   "execution_count": 25,
   "id": "0d576d86",
   "metadata": {
    "ExecuteTime": {
     "end_time": "2022-11-14T17:17:00.738103Z",
     "start_time": "2022-11-14T17:17:00.732665Z"
    }
   },
   "outputs": [],
   "source": [
    "#Essentials\n",
    "import pandas as pd\n",
    "import numpy as np\n",
    "import matplotlib.pyplot as plt\n",
    "import seaborn as sns\n",
    "import csv \n",
    "import datetime as dt\n",
    "\n",
    "#For scraping Reddit\n",
    "import praw\n",
    "from psaw import PushshiftAPI\n",
    "\n",
    "#For EDA\n",
    "import re\n",
    "from wordcloud import WordCloud, STOPWORDS\n",
    "from sklearn.feature_extraction.text import TfidfVectorizer, CountVectorizer\n",
    "from sklearn.neighbors import KNeighborsClassifier \n",
    "from sklearn.cluster import KMeans\n",
    "import sklearn.cluster\n",
    "import sklearn.decomposition\n",
    "import matplotlib.colors\n",
    "from textblob import TextBlob\n",
    "from gensim.models import Word2Vec\n",
    "import nltk\n",
    "import nltk.corpus\n",
    "from nltk.corpus import nps_chat, wordnet\n",
    "from nltk import pos_tag\n",
    "from nltk.stem.wordnet import WordNetLemmatizer \n",
    "from nltk.tokenize import word_tokenize\n",
    "from nltk.corpus import stopwords\n",
    "from nltk import NaiveBayesClassifier\n",
    "from nltk import TweetTokenizer\n",
    "import textstat\n",
    "import gensim.corpora as corpora\n",
    "from pprint import pprint\n",
    "import gensim\n",
    "from gensim.utils import simple_preprocess\n",
    "from sklearn.feature_extraction.text import TfidfVectorizer\n",
    "from sklearn.cluster import KMeans\n",
    "from sklearn.metrics import adjusted_rand_score\n",
    "import gensim.corpora as corpora\n",
    "from gensim.corpora.dictionary import Dictionary\n",
    "from gensim.models.coherencemodel import CoherenceModel\n",
    "import pyLDAvis.gensim_models\n",
    "import pickle \n",
    "import pyLDAvis\n",
    "import pyLDAvis.gensim_models as gensimvis\n",
    "import os\n",
    "import emot\n",
    "import demoji\n",
    "import contractions\n",
    "from spellchecker import SpellChecker\n",
    "from pprint import pprint"
   ]
  },
  {
   "cell_type": "markdown",
   "id": "3ab47326",
   "metadata": {},
   "source": [
    "# Mental Heatlh"
   ]
  },
  {
   "cell_type": "code",
   "execution_count": 2,
   "id": "b8743a3f",
   "metadata": {
    "ExecuteTime": {
     "end_time": "2022-09-18T21:22:53.185730Z",
     "start_time": "2022-09-18T20:58:04.726804Z"
    }
   },
   "outputs": [
    {
     "name": "stderr",
     "output_type": "stream",
     "text": [
      "C:\\Users\\Julia\\anaconda3\\lib\\site-packages\\psaw\\PushshiftAPI.py:252: UserWarning: Not all PushShift shards are active. Query results may be incomplete\n",
      "  warnings.warn(shards_down_message)\n",
      "C:\\Users\\Julia\\anaconda3\\lib\\site-packages\\psaw\\PushshiftAPI.py:192: UserWarning: Got non 200 code 429\n",
      "  warnings.warn(\"Got non 200 code %s\" % response.status_code)\n",
      "C:\\Users\\Julia\\anaconda3\\lib\\site-packages\\psaw\\PushshiftAPI.py:180: UserWarning: Unable to connect to pushshift.io. Retrying after backoff.\n",
      "  warnings.warn(\"Unable to connect to pushshift.io. Retrying after backoff.\")\n"
     ]
    }
   ],
   "source": [
    "#Thanks to dmarx for the clear code on pulling from PSAW! PSAW docs are surprisingly unclear.\n",
    "#https://github.com/dmarx/psaw\n",
    "api = PushshiftAPI()\n",
    "\n",
    "#Start date we're beginning to pull posts from\n",
    "start_epoch=int(dt.datetime(2010, 1, 1).timestamp())\n",
    "\n",
    "\n",
    "#Pulling submissions from mentalhealth (both the title and body of a post)\n",
    "gen_subMH = list(api.search_submissions(after=start_epoch,\n",
    "                            subreddit='mentalhealth',\n",
    "                            filter=['title', 'id','score','link_flair_text','selftext'],\n",
    "                            limit=1000000))\n",
    "\n",
    "#Converting to dataframe\n",
    "MHsub = pd.DataFrame([thing.d_ for thing in gen_subMH])"
   ]
  },
  {
   "cell_type": "code",
   "execution_count": 3,
   "id": "165cca7a",
   "metadata": {
    "ExecuteTime": {
     "end_time": "2022-09-18T21:23:10.418189Z",
     "start_time": "2022-09-18T21:22:53.194738Z"
    }
   },
   "outputs": [],
   "source": [
    "# Save the DataFrame 'MHsub' to a CSV file,\n",
    "# while excluding the index column from the CSV output.\n",
    "MHsub.to_csv('../Data/MHsub.csv',index=False)"
   ]
  },
  {
   "cell_type": "code",
   "execution_count": 4,
   "id": "785a786b",
   "metadata": {
    "ExecuteTime": {
     "end_time": "2022-09-18T22:57:14.543957Z",
     "start_time": "2022-09-18T21:23:10.427171Z"
    },
    "scrolled": true
   },
   "outputs": [
    {
     "name": "stderr",
     "output_type": "stream",
     "text": [
      "C:\\Users\\Julia\\anaconda3\\lib\\site-packages\\psaw\\PushshiftAPI.py:252: UserWarning: Not all PushShift shards are active. Query results may be incomplete\n",
      "  warnings.warn(shards_down_message)\n",
      "C:\\Users\\Julia\\anaconda3\\lib\\site-packages\\psaw\\PushshiftAPI.py:192: UserWarning: Got non 200 code 429\n",
      "  warnings.warn(\"Got non 200 code %s\" % response.status_code)\n",
      "C:\\Users\\Julia\\anaconda3\\lib\\site-packages\\psaw\\PushshiftAPI.py:180: UserWarning: Unable to connect to pushshift.io. Retrying after backoff.\n",
      "  warnings.warn(\"Unable to connect to pushshift.io. Retrying after backoff.\")\n"
     ]
    }
   ],
   "source": [
    "#Pulling comments from mental health subreddit\n",
    "gen_comMH = api.search_comments(after=start_epoch, \n",
    "                            subreddit='mentalhealth',\n",
    "                            filter=['body', 'link_id', 'id', 'score','submission'],\n",
    "                            #link_id = new_idsMH,\n",
    "                            limit=35000000)\n",
    "\n",
    "MHcom = pd.DataFrame([thing.d_ for thing in gen_comMH])"
   ]
  },
  {
   "cell_type": "code",
   "execution_count": 5,
   "id": "5fe48b92",
   "metadata": {
    "ExecuteTime": {
     "end_time": "2022-09-18T22:57:38.572099Z",
     "start_time": "2022-09-18T22:57:14.631323Z"
    }
   },
   "outputs": [],
   "source": [
    "# Save the DataFrame 'MHcom' to a CSV file,\n",
    "# while excluding the index column from the CSV output.\n",
    "MHcom.to_csv('../Data/MHcom.csv',index=False)"
   ]
  },
  {
   "cell_type": "markdown",
   "id": "f1fc2750",
   "metadata": {},
   "source": [
    "# Mental Illness subreddit"
   ]
  },
  {
   "cell_type": "code",
   "execution_count": 6,
   "id": "a1e7409c",
   "metadata": {
    "ExecuteTime": {
     "end_time": "2022-09-18T23:03:13.668402Z",
     "start_time": "2022-09-18T22:57:38.577089Z"
    }
   },
   "outputs": [
    {
     "name": "stderr",
     "output_type": "stream",
     "text": [
      "C:\\Users\\Julia\\anaconda3\\lib\\site-packages\\psaw\\PushshiftAPI.py:252: UserWarning: Not all PushShift shards are active. Query results may be incomplete\n",
      "  warnings.warn(shards_down_message)\n",
      "C:\\Users\\Julia\\anaconda3\\lib\\site-packages\\psaw\\PushshiftAPI.py:192: UserWarning: Got non 200 code 429\n",
      "  warnings.warn(\"Got non 200 code %s\" % response.status_code)\n",
      "C:\\Users\\Julia\\anaconda3\\lib\\site-packages\\psaw\\PushshiftAPI.py:180: UserWarning: Unable to connect to pushshift.io. Retrying after backoff.\n",
      "  warnings.warn(\"Unable to connect to pushshift.io. Retrying after backoff.\")\n"
     ]
    }
   ],
   "source": [
    "# Fetching mental illness-related submissions from Reddit using PRAW (Python Reddit API Wrapper),\n",
    "gen_subMI = list(api.search_submissions(after=start_epoch,\n",
    "                            subreddit='mentalillness',\n",
    "                            filter=['title', 'id','score','link_flair_text','selftext'],\n",
    "                            limit=1000000))\n",
    "\n",
    "#Converting to dataframe\n",
    "MIsub = pd.DataFrame([thing.d_ for thing in gen_subMI])"
   ]
  },
  {
   "cell_type": "code",
   "execution_count": 7,
   "id": "1b273d75",
   "metadata": {
    "ExecuteTime": {
     "end_time": "2022-09-18T23:03:15.239888Z",
     "start_time": "2022-09-18T23:03:13.681411Z"
    }
   },
   "outputs": [],
   "source": [
    "# Save the DataFrame 'MIsub' to a CSV file,\n",
    "# while excluding the index column from the CSV output.\n",
    "MIsub.to_csv('../Data/MIsub.csv',index=False)"
   ]
  },
  {
   "cell_type": "code",
   "execution_count": 8,
   "id": "987ecd65",
   "metadata": {
    "ExecuteTime": {
     "end_time": "2022-09-18T23:16:27.896527Z",
     "start_time": "2022-09-18T23:03:15.242882Z"
    }
   },
   "outputs": [
    {
     "name": "stderr",
     "output_type": "stream",
     "text": [
      "C:\\Users\\Julia\\anaconda3\\lib\\site-packages\\psaw\\PushshiftAPI.py:252: UserWarning: Not all PushShift shards are active. Query results may be incomplete\n",
      "  warnings.warn(shards_down_message)\n",
      "C:\\Users\\Julia\\anaconda3\\lib\\site-packages\\psaw\\PushshiftAPI.py:192: UserWarning: Got non 200 code 429\n",
      "  warnings.warn(\"Got non 200 code %s\" % response.status_code)\n",
      "C:\\Users\\Julia\\anaconda3\\lib\\site-packages\\psaw\\PushshiftAPI.py:180: UserWarning: Unable to connect to pushshift.io. Retrying after backoff.\n",
      "  warnings.warn(\"Unable to connect to pushshift.io. Retrying after backoff.\")\n"
     ]
    }
   ],
   "source": [
    "# Fetching mental illness-related comments from Reddit using PRAW (Python Reddit API Wrapper),\n",
    "gen_comMI = api.search_comments(after=start_epoch, \n",
    "                            subreddit='mentalillness',\n",
    "                            filter=['body', 'link_id', 'id', 'score','submission'],\n",
    "                            #link_id = new_MIids,\n",
    "                            limit=35000000)\n",
    "#Converting to dataframe\n",
    "MIcom = pd.DataFrame([thing.d_ for thing in gen_comMI])"
   ]
  },
  {
   "cell_type": "code",
   "execution_count": 9,
   "id": "db0e0541",
   "metadata": {
    "ExecuteTime": {
     "end_time": "2022-09-18T23:16:30.448626Z",
     "start_time": "2022-09-18T23:16:27.951685Z"
    },
    "scrolled": true
   },
   "outputs": [],
   "source": [
    "# Save the DataFrame 'MIcom' to a CSV file,\n",
    "# while excluding the index column from the CSV output.\n",
    "MIcom.to_csv('../Data/MIcom.csv',index=False)"
   ]
  },
  {
   "cell_type": "markdown",
   "id": "e1351904",
   "metadata": {},
   "source": [
    "# Loading the data"
   ]
  },
  {
   "cell_type": "code",
   "execution_count": 2,
   "id": "7ede4b08",
   "metadata": {
    "ExecuteTime": {
     "end_time": "2022-11-09T00:07:32.792634Z",
     "start_time": "2022-11-09T00:07:11.083086Z"
    }
   },
   "outputs": [],
   "source": [
    "# Loading csv files with submissions and comments from 'mnetalhealth' and 'mentalillness' subreddits\n",
    "MHsub = pd.read_csv('../Data/MHsub.csv')\n",
    "MHcom = pd.read_csv('../Data/MHcom.csv')\n",
    "MIsub = pd.read_csv('../Data/MIsub.csv')\n",
    "MIcom = pd.read_csv('../Data/MIcom.csv')"
   ]
  },
  {
   "cell_type": "markdown",
   "id": "af54e452",
   "metadata": {},
   "source": [
    "# Cleaning the data"
   ]
  },
  {
   "cell_type": "markdown",
   "id": "72f1d64b",
   "metadata": {},
   "source": [
    "# We can merge submissions from mentalhealth and mentalillness subreddits"
   ]
  },
  {
   "cell_type": "code",
   "execution_count": null,
   "id": "374ef077",
   "metadata": {},
   "outputs": [],
   "source": [
    "# Concatenating two DataFrames 'MHsub' and 'MIsub' into a single DataFrame 'all_sub',\n",
    "# and resetting the index of the combined DataFrame to ensure a continuous index sequence.\n",
    "all_sub = pd.concat([MHsub, MIsub])\n",
    "all_sub.reset_index(inplace=True, drop=True)"
   ]
  },
  {
   "cell_type": "code",
   "execution_count": 4,
   "id": "a34df9d5",
   "metadata": {
    "ExecuteTime": {
     "end_time": "2022-11-09T00:07:36.118723Z",
     "start_time": "2022-11-09T00:07:36.066673Z"
    }
   },
   "outputs": [
    {
     "data": {
      "text/html": [
       "<div>\n",
       "<style scoped>\n",
       "    .dataframe tbody tr th:only-of-type {\n",
       "        vertical-align: middle;\n",
       "    }\n",
       "\n",
       "    .dataframe tbody tr th {\n",
       "        vertical-align: top;\n",
       "    }\n",
       "\n",
       "    .dataframe thead th {\n",
       "        text-align: right;\n",
       "    }\n",
       "</style>\n",
       "<table border=\"1\" class=\"dataframe\">\n",
       "  <thead>\n",
       "    <tr style=\"text-align: right;\">\n",
       "      <th></th>\n",
       "      <th>created_utc</th>\n",
       "      <th>id</th>\n",
       "      <th>score</th>\n",
       "      <th>selftext</th>\n",
       "      <th>title</th>\n",
       "      <th>created</th>\n",
       "      <th>link_flair_text</th>\n",
       "    </tr>\n",
       "  </thead>\n",
       "  <tbody>\n",
       "    <tr>\n",
       "      <th>0</th>\n",
       "      <td>1663534517</td>\n",
       "      <td>xhrtbf</td>\n",
       "      <td>1</td>\n",
       "      <td>I don’t entirely want to reach out to people h...</td>\n",
       "      <td>How do I stop villainizing myself.</td>\n",
       "      <td>1.663549e+09</td>\n",
       "      <td>NaN</td>\n",
       "    </tr>\n",
       "    <tr>\n",
       "      <th>1</th>\n",
       "      <td>1663534244</td>\n",
       "      <td>xhrpbh</td>\n",
       "      <td>1</td>\n",
       "      <td>I suffer from anxiety attacks regularly, usual...</td>\n",
       "      <td>is this a panic attack or something else?</td>\n",
       "      <td>1.663549e+09</td>\n",
       "      <td>NaN</td>\n",
       "    </tr>\n",
       "    <tr>\n",
       "      <th>2</th>\n",
       "      <td>1663533992</td>\n",
       "      <td>xhrlh6</td>\n",
       "      <td>1</td>\n",
       "      <td>I've been having these thoughts lately like\\n\\...</td>\n",
       "      <td>do you ever feel like not being alive anymore</td>\n",
       "      <td>1.663548e+09</td>\n",
       "      <td>NaN</td>\n",
       "    </tr>\n",
       "    <tr>\n",
       "      <th>3</th>\n",
       "      <td>1663533274</td>\n",
       "      <td>xhrats</td>\n",
       "      <td>1</td>\n",
       "      <td>For some miraculous reason, I got a girlfriend...</td>\n",
       "      <td>Being normal</td>\n",
       "      <td>1.663548e+09</td>\n",
       "      <td>Opinion / Thoughts</td>\n",
       "    </tr>\n",
       "    <tr>\n",
       "      <th>4</th>\n",
       "      <td>1663533255</td>\n",
       "      <td>xhrajv</td>\n",
       "      <td>1</td>\n",
       "      <td>I've been going through a hard time lately and...</td>\n",
       "      <td>why do depressed people shave their heads</td>\n",
       "      <td>1.663548e+09</td>\n",
       "      <td>NaN</td>\n",
       "    </tr>\n",
       "    <tr>\n",
       "      <th>...</th>\n",
       "      <td>...</td>\n",
       "      <td>...</td>\n",
       "      <td>...</td>\n",
       "      <td>...</td>\n",
       "      <td>...</td>\n",
       "      <td>...</td>\n",
       "      <td>...</td>\n",
       "    </tr>\n",
       "    <tr>\n",
       "      <th>415285</th>\n",
       "      <td>1353891546</td>\n",
       "      <td>13sbe9</td>\n",
       "      <td>1</td>\n",
       "      <td>NaN</td>\n",
       "      <td>I look again to make sure so one is near me an...</td>\n",
       "      <td>1.353906e+09</td>\n",
       "      <td>NaN</td>\n",
       "    </tr>\n",
       "    <tr>\n",
       "      <th>415286</th>\n",
       "      <td>1348724331</td>\n",
       "      <td>10juc6</td>\n",
       "      <td>1</td>\n",
       "      <td>NaN</td>\n",
       "      <td>NAMI | Peer-to-Peer is a unique, experiential ...</td>\n",
       "      <td>1.348739e+09</td>\n",
       "      <td>NaN</td>\n",
       "    </tr>\n",
       "    <tr>\n",
       "      <th>415287</th>\n",
       "      <td>1344639905</td>\n",
       "      <td>y0sqy</td>\n",
       "      <td>0</td>\n",
       "      <td>AMA</td>\n",
       "      <td>I am rooster illusion</td>\n",
       "      <td>1.344654e+09</td>\n",
       "      <td>NaN</td>\n",
       "    </tr>\n",
       "    <tr>\n",
       "      <th>415288</th>\n",
       "      <td>1321506737</td>\n",
       "      <td>mfckr</td>\n",
       "      <td>1</td>\n",
       "      <td>so i have a lot of random impluses. crazy shit...</td>\n",
       "      <td>crazy motherfucker</td>\n",
       "      <td>1.321521e+09</td>\n",
       "      <td>NaN</td>\n",
       "    </tr>\n",
       "    <tr>\n",
       "      <th>415289</th>\n",
       "      <td>1319162763</td>\n",
       "      <td>ljftm</td>\n",
       "      <td>1</td>\n",
       "      <td>NaN</td>\n",
       "      <td>Do you love someone who has a mental illness?</td>\n",
       "      <td>1.319177e+09</td>\n",
       "      <td>NaN</td>\n",
       "    </tr>\n",
       "  </tbody>\n",
       "</table>\n",
       "<p>415290 rows × 7 columns</p>\n",
       "</div>"
      ],
      "text/plain": [
       "        created_utc      id  score  \\\n",
       "0        1663534517  xhrtbf      1   \n",
       "1        1663534244  xhrpbh      1   \n",
       "2        1663533992  xhrlh6      1   \n",
       "3        1663533274  xhrats      1   \n",
       "4        1663533255  xhrajv      1   \n",
       "...             ...     ...    ...   \n",
       "415285   1353891546  13sbe9      1   \n",
       "415286   1348724331  10juc6      1   \n",
       "415287   1344639905   y0sqy      0   \n",
       "415288   1321506737   mfckr      1   \n",
       "415289   1319162763   ljftm      1   \n",
       "\n",
       "                                                 selftext  \\\n",
       "0       I don’t entirely want to reach out to people h...   \n",
       "1       I suffer from anxiety attacks regularly, usual...   \n",
       "2       I've been having these thoughts lately like\\n\\...   \n",
       "3       For some miraculous reason, I got a girlfriend...   \n",
       "4       I've been going through a hard time lately and...   \n",
       "...                                                   ...   \n",
       "415285                                                NaN   \n",
       "415286                                                NaN   \n",
       "415287                                                AMA   \n",
       "415288  so i have a lot of random impluses. crazy shit...   \n",
       "415289                                                NaN   \n",
       "\n",
       "                                                    title       created  \\\n",
       "0                      How do I stop villainizing myself.  1.663549e+09   \n",
       "1               is this a panic attack or something else?  1.663549e+09   \n",
       "2           do you ever feel like not being alive anymore  1.663548e+09   \n",
       "3                                            Being normal  1.663548e+09   \n",
       "4               why do depressed people shave their heads  1.663548e+09   \n",
       "...                                                   ...           ...   \n",
       "415285  I look again to make sure so one is near me an...  1.353906e+09   \n",
       "415286  NAMI | Peer-to-Peer is a unique, experiential ...  1.348739e+09   \n",
       "415287                              I am rooster illusion  1.344654e+09   \n",
       "415288                                 crazy motherfucker  1.321521e+09   \n",
       "415289      Do you love someone who has a mental illness?  1.319177e+09   \n",
       "\n",
       "           link_flair_text  \n",
       "0                      NaN  \n",
       "1                      NaN  \n",
       "2                      NaN  \n",
       "3       Opinion / Thoughts  \n",
       "4                      NaN  \n",
       "...                    ...  \n",
       "415285                 NaN  \n",
       "415286                 NaN  \n",
       "415287                 NaN  \n",
       "415288                 NaN  \n",
       "415289                 NaN  \n",
       "\n",
       "[415290 rows x 7 columns]"
      ]
     },
     "execution_count": 4,
     "metadata": {},
     "output_type": "execute_result"
    }
   ],
   "source": [
    "all_sub"
   ]
  },
  {
   "cell_type": "code",
   "execution_count": null,
   "id": "f0a4fb39",
   "metadata": {},
   "outputs": [],
   "source": [
    "# Converting the 'created' column in the DataFrame 'all_sub' to a pandas DateTime format.\n",
    "# The 'created' column contains timestamps in seconds, so 'pd.to_datetime' is used with 'unit='s''\n",
    "# to convert the timestamps to datetime objects.\n",
    "all_sub['created'] = pd.to_datetime(all_sub['created'], unit='s')"
   ]
  },
  {
   "cell_type": "code",
   "execution_count": null,
   "id": "06e5e426",
   "metadata": {},
   "outputs": [],
   "source": [
    "# Removing unnecessary columns from the DataFrame 'all_sub'.\n",
    "all_sub = all_sub.drop(columns=['created_utc', 'score', 'link_flair_text'])"
   ]
  },
  {
   "cell_type": "code",
   "execution_count": 7,
   "id": "768aa24b",
   "metadata": {
    "ExecuteTime": {
     "end_time": "2022-11-09T00:07:43.414336Z",
     "start_time": "2022-11-09T00:07:43.241196Z"
    }
   },
   "outputs": [],
   "source": [
    "# Renaming 'selftext' column\n",
    "all_sub = all_sub.rename(columns={'selftext': 'post_body'})"
   ]
  },
  {
   "cell_type": "code",
   "execution_count": 8,
   "id": "89a5aabd",
   "metadata": {
    "ExecuteTime": {
     "end_time": "2022-11-09T00:07:47.066205Z",
     "start_time": "2022-11-09T00:07:44.818595Z"
    }
   },
   "outputs": [],
   "source": [
    "# Making the title & post_body lowercase for future processing\n",
    "all_sub['post_body'] = all_sub['post_body'].astype(str)\n",
    "all_sub['title'] = all_sub['title'].astype(str)\n",
    "all_sub['title'] = all_sub['title'].apply(lambda x: x.lower())\n",
    "all_sub['post_body'] = all_sub['post_body'].apply(lambda x: x.lower())"
   ]
  },
  {
   "cell_type": "markdown",
   "id": "a9cb5a0f",
   "metadata": {
    "ExecuteTime": {
     "end_time": "2022-10-06T19:17:39.840703Z",
     "start_time": "2022-10-06T19:17:39.824705Z"
    }
   },
   "source": [
    "# Merging two dataframes with comments"
   ]
  },
  {
   "cell_type": "code",
   "execution_count": 9,
   "id": "06ad8704",
   "metadata": {
    "ExecuteTime": {
     "end_time": "2022-11-09T00:07:48.508871Z",
     "start_time": "2022-11-09T00:07:48.170591Z"
    }
   },
   "outputs": [],
   "source": [
    "# Concatenating two DataFrames 'MHcom' and 'MIcom' into a single DataFrame 'all_sub'\n",
    "all_com = pd.concat([MHcom,MIcom])"
   ]
  },
  {
   "cell_type": "code",
   "execution_count": 10,
   "id": "5eeecdbd",
   "metadata": {
    "ExecuteTime": {
     "end_time": "2022-11-09T00:07:49.589204Z",
     "start_time": "2022-11-09T00:07:49.572192Z"
    }
   },
   "outputs": [
    {
     "data": {
      "text/html": [
       "<div>\n",
       "<style scoped>\n",
       "    .dataframe tbody tr th:only-of-type {\n",
       "        vertical-align: middle;\n",
       "    }\n",
       "\n",
       "    .dataframe tbody tr th {\n",
       "        vertical-align: top;\n",
       "    }\n",
       "\n",
       "    .dataframe thead th {\n",
       "        text-align: right;\n",
       "    }\n",
       "</style>\n",
       "<table border=\"1\" class=\"dataframe\">\n",
       "  <thead>\n",
       "    <tr style=\"text-align: right;\">\n",
       "      <th></th>\n",
       "      <th>body</th>\n",
       "      <th>created_utc</th>\n",
       "      <th>id</th>\n",
       "      <th>link_id</th>\n",
       "      <th>score</th>\n",
       "      <th>created</th>\n",
       "    </tr>\n",
       "  </thead>\n",
       "  <tbody>\n",
       "    <tr>\n",
       "      <th>0</th>\n",
       "      <td>[removed]</td>\n",
       "      <td>1663536087</td>\n",
       "      <td>iozbxkr</td>\n",
       "      <td>t3_xhsag5</td>\n",
       "      <td>1</td>\n",
       "      <td>1.663550e+09</td>\n",
       "    </tr>\n",
       "    <tr>\n",
       "      <th>1</th>\n",
       "      <td>Bro it seems you may actually delusional no ju...</td>\n",
       "      <td>1663536013</td>\n",
       "      <td>iozbqlk</td>\n",
       "      <td>t3_xhsag5</td>\n",
       "      <td>1</td>\n",
       "      <td>1.663550e+09</td>\n",
       "    </tr>\n",
       "    <tr>\n",
       "      <th>2</th>\n",
       "      <td>Thank you for for sharing. A reminder: if you ...</td>\n",
       "      <td>1663535972</td>\n",
       "      <td>iozbmub</td>\n",
       "      <td>t3_xhsf3f</td>\n",
       "      <td>1</td>\n",
       "      <td>1.663550e+09</td>\n",
       "    </tr>\n",
       "    <tr>\n",
       "      <th>3</th>\n",
       "      <td>Thanks</td>\n",
       "      <td>1663535958</td>\n",
       "      <td>iozbljf</td>\n",
       "      <td>t3_xhkzmw</td>\n",
       "      <td>1</td>\n",
       "      <td>1.663550e+09</td>\n",
       "    </tr>\n",
       "    <tr>\n",
       "      <th>4</th>\n",
       "      <td>I definitely have body image issues and I’m th...</td>\n",
       "      <td>1663535919</td>\n",
       "      <td>iozbi1l</td>\n",
       "      <td>t3_xhkzmw</td>\n",
       "      <td>1</td>\n",
       "      <td>1.663550e+09</td>\n",
       "    </tr>\n",
       "    <tr>\n",
       "      <th>...</th>\n",
       "      <td>...</td>\n",
       "      <td>...</td>\n",
       "      <td>...</td>\n",
       "      <td>...</td>\n",
       "      <td>...</td>\n",
       "      <td>...</td>\n",
       "    </tr>\n",
       "    <tr>\n",
       "      <th>195872</th>\n",
       "      <td>This further stigmatizes mental illness. It do...</td>\n",
       "      <td>1388387508</td>\n",
       "      <td>ced74e0</td>\n",
       "      <td>t3_1r79dm</td>\n",
       "      <td>3</td>\n",
       "      <td>1.388402e+09</td>\n",
       "    </tr>\n",
       "    <tr>\n",
       "      <th>195873</th>\n",
       "      <td>I hear ya. Sister suffers from bi-polar and mi...</td>\n",
       "      <td>1388367327</td>\n",
       "      <td>cecz8pw</td>\n",
       "      <td>t3_1qbx9v</td>\n",
       "      <td>2</td>\n",
       "      <td>1.388382e+09</td>\n",
       "    </tr>\n",
       "    <tr>\n",
       "      <th>195874</th>\n",
       "      <td>If i have to read another overwrought analogy ...</td>\n",
       "      <td>1387557036</td>\n",
       "      <td>ce6e980</td>\n",
       "      <td>t3_1r79dm</td>\n",
       "      <td>2</td>\n",
       "      <td>1.387571e+09</td>\n",
       "    </tr>\n",
       "    <tr>\n",
       "      <th>195875</th>\n",
       "      <td>Ugh, that's atrocious.  Just because I can't w...</td>\n",
       "      <td>1385376904</td>\n",
       "      <td>cdmivce</td>\n",
       "      <td>t3_1r79dm</td>\n",
       "      <td>7</td>\n",
       "      <td>1.385391e+09</td>\n",
       "    </tr>\n",
       "    <tr>\n",
       "      <th>195876</th>\n",
       "      <td>Best quote from the interview: Are you telling...</td>\n",
       "      <td>1370800725</td>\n",
       "      <td>cafcjn9</td>\n",
       "      <td>t3_1fzphf</td>\n",
       "      <td>1</td>\n",
       "      <td>1.370815e+09</td>\n",
       "    </tr>\n",
       "  </tbody>\n",
       "</table>\n",
       "<p>1556846 rows × 6 columns</p>\n",
       "</div>"
      ],
      "text/plain": [
       "                                                     body  created_utc  \\\n",
       "0                                               [removed]   1663536087   \n",
       "1       Bro it seems you may actually delusional no ju...   1663536013   \n",
       "2       Thank you for for sharing. A reminder: if you ...   1663535972   \n",
       "3                                                  Thanks   1663535958   \n",
       "4       I definitely have body image issues and I’m th...   1663535919   \n",
       "...                                                   ...          ...   \n",
       "195872  This further stigmatizes mental illness. It do...   1388387508   \n",
       "195873  I hear ya. Sister suffers from bi-polar and mi...   1388367327   \n",
       "195874  If i have to read another overwrought analogy ...   1387557036   \n",
       "195875  Ugh, that's atrocious.  Just because I can't w...   1385376904   \n",
       "195876  Best quote from the interview: Are you telling...   1370800725   \n",
       "\n",
       "             id    link_id  score       created  \n",
       "0       iozbxkr  t3_xhsag5      1  1.663550e+09  \n",
       "1       iozbqlk  t3_xhsag5      1  1.663550e+09  \n",
       "2       iozbmub  t3_xhsf3f      1  1.663550e+09  \n",
       "3       iozbljf  t3_xhkzmw      1  1.663550e+09  \n",
       "4       iozbi1l  t3_xhkzmw      1  1.663550e+09  \n",
       "...         ...        ...    ...           ...  \n",
       "195872  ced74e0  t3_1r79dm      3  1.388402e+09  \n",
       "195873  cecz8pw  t3_1qbx9v      2  1.388382e+09  \n",
       "195874  ce6e980  t3_1r79dm      2  1.387571e+09  \n",
       "195875  cdmivce  t3_1r79dm      7  1.385391e+09  \n",
       "195876  cafcjn9  t3_1fzphf      1  1.370815e+09  \n",
       "\n",
       "[1556846 rows x 6 columns]"
      ]
     },
     "execution_count": 10,
     "metadata": {},
     "output_type": "execute_result"
    }
   ],
   "source": [
    "all_com"
   ]
  },
  {
   "cell_type": "code",
   "execution_count": 11,
   "id": "f4d2c133",
   "metadata": {
    "ExecuteTime": {
     "end_time": "2022-11-09T00:07:53.622473Z",
     "start_time": "2022-11-09T00:07:53.314940Z"
    }
   },
   "outputs": [],
   "source": [
    "# Converting the 'body' column in the DataFrame 'all_com' to a string data type.\n",
    "all_com['body'] = all_com['body'].astype('string')"
   ]
  },
  {
   "cell_type": "code",
   "execution_count": 239,
   "id": "fb0a8f52",
   "metadata": {
    "ExecuteTime": {
     "end_time": "2022-10-06T19:21:21.877262Z",
     "start_time": "2022-10-06T19:21:18.719402Z"
    }
   },
   "outputs": [],
   "source": [
    "# Removing all duplicate comments which mostly include automatic replies from bots or [removed] and [deleted] comments\n",
    "all_com = all_com[~all_com.body.duplicated(keep=False)].reset_index(drop=True)"
   ]
  },
  {
   "cell_type": "code",
   "execution_count": 241,
   "id": "5dd9027d",
   "metadata": {
    "ExecuteTime": {
     "end_time": "2022-10-06T19:22:36.240552Z",
     "start_time": "2022-10-06T19:22:29.533763Z"
    }
   },
   "outputs": [],
   "source": [
    "# List of indexes of all comments that have only one word.\n",
    "one_word = list(all_com[[len(i.split())==1 for i in all_com['body'].values]].index)\n",
    "# Dropping all the comments that have one word only\n",
    "all_com = all_com.drop(index=one_word).reset_index(drop=True)"
   ]
  },
  {
   "cell_type": "code",
   "execution_count": 243,
   "id": "84e61b57",
   "metadata": {
    "ExecuteTime": {
     "end_time": "2022-10-06T19:23:12.453162Z",
     "start_time": "2022-10-06T19:23:09.260837Z"
    }
   },
   "outputs": [],
   "source": [
    "# Grouping all comments with the same link_id (i.e. beloning to the same submission)\n",
    "all_com = pd.DataFrame(all_com.groupby('link_id')['body'].sum()).reset_index(level=0)"
   ]
  },
  {
   "cell_type": "code",
   "execution_count": 244,
   "id": "7f1c6380",
   "metadata": {
    "ExecuteTime": {
     "end_time": "2022-10-06T19:24:15.570779Z",
     "start_time": "2022-10-06T19:24:15.393653Z"
    }
   },
   "outputs": [],
   "source": [
    "# Removing 't3_' from link_id to find a match in dataframe withs submissions\n",
    "all_com['link_id'] = all_com.link_id.map(lambda x: x.strip(\"t3_\"))\n",
    "all_com.rename(columns={'link_id':'id'},inplace=True)"
   ]
  },
  {
   "cell_type": "code",
   "execution_count": 252,
   "id": "013f849a",
   "metadata": {
    "ExecuteTime": {
     "end_time": "2022-10-06T19:28:14.888935Z",
     "start_time": "2022-10-06T19:28:08.266168Z"
    }
   },
   "outputs": [],
   "source": [
    "# Merging submissions and comments on their id\n",
    "all_data = pd.merge(all_sub,all_com,how='left',on=['id'])"
   ]
  },
  {
   "cell_type": "code",
   "execution_count": 255,
   "id": "fb4fab76",
   "metadata": {
    "ExecuteTime": {
     "end_time": "2022-10-06T19:29:30.000502Z",
     "start_time": "2022-10-06T19:29:29.780334Z"
    }
   },
   "outputs": [],
   "source": [
    "# Dropping submissions that have missing text\n",
    "all_data = all_data[all_data['body'] != '<NA>'].reset_index(drop=True)"
   ]
  },
  {
   "cell_type": "code",
   "execution_count": 257,
   "id": "ee6add00",
   "metadata": {
    "ExecuteTime": {
     "end_time": "2022-10-06T19:30:36.689200Z",
     "start_time": "2022-10-06T19:30:36.665196Z"
    }
   },
   "outputs": [
    {
     "data": {
      "text/html": [
       "<div>\n",
       "<style scoped>\n",
       "    .dataframe tbody tr th:only-of-type {\n",
       "        vertical-align: middle;\n",
       "    }\n",
       "\n",
       "    .dataframe tbody tr th {\n",
       "        vertical-align: top;\n",
       "    }\n",
       "\n",
       "    .dataframe thead th {\n",
       "        text-align: right;\n",
       "    }\n",
       "</style>\n",
       "<table border=\"1\" class=\"dataframe\">\n",
       "  <thead>\n",
       "    <tr style=\"text-align: right;\">\n",
       "      <th></th>\n",
       "      <th>id</th>\n",
       "      <th>post_body</th>\n",
       "      <th>title</th>\n",
       "      <th>created</th>\n",
       "      <th>comment_body</th>\n",
       "    </tr>\n",
       "  </thead>\n",
       "  <tbody>\n",
       "    <tr>\n",
       "      <th>0</th>\n",
       "      <td>xhrlh6</td>\n",
       "      <td>i've been having these thoughts lately like\\n\\...</td>\n",
       "      <td>do you ever feel like not being alive anymore</td>\n",
       "      <td>2022-09-19 00:46:32</td>\n",
       "      <td>As for anchors My only anchor is I need to be ...</td>\n",
       "    </tr>\n",
       "    <tr>\n",
       "      <th>1</th>\n",
       "      <td>xhrajv</td>\n",
       "      <td>i've been going through a hard time lately and...</td>\n",
       "      <td>why do depressed people shave their heads</td>\n",
       "      <td>2022-09-19 00:34:15</td>\n",
       "      <td>I don’t know because I never had the urge but ...</td>\n",
       "    </tr>\n",
       "    <tr>\n",
       "      <th>2</th>\n",
       "      <td>xhr49p</td>\n",
       "      <td>idk why but every now and then i'll just get t...</td>\n",
       "      <td>random urge to kill people</td>\n",
       "      <td>2022-09-19 00:27:15</td>\n",
       "      <td>You are a coward that can't handle the fact th...</td>\n",
       "    </tr>\n",
       "    <tr>\n",
       "      <th>3</th>\n",
       "      <td>xhq4pa</td>\n",
       "      <td>i have ocd that gives me intrusive thoughts ab...</td>\n",
       "      <td>need a therapist that specializes in concernin...</td>\n",
       "      <td>2022-09-18 23:46:40</td>\n",
       "      <td>Unless there is an actual crime or abuse to re...</td>\n",
       "    </tr>\n",
       "    <tr>\n",
       "      <th>4</th>\n",
       "      <td>xhpsmb</td>\n",
       "      <td>i have no friends, i don't like my family at a...</td>\n",
       "      <td>17m i think i should end my life early</td>\n",
       "      <td>2022-09-18 23:33:01</td>\n",
       "      <td>Aye yes, I know when I get depressed I sit in ...</td>\n",
       "    </tr>\n",
       "  </tbody>\n",
       "</table>\n",
       "</div>"
      ],
      "text/plain": [
       "       id                                          post_body  \\\n",
       "0  xhrlh6  i've been having these thoughts lately like\\n\\...   \n",
       "1  xhrajv  i've been going through a hard time lately and...   \n",
       "2  xhr49p  idk why but every now and then i'll just get t...   \n",
       "3  xhq4pa  i have ocd that gives me intrusive thoughts ab...   \n",
       "4  xhpsmb  i have no friends, i don't like my family at a...   \n",
       "\n",
       "                                               title             created  \\\n",
       "0      do you ever feel like not being alive anymore 2022-09-19 00:46:32   \n",
       "1          why do depressed people shave their heads 2022-09-19 00:34:15   \n",
       "2                         random urge to kill people 2022-09-19 00:27:15   \n",
       "3  need a therapist that specializes in concernin... 2022-09-18 23:46:40   \n",
       "4             17m i think i should end my life early 2022-09-18 23:33:01   \n",
       "\n",
       "                                        comment_body  \n",
       "0  As for anchors My only anchor is I need to be ...  \n",
       "1  I don’t know because I never had the urge but ...  \n",
       "2  You are a coward that can't handle the fact th...  \n",
       "3  Unless there is an actual crime or abuse to re...  \n",
       "4  Aye yes, I know when I get depressed I sit in ...  "
      ]
     },
     "execution_count": 257,
     "metadata": {},
     "output_type": "execute_result"
    }
   ],
   "source": [
    "# Renaming 'body' column to be more self-explanatory\n",
    "all_data.rename(columns = {'body':'comment_body'},inplace=True)\n",
    "all_data.head()"
   ]
  },
  {
   "cell_type": "markdown",
   "id": "98a7b201",
   "metadata": {},
   "source": [
    "# Since we're only interested in submissions that have a question, we will need to analyze all the titles of submission and check if they are questions of not"
   ]
  },
  {
   "cell_type": "code",
   "execution_count": null,
   "id": "d25815d7",
   "metadata": {},
   "outputs": [],
   "source": [
    "# List of common question words and phrases.\n",
    "question_words = [\"what\", \"why\", \"when\", \"where\", \"name\", \"is\", \"how\", \"do\", \"does\",\n",
    "                  \"which\", \"are\", \"could\", \"would\", \"should\", \"has\", \"have\", \"whom\",\n",
    "                  \"whose\", \"don't\", 'am', 'can', \"do i\", \"do you\", \"what\", \"who\", \"is it\",\n",
    "                  \"why\", \"would you\", \"how\", \"is there\", \"are there\", \"is it so\", \"is this true\",\n",
    "                  \"to know\", \"is that true\", \"are we\", \"am i\", \"question is\", \"tell me more\",\n",
    "                  \"can i\", \"can we\", \"tell me\", \"can you explain\", \"didn't\", \"doesn't\", \"haven't\",\n",
    "                  \"isn't\", \"aren't\", \"can't\", \"couldn't\", \"wouldn't\", \"won't\", \"shouldn't\"]\n",
    "\n",
    "# Function to check if a given text might represent a question based on the starting word.\n",
    "# The function converts the text to lowercase, tokenizes it, and checks if the first word\n",
    "# appears in the list of question_words. If it does, the function returns True; otherwise, it returns False.\n",
    "def is_question(text):\n",
    "    question = text.lower()\n",
    "    question = word_tokenize(question)\n",
    "    if any(x in question[0] for x in question_words):\n",
    "        res = True\n",
    "    else:\n",
    "        res = False\n",
    "    return res\n"
   ]
  },
  {
   "cell_type": "code",
   "execution_count": 261,
   "id": "01d04739",
   "metadata": {
    "ExecuteTime": {
     "end_time": "2022-10-06T19:31:39.937294Z",
     "start_time": "2022-10-06T19:31:16.747578Z"
    }
   },
   "outputs": [],
   "source": [
    "# Applying the above function and creating a new columnm 'question' to output the result of the function\n",
    "all_data['question'] = all_data.title.apply(is_question)"
   ]
  },
  {
   "cell_type": "code",
   "execution_count": 17,
   "id": "afb58d09",
   "metadata": {
    "ExecuteTime": {
     "end_time": "2022-11-09T00:35:59.276168Z",
     "start_time": "2022-11-09T00:35:54.252282Z"
    }
   },
   "outputs": [
    {
     "name": "stdout",
     "output_type": "stream",
     "text": [
      "Accuracy is :  0.6685606060606061\n"
     ]
    }
   ],
   "source": [
    "### adapted from https://github.com/kartikn27/nlp-question-detection/blob/master/method2.py\n",
    "class IsQuestion():\n",
    "    \n",
    "    # Init constructor\n",
    "    def __init__(self):\n",
    "        posts = self.__get_posts()\n",
    "        feature_set = self.__get_feature_set(posts)\n",
    "        self.classifier = self.__perform_classification(feature_set)\n",
    "        \n",
    "    # get_posts\n",
    "    def __get_posts(self):\n",
    "        return nltk.corpus.nps_chat.xml_posts()\n",
    "    \n",
    "    # get_feature_set\n",
    "    def __get_feature_set(self, posts):\n",
    "        feature_list = []\n",
    "        for post in posts:\n",
    "            post_text = post.text            \n",
    "            features = {}\n",
    "            words = nltk.word_tokenize(post_text)\n",
    "            for word in words:\n",
    "                features['contains({})'.format(word.lower())] = True\n",
    "            feature_list.append((features, post.get('class')))\n",
    "        return feature_list\n",
    "    \n",
    "    # perform_classification\n",
    "    def __perform_classification(self, feature_set):\n",
    "        training_size = int(len(feature_set) * 0.1)\n",
    "        train_set, test_set = feature_set[training_size:], feature_set[:training_size]\n",
    "        classifier = nltk.NaiveBayesClassifier.train(train_set)\n",
    "        print('Accuracy is : ', nltk.classify.accuracy(classifier, test_set))\n",
    "        return classifier\n",
    "        \n",
    "    #  get_question_words_set\n",
    "    def __get_question_words_set(self):\n",
    "        question_word_list = ['what', 'where', 'when','how','why','did','do','does','have','has','am','is','are',\n",
    "                              'can','could','may','would','will','should',\"has\", \"have\", \"whom\",'whose',\"didn't\",\n",
    "                              \"doesn't\",\"haven't\",\"isn't\",\"aren't\",\"can't\",\"couldn't\",\"wouldn't\",\"won't\",\"shouldn't\",'?',\n",
    "                             \"what\", \"why\", \"when\", \"where\", \"name\", \"is\", \"how\", \"do\", \"does\", \n",
    "                  \"which\", \"are\", \"could\", \"would\", \"should\", \"has\", \"have\", \"whom\", \n",
    "                  \"whose\", \"don't\",'am','can',\"do i\", \"do you\", \"what\", \"who\", \"is it\", \n",
    "                  \"why\",\"would you\", \"how\",\"is there\",\"are there\", \"is it so\", \"is this true\" ,\n",
    "                  \"to know\", \"is that true\", \"are we\", \"am i\", \"question is\", \"tell me more\", \n",
    "                  \"can i\", \"can we\", \"tell me\", \"can you explain\",\"didn't\",\"doesn't\",\"haven't\",\"isn't\",\"aren't\",\"can't\",\"couldn't\",\"wouldn't\",\"won't\",\"shouldn't\"]\n",
    "        return set(question_word_list)        \n",
    "    \n",
    "    # predict_question\n",
    "    def predict_question(self, text):\n",
    "        words = nltk.word_tokenize(text.lower())        \n",
    "        if self.__get_question_words_set().intersection(words) == False:\n",
    "            return 0\n",
    "        if '?' in text:\n",
    "            return 1\n",
    "        \n",
    "        features = {}\n",
    "        for word in words:\n",
    "            features['contains({})'.format(word.lower())] = True            \n",
    "        \n",
    "        prediction_result = self.classifier.classify(features)\n",
    "        if prediction_result == 'whQuestion' or prediction_result == 'ynQuestion':\n",
    "            return 1\n",
    "        return 0\n",
    "\n",
    "isQ = IsQuestion()"
   ]
  },
  {
   "cell_type": "code",
   "execution_count": 266,
   "id": "ebb025c4",
   "metadata": {
    "ExecuteTime": {
     "end_time": "2022-10-06T19:36:10.450087Z",
     "start_time": "2022-10-06T19:34:49.089283Z"
    }
   },
   "outputs": [],
   "source": [
    "# Applying the above function and creating a new columnm 'is_question' to output the result of the function\n",
    "all_data['is_question'] = all_data['title'].apply(isQ.predict_question)"
   ]
  },
  {
   "cell_type": "code",
   "execution_count": 267,
   "id": "8b4df61d",
   "metadata": {
    "ExecuteTime": {
     "end_time": "2022-10-06T19:36:12.711570Z",
     "start_time": "2022-10-06T19:36:12.689555Z"
    }
   },
   "outputs": [
    {
     "data": {
      "text/html": [
       "<div>\n",
       "<style scoped>\n",
       "    .dataframe tbody tr th:only-of-type {\n",
       "        vertical-align: middle;\n",
       "    }\n",
       "\n",
       "    .dataframe tbody tr th {\n",
       "        vertical-align: top;\n",
       "    }\n",
       "\n",
       "    .dataframe thead th {\n",
       "        text-align: right;\n",
       "    }\n",
       "</style>\n",
       "<table border=\"1\" class=\"dataframe\">\n",
       "  <thead>\n",
       "    <tr style=\"text-align: right;\">\n",
       "      <th></th>\n",
       "      <th>id</th>\n",
       "      <th>post_body</th>\n",
       "      <th>title</th>\n",
       "      <th>created</th>\n",
       "      <th>comment_body</th>\n",
       "      <th>question</th>\n",
       "      <th>is_question</th>\n",
       "    </tr>\n",
       "  </thead>\n",
       "  <tbody>\n",
       "    <tr>\n",
       "      <th>0</th>\n",
       "      <td>xhrlh6</td>\n",
       "      <td>i've been having these thoughts lately like\\n\\...</td>\n",
       "      <td>do you ever feel like not being alive anymore</td>\n",
       "      <td>2022-09-19 00:46:32</td>\n",
       "      <td>As for anchors My only anchor is I need to be ...</td>\n",
       "      <td>True</td>\n",
       "      <td>0</td>\n",
       "    </tr>\n",
       "    <tr>\n",
       "      <th>1</th>\n",
       "      <td>xhrajv</td>\n",
       "      <td>i've been going through a hard time lately and...</td>\n",
       "      <td>why do depressed people shave their heads</td>\n",
       "      <td>2022-09-19 00:34:15</td>\n",
       "      <td>I don’t know because I never had the urge but ...</td>\n",
       "      <td>True</td>\n",
       "      <td>0</td>\n",
       "    </tr>\n",
       "    <tr>\n",
       "      <th>2</th>\n",
       "      <td>xhr49p</td>\n",
       "      <td>idk why but every now and then i'll just get t...</td>\n",
       "      <td>random urge to kill people</td>\n",
       "      <td>2022-09-19 00:27:15</td>\n",
       "      <td>You are a coward that can't handle the fact th...</td>\n",
       "      <td>True</td>\n",
       "      <td>0</td>\n",
       "    </tr>\n",
       "    <tr>\n",
       "      <th>3</th>\n",
       "      <td>xhq4pa</td>\n",
       "      <td>i have ocd that gives me intrusive thoughts ab...</td>\n",
       "      <td>need a therapist that specializes in concernin...</td>\n",
       "      <td>2022-09-18 23:46:40</td>\n",
       "      <td>Unless there is an actual crime or abuse to re...</td>\n",
       "      <td>False</td>\n",
       "      <td>0</td>\n",
       "    </tr>\n",
       "    <tr>\n",
       "      <th>4</th>\n",
       "      <td>xhpsmb</td>\n",
       "      <td>i have no friends, i don't like my family at a...</td>\n",
       "      <td>17m i think i should end my life early</td>\n",
       "      <td>2022-09-18 23:33:01</td>\n",
       "      <td>Aye yes, I know when I get depressed I sit in ...</td>\n",
       "      <td>False</td>\n",
       "      <td>0</td>\n",
       "    </tr>\n",
       "    <tr>\n",
       "      <th>...</th>\n",
       "      <td>...</td>\n",
       "      <td>...</td>\n",
       "      <td>...</td>\n",
       "      <td>...</td>\n",
       "      <td>...</td>\n",
       "      <td>...</td>\n",
       "      <td>...</td>\n",
       "    </tr>\n",
       "    <tr>\n",
       "      <th>202303</th>\n",
       "      <td>2glqvl</td>\n",
       "      <td>i've been struggling with mental illness (depr...</td>\n",
       "      <td>does mental illness, with a suicide attempt, q...</td>\n",
       "      <td>2014-09-17 02:26:12</td>\n",
       "      <td>Yes. It is a life threatening illness. You wil...</td>\n",
       "      <td>True</td>\n",
       "      <td>1</td>\n",
       "    </tr>\n",
       "    <tr>\n",
       "      <th>202304</th>\n",
       "      <td>2ea7v6</td>\n",
       "      <td>so, i am getting really bad. i hear strange to...</td>\n",
       "      <td>i am scared. everything in here and on /r/depr...</td>\n",
       "      <td>2014-08-22 19:17:29</td>\n",
       "      <td>I see mental illness as a disease that gets yo...</td>\n",
       "      <td>False</td>\n",
       "      <td>0</td>\n",
       "    </tr>\n",
       "    <tr>\n",
       "      <th>202305</th>\n",
       "      <td>27k65x</td>\n",
       "      <td>my husband and i are both pretty fucked up rig...</td>\n",
       "      <td>losing it</td>\n",
       "      <td>2014-06-07 21:27:59</td>\n",
       "      <td>It's unfortunate to hear that one good thing l...</td>\n",
       "      <td>False</td>\n",
       "      <td>0</td>\n",
       "    </tr>\n",
       "    <tr>\n",
       "      <th>202306</th>\n",
       "      <td>200k7v</td>\n",
       "      <td>nan</td>\n",
       "      <td>love suicide</td>\n",
       "      <td>2014-03-10 06:24:27</td>\n",
       "      <td>Just posted a link to a blog post I did on men...</td>\n",
       "      <td>False</td>\n",
       "      <td>0</td>\n",
       "    </tr>\n",
       "    <tr>\n",
       "      <th>202307</th>\n",
       "      <td>1wmc1o</td>\n",
       "      <td>nan</td>\n",
       "      <td>let’s talk privately a minute about mental health</td>\n",
       "      <td>2014-01-31 08:13:02</td>\n",
       "      <td>Kick ass article.</td>\n",
       "      <td>False</td>\n",
       "      <td>0</td>\n",
       "    </tr>\n",
       "  </tbody>\n",
       "</table>\n",
       "<p>202308 rows × 7 columns</p>\n",
       "</div>"
      ],
      "text/plain": [
       "            id                                          post_body  \\\n",
       "0       xhrlh6  i've been having these thoughts lately like\\n\\...   \n",
       "1       xhrajv  i've been going through a hard time lately and...   \n",
       "2       xhr49p  idk why but every now and then i'll just get t...   \n",
       "3       xhq4pa  i have ocd that gives me intrusive thoughts ab...   \n",
       "4       xhpsmb  i have no friends, i don't like my family at a...   \n",
       "...        ...                                                ...   \n",
       "202303  2glqvl  i've been struggling with mental illness (depr...   \n",
       "202304  2ea7v6  so, i am getting really bad. i hear strange to...   \n",
       "202305  27k65x  my husband and i are both pretty fucked up rig...   \n",
       "202306  200k7v                                                nan   \n",
       "202307  1wmc1o                                                nan   \n",
       "\n",
       "                                                    title             created  \\\n",
       "0           do you ever feel like not being alive anymore 2022-09-19 00:46:32   \n",
       "1               why do depressed people shave their heads 2022-09-19 00:34:15   \n",
       "2                              random urge to kill people 2022-09-19 00:27:15   \n",
       "3       need a therapist that specializes in concernin... 2022-09-18 23:46:40   \n",
       "4                  17m i think i should end my life early 2022-09-18 23:33:01   \n",
       "...                                                   ...                 ...   \n",
       "202303  does mental illness, with a suicide attempt, q... 2014-09-17 02:26:12   \n",
       "202304  i am scared. everything in here and on /r/depr... 2014-08-22 19:17:29   \n",
       "202305                                          losing it 2014-06-07 21:27:59   \n",
       "202306                                       love suicide 2014-03-10 06:24:27   \n",
       "202307  let’s talk privately a minute about mental health 2014-01-31 08:13:02   \n",
       "\n",
       "                                             comment_body  question  \\\n",
       "0       As for anchors My only anchor is I need to be ...      True   \n",
       "1       I don’t know because I never had the urge but ...      True   \n",
       "2       You are a coward that can't handle the fact th...      True   \n",
       "3       Unless there is an actual crime or abuse to re...     False   \n",
       "4       Aye yes, I know when I get depressed I sit in ...     False   \n",
       "...                                                   ...       ...   \n",
       "202303  Yes. It is a life threatening illness. You wil...      True   \n",
       "202304  I see mental illness as a disease that gets yo...     False   \n",
       "202305  It's unfortunate to hear that one good thing l...     False   \n",
       "202306  Just posted a link to a blog post I did on men...     False   \n",
       "202307                                 Kick ass article.      False   \n",
       "\n",
       "        is_question  \n",
       "0                 0  \n",
       "1                 0  \n",
       "2                 0  \n",
       "3                 0  \n",
       "4                 0  \n",
       "...             ...  \n",
       "202303            1  \n",
       "202304            0  \n",
       "202305            0  \n",
       "202306            0  \n",
       "202307            0  \n",
       "\n",
       "[202308 rows x 7 columns]"
      ]
     },
     "execution_count": 267,
     "metadata": {},
     "output_type": "execute_result"
    }
   ],
   "source": [
    "all_data"
   ]
  },
  {
   "cell_type": "code",
   "execution_count": 268,
   "id": "6f0e174e",
   "metadata": {
    "ExecuteTime": {
     "end_time": "2022-10-06T19:38:18.107294Z",
     "start_time": "2022-10-06T19:38:15.460219Z"
    }
   },
   "outputs": [],
   "source": [
    "# Since both ways I used are not perfectly accurate, I'm going to keep rows that have 'question' != False and \"is_question\" != 0\n",
    "all_data = all_data.loc[~((all_data['question'] == False) & (all_data['is_question'] == 0))]"
   ]
  },
  {
   "cell_type": "code",
   "execution_count": 270,
   "id": "218818a1",
   "metadata": {
    "ExecuteTime": {
     "end_time": "2022-10-06T19:39:31.851797Z",
     "start_time": "2022-10-06T19:39:31.770702Z"
    }
   },
   "outputs": [],
   "source": [
    "# Dropping redundant columns\n",
    "all_data = all_data.drop(columns=['question','is_question']).reset_index(drop=True)"
   ]
  },
  {
   "cell_type": "code",
   "execution_count": 271,
   "id": "1ee6d1ab",
   "metadata": {
    "ExecuteTime": {
     "end_time": "2022-10-06T19:39:36.204623Z",
     "start_time": "2022-10-06T19:39:36.185608Z"
    }
   },
   "outputs": [
    {
     "data": {
      "text/html": [
       "<div>\n",
       "<style scoped>\n",
       "    .dataframe tbody tr th:only-of-type {\n",
       "        vertical-align: middle;\n",
       "    }\n",
       "\n",
       "    .dataframe tbody tr th {\n",
       "        vertical-align: top;\n",
       "    }\n",
       "\n",
       "    .dataframe thead th {\n",
       "        text-align: right;\n",
       "    }\n",
       "</style>\n",
       "<table border=\"1\" class=\"dataframe\">\n",
       "  <thead>\n",
       "    <tr style=\"text-align: right;\">\n",
       "      <th></th>\n",
       "      <th>id</th>\n",
       "      <th>post_body</th>\n",
       "      <th>title</th>\n",
       "      <th>created</th>\n",
       "      <th>comment_body</th>\n",
       "    </tr>\n",
       "  </thead>\n",
       "  <tbody>\n",
       "    <tr>\n",
       "      <th>0</th>\n",
       "      <td>xhrlh6</td>\n",
       "      <td>i've been having these thoughts lately like\\n\\...</td>\n",
       "      <td>do you ever feel like not being alive anymore</td>\n",
       "      <td>2022-09-19 00:46:32</td>\n",
       "      <td>As for anchors My only anchor is I need to be ...</td>\n",
       "    </tr>\n",
       "    <tr>\n",
       "      <th>1</th>\n",
       "      <td>xhrajv</td>\n",
       "      <td>i've been going through a hard time lately and...</td>\n",
       "      <td>why do depressed people shave their heads</td>\n",
       "      <td>2022-09-19 00:34:15</td>\n",
       "      <td>I don’t know because I never had the urge but ...</td>\n",
       "    </tr>\n",
       "    <tr>\n",
       "      <th>2</th>\n",
       "      <td>xhr49p</td>\n",
       "      <td>idk why but every now and then i'll just get t...</td>\n",
       "      <td>random urge to kill people</td>\n",
       "      <td>2022-09-19 00:27:15</td>\n",
       "      <td>You are a coward that can't handle the fact th...</td>\n",
       "    </tr>\n",
       "    <tr>\n",
       "      <th>3</th>\n",
       "      <td>xhowxf</td>\n",
       "      <td>when i get really anxious, i slap my arm and t...</td>\n",
       "      <td>is slapping my arm when i’m anxious normal?</td>\n",
       "      <td>2022-09-18 22:58:06</td>\n",
       "      <td>'Normal' and 'crazy' aren't binary opposites, ...</td>\n",
       "    </tr>\n",
       "    <tr>\n",
       "      <th>4</th>\n",
       "      <td>xhovdn</td>\n",
       "      <td>i’ve been to a few psychiatrists/therapists ov...</td>\n",
       "      <td>tips to find a psychiatrist that specializes i...</td>\n",
       "      <td>2022-09-18 22:56:17</td>\n",
       "      <td>I would assume the majority are aware of anxie...</td>\n",
       "    </tr>\n",
       "    <tr>\n",
       "      <th>...</th>\n",
       "      <td>...</td>\n",
       "      <td>...</td>\n",
       "      <td>...</td>\n",
       "      <td>...</td>\n",
       "      <td>...</td>\n",
       "    </tr>\n",
       "    <tr>\n",
       "      <th>82561</th>\n",
       "      <td>2wigq2</td>\n",
       "      <td>i'm not looking for a diagnosis, just some ins...</td>\n",
       "      <td>have you heard of this?</td>\n",
       "      <td>2015-02-20 08:05:16</td>\n",
       "      <td>I assume you have some sort of existing medica...</td>\n",
       "    </tr>\n",
       "    <tr>\n",
       "      <th>82562</th>\n",
       "      <td>2vr17i</td>\n",
       "      <td>how do i find friends to have adventures with ...</td>\n",
       "      <td>how do i stop my intensity?</td>\n",
       "      <td>2015-02-13 13:12:20</td>\n",
       "      <td>I have been diagnosed officially and I am not ...</td>\n",
       "    </tr>\n",
       "    <tr>\n",
       "      <th>82563</th>\n",
       "      <td>2s5g3q</td>\n",
       "      <td>oftain if someone will repeat a word directly ...</td>\n",
       "      <td>does this have a name?</td>\n",
       "      <td>2015-01-12 13:36:53</td>\n",
       "      <td>I asked my councillor but he wasn't too sure, ...</td>\n",
       "    </tr>\n",
       "    <tr>\n",
       "      <th>82564</th>\n",
       "      <td>2n3gpd</td>\n",
       "      <td>the patterns of loosely related random words a...</td>\n",
       "      <td>do schizophrenics 'understand' other schizophr...</td>\n",
       "      <td>2014-11-22 22:08:51</td>\n",
       "      <td>I don't think it works that way. I do find tha...</td>\n",
       "    </tr>\n",
       "    <tr>\n",
       "      <th>82565</th>\n",
       "      <td>2glqvl</td>\n",
       "      <td>i've been struggling with mental illness (depr...</td>\n",
       "      <td>does mental illness, with a suicide attempt, q...</td>\n",
       "      <td>2014-09-17 02:26:12</td>\n",
       "      <td>Yes. It is a life threatening illness. You wil...</td>\n",
       "    </tr>\n",
       "  </tbody>\n",
       "</table>\n",
       "<p>82566 rows × 5 columns</p>\n",
       "</div>"
      ],
      "text/plain": [
       "           id                                          post_body  \\\n",
       "0      xhrlh6  i've been having these thoughts lately like\\n\\...   \n",
       "1      xhrajv  i've been going through a hard time lately and...   \n",
       "2      xhr49p  idk why but every now and then i'll just get t...   \n",
       "3      xhowxf  when i get really anxious, i slap my arm and t...   \n",
       "4      xhovdn  i’ve been to a few psychiatrists/therapists ov...   \n",
       "...       ...                                                ...   \n",
       "82561  2wigq2  i'm not looking for a diagnosis, just some ins...   \n",
       "82562  2vr17i  how do i find friends to have adventures with ...   \n",
       "82563  2s5g3q  oftain if someone will repeat a word directly ...   \n",
       "82564  2n3gpd  the patterns of loosely related random words a...   \n",
       "82565  2glqvl  i've been struggling with mental illness (depr...   \n",
       "\n",
       "                                                   title             created  \\\n",
       "0          do you ever feel like not being alive anymore 2022-09-19 00:46:32   \n",
       "1              why do depressed people shave their heads 2022-09-19 00:34:15   \n",
       "2                             random urge to kill people 2022-09-19 00:27:15   \n",
       "3            is slapping my arm when i’m anxious normal? 2022-09-18 22:58:06   \n",
       "4      tips to find a psychiatrist that specializes i... 2022-09-18 22:56:17   \n",
       "...                                                  ...                 ...   \n",
       "82561                            have you heard of this? 2015-02-20 08:05:16   \n",
       "82562                        how do i stop my intensity? 2015-02-13 13:12:20   \n",
       "82563                             does this have a name? 2015-01-12 13:36:53   \n",
       "82564  do schizophrenics 'understand' other schizophr... 2014-11-22 22:08:51   \n",
       "82565  does mental illness, with a suicide attempt, q... 2014-09-17 02:26:12   \n",
       "\n",
       "                                            comment_body  \n",
       "0      As for anchors My only anchor is I need to be ...  \n",
       "1      I don’t know because I never had the urge but ...  \n",
       "2      You are a coward that can't handle the fact th...  \n",
       "3      'Normal' and 'crazy' aren't binary opposites, ...  \n",
       "4      I would assume the majority are aware of anxie...  \n",
       "...                                                  ...  \n",
       "82561  I assume you have some sort of existing medica...  \n",
       "82562  I have been diagnosed officially and I am not ...  \n",
       "82563  I asked my councillor but he wasn't too sure, ...  \n",
       "82564  I don't think it works that way. I do find tha...  \n",
       "82565  Yes. It is a life threatening illness. You wil...  \n",
       "\n",
       "[82566 rows x 5 columns]"
      ]
     },
     "execution_count": 271,
     "metadata": {},
     "output_type": "execute_result"
    }
   ],
   "source": [
    "all_data"
   ]
  },
  {
   "cell_type": "code",
   "execution_count": 273,
   "id": "7ad71ee1",
   "metadata": {
    "ExecuteTime": {
     "end_time": "2022-10-06T19:43:34.084595Z",
     "start_time": "2022-10-06T19:43:34.046570Z"
    }
   },
   "outputs": [],
   "source": [
    "# Dropping the columns that doesn't encode useful information\n",
    "all_data.drop(['id','created'], axis = 1, inplace = True)"
   ]
  },
  {
   "cell_type": "code",
   "execution_count": 282,
   "id": "b19001bb",
   "metadata": {
    "ExecuteTime": {
     "end_time": "2022-10-06T19:51:51.243967Z",
     "start_time": "2022-10-06T19:51:50.927325Z"
    }
   },
   "outputs": [
    {
     "data": {
      "text/plain": [
       "'I won 1st_place_medal in cricket'"
      ]
     },
     "execution_count": 282,
     "metadata": {},
     "output_type": "execute_result"
    }
   ],
   "source": [
    "# Replacing emojis with text\n",
    "with open('Emoji_Dict.p', 'rb') as fp:\n",
    "    Emoji_Dict = pickle.load(fp)\n",
    "Emoji_Dict = {v: k for k, v in Emoji_Dict.items()}\n",
    "\n",
    "def convert_emojis_to_word(text):\n",
    "    for emot in Emoji_Dict:\n",
    "        text = re.sub(r'('+emot+')', \"_\".join(Emoji_Dict[emot].replace(\",\",\"\").replace(\":\",\"\").split()), text)\n",
    "    return text\n",
    "# Example\n",
    "text = \"I won 🥇 in 🏏\"\n",
    "convert_emojis_to_word(text)"
   ]
  },
  {
   "cell_type": "code",
   "execution_count": 283,
   "id": "d848f9b5",
   "metadata": {
    "ExecuteTime": {
     "end_time": "2022-10-06T22:16:37.457369Z",
     "start_time": "2022-10-06T19:52:35.430369Z"
    }
   },
   "outputs": [],
   "source": [
    "# Applying the above function to titles to convert emojis to words\n",
    "all_data['title'] = all_data['title'].apply(convert_emojis_to_word)"
   ]
  },
  {
   "cell_type": "code",
   "execution_count": 285,
   "id": "f0672e5b",
   "metadata": {
    "ExecuteTime": {
     "end_time": "2022-10-07T00:46:31.770183Z",
     "start_time": "2022-10-06T22:21:23.070255Z"
    }
   },
   "outputs": [],
   "source": [
    "# Applying the above function to posts to convert emojis to words\n",
    "all_data['post_body'] = all_data['post_body'].apply(convert_emojis_to_word)"
   ]
  },
  {
   "cell_type": "code",
   "execution_count": 286,
   "id": "963af07c",
   "metadata": {
    "ExecuteTime": {
     "end_time": "2022-10-07T03:14:31.921493Z",
     "start_time": "2022-10-07T00:46:31.823295Z"
    }
   },
   "outputs": [],
   "source": [
    "# Applying the above function to comments to convert emojis to words\n",
    "all_data['comment_body'] = all_data['comment_body'].apply(convert_emojis_to_word)"
   ]
  },
  {
   "cell_type": "code",
   "execution_count": 287,
   "id": "57184643",
   "metadata": {
    "ExecuteTime": {
     "end_time": "2022-10-07T03:14:41.309392Z",
     "start_time": "2022-10-07T03:14:31.931497Z"
    }
   },
   "outputs": [],
   "source": [
    "# Save the resulting DataFrame to csv file\n",
    "all_data.to_csv('../Data/all_data.csv',index=False)"
   ]
  },
  {
   "cell_type": "markdown",
   "id": "d6c623d3",
   "metadata": {},
   "source": [
    "# Load the data not to run the code above all over again"
   ]
  },
  {
   "cell_type": "code",
   "execution_count": 109,
   "id": "67da9367",
   "metadata": {
    "ExecuteTime": {
     "end_time": "2022-10-24T00:01:08.676046Z",
     "start_time": "2022-10-24T00:01:05.346378Z"
    }
   },
   "outputs": [],
   "source": [
    "# Load the csv file as a DataFrame\n",
    "all_data = pd.read_csv('../Data/all_data.csv')"
   ]
  },
  {
   "cell_type": "code",
   "execution_count": 37,
   "id": "57d9a2fa",
   "metadata": {
    "ExecuteTime": {
     "end_time": "2022-10-23T21:18:42.209978Z",
     "start_time": "2022-10-23T21:18:42.195967Z"
    }
   },
   "outputs": [
    {
     "data": {
      "text/html": [
       "<div>\n",
       "<style scoped>\n",
       "    .dataframe tbody tr th:only-of-type {\n",
       "        vertical-align: middle;\n",
       "    }\n",
       "\n",
       "    .dataframe tbody tr th {\n",
       "        vertical-align: top;\n",
       "    }\n",
       "\n",
       "    .dataframe thead th {\n",
       "        text-align: right;\n",
       "    }\n",
       "</style>\n",
       "<table border=\"1\" class=\"dataframe\">\n",
       "  <thead>\n",
       "    <tr style=\"text-align: right;\">\n",
       "      <th></th>\n",
       "      <th>post_body</th>\n",
       "      <th>title</th>\n",
       "      <th>comment_body</th>\n",
       "    </tr>\n",
       "  </thead>\n",
       "  <tbody>\n",
       "    <tr>\n",
       "      <th>0</th>\n",
       "      <td>i've been having these thoughts lately like\\n\\...</td>\n",
       "      <td>do you ever feel like not being alive anymore</td>\n",
       "      <td>As for anchors My only anchor is I need to be ...</td>\n",
       "    </tr>\n",
       "    <tr>\n",
       "      <th>1</th>\n",
       "      <td>i've been going through a hard time lately and...</td>\n",
       "      <td>why do depressed people shave their heads</td>\n",
       "      <td>I don’t know because I never had the urge but ...</td>\n",
       "    </tr>\n",
       "    <tr>\n",
       "      <th>2</th>\n",
       "      <td>idk why but every now and then i'll just get t...</td>\n",
       "      <td>random urge to kill people</td>\n",
       "      <td>You are a coward that can't handle the fact th...</td>\n",
       "    </tr>\n",
       "    <tr>\n",
       "      <th>3</th>\n",
       "      <td>when i get really anxious, i slap my arm and t...</td>\n",
       "      <td>is slapping my arm when i’m anxious normal?</td>\n",
       "      <td>'Normal' and 'crazy' aren't binary opposites, ...</td>\n",
       "    </tr>\n",
       "    <tr>\n",
       "      <th>4</th>\n",
       "      <td>i’ve been to a few psychiatrists/therapists ov...</td>\n",
       "      <td>tips to find a psychiatrist that specializes i...</td>\n",
       "      <td>I would assume the majority are aware of anxie...</td>\n",
       "    </tr>\n",
       "    <tr>\n",
       "      <th>...</th>\n",
       "      <td>...</td>\n",
       "      <td>...</td>\n",
       "      <td>...</td>\n",
       "    </tr>\n",
       "    <tr>\n",
       "      <th>82561</th>\n",
       "      <td>i'm not looking for a diagnosis, just some ins...</td>\n",
       "      <td>have you heard of this?</td>\n",
       "      <td>I assume you have some sort of existing medica...</td>\n",
       "    </tr>\n",
       "    <tr>\n",
       "      <th>82562</th>\n",
       "      <td>how do i find friends to have adventures with ...</td>\n",
       "      <td>how do i stop my intensity?</td>\n",
       "      <td>I have been diagnosed officially and I am not ...</td>\n",
       "    </tr>\n",
       "    <tr>\n",
       "      <th>82563</th>\n",
       "      <td>oftain if someone will repeat a word directly ...</td>\n",
       "      <td>does this have a name?</td>\n",
       "      <td>I asked my councillor but he wasn't too sure, ...</td>\n",
       "    </tr>\n",
       "    <tr>\n",
       "      <th>82564</th>\n",
       "      <td>the patterns of loosely related random words a...</td>\n",
       "      <td>do schizophrenics 'understand' other schizophr...</td>\n",
       "      <td>I don't think it works that way. I do find tha...</td>\n",
       "    </tr>\n",
       "    <tr>\n",
       "      <th>82565</th>\n",
       "      <td>i've been struggling with mental illness (depr...</td>\n",
       "      <td>does mental illness, with a suicide attempt, q...</td>\n",
       "      <td>Yes. It is a life threatening illness. You wil...</td>\n",
       "    </tr>\n",
       "  </tbody>\n",
       "</table>\n",
       "<p>82566 rows × 3 columns</p>\n",
       "</div>"
      ],
      "text/plain": [
       "                                               post_body  \\\n",
       "0      i've been having these thoughts lately like\\n\\...   \n",
       "1      i've been going through a hard time lately and...   \n",
       "2      idk why but every now and then i'll just get t...   \n",
       "3      when i get really anxious, i slap my arm and t...   \n",
       "4      i’ve been to a few psychiatrists/therapists ov...   \n",
       "...                                                  ...   \n",
       "82561  i'm not looking for a diagnosis, just some ins...   \n",
       "82562  how do i find friends to have adventures with ...   \n",
       "82563  oftain if someone will repeat a word directly ...   \n",
       "82564  the patterns of loosely related random words a...   \n",
       "82565  i've been struggling with mental illness (depr...   \n",
       "\n",
       "                                                   title  \\\n",
       "0          do you ever feel like not being alive anymore   \n",
       "1              why do depressed people shave their heads   \n",
       "2                             random urge to kill people   \n",
       "3            is slapping my arm when i’m anxious normal?   \n",
       "4      tips to find a psychiatrist that specializes i...   \n",
       "...                                                  ...   \n",
       "82561                            have you heard of this?   \n",
       "82562                        how do i stop my intensity?   \n",
       "82563                             does this have a name?   \n",
       "82564  do schizophrenics 'understand' other schizophr...   \n",
       "82565  does mental illness, with a suicide attempt, q...   \n",
       "\n",
       "                                            comment_body  \n",
       "0      As for anchors My only anchor is I need to be ...  \n",
       "1      I don’t know because I never had the urge but ...  \n",
       "2      You are a coward that can't handle the fact th...  \n",
       "3      'Normal' and 'crazy' aren't binary opposites, ...  \n",
       "4      I would assume the majority are aware of anxie...  \n",
       "...                                                  ...  \n",
       "82561  I assume you have some sort of existing medica...  \n",
       "82562  I have been diagnosed officially and I am not ...  \n",
       "82563  I asked my councillor but he wasn't too sure, ...  \n",
       "82564  I don't think it works that way. I do find tha...  \n",
       "82565  Yes. It is a life threatening illness. You wil...  \n",
       "\n",
       "[82566 rows x 3 columns]"
      ]
     },
     "execution_count": 37,
     "metadata": {},
     "output_type": "execute_result"
    }
   ],
   "source": [
    "all_data"
   ]
  },
  {
   "cell_type": "code",
   "execution_count": 38,
   "id": "e1badeeb",
   "metadata": {
    "ExecuteTime": {
     "end_time": "2022-10-23T21:18:44.921275Z",
     "start_time": "2022-10-23T21:18:43.650307Z"
    }
   },
   "outputs": [],
   "source": [
    "# Lower all text\n",
    "all_data = all_data.apply(lambda x: x.str.lower())"
   ]
  },
  {
   "cell_type": "code",
   "execution_count": 5,
   "id": "a1764cb1",
   "metadata": {
    "ExecuteTime": {
     "end_time": "2022-10-23T20:38:34.635114Z",
     "start_time": "2022-10-23T20:38:34.590082Z"
    }
   },
   "outputs": [],
   "source": [
    "# Convert to string\n",
    "all_data = all_data.astype('string')"
   ]
  },
  {
   "cell_type": "code",
   "execution_count": 39,
   "id": "9ace2eb1",
   "metadata": {
    "ExecuteTime": {
     "end_time": "2022-10-23T21:18:49.886115Z",
     "start_time": "2022-10-23T21:18:49.739619Z"
    }
   },
   "outputs": [],
   "source": [
    "# Replace all duplicated post_body with null values\n",
    "duplicated = all_data.duplicated('post_body')\n",
    "all_data.loc[duplicated, ['post_body']] = \" \""
   ]
  },
  {
   "cell_type": "code",
   "execution_count": 7,
   "id": "4491355d",
   "metadata": {
    "ExecuteTime": {
     "end_time": "2022-10-19T17:40:06.936014Z",
     "start_time": "2022-10-19T17:40:06.705814Z"
    }
   },
   "outputs": [],
   "source": [
    "# Merge title and post_body\n",
    "all_data['title'] = all_data['title'] + ' '  + all_data['post_body']"
   ]
  },
  {
   "cell_type": "code",
   "execution_count": 8,
   "id": "4d0764cf",
   "metadata": {
    "ExecuteTime": {
     "end_time": "2022-10-19T17:40:08.918274Z",
     "start_time": "2022-10-19T17:40:08.888265Z"
    }
   },
   "outputs": [],
   "source": [
    "# Drop redundant column 'post_body'\n",
    "all_data.drop(columns=['post_body'],inplace=True)"
   ]
  },
  {
   "cell_type": "code",
   "execution_count": 40,
   "id": "3b151555",
   "metadata": {
    "ExecuteTime": {
     "end_time": "2022-10-23T21:18:52.278863Z",
     "start_time": "2022-10-23T21:18:52.186773Z"
    }
   },
   "outputs": [],
   "source": [
    "# Drop all missing values\n",
    "all_data = all_data.dropna()"
   ]
  },
  {
   "cell_type": "code",
   "execution_count": 2,
   "id": "eb37f0f9",
   "metadata": {
    "ExecuteTime": {
     "end_time": "2022-10-24T00:21:55.241111Z",
     "start_time": "2022-10-24T00:21:55.233104Z"
    }
   },
   "outputs": [],
   "source": [
    "# Remove links\n",
    "def remove_links(doc):\n",
    "    return [re.sub(r'^https?:\\/\\/.*[\\r\\n]*', '', token, flags=re.MULTILINE) for token in doc]\n",
    "# Apply remove_links function\n",
    "all_data = all_data.astype('string').apply(lambda x: remove_links(x))"
   ]
  },
  {
   "cell_type": "code",
   "execution_count": 9,
   "id": "2cc27cea",
   "metadata": {
    "ExecuteTime": {
     "end_time": "2022-10-23T20:47:40.438718Z",
     "start_time": "2022-10-23T20:39:07.678889Z"
    }
   },
   "outputs": [],
   "source": [
    "# Remove punctuation\n",
    "import string\n",
    "punctuation = ['\\u200d','?', '....','..','...','','@','#', ',', '.', '\"', ':', ')', '(', '-', '!', '|', ';', \"'\", '$', '&', '/', '[', ']', '>', '%', '=', '*', '+', '\\\\', \n",
    "    '•', '~', '£', '·', '_', '{', '}', '©', '^', '®', '`',  '<', '→', '°', '€', '™', '›',  '♥', '←', '×', '§', '″', '′', 'Â', '█', \n",
    "    '½', 'à', '…', '“', '★', '”', '–', '●', 'â', '►', '−', '¢', '²', '¬', '░', '¶', '↑', '±', '¿', '▾', '═', '¦', '║', '―', '¥', '▓', \n",
    "    '—', '‹', '─', '▒', '：', '¼', '⊕', '▼', '▪', '†', '■', '’', '▀', '¨', '▄', '♫', '☆', 'é', '¯', '♦', '¤', '▲', 'è', '¸', '¾', \n",
    "    'Ã', '⋅', '‘', '∞', '∙', '）', '↓', '、', '│', '（', '»', '，', '♪', '╩', '╚', '³', '・', '╦', '╣', '╔', '╗', '▬', '❤', 'ï', 'Ø', \n",
    "    '¹', '≤', '‡', '√', '!','🅰','🅱', \"\\n\"]\n",
    "def remove_punct(string):\n",
    "    for el in string:\n",
    "        if el in punctuation:\n",
    "            string = string.replace(el, \"\")\n",
    "    return string\n",
    "# Apply remove_punct function to titles, comments and posts\n",
    "all_data['title'] = all_data.title.apply(lambda x: remove_punct(x))\n",
    "all_data['comment_body'] = all_data.comment_body.apply(lambda x: remove_punct(x))\n",
    "all_data['post_body'] = all_data.post_body.apply(lambda x: remove_punct(x))"
   ]
  },
  {
   "cell_type": "code",
   "execution_count": 42,
   "id": "9a0e7a0b",
   "metadata": {
    "ExecuteTime": {
     "end_time": "2022-10-23T21:18:59.904269Z",
     "start_time": "2022-10-23T21:18:59.890259Z"
    }
   },
   "outputs": [
    {
     "data": {
      "text/html": [
       "<div>\n",
       "<style scoped>\n",
       "    .dataframe tbody tr th:only-of-type {\n",
       "        vertical-align: middle;\n",
       "    }\n",
       "\n",
       "    .dataframe tbody tr th {\n",
       "        vertical-align: top;\n",
       "    }\n",
       "\n",
       "    .dataframe thead th {\n",
       "        text-align: right;\n",
       "    }\n",
       "</style>\n",
       "<table border=\"1\" class=\"dataframe\">\n",
       "  <thead>\n",
       "    <tr style=\"text-align: right;\">\n",
       "      <th></th>\n",
       "      <th>post_body</th>\n",
       "      <th>title</th>\n",
       "      <th>comment_body</th>\n",
       "    </tr>\n",
       "  </thead>\n",
       "  <tbody>\n",
       "    <tr>\n",
       "      <th>0</th>\n",
       "      <td>i've been having these thoughts lately like\\n\\...</td>\n",
       "      <td>do you ever feel like not being alive anymore</td>\n",
       "      <td>as for anchors my only anchor is i need to be ...</td>\n",
       "    </tr>\n",
       "    <tr>\n",
       "      <th>1</th>\n",
       "      <td>i've been going through a hard time lately and...</td>\n",
       "      <td>why do depressed people shave their heads</td>\n",
       "      <td>i don’t know because i never had the urge but ...</td>\n",
       "    </tr>\n",
       "    <tr>\n",
       "      <th>2</th>\n",
       "      <td>idk why but every now and then i'll just get t...</td>\n",
       "      <td>random urge to kill people</td>\n",
       "      <td>you are a coward that can't handle the fact th...</td>\n",
       "    </tr>\n",
       "    <tr>\n",
       "      <th>3</th>\n",
       "      <td>when i get really anxious, i slap my arm and t...</td>\n",
       "      <td>is slapping my arm when i’m anxious normal?</td>\n",
       "      <td>'normal' and 'crazy' aren't binary opposites, ...</td>\n",
       "    </tr>\n",
       "    <tr>\n",
       "      <th>4</th>\n",
       "      <td>i’ve been to a few psychiatrists/therapists ov...</td>\n",
       "      <td>tips to find a psychiatrist that specializes i...</td>\n",
       "      <td>i would assume the majority are aware of anxie...</td>\n",
       "    </tr>\n",
       "    <tr>\n",
       "      <th>...</th>\n",
       "      <td>...</td>\n",
       "      <td>...</td>\n",
       "      <td>...</td>\n",
       "    </tr>\n",
       "    <tr>\n",
       "      <th>82561</th>\n",
       "      <td>i'm not looking for a diagnosis, just some ins...</td>\n",
       "      <td>have you heard of this?</td>\n",
       "      <td>i assume you have some sort of existing medica...</td>\n",
       "    </tr>\n",
       "    <tr>\n",
       "      <th>82562</th>\n",
       "      <td>how do i find friends to have adventures with ...</td>\n",
       "      <td>how do i stop my intensity?</td>\n",
       "      <td>i have been diagnosed officially and i am not ...</td>\n",
       "    </tr>\n",
       "    <tr>\n",
       "      <th>82563</th>\n",
       "      <td>oftain if someone will repeat a word directly ...</td>\n",
       "      <td>does this have a name?</td>\n",
       "      <td>i asked my councillor but he wasn't too sure, ...</td>\n",
       "    </tr>\n",
       "    <tr>\n",
       "      <th>82564</th>\n",
       "      <td>the patterns of loosely related random words a...</td>\n",
       "      <td>do schizophrenics 'understand' other schizophr...</td>\n",
       "      <td>i don't think it works that way. i do find tha...</td>\n",
       "    </tr>\n",
       "    <tr>\n",
       "      <th>82565</th>\n",
       "      <td>i've been struggling with mental illness (depr...</td>\n",
       "      <td>does mental illness, with a suicide attempt, q...</td>\n",
       "      <td>yes. it is a life threatening illness. you wil...</td>\n",
       "    </tr>\n",
       "  </tbody>\n",
       "</table>\n",
       "<p>82565 rows × 3 columns</p>\n",
       "</div>"
      ],
      "text/plain": [
       "                                               post_body  \\\n",
       "0      i've been having these thoughts lately like\\n\\...   \n",
       "1      i've been going through a hard time lately and...   \n",
       "2      idk why but every now and then i'll just get t...   \n",
       "3      when i get really anxious, i slap my arm and t...   \n",
       "4      i’ve been to a few psychiatrists/therapists ov...   \n",
       "...                                                  ...   \n",
       "82561  i'm not looking for a diagnosis, just some ins...   \n",
       "82562  how do i find friends to have adventures with ...   \n",
       "82563  oftain if someone will repeat a word directly ...   \n",
       "82564  the patterns of loosely related random words a...   \n",
       "82565  i've been struggling with mental illness (depr...   \n",
       "\n",
       "                                                   title  \\\n",
       "0          do you ever feel like not being alive anymore   \n",
       "1              why do depressed people shave their heads   \n",
       "2                             random urge to kill people   \n",
       "3            is slapping my arm when i’m anxious normal?   \n",
       "4      tips to find a psychiatrist that specializes i...   \n",
       "...                                                  ...   \n",
       "82561                            have you heard of this?   \n",
       "82562                        how do i stop my intensity?   \n",
       "82563                             does this have a name?   \n",
       "82564  do schizophrenics 'understand' other schizophr...   \n",
       "82565  does mental illness, with a suicide attempt, q...   \n",
       "\n",
       "                                            comment_body  \n",
       "0      as for anchors my only anchor is i need to be ...  \n",
       "1      i don’t know because i never had the urge but ...  \n",
       "2      you are a coward that can't handle the fact th...  \n",
       "3      'normal' and 'crazy' aren't binary opposites, ...  \n",
       "4      i would assume the majority are aware of anxie...  \n",
       "...                                                  ...  \n",
       "82561  i assume you have some sort of existing medica...  \n",
       "82562  i have been diagnosed officially and i am not ...  \n",
       "82563  i asked my councillor but he wasn't too sure, ...  \n",
       "82564  i don't think it works that way. i do find tha...  \n",
       "82565  yes. it is a life threatening illness. you wil...  \n",
       "\n",
       "[82565 rows x 3 columns]"
      ]
     },
     "execution_count": 42,
     "metadata": {},
     "output_type": "execute_result"
    }
   ],
   "source": [
    "all_data"
   ]
  },
  {
   "cell_type": "code",
   "execution_count": 11,
   "id": "862edd52",
   "metadata": {
    "ExecuteTime": {
     "end_time": "2022-10-23T20:47:58.781802Z",
     "start_time": "2022-10-23T20:47:53.998128Z"
    }
   },
   "outputs": [
    {
     "name": "stderr",
     "output_type": "stream",
     "text": [
      "C:\\Users\\Julia\\AppData\\Local\\Temp\\ipykernel_25384\\3207686.py:2: FutureWarning: The default value of regex will change from True to False in a future version.\n",
      "  all_data['title'] = all_data['title'].str.replace('\\\\d+', '')\n",
      "C:\\Users\\Julia\\AppData\\Local\\Temp\\ipykernel_25384\\3207686.py:3: FutureWarning: The default value of regex will change from True to False in a future version.\n",
      "  all_data['comment_body'] = all_data['comment_body'].str.replace('\\\\d+', '')\n",
      "C:\\Users\\Julia\\AppData\\Local\\Temp\\ipykernel_25384\\3207686.py:4: FutureWarning: The default value of regex will change from True to False in a future version.\n",
      "  all_data['post_body'] = all_data['post_body'].str.replace('\\\\d+', '')\n"
     ]
    }
   ],
   "source": [
    "# Remove digits\n",
    "all_data['title'] = all_data['title'].str.replace('\\\\d+', '')\n",
    "all_data['comment_body'] = all_data['comment_body'].str.replace('\\\\d+', '')\n",
    "all_data['post_body'] = all_data['post_body'].str.replace('\\\\d+', '')"
   ]
  },
  {
   "cell_type": "code",
   "execution_count": 48,
   "id": "83ca0b2b",
   "metadata": {
    "ExecuteTime": {
     "end_time": "2022-10-20T18:32:26.828141Z",
     "start_time": "2022-10-20T18:32:10.543299Z"
    }
   },
   "outputs": [],
   "source": [
    "# Expand contractions\n",
    "all_data['title'] = all_data.title.apply(lambda x: contractions.fix(x))\n",
    "all_data['comment_body'] = all_data.comment_body.apply(lambda x: contractions.fix(x))\n",
    "all_data['post_body'] = all_data.post_body.apply(lambda x: contractions.fix(x))"
   ]
  },
  {
   "cell_type": "code",
   "execution_count": 49,
   "id": "36414116",
   "metadata": {
    "ExecuteTime": {
     "end_time": "2022-10-20T18:50:11.356656Z",
     "start_time": "2022-10-20T18:32:36.983493Z"
    }
   },
   "outputs": [],
   "source": [
    "# Remove emojis that weren't converted into text\n",
    "def remove_em(text):\n",
    "    dem = demoji.findall(text)\n",
    "    for item in dem.keys():\n",
    "        text = text.replace(item, \"\")\n",
    "    return text\n",
    "# Apply remove_em function to titles, comments and posts\n",
    "all_data['title'] = all_data.title.apply(remove_em)\n",
    "all_data['comment_body'] = all_data.comment_body.apply(remove_em)\n",
    "all_data['post_body'] = all_data.post_body.apply(remove_em)"
   ]
  },
  {
   "cell_type": "code",
   "execution_count": 43,
   "id": "5f74c7d0",
   "metadata": {
    "ExecuteTime": {
     "end_time": "2022-10-23T21:19:21.831031Z",
     "start_time": "2022-10-23T21:19:07.932292Z"
    }
   },
   "outputs": [],
   "source": [
    "# Remove extra space between tokens\n",
    "def remove_space(string):\n",
    "    result = re.sub('\\\\s+',' ', string)\n",
    "    return result\n",
    "# Apply remove_space function to titles, comments and posts\n",
    "all_data['title'] = all_data.title.apply(remove_space)\n",
    "all_data['comment_body'] = all_data.comment_body.apply(remove_space)\n",
    "all_data['post_body'] = all_data.post_body.apply(remove_space)"
   ]
  },
  {
   "cell_type": "code",
   "execution_count": 20,
   "id": "ee2f1da0",
   "metadata": {
    "ExecuteTime": {
     "end_time": "2022-10-19T18:23:47.097182Z",
     "start_time": "2022-10-19T18:23:37.918400Z"
    }
   },
   "outputs": [],
   "source": [
    "# Tokenize all text\n",
    "def word_tokenize(sentence):\n",
    "    return sentence.split()\n",
    "# Apply word_tokenize function\n",
    "all_data = all_data.apply(lambda x: word_tokenize(x.str))"
   ]
  },
  {
   "cell_type": "code",
   "execution_count": null,
   "id": "d7d7ead9",
   "metadata": {},
   "outputs": [],
   "source": [
    "def get_wordnet_pos(word):\n",
    "    \"\"\"Map POS tag to the first character 'lemmatize()' accepts\"\"\"\n",
    "    # Get the POS tag of the word using the nltk.pos_tag function and map it to the corresponding WordNet POS tag.\n",
    "    # The WordNet POS tags are 'J' for adjectives, 'N' for nouns, 'V' for verbs, and 'R' for adverbs.\n",
    "    tag = nltk.pos_tag([word])[0][1][0].upper()\n",
    "    tag_dict = {\"J\": wordnet.ADJ,\n",
    "                \"N\": wordnet.NOUN,\n",
    "                \"V\": wordnet.VERB,\n",
    "                \"R\": wordnet.ADV}\n",
    "    # Return the mapped WordNet POS tag, defaulting to 'NOUN' if the tag is not found in the dictionary.\n",
    "    return tag_dict.get(tag, wordnet.NOUN)"
   ]
  },
  {
   "cell_type": "code",
   "execution_count": 32,
   "id": "06c4e231",
   "metadata": {
    "ExecuteTime": {
     "end_time": "2022-10-20T00:51:49.189056Z",
     "start_time": "2022-10-19T18:28:50.552137Z"
    }
   },
   "outputs": [],
   "source": [
    "# Lemmatize words\n",
    "lemmatizer = WordNetLemmatizer()\n",
    "def lemmatize_text(x):\n",
    "    ''' This lemmatizer fuunction should work on a single list of tokenized data'''\n",
    "    # Turning list into a string\n",
    "    x = \" \".join(x)\n",
    "    # Returning a list again\n",
    "    return [lemmatizer.lemmatize(w, get_wordnet_pos(w)) for w in nltk.word_tokenize(x)]\n",
    "# Apply lemmatize_text function to comments and titles\n",
    "all_data['title'] = all_data.title.apply(lemmatize_text)\n",
    "all_data['comment_body'] = all_data.comment_body.apply(lemmatize_text)"
   ]
  },
  {
   "cell_type": "code",
   "execution_count": 44,
   "id": "abe0ada1",
   "metadata": {
    "ExecuteTime": {
     "end_time": "2022-10-23T21:19:26.897275Z",
     "start_time": "2022-10-23T21:19:26.882264Z"
    }
   },
   "outputs": [
    {
     "data": {
      "text/html": [
       "<div>\n",
       "<style scoped>\n",
       "    .dataframe tbody tr th:only-of-type {\n",
       "        vertical-align: middle;\n",
       "    }\n",
       "\n",
       "    .dataframe tbody tr th {\n",
       "        vertical-align: top;\n",
       "    }\n",
       "\n",
       "    .dataframe thead th {\n",
       "        text-align: right;\n",
       "    }\n",
       "</style>\n",
       "<table border=\"1\" class=\"dataframe\">\n",
       "  <thead>\n",
       "    <tr style=\"text-align: right;\">\n",
       "      <th></th>\n",
       "      <th>post_body</th>\n",
       "      <th>title</th>\n",
       "      <th>comment_body</th>\n",
       "    </tr>\n",
       "  </thead>\n",
       "  <tbody>\n",
       "    <tr>\n",
       "      <th>0</th>\n",
       "      <td>i've been having these thoughts lately like \"t...</td>\n",
       "      <td>do you ever feel like not being alive anymore</td>\n",
       "      <td>as for anchors my only anchor is i need to be ...</td>\n",
       "    </tr>\n",
       "    <tr>\n",
       "      <th>1</th>\n",
       "      <td>i've been going through a hard time lately and...</td>\n",
       "      <td>why do depressed people shave their heads</td>\n",
       "      <td>i don’t know because i never had the urge but ...</td>\n",
       "    </tr>\n",
       "    <tr>\n",
       "      <th>2</th>\n",
       "      <td>idk why but every now and then i'll just get t...</td>\n",
       "      <td>random urge to kill people</td>\n",
       "      <td>you are a coward that can't handle the fact th...</td>\n",
       "    </tr>\n",
       "    <tr>\n",
       "      <th>3</th>\n",
       "      <td>when i get really anxious, i slap my arm and t...</td>\n",
       "      <td>is slapping my arm when i’m anxious normal?</td>\n",
       "      <td>'normal' and 'crazy' aren't binary opposites, ...</td>\n",
       "    </tr>\n",
       "    <tr>\n",
       "      <th>4</th>\n",
       "      <td>i’ve been to a few psychiatrists/therapists ov...</td>\n",
       "      <td>tips to find a psychiatrist that specializes i...</td>\n",
       "      <td>i would assume the majority are aware of anxie...</td>\n",
       "    </tr>\n",
       "    <tr>\n",
       "      <th>...</th>\n",
       "      <td>...</td>\n",
       "      <td>...</td>\n",
       "      <td>...</td>\n",
       "    </tr>\n",
       "    <tr>\n",
       "      <th>82561</th>\n",
       "      <td>i'm not looking for a diagnosis, just some ins...</td>\n",
       "      <td>have you heard of this?</td>\n",
       "      <td>i assume you have some sort of existing medica...</td>\n",
       "    </tr>\n",
       "    <tr>\n",
       "      <th>82562</th>\n",
       "      <td>how do i find friends to have adventures with ...</td>\n",
       "      <td>how do i stop my intensity?</td>\n",
       "      <td>i have been diagnosed officially and i am not ...</td>\n",
       "    </tr>\n",
       "    <tr>\n",
       "      <th>82563</th>\n",
       "      <td>oftain if someone will repeat a word directly ...</td>\n",
       "      <td>does this have a name?</td>\n",
       "      <td>i asked my councillor but he wasn't too sure, ...</td>\n",
       "    </tr>\n",
       "    <tr>\n",
       "      <th>82564</th>\n",
       "      <td>the patterns of loosely related random words a...</td>\n",
       "      <td>do schizophrenics 'understand' other schizophr...</td>\n",
       "      <td>i don't think it works that way. i do find tha...</td>\n",
       "    </tr>\n",
       "    <tr>\n",
       "      <th>82565</th>\n",
       "      <td>i've been struggling with mental illness (depr...</td>\n",
       "      <td>does mental illness, with a suicide attempt, q...</td>\n",
       "      <td>yes. it is a life threatening illness. you wil...</td>\n",
       "    </tr>\n",
       "  </tbody>\n",
       "</table>\n",
       "<p>82565 rows × 3 columns</p>\n",
       "</div>"
      ],
      "text/plain": [
       "                                               post_body  \\\n",
       "0      i've been having these thoughts lately like \"t...   \n",
       "1      i've been going through a hard time lately and...   \n",
       "2      idk why but every now and then i'll just get t...   \n",
       "3      when i get really anxious, i slap my arm and t...   \n",
       "4      i’ve been to a few psychiatrists/therapists ov...   \n",
       "...                                                  ...   \n",
       "82561  i'm not looking for a diagnosis, just some ins...   \n",
       "82562  how do i find friends to have adventures with ...   \n",
       "82563  oftain if someone will repeat a word directly ...   \n",
       "82564  the patterns of loosely related random words a...   \n",
       "82565  i've been struggling with mental illness (depr...   \n",
       "\n",
       "                                                   title  \\\n",
       "0          do you ever feel like not being alive anymore   \n",
       "1              why do depressed people shave their heads   \n",
       "2                             random urge to kill people   \n",
       "3            is slapping my arm when i’m anxious normal?   \n",
       "4      tips to find a psychiatrist that specializes i...   \n",
       "...                                                  ...   \n",
       "82561                            have you heard of this?   \n",
       "82562                        how do i stop my intensity?   \n",
       "82563                             does this have a name?   \n",
       "82564  do schizophrenics 'understand' other schizophr...   \n",
       "82565  does mental illness, with a suicide attempt, q...   \n",
       "\n",
       "                                            comment_body  \n",
       "0      as for anchors my only anchor is i need to be ...  \n",
       "1      i don’t know because i never had the urge but ...  \n",
       "2      you are a coward that can't handle the fact th...  \n",
       "3      'normal' and 'crazy' aren't binary opposites, ...  \n",
       "4      i would assume the majority are aware of anxie...  \n",
       "...                                                  ...  \n",
       "82561  i assume you have some sort of existing medica...  \n",
       "82562  i have been diagnosed officially and i am not ...  \n",
       "82563  i asked my councillor but he wasn't too sure, ...  \n",
       "82564  i don't think it works that way. i do find tha...  \n",
       "82565  yes. it is a life threatening illness. you wil...  \n",
       "\n",
       "[82565 rows x 3 columns]"
      ]
     },
     "execution_count": 44,
     "metadata": {},
     "output_type": "execute_result"
    }
   ],
   "source": [
    "all_data"
   ]
  },
  {
   "cell_type": "code",
   "execution_count": 45,
   "id": "23b91a9e",
   "metadata": {
    "ExecuteTime": {
     "end_time": "2022-10-23T21:19:38.206741Z",
     "start_time": "2022-10-23T21:19:32.321788Z"
    }
   },
   "outputs": [],
   "source": [
    "# Save the resulting DataFrame to csv file\n",
    "all_data.to_csv('../Data/all_data2.csv',index=False)"
   ]
  },
  {
   "cell_type": "code",
   "execution_count": 46,
   "id": "62c2d913",
   "metadata": {
    "ExecuteTime": {
     "end_time": "2022-10-23T21:19:40.129214Z",
     "start_time": "2022-10-23T21:19:40.090677Z"
    }
   },
   "outputs": [],
   "source": [
    "# Adding encoding for GPT to recognize the start of the text, the prompt ([WP]), followed by the comment\n",
    "# [RESPONSE], and the end of the text. I'm combining the two into one column so it can more easily be \n",
    "# assimilated into a .txt file.\n",
    "all_data['title'] = '<|startoftext|>[WP]' + all_data['title'].astype(str)"
   ]
  },
  {
   "cell_type": "code",
   "execution_count": 47,
   "id": "73bb9288",
   "metadata": {
    "ExecuteTime": {
     "end_time": "2022-10-23T21:19:51.587947Z",
     "start_time": "2022-10-23T21:19:50.195505Z"
    }
   },
   "outputs": [],
   "source": [
    "# Prepending '[RESPONSE]' to the 'comment_body' column in the DataFrame 'all_data'.\n",
    "# The operation converts the 'comment_body' values to strings before adding the prefix.\n",
    "all_data['comment_body'] = '[RESPONSE]' + all_data['comment_body'].astype(str) + '<|endoftext|>'"
   ]
  },
  {
   "cell_type": "code",
   "execution_count": null,
   "id": "3fcaeafb",
   "metadata": {},
   "outputs": [],
   "source": [
    "# Combining 'title' and 'comment_body' columns to create a new 'GPT2_data' column in the DataFrame 'all_data'.\n",
    "# The join operation concatenates the values of 'title' and 'comment_body' together with a space in between.\n",
    "all_data['GPT2_data'] = all_data[['title', 'comment_body']].agg(' '.join, axis='columns')"
   ]
  },
  {
   "cell_type": "code",
   "execution_count": null,
   "id": "94d38134",
   "metadata": {},
   "outputs": [],
   "source": [
    "# Creating a copy of the 'GPT2_data' column from the DataFrame 'all_data'.\n",
    "# The new DataFrame 'GPT2_data' contains only the 'GPT2_data' column and is a separate copy of the original data.\n",
    "GPT2_data = all_data[['GPT2_data']].copy()"
   ]
  },
  {
   "cell_type": "code",
   "execution_count": 50,
   "id": "6be58bbd",
   "metadata": {
    "ExecuteTime": {
     "end_time": "2022-10-23T21:19:57.581114Z",
     "start_time": "2022-10-23T21:19:57.569103Z"
    }
   },
   "outputs": [
    {
     "data": {
      "text/html": [
       "<div>\n",
       "<style scoped>\n",
       "    .dataframe tbody tr th:only-of-type {\n",
       "        vertical-align: middle;\n",
       "    }\n",
       "\n",
       "    .dataframe tbody tr th {\n",
       "        vertical-align: top;\n",
       "    }\n",
       "\n",
       "    .dataframe thead th {\n",
       "        text-align: right;\n",
       "    }\n",
       "</style>\n",
       "<table border=\"1\" class=\"dataframe\">\n",
       "  <thead>\n",
       "    <tr style=\"text-align: right;\">\n",
       "      <th></th>\n",
       "      <th>GPT2_data</th>\n",
       "    </tr>\n",
       "  </thead>\n",
       "  <tbody>\n",
       "    <tr>\n",
       "      <th>0</th>\n",
       "      <td>&lt;|startoftext|&gt;[WP]do you ever feel like not b...</td>\n",
       "    </tr>\n",
       "    <tr>\n",
       "      <th>1</th>\n",
       "      <td>&lt;|startoftext|&gt;[WP]why do depressed people sha...</td>\n",
       "    </tr>\n",
       "    <tr>\n",
       "      <th>2</th>\n",
       "      <td>&lt;|startoftext|&gt;[WP]random urge to kill people ...</td>\n",
       "    </tr>\n",
       "    <tr>\n",
       "      <th>3</th>\n",
       "      <td>&lt;|startoftext|&gt;[WP]is slapping my arm when i’m...</td>\n",
       "    </tr>\n",
       "    <tr>\n",
       "      <th>4</th>\n",
       "      <td>&lt;|startoftext|&gt;[WP]tips to find a psychiatrist...</td>\n",
       "    </tr>\n",
       "    <tr>\n",
       "      <th>...</th>\n",
       "      <td>...</td>\n",
       "    </tr>\n",
       "    <tr>\n",
       "      <th>82561</th>\n",
       "      <td>&lt;|startoftext|&gt;[WP]have you heard of this? [RE...</td>\n",
       "    </tr>\n",
       "    <tr>\n",
       "      <th>82562</th>\n",
       "      <td>&lt;|startoftext|&gt;[WP]how do i stop my intensity?...</td>\n",
       "    </tr>\n",
       "    <tr>\n",
       "      <th>82563</th>\n",
       "      <td>&lt;|startoftext|&gt;[WP]does this have a name? [RES...</td>\n",
       "    </tr>\n",
       "    <tr>\n",
       "      <th>82564</th>\n",
       "      <td>&lt;|startoftext|&gt;[WP]do schizophrenics 'understa...</td>\n",
       "    </tr>\n",
       "    <tr>\n",
       "      <th>82565</th>\n",
       "      <td>&lt;|startoftext|&gt;[WP]does mental illness, with a...</td>\n",
       "    </tr>\n",
       "  </tbody>\n",
       "</table>\n",
       "<p>82565 rows × 1 columns</p>\n",
       "</div>"
      ],
      "text/plain": [
       "                                               GPT2_data\n",
       "0      <|startoftext|>[WP]do you ever feel like not b...\n",
       "1      <|startoftext|>[WP]why do depressed people sha...\n",
       "2      <|startoftext|>[WP]random urge to kill people ...\n",
       "3      <|startoftext|>[WP]is slapping my arm when i’m...\n",
       "4      <|startoftext|>[WP]tips to find a psychiatrist...\n",
       "...                                                  ...\n",
       "82561  <|startoftext|>[WP]have you heard of this? [RE...\n",
       "82562  <|startoftext|>[WP]how do i stop my intensity?...\n",
       "82563  <|startoftext|>[WP]does this have a name? [RES...\n",
       "82564  <|startoftext|>[WP]do schizophrenics 'understa...\n",
       "82565  <|startoftext|>[WP]does mental illness, with a...\n",
       "\n",
       "[82565 rows x 1 columns]"
      ]
     },
     "execution_count": 50,
     "metadata": {},
     "output_type": "execute_result"
    }
   ],
   "source": [
    "GPT2_data"
   ]
  },
  {
   "cell_type": "code",
   "execution_count": 51,
   "id": "5324f20c",
   "metadata": {
    "ExecuteTime": {
     "end_time": "2022-10-23T21:20:06.595296Z",
     "start_time": "2022-10-23T21:20:02.770359Z"
    }
   },
   "outputs": [],
   "source": [
    "# Save the resulting DataFrame to csv file\n",
    "GPT2_data.to_csv(\"../Data/GPT2_data.csv\", index=False)"
   ]
  },
  {
   "cell_type": "code",
   "execution_count": 52,
   "id": "6c9f0db4",
   "metadata": {
    "ExecuteTime": {
     "end_time": "2022-10-23T21:20:09.748053Z",
     "start_time": "2022-10-23T21:20:08.065492Z"
    }
   },
   "outputs": [],
   "source": [
    "# Convert .csv to .txt\n",
    "with open('../Data/GPT2_data.csv', 'r', encoding=\"utf8\") as inp, open('../Data/GPT2_data.txt', 'w', encoding='utf-8') as out:\n",
    "    for line in inp:\n",
    "        line = line.replace(',', ':')\n",
    "        out.write(line)"
   ]
  },
  {
   "cell_type": "code",
   "execution_count": 2,
   "id": "63b5cfb3",
   "metadata": {
    "ExecuteTime": {
     "end_time": "2022-10-30T13:31:37.944820Z",
     "start_time": "2022-10-30T13:31:34.463387Z"
    }
   },
   "outputs": [],
   "source": [
    "# Load the DataFrame\n",
    "all_data2 = pd.read_csv('../Data/all_data2.csv')"
   ]
  },
  {
   "cell_type": "markdown",
   "id": "fc8286ae",
   "metadata": {},
   "source": [
    "# Sentiment analysis and EDA"
   ]
  },
  {
   "cell_type": "code",
   "execution_count": 4,
   "id": "cc73f7fa",
   "metadata": {
    "ExecuteTime": {
     "end_time": "2022-10-30T13:31:47.405076Z",
     "start_time": "2022-10-30T13:31:47.353053Z"
    }
   },
   "outputs": [],
   "source": [
    "# Drop redundant column\n",
    "all_data2 = all_data2.drop(columns=['post_body'])"
   ]
  },
  {
   "cell_type": "code",
   "execution_count": 8,
   "id": "c9159a0f",
   "metadata": {
    "ExecuteTime": {
     "end_time": "2022-10-30T13:31:58.703463Z",
     "start_time": "2022-10-30T13:31:58.647433Z"
    }
   },
   "outputs": [
    {
     "name": "stdout",
     "output_type": "stream",
     "text": [
      "<class 'pandas.core.frame.DataFrame'>\n",
      "Int64Index: 82548 entries, 0 to 82564\n",
      "Data columns (total 2 columns):\n",
      " #   Column        Non-Null Count  Dtype \n",
      "---  ------        --------------  ----- \n",
      " 0   title         82548 non-null  object\n",
      " 1   comment_body  82548 non-null  object\n",
      "dtypes: object(2)\n",
      "memory usage: 1.9+ MB\n"
     ]
    }
   ],
   "source": [
    "all_data2.info()"
   ]
  },
  {
   "cell_type": "code",
   "execution_count": 6,
   "id": "801c0fc2",
   "metadata": {
    "ExecuteTime": {
     "end_time": "2022-10-30T13:31:52.811818Z",
     "start_time": "2022-10-30T13:31:52.630651Z"
    }
   },
   "outputs": [],
   "source": [
    "# Removing duplicate values from the 'comment_body' column in the DataFrame 'all_data2'.\n",
    "# The 'drop_duplicates' method with 'keep=False' ensures all occurrences of duplicate values are removed.\n",
    "all_data2['comment_body'] = all_data2.comment_body.drop_duplicates(keep=False)"
   ]
  },
  {
   "cell_type": "code",
   "execution_count": 7,
   "id": "5cdf735f",
   "metadata": {
    "ExecuteTime": {
     "end_time": "2022-10-30T13:31:54.920468Z",
     "start_time": "2022-10-30T13:31:54.831419Z"
    }
   },
   "outputs": [],
   "source": [
    "# Removing rows with missing (NaN) values from the DataFrame 'all_data2' in-place.\n",
    "# The 'dropna' method with 'inplace=True' ensures that rows containing NaN values are dropped from 'all_data2'.\n",
    "all_data2.dropna(inplace=True)"
   ]
  },
  {
   "cell_type": "code",
   "execution_count": 9,
   "id": "fd23d1a5",
   "metadata": {
    "ExecuteTime": {
     "end_time": "2022-10-30T13:32:09.158874Z",
     "start_time": "2022-10-30T13:31:59.929779Z"
    }
   },
   "outputs": [],
   "source": [
    "# Importing the 'spacy' library and loading the English language model 'en_core_web_sm'.\n",
    "# The 'parser' and 'ner' components are disabled to save memory and computational resources.\n",
    "import spacy\n",
    "# Load the English language model with the named entity recognition (ner) and dependency parsing (parser) disabled.\n",
    "nlp = spacy.load('en_core_web_sm', disable=['parser', 'ner'])"
   ]
  },
  {
   "cell_type": "markdown",
   "id": "729c1ee3",
   "metadata": {},
   "source": [
    "# Next we remove stop words and lemmatize text using spacy"
   ]
  },
  {
   "cell_type": "code",
   "execution_count": 10,
   "id": "a0d2d161",
   "metadata": {
    "ExecuteTime": {
     "end_time": "2022-10-30T13:36:51.982291Z",
     "start_time": "2022-10-30T13:32:16.345348Z"
    }
   },
   "outputs": [],
   "source": [
    "# Lemmatizing the 'title' column in DataFrame 'all_data2' and creating a new 'lemmatized_title' column.\n",
    "# The lemmatization process is applied to each title using spacy's language model 'nlp'.\n",
    "# Lemmas of non-stopwords are extracted from each title and joined into a single string for the new column.\n",
    "all_data2['lemmatized_title']=all_data2['title'].apply(lambda x: ' '.join([token.lemma_ for token in list(nlp(x)) if (token.is_stop==False)]))"
   ]
  },
  {
   "cell_type": "code",
   "execution_count": 11,
   "id": "3331116c",
   "metadata": {
    "ExecuteTime": {
     "end_time": "2022-10-30T14:08:06.096602Z",
     "start_time": "2022-10-30T13:36:52.058455Z"
    }
   },
   "outputs": [],
   "source": [
    "# Lemmatizing the 'comment_body' column in DataFrame 'all_data2' and creating a new 'lemmatized_comment' column.\n",
    "# The lemmatization process is applied to each comment using spacy's language model 'nlp'.\n",
    "# Lemmas of non-stopwords are extracted from each comment and joined into a single string for the new column.\n",
    "all_data2['lemmatized_comment']=all_data2['comment_body'].apply(lambda x: ' '.join([token.lemma_ for token in list(nlp(x)) if (token.is_stop==False)]))"
   ]
  },
  {
   "cell_type": "code",
   "execution_count": 12,
   "id": "4e5f573d",
   "metadata": {
    "ExecuteTime": {
     "end_time": "2022-10-30T14:08:06.112598Z",
     "start_time": "2022-10-30T14:08:06.098603Z"
    }
   },
   "outputs": [
    {
     "data": {
      "text/plain": [
       "\"# remove stop words\\ndef remove_stopwords(token_list):\\n    stop_words = set(stopwords.words('english'))\\n    filtered_sentence = [w for w in token_list if not w.lower() in stop_words]\\n    #filtered_sentence = ' '.join(filtered_sentence)\\n    return filtered_sentence\\nall_data['cleaned_title'] = all_data.title.apply(remove_stopwords)\\nall_data['cleaned_comment'] = all_data.comment_body.apply(remove_stopwords)\""
      ]
     },
     "execution_count": 12,
     "metadata": {},
     "output_type": "execute_result"
    }
   ],
   "source": [
    "# Remove stop words\n",
    "def remove_stopwords(token_list):\n",
    "    stop_words = set(stopwords.words('english'))\n",
    "    filtered_sentence = [w for w in token_list if not w.lower() in stop_words]\n",
    "    #filtered_sentence = ' '.join(filtered_sentence)\n",
    "    return filtered_sentence\n",
    "# Apply 'remove_stopwords' function to titles and comments\n",
    "all_data['cleaned_title'] = all_data.title.apply(remove_stopwords)\n",
    "all_data['cleaned_comment'] = all_data.comment_body.apply(remove_stopwords)"
   ]
  },
  {
   "cell_type": "code",
   "execution_count": null,
   "id": "f81bb24d",
   "metadata": {},
   "outputs": [],
   "source": [
    "# Writing a function to plot the top 10 words based on their counts in the input text data.\n",
    "# The function uses the CountVectorizer from scikit-learn to create a bag-of-words representation of the data.\n",
    "# It then computes the word counts and returns a DataFrame containing the top 10 words ranked by count.\n",
    "def top10_bagofwords(data, title):\n",
    "    ''' Taking as input the data and plots the top 10 words based on counts in this text data'''\n",
    "    bagofwords = CountVectorizer()\n",
    "    inbound = bagofwords.fit_transform(data)\n",
    "    inbound # Output will be a sparse matrix\n",
    "    # Inspecting how often contractions and colloquial language are used\n",
    "    word_counts = np.array(np.sum(inbound, axis=0)).reshape((-1,))\n",
    "    words = np.array(bagofwords.get_feature_names())\n",
    "    words_df = pd.DataFrame({\"word\":words, \n",
    "                             \"count\":word_counts})\n",
    "    words_rank = words_df.sort_values(by=\"count\", ascending=False)\n",
    "    return words_rank"
   ]
  },
  {
   "cell_type": "code",
   "execution_count": 14,
   "id": "4ae657c1",
   "metadata": {
    "ExecuteTime": {
     "end_time": "2022-10-30T14:08:16.405695Z",
     "start_time": "2022-10-30T14:08:06.142617Z"
    }
   },
   "outputs": [
    {
     "name": "stderr",
     "output_type": "stream",
     "text": [
      "C:\\Users\\Julia\\anaconda3\\lib\\site-packages\\sklearn\\utils\\deprecation.py:87: FutureWarning: Function get_feature_names is deprecated; get_feature_names is deprecated in 1.0 and will be removed in 1.2. Please use get_feature_names_out instead.\n",
      "  warnings.warn(msg, category=FutureWarning)\n"
     ]
    }
   ],
   "source": [
    "# Applying the above function to titles and comments\n",
    "word_rank_title = top10_bagofwords(all_data2.lemmatized_title, \"top\")\n",
    "word_rank_comment = top10_bagofwords(all_data2.lemmatized_comment, \"top\")"
   ]
  },
  {
   "cell_type": "code",
   "execution_count": 15,
   "id": "ceaaba61",
   "metadata": {
    "ExecuteTime": {
     "end_time": "2022-10-30T14:08:17.463843Z",
     "start_time": "2022-10-30T14:08:16.409201Z"
    }
   },
   "outputs": [
    {
     "data": {
      "image/png": "[encoded data removed]",
      "text/plain": [
       "<Figure size 1200x600 with 1 Axes>"
      ]
     },
     "metadata": {},
     "output_type": "display_data"
    }
   ],
   "source": [
    "# Visualizing top 10 words in titles\n",
    "plt.figure(figsize=(12,6))\n",
    "sns.barplot(x=word_rank_title['word'][:10], y=word_rank_title['count'][:10], palette = 'inferno')\n",
    "plt.title('Top 10 words in titles') \n",
    "plt.show()"
   ]
  },
  {
   "cell_type": "code",
   "execution_count": 16,
   "id": "7896300f",
   "metadata": {
    "ExecuteTime": {
     "end_time": "2022-10-30T14:08:17.643018Z",
     "start_time": "2022-10-30T14:08:17.465843Z"
    }
   },
   "outputs": [
    {
     "data": {
      "image/png": "[encoded data removed]",
      "text/plain": [
       "<Figure size 1200x600 with 1 Axes>"
      ]
     },
     "metadata": {},
     "output_type": "display_data"
    }
   ],
   "source": [
    "# Visualizing top 10 words in comments\n",
    "plt.figure(figsize=(12,6))\n",
    "sns.barplot(x=word_rank_comment['word'][:10], y=word_rank_comment['count'][:10], palette = 'inferno')\n",
    "plt.title('Top 10 words in comments') \n",
    "plt.show()"
   ]
  },
  {
   "cell_type": "code",
   "execution_count": 17,
   "id": "1d74bb20",
   "metadata": {
    "ExecuteTime": {
     "end_time": "2022-10-30T14:09:56.294310Z",
     "start_time": "2022-10-30T14:08:17.645006Z"
    }
   },
   "outputs": [],
   "source": [
    "# Determining polarity\n",
    "all_data2['polarity_title']=all_data2['lemmatized_title'].apply(lambda x:TextBlob(x).sentiment.polarity)\n",
    "all_data2['polarity_comment']=all_data2['lemmatized_comment'].apply(lambda x:TextBlob(x).sentiment.polarity)"
   ]
  },
  {
   "cell_type": "code",
   "execution_count": 18,
   "id": "7238c59c",
   "metadata": {
    "ExecuteTime": {
     "end_time": "2022-10-30T14:09:56.558497Z",
     "start_time": "2022-10-30T14:09:56.296311Z"
    }
   },
   "outputs": [
    {
     "data": {
      "image/png": "[encoded data removed]",
      "text/plain": [
       "<Figure size 640x480 with 1 Axes>"
      ]
     },
     "metadata": {},
     "output_type": "display_data"
    }
   ],
   "source": [
    "# Visualizing polarity scores in both titles and comments\n",
    "plt.hist(all_data2['polarity_title'], bins=20,label='Titles')\n",
    "plt.hist(all_data2['polarity_comment'], bins=20,alpha=0.8,label='Comments')\n",
    "plt.xlabel('Polarity')\n",
    "plt.ylabel('Number of posts')\n",
    "plt.title('Polarity')\n",
    "plt.legend();"
   ]
  },
  {
   "cell_type": "code",
   "execution_count": 19,
   "id": "18f79a40",
   "metadata": {
    "ExecuteTime": {
     "end_time": "2022-10-30T14:09:57.113405Z",
     "start_time": "2022-10-30T14:09:56.562499Z"
    }
   },
   "outputs": [],
   "source": [
    "# Sorting the DataFrame 'all_data2' based on the 'polarity_title' column in ascending order.\n",
    "# The resulting DataFrame 'title_polarity_sorted' contains the 'title', 'lemmatized_title', and 'polarity_title' columns.\n",
    "title_polarity_sorted = all_data2[['title', 'lemmatized_title', 'polarity_title']].sort_values(by='polarity_title', ascending=True)\n",
    "# Sorting the DataFrame 'all_data2' based on the 'polarity_comment' column in ascending order.\n",
    "# The resulting DataFrame 'comment_polarity_sorted' contains the 'comment_body', 'lemmatized_comment', and 'polarity_comment' columns.\n",
    "comment_polarity_sorted = all_data2[['comment_body', 'lemmatized_comment', 'polarity_comment']].sort_values(by='polarity_comment', ascending=True)"
   ]
  },
  {
   "cell_type": "code",
   "execution_count": 20,
   "id": "a08c1eda",
   "metadata": {
    "ExecuteTime": {
     "end_time": "2022-10-30T14:09:57.127430Z",
     "start_time": "2022-10-30T14:09:57.115409Z"
    }
   },
   "outputs": [],
   "source": [
    "# Creating DataFrames 'pos_polt' and 'neg_polt' to store titles with positive and negative polarities, respectively.\n",
    "# 'pos_polt' contains titles with a polarity of 1.0 (positive), and 'neg_polt' contains titles with a polarity of -1.0 (negative).\n",
    "pos_polt = title_polarity_sorted[title_polarity_sorted['polarity_title'] == 1.0].reset_index(drop=True)\n",
    "neg_polt = title_polarity_sorted[title_polarity_sorted['polarity_title'] == -1.0].reset_index(drop=True)\n",
    "\n",
    "# Creating DataFrames 'pos_polc' and 'neg_polc' to store comments with positive and negative polarities, respectively.\n",
    "# 'pos_polc' contains comments with a polarity of 1.0 (positive), and 'neg_polc' contains comments with a polarity of -1.0 (negative).\n",
    "pos_polc = comment_polarity_sorted[comment_polarity_sorted['polarity_comment'] == 1.0].reset_index(drop=True)\n",
    "neg_polc = comment_polarity_sorted[comment_polarity_sorted['polarity_comment'] == -1.0].reset_index(drop=True)"
   ]
  },
  {
   "cell_type": "code",
   "execution_count": null,
   "id": "4bd35884",
   "metadata": {},
   "outputs": [],
   "source": [
    "# Function to plot the top 10 words based on their counts in the specified column of the input DataFrame\n",
    "def words(dataframe, string, string2):\n",
    "    # Get the top 10 words and their counts using the 'top10_bagofwords' function\n",
    "    res = top10_bagofwords(dataframe[string], \"top\")\n",
    "\n",
    "    # Create a bar plot to visualize the top 10 words and their counts\n",
    "    # The 'sns.barplot' function is used with the 'x' and 'y' parameters to set the data for the plot,\n",
    "    # and the 'palette' parameter specifies the color scheme for the bars\n",
    "    plt.figure(figsize=(12, 6))\n",
    "    sns.barplot(x=res['word'][:10], y=res['count'][:10], palette='inferno')\n",
    "\n",
    "    # Set the plot title using the input 'string2'\n",
    "    plt.title(string2)\n",
    "\n",
    "    # Display the plot\n",
    "    plt.show()"
   ]
  },
  {
   "cell_type": "code",
   "execution_count": 22,
   "id": "ec264ae6",
   "metadata": {
    "ExecuteTime": {
     "end_time": "2022-10-30T14:09:57.308545Z",
     "start_time": "2022-10-30T14:09:57.137425Z"
    }
   },
   "outputs": [
    {
     "name": "stderr",
     "output_type": "stream",
     "text": [
      "C:\\Users\\Julia\\anaconda3\\lib\\site-packages\\sklearn\\utils\\deprecation.py:87: FutureWarning: Function get_feature_names is deprecated; get_feature_names is deprecated in 1.0 and will be removed in 1.2. Please use get_feature_names_out instead.\n",
      "  warnings.warn(msg, category=FutureWarning)\n"
     ]
    },
    {
     "data": {
      "image/png": "[encoded data removed]",
      "text/plain": [
       "<Figure size 1200x600 with 1 Axes>"
      ]
     },
     "metadata": {},
     "output_type": "display_data"
    }
   ],
   "source": [
    "# Applying the above function to titles with the highest polarity\n",
    "words(pos_polt,'lemmatized_title','Top 10 words in titles with the highest polarity')"
   ]
  },
  {
   "cell_type": "code",
   "execution_count": 23,
   "id": "d6316f4d",
   "metadata": {
    "ExecuteTime": {
     "end_time": "2022-10-30T14:09:57.501681Z",
     "start_time": "2022-10-30T14:09:57.310547Z"
    }
   },
   "outputs": [
    {
     "name": "stderr",
     "output_type": "stream",
     "text": [
      "C:\\Users\\Julia\\anaconda3\\lib\\site-packages\\sklearn\\utils\\deprecation.py:87: FutureWarning: Function get_feature_names is deprecated; get_feature_names is deprecated in 1.0 and will be removed in 1.2. Please use get_feature_names_out instead.\n",
      "  warnings.warn(msg, category=FutureWarning)\n"
     ]
    },
    {
     "data": {
      "image/png": "[encoded data removed]",
      "text/plain": [
       "<Figure size 1200x600 with 1 Axes>"
      ]
     },
     "metadata": {},
     "output_type": "display_data"
    }
   ],
   "source": [
    "# Applying the above function to titles with the lowest polarity\n",
    "words(neg_polt,'lemmatized_title','Top 10 words in titles with the lowest polarity')"
   ]
  },
  {
   "cell_type": "code",
   "execution_count": 24,
   "id": "bf60c732",
   "metadata": {
    "ExecuteTime": {
     "end_time": "2022-10-30T14:09:57.822909Z",
     "start_time": "2022-10-30T14:09:57.503685Z"
    }
   },
   "outputs": [
    {
     "name": "stderr",
     "output_type": "stream",
     "text": [
      "C:\\Users\\Julia\\anaconda3\\lib\\site-packages\\sklearn\\utils\\deprecation.py:87: FutureWarning: Function get_feature_names is deprecated; get_feature_names is deprecated in 1.0 and will be removed in 1.2. Please use get_feature_names_out instead.\n",
      "  warnings.warn(msg, category=FutureWarning)\n"
     ]
    },
    {
     "data": {
      "image/png": "[encoded data removed]",
      "text/plain": [
       "<Figure size 1200x600 with 1 Axes>"
      ]
     },
     "metadata": {},
     "output_type": "display_data"
    }
   ],
   "source": [
    "# Applying the above function to comments with the highest polarity\n",
    "words(pos_polc,'lemmatized_comment','Top 10 words in comments with the highest polarity')"
   ]
  },
  {
   "cell_type": "code",
   "execution_count": 25,
   "id": "87197b5c",
   "metadata": {
    "ExecuteTime": {
     "end_time": "2022-10-30T14:09:58.045078Z",
     "start_time": "2022-10-30T14:09:57.824910Z"
    }
   },
   "outputs": [
    {
     "name": "stderr",
     "output_type": "stream",
     "text": [
      "C:\\Users\\Julia\\anaconda3\\lib\\site-packages\\sklearn\\utils\\deprecation.py:87: FutureWarning: Function get_feature_names is deprecated; get_feature_names is deprecated in 1.0 and will be removed in 1.2. Please use get_feature_names_out instead.\n",
      "  warnings.warn(msg, category=FutureWarning)\n"
     ]
    },
    {
     "data": {
      "image/png": "[encoded data removed]",
      "text/plain": [
       "<Figure size 1200x600 with 1 Axes>"
      ]
     },
     "metadata": {},
     "output_type": "display_data"
    }
   ],
   "source": [
    "# Applying the above function to comments with the lowest polarity\n",
    "words(neg_polc,'lemmatized_comment','Top 10 words in comments with the lowest polarity')"
   ]
  },
  {
   "cell_type": "code",
   "execution_count": 26,
   "id": "b72f2347",
   "metadata": {
    "ExecuteTime": {
     "end_time": "2022-10-30T14:11:43.623781Z",
     "start_time": "2022-10-30T14:09:58.047067Z"
    }
   },
   "outputs": [],
   "source": [
    "# Determining subjectivity\n",
    "all_data2['subjectivity_title']=all_data2['lemmatized_title'].apply(lambda x:TextBlob(x).sentiment.subjectivity)\n",
    "all_data2['subjectivity_comment']=all_data2['lemmatized_comment'].apply(lambda x:TextBlob(x).sentiment.subjectivity)"
   ]
  },
  {
   "cell_type": "code",
   "execution_count": 27,
   "id": "a68bef74",
   "metadata": {
    "ExecuteTime": {
     "end_time": "2022-10-30T14:11:43.855464Z",
     "start_time": "2022-10-30T14:11:43.626243Z"
    }
   },
   "outputs": [
    {
     "data": {
      "image/png": "[encoded data removed]",
      "text/plain": [
       "<Figure size 640x480 with 1 Axes>"
      ]
     },
     "metadata": {},
     "output_type": "display_data"
    }
   ],
   "source": [
    "# Creating histograms to visualize the distribution of subjectivity scores for titles and comments\n",
    "# The 'subjectivity_title' and 'subjectivity_comment' columns from 'all_data2' are used as data for the histograms\n",
    "# The number of bins is set to 20 for each histogram\n",
    "# The histograms for titles and comments are overlaid, and alpha=0.8 is used to make the comments' histogram slightly transparent\n",
    "plt.hist(all_data2['subjectivity_title'], bins=20, label='Titles')\n",
    "plt.hist(all_data2['subjectivity_comment'], bins=20, alpha=0.8, label='Comments')\n",
    "\n",
    "# Setting the labels for the x and y axes, as well as the plot title\n",
    "plt.xlabel('Subjectivity')\n",
    "plt.ylabel('Number of posts')\n",
    "plt.title('Subjectivity')\n",
    "\n",
    "# Adding a legend to differentiate between titles and comments\n",
    "plt.legend()\n",
    "\n",
    "# Displaying the plot\n",
    "plt.show()"
   ]
  },
  {
   "cell_type": "code",
   "execution_count": 29,
   "id": "74ec0058",
   "metadata": {
    "ExecuteTime": {
     "end_time": "2022-10-30T14:12:54.757977Z",
     "start_time": "2022-10-30T14:11:43.889488Z"
    }
   },
   "outputs": [],
   "source": [
    "# Checking readability\n",
    "all_data2['readability_title'] = all_data2['title'].apply(lambda x: textstat.flesch_reading_ease(x))\n",
    "all_data2['readability_comment'] = all_data2['comment_body'].apply(lambda x: textstat.flesch_reading_ease(x))"
   ]
  },
  {
   "cell_type": "code",
   "execution_count": 30,
   "id": "45c9913b",
   "metadata": {
    "ExecuteTime": {
     "end_time": "2022-10-30T14:12:55.031816Z",
     "start_time": "2022-10-30T14:12:54.759979Z"
    }
   },
   "outputs": [
    {
     "data": {
      "image/png": "[encoded data removed]",
      "text/plain": [
       "<Figure size 640x480 with 1 Axes>"
      ]
     },
     "metadata": {},
     "output_type": "display_data"
    }
   ],
   "source": [
    "# Creating histograms to visualize the distribution of subjectivity scores for titles and comments\n",
    "# The 'subjectivity_title' and 'subjectivity_comment' columns from 'all_data2' are used as data for the histograms\n",
    "# The number of bins is set to 20 for each histogram\n",
    "# The histograms for titles and comments are overlaid, and alpha=0.8 is used to make the comments' histogram slightly transparent\n",
    "plt.hist(all_data2['subjectivity_title'], bins=20, label='Titles')\n",
    "plt.hist(all_data2['subjectivity_comment'], bins=20, alpha=0.8, label='Comments')\n",
    "\n",
    "# Setting the labels for the x and y axes, as well as the plot title\n",
    "plt.xlabel('Subjectivity')\n",
    "plt.ylabel('Number of posts')\n",
    "plt.title('Subjectivity')\n",
    "\n",
    "# Adding a legend to differentiate between titles and comments\n",
    "plt.legend()\n",
    "\n",
    "# Displaying the plot\n",
    "plt.show()"
   ]
  },
  {
   "cell_type": "markdown",
   "id": "6c7bf846",
   "metadata": {},
   "source": [
    "# Using Latent Dirichlet Allocation analysis for titles and comments"
   ]
  },
  {
   "cell_type": "code",
   "execution_count": 33,
   "id": "2421f2fb",
   "metadata": {
    "ExecuteTime": {
     "end_time": "2022-10-30T15:08:02.134249Z",
     "start_time": "2022-10-30T15:08:02.114235Z"
    }
   },
   "outputs": [
    {
     "data": {
      "text/html": [
       "<div>\n",
       "<style scoped>\n",
       "    .dataframe tbody tr th:only-of-type {\n",
       "        vertical-align: middle;\n",
       "    }\n",
       "\n",
       "    .dataframe tbody tr th {\n",
       "        vertical-align: top;\n",
       "    }\n",
       "\n",
       "    .dataframe thead th {\n",
       "        text-align: right;\n",
       "    }\n",
       "</style>\n",
       "<table border=\"1\" class=\"dataframe\">\n",
       "  <thead>\n",
       "    <tr style=\"text-align: right;\">\n",
       "      <th></th>\n",
       "      <th>title</th>\n",
       "      <th>comment_body</th>\n",
       "      <th>lemmatized_title</th>\n",
       "      <th>lemmatized_comment</th>\n",
       "      <th>polarity_title</th>\n",
       "      <th>polarity_comment</th>\n",
       "      <th>subjectivity_title</th>\n",
       "      <th>subjectivity_comment</th>\n",
       "      <th>readability_title</th>\n",
       "      <th>readability_comment</th>\n",
       "    </tr>\n",
       "  </thead>\n",
       "  <tbody>\n",
       "    <tr>\n",
       "      <th>0</th>\n",
       "      <td>feel like alive anymore</td>\n",
       "      <td>anchor anchor need successful care mom dad fuc...</td>\n",
       "      <td>feel like alive anymore</td>\n",
       "      <td>anchor anchor need successful care mom dad fuc...</td>\n",
       "      <td>0.100000</td>\n",
       "      <td>-0.001190</td>\n",
       "      <td>0.400000</td>\n",
       "      <td>0.751190</td>\n",
       "      <td>87.72</td>\n",
       "      <td>-75.36</td>\n",
       "    </tr>\n",
       "    <tr>\n",
       "      <th>1</th>\n",
       "      <td>depress people shave head</td>\n",
       "      <td>know urge think probably take care hair exhaus...</td>\n",
       "      <td>depress people shave head</td>\n",
       "      <td>know urge think probably take care hair exhaus...</td>\n",
       "      <td>-0.066667</td>\n",
       "      <td>0.036970</td>\n",
       "      <td>0.033333</td>\n",
       "      <td>0.497619</td>\n",
       "      <td>89.75</td>\n",
       "      <td>-75.70</td>\n",
       "    </tr>\n",
       "    <tr>\n",
       "      <th>2</th>\n",
       "      <td>random urge kill people</td>\n",
       "      <td>coward handle fact people well life  stop give...</td>\n",
       "      <td>random urge kill people</td>\n",
       "      <td>coward handle fact people well life . stop giv...</td>\n",
       "      <td>-0.500000</td>\n",
       "      <td>0.000000</td>\n",
       "      <td>0.500000</td>\n",
       "      <td>0.000000</td>\n",
       "      <td>83.32</td>\n",
       "      <td>73.51</td>\n",
       "    </tr>\n",
       "    <tr>\n",
       "      <th>3</th>\n",
       "      <td>slap arm anxious normal</td>\n",
       "      <td>normal   crazy  binary opposite  scale  maybe...</td>\n",
       "      <td>slap arm anxious normal ?</td>\n",
       "      <td>' normal ' ' crazy ' binary opposite , scale ....</td>\n",
       "      <td>-0.050000</td>\n",
       "      <td>0.008333</td>\n",
       "      <td>0.825000</td>\n",
       "      <td>0.452778</td>\n",
       "      <td>80.28</td>\n",
       "      <td>3.81</td>\n",
       "    </tr>\n",
       "    <tr>\n",
       "      <th>4</th>\n",
       "      <td>tip find psychiatrist specialize panic attack ...</td>\n",
       "      <td>assume majority aware anxiety disorder treat  ...</td>\n",
       "      <td>tip find psychiatrist specialize panic attack ...</td>\n",
       "      <td>assume majority aware anxiety disorder treat ....</td>\n",
       "      <td>0.000000</td>\n",
       "      <td>0.000000</td>\n",
       "      <td>0.000000</td>\n",
       "      <td>0.712963</td>\n",
       "      <td>42.38</td>\n",
       "      <td>20.73</td>\n",
       "    </tr>\n",
       "    <tr>\n",
       "      <th>...</th>\n",
       "      <td>...</td>\n",
       "      <td>...</td>\n",
       "      <td>...</td>\n",
       "      <td>...</td>\n",
       "      <td>...</td>\n",
       "      <td>...</td>\n",
       "      <td>...</td>\n",
       "      <td>...</td>\n",
       "      <td>...</td>\n",
       "      <td>...</td>\n",
       "    </tr>\n",
       "    <tr>\n",
       "      <th>82560</th>\n",
       "      <td>hear</td>\n",
       "      <td>assume sort exist medical relationship current...</td>\n",
       "      <td>hear ?</td>\n",
       "      <td>assume sort exist medical relationship current...</td>\n",
       "      <td>0.000000</td>\n",
       "      <td>0.071429</td>\n",
       "      <td>0.000000</td>\n",
       "      <td>0.323810</td>\n",
       "      <td>117.16</td>\n",
       "      <td>54.90</td>\n",
       "    </tr>\n",
       "    <tr>\n",
       "      <th>82561</th>\n",
       "      <td>stop intensity</td>\n",
       "      <td>diagnose officially see therapist  abandonment...</td>\n",
       "      <td>stop intensity ?</td>\n",
       "      <td>diagnose officially see therapist . abandonmen...</td>\n",
       "      <td>0.000000</td>\n",
       "      <td>0.026563</td>\n",
       "      <td>0.000000</td>\n",
       "      <td>0.632143</td>\n",
       "      <td>73.85</td>\n",
       "      <td>-36.46</td>\n",
       "    </tr>\n",
       "    <tr>\n",
       "      <th>82562</th>\n",
       "      <td></td>\n",
       "      <td>ask councillor sure  mild ocd</td>\n",
       "      <td>?</td>\n",
       "      <td>ask councillor sure , mild ocd</td>\n",
       "      <td>0.000000</td>\n",
       "      <td>0.416667</td>\n",
       "      <td>0.000000</td>\n",
       "      <td>0.694444</td>\n",
       "      <td>117.16</td>\n",
       "      <td>87.05</td>\n",
       "    </tr>\n",
       "    <tr>\n",
       "      <th>82563</th>\n",
       "      <td>schizophrenic  understand  schizophrenic   wor...</td>\n",
       "      <td>think work way  find gravitate people mental i...</td>\n",
       "      <td>schizophrenic ' understand ' schizophrenic ' '...</td>\n",
       "      <td>think work way . find gravitate people mental ...</td>\n",
       "      <td>0.000000</td>\n",
       "      <td>0.087698</td>\n",
       "      <td>0.000000</td>\n",
       "      <td>0.441270</td>\n",
       "      <td>38.99</td>\n",
       "      <td>-73.00</td>\n",
       "    </tr>\n",
       "    <tr>\n",
       "      <th>82564</th>\n",
       "      <td>mental illness  suicide attempt  qualify  life...</td>\n",
       "      <td>yes  life threaten illness  probably ask kind ...</td>\n",
       "      <td>mental illness , suicide attempt , qualify \" l...</td>\n",
       "      <td>yes . life threaten illness . probably ask kin...</td>\n",
       "      <td>-0.100000</td>\n",
       "      <td>0.300000</td>\n",
       "      <td>0.200000</td>\n",
       "      <td>0.950000</td>\n",
       "      <td>49.82</td>\n",
       "      <td>25.47</td>\n",
       "    </tr>\n",
       "  </tbody>\n",
       "</table>\n",
       "<p>82548 rows × 10 columns</p>\n",
       "</div>"
      ],
      "text/plain": [
       "                                                   title  \\\n",
       "0                                feel like alive anymore   \n",
       "1                              depress people shave head   \n",
       "2                                random urge kill people   \n",
       "3                               slap arm anxious normal    \n",
       "4      tip find psychiatrist specialize panic attack ...   \n",
       "...                                                  ...   \n",
       "82560                                              hear    \n",
       "82561                                    stop intensity    \n",
       "82562                                                      \n",
       "82563  schizophrenic  understand  schizophrenic   wor...   \n",
       "82564  mental illness  suicide attempt  qualify  life...   \n",
       "\n",
       "                                            comment_body  \\\n",
       "0      anchor anchor need successful care mom dad fuc...   \n",
       "1      know urge think probably take care hair exhaus...   \n",
       "2      coward handle fact people well life  stop give...   \n",
       "3       normal   crazy  binary opposite  scale  maybe...   \n",
       "4      assume majority aware anxiety disorder treat  ...   \n",
       "...                                                  ...   \n",
       "82560  assume sort exist medical relationship current...   \n",
       "82561  diagnose officially see therapist  abandonment...   \n",
       "82562                      ask councillor sure  mild ocd   \n",
       "82563  think work way  find gravitate people mental i...   \n",
       "82564  yes  life threaten illness  probably ask kind ...   \n",
       "\n",
       "                                        lemmatized_title  \\\n",
       "0                                feel like alive anymore   \n",
       "1                              depress people shave head   \n",
       "2                                random urge kill people   \n",
       "3                              slap arm anxious normal ?   \n",
       "4      tip find psychiatrist specialize panic attack ...   \n",
       "...                                                  ...   \n",
       "82560                                             hear ?   \n",
       "82561                                   stop intensity ?   \n",
       "82562                                                  ?   \n",
       "82563  schizophrenic ' understand ' schizophrenic ' '...   \n",
       "82564  mental illness , suicide attempt , qualify \" l...   \n",
       "\n",
       "                                      lemmatized_comment  polarity_title  \\\n",
       "0      anchor anchor need successful care mom dad fuc...        0.100000   \n",
       "1      know urge think probably take care hair exhaus...       -0.066667   \n",
       "2      coward handle fact people well life . stop giv...       -0.500000   \n",
       "3      ' normal ' ' crazy ' binary opposite , scale ....       -0.050000   \n",
       "4      assume majority aware anxiety disorder treat ....        0.000000   \n",
       "...                                                  ...             ...   \n",
       "82560  assume sort exist medical relationship current...        0.000000   \n",
       "82561  diagnose officially see therapist . abandonmen...        0.000000   \n",
       "82562                     ask councillor sure , mild ocd        0.000000   \n",
       "82563  think work way . find gravitate people mental ...        0.000000   \n",
       "82564  yes . life threaten illness . probably ask kin...       -0.100000   \n",
       "\n",
       "       polarity_comment  subjectivity_title  subjectivity_comment  \\\n",
       "0             -0.001190            0.400000              0.751190   \n",
       "1              0.036970            0.033333              0.497619   \n",
       "2              0.000000            0.500000              0.000000   \n",
       "3              0.008333            0.825000              0.452778   \n",
       "4              0.000000            0.000000              0.712963   \n",
       "...                 ...                 ...                   ...   \n",
       "82560          0.071429            0.000000              0.323810   \n",
       "82561          0.026563            0.000000              0.632143   \n",
       "82562          0.416667            0.000000              0.694444   \n",
       "82563          0.087698            0.000000              0.441270   \n",
       "82564          0.300000            0.200000              0.950000   \n",
       "\n",
       "       readability_title  readability_comment  \n",
       "0                  87.72               -75.36  \n",
       "1                  89.75               -75.70  \n",
       "2                  83.32                73.51  \n",
       "3                  80.28                 3.81  \n",
       "4                  42.38                20.73  \n",
       "...                  ...                  ...  \n",
       "82560             117.16                54.90  \n",
       "82561              73.85               -36.46  \n",
       "82562             117.16                87.05  \n",
       "82563              38.99               -73.00  \n",
       "82564              49.82                25.47  \n",
       "\n",
       "[82548 rows x 10 columns]"
      ]
     },
     "execution_count": 33,
     "metadata": {},
     "output_type": "execute_result"
    }
   ],
   "source": [
    "all_data2"
   ]
  },
  {
   "cell_type": "code",
   "execution_count": null,
   "id": "91c741a0",
   "metadata": {},
   "outputs": [],
   "source": [
    "# Converting the 'lemmatized_title' column in DataFrame 'all_data2' to a string data type\n",
    "# This ensures that all elements in the 'lemmatized_title' column are treated as strings\n",
    "all_data2['lemmatized_title'] = all_data2.lemmatized_title.astype('string')\n",
    "\n",
    "# Converting the 'lemmatized_comment' column in DataFrame 'all_data2' to a string data type\n",
    "# This ensures that all elements in the 'lemmatized_comment' column are treated as strings\n",
    "all_data2['lemmatized_comment'] = all_data2.lemmatized_comment.astype('string')"
   ]
  },
  {
   "cell_type": "code",
   "execution_count": 55,
   "id": "967c3226",
   "metadata": {
    "ExecuteTime": {
     "end_time": "2022-10-30T15:17:04.610608Z",
     "start_time": "2022-10-30T15:17:04.606604Z"
    }
   },
   "outputs": [],
   "source": [
    "# Function to remove punctuations from the input 'text' using the 'translate' method.\n",
    "# The 'string.punctuation' constant provides a string of all ASCII punctuation characters to be removed.\n",
    "def remove_punctuations(text):\n",
    "    return text.translate(None, string.punctuation)"
   ]
  },
  {
   "cell_type": "code",
   "execution_count": null,
   "id": "9a95e3b4",
   "metadata": {},
   "outputs": [],
   "source": [
    "# Removing special characters and punctuations from the 'lemmatized_title' column in DataFrame 'all_data2'\n",
    "# The 'str.replace' method is used with the regular expression '[^\\w\\s]' to replace any non-word and non-space characters with an empty string\n",
    "all_data2['lemmatized_title'] = all_data2['lemmatized_title'].str.replace('[^\\w\\s]', '')\n",
    "\n",
    "# Removing special characters and punctuations from the 'lemmatized_comment' column in DataFrame 'all_data2'\n",
    "# The 'str.replace' method is used with the regular expression '[^\\w\\s]' to replace any non-word and non-space characters with an empty string\n",
    "all_data2['lemmatized_comment'] = all_data2['lemmatized_comment'].str.replace('[^\\w\\s]', '')"
   ]
  },
  {
   "cell_type": "code",
   "execution_count": 51,
   "id": "a0bb2dd2",
   "metadata": {
    "ExecuteTime": {
     "end_time": "2022-10-30T15:15:15.664216Z",
     "start_time": "2022-10-30T15:15:11.029131Z"
    }
   },
   "outputs": [],
   "source": [
    "# Remove extra space between tokens\n",
    "def remove_space(string):\n",
    "    result = re.sub('\\\\s+',' ', string)\n",
    "    return result\n",
    "# Applying 'remove_space' function to titles and comments\n",
    "all_data2['lemmatized_title'] = all_data2.lemmatized_title.apply(lambda x: remove_space(x))\n",
    "all_data2['lemmatized_comment'] = all_data2.lemmatized_comment.apply(lambda x: remove_space(x))"
   ]
  },
  {
   "cell_type": "code",
   "execution_count": 52,
   "id": "e06f921a",
   "metadata": {
    "ExecuteTime": {
     "end_time": "2022-10-30T15:15:21.147773Z",
     "start_time": "2022-10-30T15:15:19.195184Z"
    }
   },
   "outputs": [
    {
     "name": "stderr",
     "output_type": "stream",
     "text": [
      "C:\\Users\\Julia\\AppData\\Local\\Temp\\ipykernel_22616\\4125532046.py:2: FutureWarning: The default value of regex will change from True to False in a future version.\n",
      "  all_data2['lemmatized_title'] = all_data2['lemmatized_title'].str.replace('\\\\d+', '')\n",
      "C:\\Users\\Julia\\AppData\\Local\\Temp\\ipykernel_22616\\4125532046.py:3: FutureWarning: The default value of regex will change from True to False in a future version.\n",
      "  all_data2['lemmatized_comment'] = all_data2['lemmatized_comment'].str.replace('\\\\d+', '')\n"
     ]
    }
   ],
   "source": [
    "# Removing digits from titles and comments\n",
    "all_data2['lemmatized_title'] = all_data2['lemmatized_title'].str.replace('\\\\d+', '')\n",
    "all_data2['lemmatized_comment'] = all_data2['lemmatized_comment'].str.replace('\\\\d+', '')"
   ]
  },
  {
   "cell_type": "code",
   "execution_count": 53,
   "id": "1093675f",
   "metadata": {
    "ExecuteTime": {
     "end_time": "2022-10-30T15:15:27.257598Z",
     "start_time": "2022-10-30T15:15:27.236583Z"
    }
   },
   "outputs": [
    {
     "data": {
      "text/html": [
       "<div>\n",
       "<style scoped>\n",
       "    .dataframe tbody tr th:only-of-type {\n",
       "        vertical-align: middle;\n",
       "    }\n",
       "\n",
       "    .dataframe tbody tr th {\n",
       "        vertical-align: top;\n",
       "    }\n",
       "\n",
       "    .dataframe thead th {\n",
       "        text-align: right;\n",
       "    }\n",
       "</style>\n",
       "<table border=\"1\" class=\"dataframe\">\n",
       "  <thead>\n",
       "    <tr style=\"text-align: right;\">\n",
       "      <th></th>\n",
       "      <th>title</th>\n",
       "      <th>comment_body</th>\n",
       "      <th>lemmatized_title</th>\n",
       "      <th>lemmatized_comment</th>\n",
       "      <th>polarity_title</th>\n",
       "      <th>polarity_comment</th>\n",
       "      <th>subjectivity_title</th>\n",
       "      <th>subjectivity_comment</th>\n",
       "      <th>readability_title</th>\n",
       "      <th>readability_comment</th>\n",
       "    </tr>\n",
       "  </thead>\n",
       "  <tbody>\n",
       "    <tr>\n",
       "      <th>0</th>\n",
       "      <td>feel like alive anymore</td>\n",
       "      <td>anchor anchor need successful care mom dad fuc...</td>\n",
       "      <td>feel like alive anymore</td>\n",
       "      <td>anchor anchor need successful care mom dad fuc...</td>\n",
       "      <td>0.100000</td>\n",
       "      <td>-0.001190</td>\n",
       "      <td>0.400000</td>\n",
       "      <td>0.751190</td>\n",
       "      <td>87.72</td>\n",
       "      <td>-75.36</td>\n",
       "    </tr>\n",
       "    <tr>\n",
       "      <th>1</th>\n",
       "      <td>depress people shave head</td>\n",
       "      <td>know urge think probably take care hair exhaus...</td>\n",
       "      <td>depress people shave head</td>\n",
       "      <td>know urge think probably take care hair exhaus...</td>\n",
       "      <td>-0.066667</td>\n",
       "      <td>0.036970</td>\n",
       "      <td>0.033333</td>\n",
       "      <td>0.497619</td>\n",
       "      <td>89.75</td>\n",
       "      <td>-75.70</td>\n",
       "    </tr>\n",
       "    <tr>\n",
       "      <th>2</th>\n",
       "      <td>random urge kill people</td>\n",
       "      <td>coward handle fact people well life  stop give...</td>\n",
       "      <td>random urge kill people</td>\n",
       "      <td>coward handle fact people well life . stop giv...</td>\n",
       "      <td>-0.500000</td>\n",
       "      <td>0.000000</td>\n",
       "      <td>0.500000</td>\n",
       "      <td>0.000000</td>\n",
       "      <td>83.32</td>\n",
       "      <td>73.51</td>\n",
       "    </tr>\n",
       "    <tr>\n",
       "      <th>3</th>\n",
       "      <td>slap arm anxious normal</td>\n",
       "      <td>normal   crazy  binary opposite  scale  maybe...</td>\n",
       "      <td>slap arm anxious normal ?</td>\n",
       "      <td>' normal ' ' crazy ' binary opposite , scale ....</td>\n",
       "      <td>-0.050000</td>\n",
       "      <td>0.008333</td>\n",
       "      <td>0.825000</td>\n",
       "      <td>0.452778</td>\n",
       "      <td>80.28</td>\n",
       "      <td>3.81</td>\n",
       "    </tr>\n",
       "    <tr>\n",
       "      <th>4</th>\n",
       "      <td>tip find psychiatrist specialize panic attack ...</td>\n",
       "      <td>assume majority aware anxiety disorder treat  ...</td>\n",
       "      <td>tip find psychiatrist specialize panic attack ...</td>\n",
       "      <td>assume majority aware anxiety disorder treat ....</td>\n",
       "      <td>0.000000</td>\n",
       "      <td>0.000000</td>\n",
       "      <td>0.000000</td>\n",
       "      <td>0.712963</td>\n",
       "      <td>42.38</td>\n",
       "      <td>20.73</td>\n",
       "    </tr>\n",
       "    <tr>\n",
       "      <th>...</th>\n",
       "      <td>...</td>\n",
       "      <td>...</td>\n",
       "      <td>...</td>\n",
       "      <td>...</td>\n",
       "      <td>...</td>\n",
       "      <td>...</td>\n",
       "      <td>...</td>\n",
       "      <td>...</td>\n",
       "      <td>...</td>\n",
       "      <td>...</td>\n",
       "    </tr>\n",
       "    <tr>\n",
       "      <th>82560</th>\n",
       "      <td>hear</td>\n",
       "      <td>assume sort exist medical relationship current...</td>\n",
       "      <td>hear ?</td>\n",
       "      <td>assume sort exist medical relationship current...</td>\n",
       "      <td>0.000000</td>\n",
       "      <td>0.071429</td>\n",
       "      <td>0.000000</td>\n",
       "      <td>0.323810</td>\n",
       "      <td>117.16</td>\n",
       "      <td>54.90</td>\n",
       "    </tr>\n",
       "    <tr>\n",
       "      <th>82561</th>\n",
       "      <td>stop intensity</td>\n",
       "      <td>diagnose officially see therapist  abandonment...</td>\n",
       "      <td>stop intensity ?</td>\n",
       "      <td>diagnose officially see therapist . abandonmen...</td>\n",
       "      <td>0.000000</td>\n",
       "      <td>0.026563</td>\n",
       "      <td>0.000000</td>\n",
       "      <td>0.632143</td>\n",
       "      <td>73.85</td>\n",
       "      <td>-36.46</td>\n",
       "    </tr>\n",
       "    <tr>\n",
       "      <th>82562</th>\n",
       "      <td></td>\n",
       "      <td>ask councillor sure  mild ocd</td>\n",
       "      <td>?</td>\n",
       "      <td>ask councillor sure , mild ocd</td>\n",
       "      <td>0.000000</td>\n",
       "      <td>0.416667</td>\n",
       "      <td>0.000000</td>\n",
       "      <td>0.694444</td>\n",
       "      <td>117.16</td>\n",
       "      <td>87.05</td>\n",
       "    </tr>\n",
       "    <tr>\n",
       "      <th>82563</th>\n",
       "      <td>schizophrenic  understand  schizophrenic   wor...</td>\n",
       "      <td>think work way  find gravitate people mental i...</td>\n",
       "      <td>schizophrenic ' understand ' schizophrenic ' '...</td>\n",
       "      <td>think work way . find gravitate people mental ...</td>\n",
       "      <td>0.000000</td>\n",
       "      <td>0.087698</td>\n",
       "      <td>0.000000</td>\n",
       "      <td>0.441270</td>\n",
       "      <td>38.99</td>\n",
       "      <td>-73.00</td>\n",
       "    </tr>\n",
       "    <tr>\n",
       "      <th>82564</th>\n",
       "      <td>mental illness  suicide attempt  qualify  life...</td>\n",
       "      <td>yes  life threaten illness  probably ask kind ...</td>\n",
       "      <td>mental illness , suicide attempt , qualify \" l...</td>\n",
       "      <td>yes . life threaten illness . probably ask kin...</td>\n",
       "      <td>-0.100000</td>\n",
       "      <td>0.300000</td>\n",
       "      <td>0.200000</td>\n",
       "      <td>0.950000</td>\n",
       "      <td>49.82</td>\n",
       "      <td>25.47</td>\n",
       "    </tr>\n",
       "  </tbody>\n",
       "</table>\n",
       "<p>82548 rows × 10 columns</p>\n",
       "</div>"
      ],
      "text/plain": [
       "                                                   title  \\\n",
       "0                                feel like alive anymore   \n",
       "1                              depress people shave head   \n",
       "2                                random urge kill people   \n",
       "3                               slap arm anxious normal    \n",
       "4      tip find psychiatrist specialize panic attack ...   \n",
       "...                                                  ...   \n",
       "82560                                              hear    \n",
       "82561                                    stop intensity    \n",
       "82562                                                      \n",
       "82563  schizophrenic  understand  schizophrenic   wor...   \n",
       "82564  mental illness  suicide attempt  qualify  life...   \n",
       "\n",
       "                                            comment_body  \\\n",
       "0      anchor anchor need successful care mom dad fuc...   \n",
       "1      know urge think probably take care hair exhaus...   \n",
       "2      coward handle fact people well life  stop give...   \n",
       "3       normal   crazy  binary opposite  scale  maybe...   \n",
       "4      assume majority aware anxiety disorder treat  ...   \n",
       "...                                                  ...   \n",
       "82560  assume sort exist medical relationship current...   \n",
       "82561  diagnose officially see therapist  abandonment...   \n",
       "82562                      ask councillor sure  mild ocd   \n",
       "82563  think work way  find gravitate people mental i...   \n",
       "82564  yes  life threaten illness  probably ask kind ...   \n",
       "\n",
       "                                        lemmatized_title  \\\n",
       "0                                feel like alive anymore   \n",
       "1                              depress people shave head   \n",
       "2                                random urge kill people   \n",
       "3                              slap arm anxious normal ?   \n",
       "4      tip find psychiatrist specialize panic attack ...   \n",
       "...                                                  ...   \n",
       "82560                                             hear ?   \n",
       "82561                                   stop intensity ?   \n",
       "82562                                                  ?   \n",
       "82563  schizophrenic ' understand ' schizophrenic ' '...   \n",
       "82564  mental illness , suicide attempt , qualify \" l...   \n",
       "\n",
       "                                      lemmatized_comment  polarity_title  \\\n",
       "0      anchor anchor need successful care mom dad fuc...        0.100000   \n",
       "1      know urge think probably take care hair exhaus...       -0.066667   \n",
       "2      coward handle fact people well life . stop giv...       -0.500000   \n",
       "3      ' normal ' ' crazy ' binary opposite , scale ....       -0.050000   \n",
       "4      assume majority aware anxiety disorder treat ....        0.000000   \n",
       "...                                                  ...             ...   \n",
       "82560  assume sort exist medical relationship current...        0.000000   \n",
       "82561  diagnose officially see therapist . abandonmen...        0.000000   \n",
       "82562                     ask councillor sure , mild ocd        0.000000   \n",
       "82563  think work way . find gravitate people mental ...        0.000000   \n",
       "82564  yes . life threaten illness . probably ask kin...       -0.100000   \n",
       "\n",
       "       polarity_comment  subjectivity_title  subjectivity_comment  \\\n",
       "0             -0.001190            0.400000              0.751190   \n",
       "1              0.036970            0.033333              0.497619   \n",
       "2              0.000000            0.500000              0.000000   \n",
       "3              0.008333            0.825000              0.452778   \n",
       "4              0.000000            0.000000              0.712963   \n",
       "...                 ...                 ...                   ...   \n",
       "82560          0.071429            0.000000              0.323810   \n",
       "82561          0.026563            0.000000              0.632143   \n",
       "82562          0.416667            0.000000              0.694444   \n",
       "82563          0.087698            0.000000              0.441270   \n",
       "82564          0.300000            0.200000              0.950000   \n",
       "\n",
       "       readability_title  readability_comment  \n",
       "0                  87.72               -75.36  \n",
       "1                  89.75               -75.70  \n",
       "2                  83.32                73.51  \n",
       "3                  80.28                 3.81  \n",
       "4                  42.38                20.73  \n",
       "...                  ...                  ...  \n",
       "82560             117.16                54.90  \n",
       "82561              73.85               -36.46  \n",
       "82562             117.16                87.05  \n",
       "82563              38.99               -73.00  \n",
       "82564              49.82                25.47  \n",
       "\n",
       "[82548 rows x 10 columns]"
      ]
     },
     "execution_count": 53,
     "metadata": {},
     "output_type": "execute_result"
    }
   ],
   "source": [
    "all_data2"
   ]
  },
  {
   "cell_type": "code",
   "execution_count": 66,
   "id": "436ef50a",
   "metadata": {
    "ExecuteTime": {
     "end_time": "2022-10-30T15:53:48.190800Z",
     "start_time": "2022-10-30T15:53:37.702197Z"
    }
   },
   "outputs": [],
   "source": [
    "# Saving the resulting DataFrame to csv file\n",
    "all_data2.to_csv(\"../Data/all_data3.csv\", index=False)"
   ]
  },
  {
   "cell_type": "code",
   "execution_count": 9,
   "id": "ddbdc04c",
   "metadata": {
    "ExecuteTime": {
     "end_time": "2022-11-14T17:09:12.944140Z",
     "start_time": "2022-11-14T17:09:11.560874Z"
    }
   },
   "outputs": [],
   "source": [
    "# Loading csv file as a DataFrame\n",
    "#all_data3 = pd.read_csv('../Data/all_data3.csv')\n",
    "all_data3 = pd.read_csv('all_data3.csv')"
   ]
  },
  {
   "cell_type": "code",
   "execution_count": 10,
   "id": "224b6376",
   "metadata": {
    "ExecuteTime": {
     "end_time": "2022-11-14T17:09:13.887848Z",
     "start_time": "2022-11-14T17:09:13.822908Z"
    }
   },
   "outputs": [],
   "source": [
    "# Dropping all missing values from the DataFrame\n",
    "all_data3.dropna(inplace=True)"
   ]
  },
  {
   "cell_type": "markdown",
   "id": "39ecb7fd",
   "metadata": {},
   "source": [
    "# Processing titles"
   ]
  },
  {
   "cell_type": "code",
   "execution_count": 34,
   "id": "1793d369",
   "metadata": {
    "ExecuteTime": {
     "end_time": "2022-11-14T18:01:25.932138Z",
     "start_time": "2022-11-14T18:01:25.861822Z"
    }
   },
   "outputs": [],
   "source": [
    "# Extracting the 'lemmatized_title' column from DataFrame 'all_data3' and converting it to a list\n",
    "l1 = list(all_data3.lemmatized_title)\n",
    "\n",
    "# Splitting the lemmatized titles into lists of individual words\n",
    "# Each element in the list 'l1' is split into a list of words using the 'split()' method\n",
    "X_title = [el.split() for el in l1]"
   ]
  },
  {
   "cell_type": "code",
   "execution_count": 35,
   "id": "5c5ed6d9",
   "metadata": {
    "ExecuteTime": {
     "end_time": "2022-11-14T18:01:29.049015Z",
     "start_time": "2022-11-14T18:01:27.813721Z"
    }
   },
   "outputs": [
    {
     "name": "stdout",
     "output_type": "stream",
     "text": [
      "[(0, 1), (1, 1), (2, 1), (3, 1)]\n"
     ]
    }
   ],
   "source": [
    "# Create Dictionary\n",
    "id2word = corpora.Dictionary(X_title)\n",
    "# Filter out words that occur less than 20 documents, or more than 50% of the documents.\n",
    "id2word.filter_extremes(no_below=20, no_above=0.5)\n",
    "# Create Corpus\n",
    "texts = X_title\n",
    "# Term Document Frequency\n",
    "corpus = [id2word.doc2bow(text) for text in texts]\n",
    "# View\n",
    "print(corpus[:1][0][:30])"
   ]
  },
  {
   "cell_type": "code",
   "execution_count": 39,
   "id": "4c4205d6",
   "metadata": {
    "ExecuteTime": {
     "end_time": "2022-11-14T18:02:03.828415Z",
     "start_time": "2022-11-14T18:01:57.668882Z"
    }
   },
   "outputs": [
    {
     "name": "stdout",
     "output_type": "stream",
     "text": [
      "[(0,\n",
      "  '0.033*\"help\" + 0.030*\"mental\" + 0.029*\"feel\" + 0.017*\"health\" + '\n",
      "  '0.014*\"anxiety\" + 0.014*\"like\" + 0.010*\"wrong\" + 0.010*\"need\" + 0.009*\"go\" '\n",
      "  '+ 0.009*\"want\"'),\n",
      " (1,\n",
      "  '0.018*\"mental\" + 0.017*\"feel\" + 0.017*\"like\" + 0.016*\"depression\" + '\n",
      "  '0.013*\"people\" + 0.013*\"help\" + 0.012*\"know\" + 0.010*\"normal\" + '\n",
      "  '0.010*\"think\" + 0.009*\"health\"')]\n"
     ]
    }
   ],
   "source": [
    "# Define number of topics\n",
    "num_topics = 2\n",
    "# Build LDA model\n",
    "lda_model = gensim.models.LdaMulticore(corpus=corpus,\n",
    "                                       id2word=id2word,\n",
    "                                       num_topics=num_topics)\n",
    "# Print the Keyword in the 10 topics\n",
    "pprint(lda_model.print_topics())\n",
    "doc_lda = lda_model[corpus]"
   ]
  },
  {
   "cell_type": "code",
   "execution_count": 40,
   "id": "bac34c53",
   "metadata": {
    "ExecuteTime": {
     "end_time": "2022-11-14T18:02:06.739562Z",
     "start_time": "2022-11-14T18:02:03.831497Z"
    }
   },
   "outputs": [
    {
     "data": {
      "text/plain": [
       "0.14954286166575664"
      ]
     },
     "execution_count": 40,
     "metadata": {},
     "output_type": "execute_result"
    }
   ],
   "source": [
    "# Calculating the coherence score of the LDA (Latent Dirichlet Allocation) model using the 'c_v' coherence measure\n",
    "# The 'CoherenceModel' from the gensim library is used to compute the coherence score\n",
    "# 'lda_model' is the trained LDA model, 'texts' is the list of tokenized texts used for training the model,\n",
    "# and 'id2word' is the mapping of word IDs to words (the dictionary used during model training)\n",
    "# The 'coherence' parameter is set to 'c_v' to specify the coherence measure\n",
    "coherence_model_lda = CoherenceModel(model=lda_model, texts=texts, dictionary=id2word, coherence='c_v')\n",
    "\n",
    "# Getting the coherence score of the LDA model\n",
    "# The coherence score reflects the quality and interpretability of the topics learned by the model\n",
    "coherence_lda = coherence_model_lda.get_coherence()\n",
    "\n",
    "# The 'coherence_lda' variable now holds the computed coherence score of the LDA model\n",
    "coherence_lda"
   ]
  },
  {
   "cell_type": "code",
   "execution_count": 41,
   "id": "e1d227af",
   "metadata": {
    "ExecuteTime": {
     "end_time": "2022-11-14T18:02:27.045480Z",
     "start_time": "2022-11-14T18:02:06.741979Z"
    }
   },
   "outputs": [
    {
     "name": "stderr",
     "output_type": "stream",
     "text": [
      "/Users/yuliya/opt/anaconda3/lib/python3.9/site-packages/pyLDAvis/_prepare.py:246: FutureWarning: In a future version of pandas all arguments of DataFrame.drop except for the argument 'labels' will be keyword-only.\n",
      "  default_term_info = default_term_info.sort_values(\n",
      "/Users/yuliya/opt/anaconda3/lib/python3.9/site-packages/past/builtins/misc.py:45: DeprecationWarning: the imp module is deprecated in favour of importlib; see the module's documentation for alternative uses\n",
      "  from imp import reload\n",
      "/Users/yuliya/opt/anaconda3/lib/python3.9/site-packages/past/builtins/misc.py:45: DeprecationWarning: the imp module is deprecated in favour of importlib; see the module's documentation for alternative uses\n",
      "  from imp import reload\n",
      "/Users/yuliya/opt/anaconda3/lib/python3.9/site-packages/past/builtins/misc.py:45: DeprecationWarning: the imp module is deprecated in favour of importlib; see the module's documentation for alternative uses\n",
      "  from imp import reload\n"
     ]
    },
    {
     "data": {
      "text/html": [
       "\n",
       "<link rel=\"stylesheet\" type=\"text/css\" href=\"https://cdn.jsdelivr.net/gh/bmabey/pyLDAvis@3.3.1/pyLDAvis/js/ldavis.v1.0.0.css\">\n",
       "\n",
       "\n",
       "<div id=\"ldavis_el27071405129422141609343987094\"></div>\n",
       "<script type=\"text/javascript\">\n",
       "\n",
       "var ldavis_el27071405129422141609343987094_data = {\"mdsDat\": {\"x\": [0.019623456150891845, -0.019623456150891845], \"y\": [0.0, 0.0], \"topics\": [1, 2], \"cluster\": [1, 1], \"Freq\": [50.66302496119681, 49.336975038803196]}, \"tinfo\": {\"Term\": [\"help\", \"depression\", \"find\", \"mental\", \"feel\", \"go\", \"health\", \"day\", \"get\", \"talk\", \"anxiety\", \"therapist\", \"care\", \"thought\", \"look\", \"need\", \"parent\", \"psychiatrist\", \"head\", \"good\", \"hurt\", \"think\", \"come\", \"online\", \"symptom\", \"relationship\", \"suicidal\", \"effect\", \"people\", \"depressed\", \"punch\", \"overwhelmed\", \"daydreaming\", \"maladaptive\", \"kick\", \"hurt\", \"entirely\", \"vitamin\", \"blank\", \"spend\", \"crippling\", \"repeat\", \"witness\", \"find\", \"disappear\", \"comfort\", \"hormone\", \"connection\", \"intelligence\", \"carry\", \"effect\", \"drug\", \"truly\", \"head\", \"scratch\", \"dm\", \"favorite\", \"constantly\", \"lol\", \"loud\", \"day\", \"affect\", \"vent\", \"urge\", \"sure\", \"help\", \"place\", \"borderline\", \"seek\", \"line\", \"go\", \"begin\", \"mean\", \"sort\", \"consider\", \"ssri\", \"health\", \"diagnose\", \"feel\", \"mental\", \"need\", \"anxiety\", \"guy\", \"hospital\", \"stress\", \"wrong\", \"suicide\", \"illness\", \"happen\", \"want\", \"bipolar\", \"bad\", \"self\", \"friend\", \"experience\", \"disorder\", \"year\", \"like\", \"advice\", \"time\", \"people\", \"possible\", \"know\", \"issue\", \"life\", \"stop\", \"deal\", \"normal\", \"think\", \"therapy\", \"depression\", \"terror\", \"count\", \"narcissism\", \"run\", \"frequent\", \"schedule\", \"spectrum\", \"difficulty\", \"sleeping\", \"goal\", \"split\", \"loser\", \"meeting\", \"server\", \"slip\", \"meltdown\", \"autistic\", \"asperger\", \"dumb\", \"breathing\", \"community\", \"escape\", \"keep\", \"unhappy\", \"naturally\", \"claim\", \"trust\", \"childhood\", \"nature\", \"brush\", \"look\", \"online\", \"care\", \"depression\", \"episode\", \"come\", \"relationship\", \"get\", \"night\", \"loss\", \"scared\", \"difference\", \"manic\", \"psychiatrist\", \"symptom\", \"hate\", \"talk\", \"healthy\", \"parent\", \"panic\", \"job\", \"thought\", \"therapist\", \"idea\", \"trauma\", \"good\", \"suicidal\", \"depressed\", \"think\", \"people\", \"work\", \"normal\", \"know\", \"therapy\", \"tell\", \"like\", \"thing\", \"way\", \"start\", \"life\", \"stop\", \"feeling\", \"well\", \"mental\", \"feel\", \"person\", \"deal\", \"help\", \"health\", \"anxiety\", \"want\", \"wrong\", \"friend\", \"illness\", \"bad\"], \"Freq\": [7097.0, 3349.0, 1228.0, 7434.0, 7118.0, 2093.0, 4140.0, 1067.0, 1509.0, 1873.0, 3393.0, 2177.0, 795.0, 1988.0, 734.0, 2235.0, 1275.0, 1060.0, 593.0, 1745.0, 394.0, 2548.0, 589.0, 457.0, 705.0, 572.0, 1198.0, 431.0, 3401.0, 1430.0, 25.570262804083047, 73.46529169980349, 25.674031514044653, 23.74764458210478, 45.492979151537824, 323.3739933281977, 19.77563653435365, 22.977508808858598, 24.164176314420978, 71.54859298843176, 32.29131716073777, 34.65154013963468, 16.85411542720294, 973.9560269480924, 33.20944301898926, 90.34538303944805, 23.837596828314698, 28.765632809684487, 20.66446901936699, 20.03095179366983, 339.2457687033858, 201.4766923582422, 81.97134809248645, 463.8842963349072, 16.136753696803712, 25.335712264912807, 37.999389837648245, 216.6595702969595, 38.53948526316904, 54.247654129829805, 817.7142127755911, 311.2671025487135, 193.5235872663901, 157.7915269311053, 328.34493788040766, 5112.959996671593, 183.8604517792614, 164.30435315900496, 426.55081613747615, 106.60496169120246, 1491.2658006172019, 81.51529729425972, 438.45867299186057, 130.2192262810756, 244.99724037187272, 77.80342803207081, 2710.7435492262807, 543.9316498180965, 4483.836557397083, 4665.271477618996, 1493.1793659805617, 2190.2297648298263, 363.38965601765096, 461.3026737300287, 372.3020504695925, 1637.2436266581221, 678.0357976562308, 1393.206883243237, 815.9716870456044, 1416.4710545142227, 564.5435357687471, 1216.2159927937018, 1068.2266762591462, 1230.7479211136222, 987.90025811098, 1120.1473414830432, 598.1851726858814, 2135.197598119741, 967.2768450990301, 879.736389457518, 1403.7342006862752, 572.720137771345, 1291.7328818416925, 754.9056343561402, 1002.1239198772986, 993.7601769493542, 848.6679951546671, 1061.6501767402606, 988.6431863601755, 817.9292382111282, 910.1635132136789, 21.286883982417095, 95.36172510214027, 33.07752252045334, 118.34399596434962, 22.898160896341626, 47.28530249551174, 29.45807005825428, 39.82499530262917, 18.11883213846185, 55.072374366722485, 30.752175070648445, 25.862402426197715, 20.953571181547588, 25.15026291829127, 29.281477884126698, 21.163022012767808, 65.41766853418531, 57.321654459672175, 76.58835577523638, 18.318465240375193, 58.05965459711177, 52.48744285770996, 138.48866687755338, 34.88255704402453, 15.712723397020829, 29.609941956162025, 102.98692916593119, 205.38948071284668, 15.58623438297103, 18.024985738005878, 560.6121214254664, 349.80227414409495, 601.6050790642139, 2439.4965491980734, 347.04611145787896, 434.6769894525614, 419.96304628681526, 1050.7235385127196, 269.2315729644731, 143.79437448402786, 394.0043285506932, 209.09461335397182, 135.21453433480218, 741.2036393490087, 501.9857379586647, 440.0255315803675, 1264.2776460425994, 225.7752739887461, 870.1230759428761, 461.8370337682266, 361.9166750240016, 1310.4522622289564, 1420.780875116154, 317.97615352260544, 495.0620471807922, 1123.5466436455943, 787.1794064263554, 917.5660501019751, 1559.8493849265005, 1998.1243672627966, 883.2975064995971, 1565.387083160154, 1781.4033560376588, 1260.110224859066, 1230.4966747537485, 2591.5583872045695, 1188.7608838394954, 843.738935148803, 670.8215317553809, 1263.439486357308, 1247.6160863258233, 589.2073716580288, 671.63360585863, 2768.9249503219976, 2634.865299896251, 670.6712189342686, 879.0533252836608, 1984.9284838093686, 1429.3675930213008, 1202.8917144656828, 1006.0057236841307, 1054.9768425551626, 924.8530503182635, 897.3167963173253, 879.1796194131111], \"Total\": [7097.0, 3349.0, 1228.0, 7434.0, 7118.0, 2093.0, 4140.0, 1067.0, 1509.0, 1873.0, 3393.0, 2177.0, 795.0, 1988.0, 734.0, 2235.0, 1275.0, 1060.0, 593.0, 1745.0, 394.0, 2548.0, 589.0, 457.0, 705.0, 572.0, 1198.0, 431.0, 3401.0, 1430.0, 30.097671478831636, 87.54061473756396, 30.618991579366103, 28.520320536572655, 55.02303985798801, 394.45060281666906, 24.347623669192338, 28.53407354217758, 30.118909216052064, 89.40979548181184, 40.358949355814076, 43.493830265306116, 21.183775534114815, 1228.6644164745135, 41.92985510023376, 114.09809619995997, 30.124718221000784, 36.411054201821784, 26.189731945136323, 25.406197009291848, 431.5271322359369, 256.29894626190605, 104.38832666291027, 593.2608720632524, 20.67184249520984, 32.49821407413154, 48.74267956134938, 278.3973365070769, 49.526300555083566, 69.74217470667593, 1067.0946399879074, 403.6821457802208, 250.45075075173514, 203.86901263309926, 428.0087082201251, 7097.888480480962, 239.79545442795518, 214.0471883168066, 568.3252507251807, 138.29201934428596, 2093.679675268889, 105.16761036364292, 597.3725555157152, 170.8552266057226, 330.8233221590084, 100.4347150715593, 4140.1111422475815, 768.6349026022178, 7118.701857293334, 7434.196427940993, 2235.7404534049156, 3393.121479295509, 504.51811608939994, 660.9649437429644, 534.4667595653574, 2692.2204692132846, 1037.3510773202588, 2290.5236795605624, 1279.027936685977, 2422.4767781983533, 861.691082569474, 2095.395612206813, 1821.8371458408465, 2155.6009714318857, 1707.1290752960372, 1987.062532283464, 936.9096271118789, 4726.755985324311, 1769.669206173833, 1635.2985737349682, 3401.8585679490716, 912.5330237988668, 3073.136237879351, 1413.7173926481116, 2265.5634062346066, 2241.3762632751777, 1727.721320438328, 2627.0372599004145, 2548.492571286676, 2078.039463070194, 3349.6600624117523, 24.051726539286097, 109.9727224299388, 39.42517842471392, 141.15271108709624, 27.768276253577053, 57.443079277950815, 35.96053107944603, 49.18282776585421, 22.45861719499784, 68.5488629977799, 38.324122671325114, 32.249816399921556, 26.15853852106375, 31.457123546283192, 36.739895938361656, 26.69261964434417, 83.05062906983828, 72.98349894873672, 97.91639700294596, 23.508737292071366, 74.54350663526895, 67.4286207347131, 178.34844435985752, 44.93719864745039, 20.310335823181433, 38.28894657996689, 133.8914379321837, 267.2108989847097, 20.306955080494724, 23.504549290909186, 734.8249352111236, 457.7739976638526, 795.4677083081824, 3349.6600624117523, 460.8309136939061, 589.5971620078785, 572.3695144143057, 1509.2466901219773, 366.5515965606972, 190.97965431274875, 546.5872430522137, 282.693312491391, 179.8629732769458, 1060.1118295668196, 705.8978239155897, 615.6233675234316, 1873.0552366224756, 307.58850922374506, 1275.068044101101, 655.6050862187735, 505.88298312590297, 1988.8722952618275, 2177.404224575104, 447.03626060235456, 720.9796225025199, 1745.7677518018277, 1198.282606450609, 1430.9710774982836, 2548.492571286676, 3401.8585679490716, 1391.0367088135029, 2627.0372599004145, 3073.136237879351, 2078.039463070194, 2024.687265894508, 4726.755985324311, 1974.5607257944098, 1340.2131978780571, 1030.0254373614478, 2265.5634062346066, 2241.3762632751777, 894.1432449366121, 1065.319928573611, 7434.196427940993, 7118.701857293334, 1077.5235680959818, 1727.721320438328, 7097.888480480962, 4140.1111422475815, 3393.121479295509, 2422.4767781983533, 2692.2204692132846, 2155.6009714318857, 2290.5236795605624, 2095.395612206813], \"Category\": [\"Default\", \"Default\", \"Default\", \"Default\", \"Default\", \"Default\", \"Default\", \"Default\", \"Default\", \"Default\", \"Default\", \"Default\", \"Default\", \"Default\", \"Default\", \"Default\", \"Default\", \"Default\", \"Default\", \"Default\", \"Default\", \"Default\", \"Default\", \"Default\", \"Default\", \"Default\", \"Default\", \"Default\", \"Default\", \"Default\", \"Topic1\", \"Topic1\", \"Topic1\", \"Topic1\", \"Topic1\", \"Topic1\", \"Topic1\", \"Topic1\", \"Topic1\", \"Topic1\", \"Topic1\", \"Topic1\", \"Topic1\", \"Topic1\", \"Topic1\", \"Topic1\", \"Topic1\", \"Topic1\", \"Topic1\", \"Topic1\", \"Topic1\", \"Topic1\", \"Topic1\", \"Topic1\", \"Topic1\", \"Topic1\", \"Topic1\", \"Topic1\", \"Topic1\", \"Topic1\", \"Topic1\", \"Topic1\", \"Topic1\", \"Topic1\", \"Topic1\", \"Topic1\", \"Topic1\", \"Topic1\", \"Topic1\", \"Topic1\", \"Topic1\", \"Topic1\", \"Topic1\", \"Topic1\", \"Topic1\", \"Topic1\", \"Topic1\", \"Topic1\", \"Topic1\", \"Topic1\", \"Topic1\", \"Topic1\", \"Topic1\", \"Topic1\", \"Topic1\", \"Topic1\", \"Topic1\", \"Topic1\", \"Topic1\", \"Topic1\", \"Topic1\", \"Topic1\", \"Topic1\", \"Topic1\", \"Topic1\", \"Topic1\", \"Topic1\", \"Topic1\", \"Topic1\", \"Topic1\", \"Topic1\", \"Topic1\", \"Topic1\", \"Topic1\", \"Topic1\", \"Topic1\", \"Topic1\", \"Topic1\", \"Topic1\", \"Topic1\", \"Topic1\", \"Topic2\", \"Topic2\", \"Topic2\", \"Topic2\", \"Topic2\", \"Topic2\", \"Topic2\", \"Topic2\", \"Topic2\", \"Topic2\", \"Topic2\", \"Topic2\", \"Topic2\", \"Topic2\", \"Topic2\", \"Topic2\", \"Topic2\", \"Topic2\", \"Topic2\", \"Topic2\", \"Topic2\", \"Topic2\", \"Topic2\", \"Topic2\", \"Topic2\", \"Topic2\", \"Topic2\", \"Topic2\", \"Topic2\", \"Topic2\", \"Topic2\", \"Topic2\", \"Topic2\", \"Topic2\", \"Topic2\", \"Topic2\", \"Topic2\", \"Topic2\", \"Topic2\", \"Topic2\", \"Topic2\", \"Topic2\", \"Topic2\", \"Topic2\", \"Topic2\", \"Topic2\", \"Topic2\", \"Topic2\", \"Topic2\", \"Topic2\", \"Topic2\", \"Topic2\", \"Topic2\", \"Topic2\", \"Topic2\", \"Topic2\", \"Topic2\", \"Topic2\", \"Topic2\", \"Topic2\", \"Topic2\", \"Topic2\", \"Topic2\", \"Topic2\", \"Topic2\", \"Topic2\", \"Topic2\", \"Topic2\", \"Topic2\", \"Topic2\", \"Topic2\", \"Topic2\", \"Topic2\", \"Topic2\", \"Topic2\", \"Topic2\", \"Topic2\", \"Topic2\", \"Topic2\", \"Topic2\", \"Topic2\", \"Topic2\", \"Topic2\", \"Topic2\", \"Topic2\"], \"logprob\": [30.0, 29.0, 28.0, 27.0, 26.0, 25.0, 24.0, 23.0, 22.0, 21.0, 20.0, 19.0, 18.0, 17.0, 16.0, 15.0, 14.0, 13.0, 12.0, 11.0, 10.0, 9.0, 8.0, 7.0, 6.0, 5.0, 4.0, 3.0, 2.0, 1.0, -8.7236, -7.6683, -8.7196, -8.7976, -8.1475, -6.1863, -8.9806, -8.8306, -8.7802, -7.6947, -8.4903, -8.4197, -9.1405, -5.0837, -8.4622, -7.4614, -8.7938, -8.6059, -8.9367, -8.9678, -6.1384, -6.6594, -7.5587, -5.8254, -9.184, -8.7329, -8.3275, -6.5868, -8.3134, -7.9715, -5.2586, -6.2244, -6.6997, -6.9038, -6.171, -3.4255, -6.7509, -6.8634, -5.9093, -7.2959, -4.6577, -7.5643, -5.8818, -7.0959, -6.4638, -7.6109, -4.0601, -5.6663, -3.5568, -3.5172, -4.6564, -4.2733, -6.0696, -5.831, -6.0454, -4.5643, -5.4459, -4.7257, -5.2607, -4.7092, -5.6291, -4.8616, -4.9913, -4.8497, -5.0695, -4.9439, -5.5712, -4.2988, -5.0906, -5.1855, -4.7182, -5.6147, -4.8013, -5.3385, -5.0552, -5.0636, -5.2214, -4.9975, -5.0687, -5.2583, -5.1515, -8.8805, -7.3809, -8.4397, -7.165, -8.8075, -8.0824, -8.5556, -8.2541, -9.0416, -7.9299, -8.5126, -8.6858, -8.8962, -8.7137, -8.5616, -8.8863, -7.7578, -7.8899, -7.6001, -9.0306, -7.8771, -7.978, -7.0078, -8.3866, -9.1841, -8.5504, -7.304, -6.6136, -9.1922, -9.0468, -5.6095, -6.0812, -5.539, -4.139, -6.0891, -5.864, -5.8984, -4.9813, -6.343, -6.9702, -5.9622, -6.5958, -7.0317, -5.3303, -5.72, -5.8517, -4.7963, -6.519, -5.1699, -5.8033, -6.0471, -4.7604, -4.6796, -6.1766, -5.7339, -4.9143, -5.2701, -5.1168, -4.5862, -4.3386, -5.1549, -4.5827, -4.4534, -4.7996, -4.8234, -4.0785, -4.8579, -5.2007, -5.4301, -4.797, -4.8096, -5.5598, -5.4288, -4.0123, -4.062, -5.4303, -5.1597, -4.3452, -4.6736, -4.8461, -5.0248, -4.9773, -5.1089, -5.1391, -5.1596], \"loglift\": [30.0, 29.0, 28.0, 27.0, 26.0, 25.0, 24.0, 23.0, 22.0, 21.0, 20.0, 19.0, 18.0, 17.0, 16.0, 15.0, 14.0, 13.0, 12.0, 11.0, 10.0, 9.0, 8.0, 7.0, 6.0, 5.0, 4.0, 3.0, 2.0, 1.0, 0.517, 0.5047, 0.5038, 0.4968, 0.4898, 0.4813, 0.472, 0.4634, 0.4597, 0.4571, 0.457, 0.4527, 0.4513, 0.4477, 0.4468, 0.4466, 0.4459, 0.4443, 0.443, 0.4423, 0.4394, 0.4393, 0.4382, 0.434, 0.4323, 0.431, 0.431, 0.4293, 0.4292, 0.4287, 0.4138, 0.42, 0.4221, 0.4238, 0.4149, 0.352, 0.4144, 0.4155, 0.393, 0.4197, 0.3407, 0.4252, 0.3707, 0.4084, 0.3796, 0.4247, 0.2565, 0.3342, 0.2177, 0.214, 0.2763, 0.2422, 0.3518, 0.3203, 0.3184, 0.1826, 0.2547, 0.1828, 0.2305, 0.1434, 0.2571, 0.136, 0.1461, 0.1195, 0.133, 0.1068, 0.2313, -0.1147, 0.0759, 0.06, -0.2052, 0.2141, -0.1867, 0.0526, -0.1357, -0.1334, -0.0309, -0.2261, -0.2669, -0.2524, -0.623, 0.5844, 0.5639, 0.5309, 0.5302, 0.5137, 0.5119, 0.507, 0.4954, 0.4918, 0.4876, 0.4864, 0.4858, 0.4846, 0.4827, 0.4796, 0.4744, 0.4678, 0.4649, 0.4608, 0.457, 0.4566, 0.456, 0.4535, 0.4532, 0.4498, 0.4494, 0.4441, 0.4434, 0.4419, 0.4411, 0.4359, 0.4375, 0.4272, 0.3894, 0.4229, 0.4017, 0.3969, 0.3444, 0.3979, 0.4227, 0.3792, 0.4049, 0.4212, 0.3486, 0.3656, 0.3707, 0.3134, 0.3973, 0.3244, 0.3561, 0.3716, 0.2893, 0.2796, 0.3658, 0.3306, 0.2658, 0.2863, 0.2621, 0.2156, 0.1744, 0.2524, 0.1888, 0.1612, 0.2063, 0.2085, 0.1055, 0.1991, 0.2438, 0.2777, 0.1225, 0.1206, 0.2894, 0.2452, -0.2811, -0.2874, 0.2324, 0.0308, -0.5677, -0.357, -0.3305, -0.1723, -0.2304, -0.1397, -0.2306, -0.162]}, \"token.table\": {\"Topic\": [1, 2, 1, 2, 1, 2, 1, 2, 1, 2, 1, 2, 1, 2, 1, 2, 1, 2, 1, 2, 1, 2, 1, 2, 1, 2, 1, 2, 1, 2, 1, 2, 1, 2, 1, 2, 1, 2, 1, 2, 1, 2, 1, 2, 1, 2, 1, 2, 1, 2, 1, 2, 1, 2, 1, 2, 1, 2, 1, 2, 1, 2, 1, 2, 1, 2, 1, 2, 1, 2, 1, 2, 1, 2, 1, 2, 1, 2, 1, 2, 1, 2, 1, 2, 1, 2, 1, 2, 1, 2, 1, 2, 1, 2, 1, 2, 1, 2, 1, 2, 1, 2, 1, 2, 1, 2, 1, 2, 1, 2, 1, 2, 1, 2, 1, 2, 1, 2, 1, 2, 1, 2, 1, 2, 1, 2, 1, 2, 1, 2, 1, 2, 1, 2, 1, 2, 1, 2, 1, 2, 1, 2, 1, 2, 1, 2, 1, 2, 1, 2, 1, 2, 1, 2, 1, 2, 1, 2, 1, 2, 1, 2, 1, 2, 1, 2, 1, 2, 1, 2, 1, 2, 1, 2, 1, 2, 1, 2, 1, 2, 1, 2, 1, 2, 1, 2, 1, 2, 1, 2, 1, 2, 1, 2, 1, 2, 1, 2, 1, 2, 1, 2, 1, 2, 1, 2, 1, 2, 1, 2, 1, 2, 1, 2, 1, 2, 1, 2, 1, 2, 1, 2, 1, 2, 1, 2, 1, 2, 1, 2, 1, 2, 1, 2, 1, 2, 1, 2, 1, 2, 1, 2, 1, 2, 1, 2, 1, 2, 1, 2, 1, 2, 1, 2, 1, 2, 1, 2, 1, 2, 1, 2, 1, 2, 1, 2, 1, 2, 1, 2, 1, 2, 1, 2, 1, 2, 1, 2, 1, 2, 1, 2, 1, 2, 1, 2, 1, 2, 1, 2, 1, 2], \"Freq\": [0.5464298054271576, 0.4531920413160087, 0.7704081125483306, 0.2279020783101171, 0.6454233994754279, 0.35454079888992684, 0.21922763680100246, 0.7809984561035713, 0.21673526379750335, 0.7826551192687621, 0.5803200087449559, 0.41949119053192124, 0.7797077419222972, 0.22820714397725772, 0.6556874167888894, 0.3446710845775224, 0.7968416063092035, 0.19921040157730088, 0.7661861914171335, 0.233593351041809, 0.21268688053638324, 0.7656727699309797, 0.21272477672796056, 0.765809196220658, 0.24388167863231472, 0.756787476993059, 0.787209513989259, 0.19680237849731474, 0.2320264638739446, 0.7671842757122362, 0.23505478222555432, 0.7835159407518477, 0.26289136038604066, 0.7377918823737271, 0.7887949317074721, 0.21034531512199256, 0.21463975498611546, 0.7780691118246685, 0.7964614218324121, 0.21971349567790677, 0.740576566371104, 0.25995748860373447, 0.7794614802088232, 0.22270328005966378, 0.13639745992062868, 0.863850579497315, 0.7928848622366357, 0.19822121555915892, 0.7665674339899878, 0.23334387660575423, 0.8491461886524438, 0.16329734397162382, 0.4913986937341297, 0.5087626051734983, 0.3584978117774818, 0.6415224000228622, 0.27166935839596834, 0.728133588052491, 0.7077482406254061, 0.29272675393514036, 0.26176777705787985, 0.7393171000688769, 0.18299069835607057, 0.8132919926936469, 0.7870287154847817, 0.2146441951322132, 0.5636460764588694, 0.4363224538302141, 0.7692730419884799, 0.21539645175677438, 0.7842404462896335, 0.2145931569449246, 0.21446867575578976, 0.7863851444378958, 0.7855821214380841, 0.21319632794189897, 0.8214354005030275, 0.2053588501257569, 0.24737923740012216, 0.7529876787530034, 0.22245746444992623, 0.7711858767597443, 0.5787494421467039, 0.4211749482828746, 0.7796042470782052, 0.22567491362790149, 0.6298901246167518, 0.37015175699490205, 0.3411086553828656, 0.6587311410508454, 0.7927306976096544, 0.20754243109903683, 0.1800615909443032, 0.8282833183437948, 0.5710704422174631, 0.4291146702283943, 0.30412523214671, 0.6963738975734035, 0.7121433224060469, 0.28753204566629126, 0.18964574219737287, 0.802347370835039, 0.3562902335422489, 0.6438428014493373, 0.7194984449987062, 0.27947460260280327, 0.6379845010377923, 0.3619936568388454, 0.28588908297620974, 0.7147227074405244, 0.7821179886451861, 0.2174422856362694, 0.6548133387859374, 0.34515981598122636, 0.26658993278696186, 0.7347478635347974, 0.7203550765922342, 0.27966063505487676, 0.7966879498733014, 0.19917198746832535, 0.6974651293749603, 0.3025879086225424, 0.8188604547528666, 0.17999718974443818, 0.28856719548025084, 0.7113516911838741, 0.6081578690630465, 0.39161350218919794, 0.801840967444491, 0.22909741926985458, 0.534052989604781, 0.46614691410536513, 0.28465080819720245, 0.7155805039401895, 0.2242800611105479, 0.7737662108313903, 0.8178392200093447, 0.18174204889096549, 0.4204174172543544, 0.579538250874617, 0.442274092723512, 0.5574772246604747, 0.45168398932138104, 0.548367634810782, 0.7737250530243349, 0.2313944083811095, 0.7874603910022286, 0.22210421284678245, 0.23679109358204864, 0.7634471465490189, 0.18604757080150677, 0.8062061401398627, 0.24609951342268474, 0.7540070198482256, 0.7742804153600756, 0.21507789315557657, 0.8415052688213626, 0.1753135976711172, 0.2501904598825396, 0.7505713796476188, 0.7332107843854193, 0.26616555871525494, 0.1911421769979171, 0.8027971433912519, 0.22478123466129427, 0.7867343213145299, 0.6275056147920534, 0.37246796299232493, 0.1521870094122101, 0.8370285517671555, 0.2461800751858171, 0.7877762405946148, 0.24622105973940966, 0.787907391166111, 0.6677877111031557, 0.3323283786668752, 0.2646285022630853, 0.7338666712244325, 0.4042576845827677, 0.595728132177054, 0.23592427824899162, 0.7645694202513618, 0.8338986448615315, 0.15992576750769097, 0.2959098458477529, 0.7046925194931022, 0.3176301075645868, 0.6823165273609643, 0.4127155706083484, 0.587326004327265, 0.377717956294155, 0.6227241982146879, 0.7673206334913303, 0.23353236671475272, 0.6279224806731992, 0.3725892555477971, 0.3009116501702929, 0.6989828613673575, 0.863854202750747, 0.1661258082212975, 0.26556271110200297, 0.7337917017292187, 0.8047118358283238, 0.206925900641569, 0.16294408958116421, 0.835974024807712, 0.2799187173590592, 0.7208364355520871, 0.17408537504775515, 0.8182012627244493, 0.7739997053338415, 0.24187490791682548, 0.7513303332117476, 0.24985692579875446, 0.5862214427004, 0.41386794737462695, 0.1907358119114781, 0.7947325496311588, 0.17810535551988088, 0.8014740998394639, 0.1905285744887211, 0.7893326657389873, 0.7608780988596681, 0.2399692465634338, 0.1946578593217994, 0.8064397029045975, 0.8052808935755431, 0.20132022339388578, 0.20874580922855052, 0.8088900107606333, 0.7766238988623141, 0.22900448299786186, 0.3485350817350958, 0.6514402224073796, 0.4434775259676982, 0.5568007569493837, 0.6960208344902877, 0.30310584727802853, 0.34299087526389854, 0.656773281831358, 0.6535877918509962, 0.3460737717913092, 0.7663395480059005, 0.23364010609935992, 0.28899366606404786, 0.7111510802164316, 0.3251372346595389, 0.6748332752211119, 0.3921593291837149, 0.6075012278286767, 0.1247311703423785, 0.8731181923966496, 0.3476616750606884, 0.6526119422209223, 0.3936402626307433, 0.6063407468395313, 0.3980632196985356, 0.6021592471012198, 0.38807254576405387, 0.6121265635914298, 0.3408966989058208, 0.658664713225111, 0.5381280300331388, 0.46230089852846923, 0.31346239608763715, 0.6865658675370814, 0.7855284457695502, 0.2107515342308549, 0.23153086170977988, 0.76927995987443, 0.22253278577629743, 0.778864750217041, 0.7750074322690266, 0.2256350752175647, 0.7746033877626776, 0.22758965516738464, 0.8060538557876288, 0.21027491890112054, 0.5845257270342582, 0.4152774586133219, 0.3700903712822039, 0.6297505511334276, 0.3698419502276077, 0.6307964227232293, 0.8025009504383592, 0.1888237530443198, 0.3651952509817682, 0.6347783594820893, 0.6080482704592024, 0.39186983832282135, 0.6382686042445705, 0.36182785424566793], \"Term\": [\"advice\", \"advice\", \"affect\", \"affect\", \"anxiety\", \"anxiety\", \"asperger\", \"asperger\", \"autistic\", \"autistic\", \"bad\", \"bad\", \"begin\", \"begin\", \"bipolar\", \"bipolar\", \"blank\", \"blank\", \"borderline\", \"borderline\", \"breathing\", \"breathing\", \"brush\", \"brush\", \"care\", \"care\", \"carry\", \"carry\", \"childhood\", \"childhood\", \"claim\", \"claim\", \"come\", \"come\", \"comfort\", \"comfort\", \"community\", \"community\", \"connection\", \"connection\", \"consider\", \"consider\", \"constantly\", \"constantly\", \"count\", \"count\", \"crippling\", \"crippling\", \"day\", \"day\", \"daydreaming\", \"daydreaming\", \"deal\", \"deal\", \"depressed\", \"depressed\", \"depression\", \"depression\", \"diagnose\", \"diagnose\", \"difference\", \"difference\", \"difficulty\", \"difficulty\", \"disappear\", \"disappear\", \"disorder\", \"disorder\", \"dm\", \"dm\", \"drug\", \"drug\", \"dumb\", \"dumb\", \"effect\", \"effect\", \"entirely\", \"entirely\", \"episode\", \"episode\", \"escape\", \"escape\", \"experience\", \"experience\", \"favorite\", \"favorite\", \"feel\", \"feel\", \"feeling\", \"feeling\", \"find\", \"find\", \"frequent\", \"frequent\", \"friend\", \"friend\", \"get\", \"get\", \"go\", \"go\", \"goal\", \"goal\", \"good\", \"good\", \"guy\", \"guy\", \"happen\", \"happen\", \"hate\", \"hate\", \"head\", \"head\", \"health\", \"health\", \"healthy\", \"healthy\", \"help\", \"help\", \"hormone\", \"hormone\", \"hospital\", \"hospital\", \"hurt\", \"hurt\", \"idea\", \"idea\", \"illness\", \"illness\", \"intelligence\", \"intelligence\", \"issue\", \"issue\", \"job\", \"job\", \"keep\", \"keep\", \"kick\", \"kick\", \"know\", \"know\", \"life\", \"life\", \"like\", \"like\", \"line\", \"line\", \"lol\", \"lol\", \"look\", \"look\", \"loser\", \"loser\", \"loss\", \"loss\", \"loud\", \"loud\", \"maladaptive\", \"maladaptive\", \"manic\", \"manic\", \"mean\", \"mean\", \"meeting\", \"meeting\", \"meltdown\", \"meltdown\", \"mental\", \"mental\", \"narcissism\", \"narcissism\", \"naturally\", \"naturally\", \"nature\", \"nature\", \"need\", \"need\", \"night\", \"night\", \"normal\", \"normal\", \"online\", \"online\", \"overwhelmed\", \"overwhelmed\", \"panic\", \"panic\", \"parent\", \"parent\", \"people\", \"people\", \"person\", \"person\", \"place\", \"place\", \"possible\", \"possible\", \"psychiatrist\", \"psychiatrist\", \"punch\", \"punch\", \"relationship\", \"relationship\", \"repeat\", \"repeat\", \"run\", \"run\", \"scared\", \"scared\", \"schedule\", \"schedule\", \"scratch\", \"scratch\", \"seek\", \"seek\", \"self\", \"self\", \"server\", \"server\", \"sleeping\", \"sleeping\", \"slip\", \"slip\", \"sort\", \"sort\", \"spectrum\", \"spectrum\", \"spend\", \"spend\", \"split\", \"split\", \"ssri\", \"ssri\", \"start\", \"start\", \"stop\", \"stop\", \"stress\", \"stress\", \"suicidal\", \"suicidal\", \"suicide\", \"suicide\", \"sure\", \"sure\", \"symptom\", \"symptom\", \"talk\", \"talk\", \"tell\", \"tell\", \"terror\", \"terror\", \"therapist\", \"therapist\", \"therapy\", \"therapy\", \"thing\", \"thing\", \"think\", \"think\", \"thought\", \"thought\", \"time\", \"time\", \"trauma\", \"trauma\", \"truly\", \"truly\", \"trust\", \"trust\", \"unhappy\", \"unhappy\", \"urge\", \"urge\", \"vent\", \"vent\", \"vitamin\", \"vitamin\", \"want\", \"want\", \"way\", \"way\", \"well\", \"well\", \"witness\", \"witness\", \"work\", \"work\", \"wrong\", \"wrong\", \"year\", \"year\"]}, \"R\": 30, \"lambda.step\": 0.01, \"plot.opts\": {\"xlab\": \"PC1\", \"ylab\": \"PC2\"}, \"topic.order\": [1, 2]};\n",
       "\n",
       "function LDAvis_load_lib(url, callback){\n",
       "  var s = document.createElement('script');\n",
       "  s.src = url;\n",
       "  s.async = true;\n",
       "  s.onreadystatechange = s.onload = callback;\n",
       "  s.onerror = function(){console.warn(\"failed to load library \" + url);};\n",
       "  document.getElementsByTagName(\"head\")[0].appendChild(s);\n",
       "}\n",
       "\n",
       "if(typeof(LDAvis) !== \"undefined\"){\n",
       "   // already loaded: just create the visualization\n",
       "   !function(LDAvis){\n",
       "       new LDAvis(\"#\" + \"ldavis_el27071405129422141609343987094\", ldavis_el27071405129422141609343987094_data);\n",
       "   }(LDAvis);\n",
       "}else if(typeof define === \"function\" && define.amd){\n",
       "   // require.js is available: use it to load d3/LDAvis\n",
       "   require.config({paths: {d3: \"https://d3js.org/d3.v5\"}});\n",
       "   require([\"d3\"], function(d3){\n",
       "      window.d3 = d3;\n",
       "      LDAvis_load_lib(\"https://cdn.jsdelivr.net/gh/bmabey/pyLDAvis@3.3.1/pyLDAvis/js/ldavis.v3.0.0.js\", function(){\n",
       "        new LDAvis(\"#\" + \"ldavis_el27071405129422141609343987094\", ldavis_el27071405129422141609343987094_data);\n",
       "      });\n",
       "    });\n",
       "}else{\n",
       "    // require.js not available: dynamically load d3 & LDAvis\n",
       "    LDAvis_load_lib(\"https://d3js.org/d3.v5.js\", function(){\n",
       "         LDAvis_load_lib(\"https://cdn.jsdelivr.net/gh/bmabey/pyLDAvis@3.3.1/pyLDAvis/js/ldavis.v3.0.0.js\", function(){\n",
       "                 new LDAvis(\"#\" + \"ldavis_el27071405129422141609343987094\", ldavis_el27071405129422141609343987094_data);\n",
       "            })\n",
       "         });\n",
       "}\n",
       "</script>"
      ],
      "text/plain": [
       "PreparedData(topic_coordinates=              x    y  topics  cluster       Freq\n",
       "topic                                           \n",
       "0      0.019623  0.0       1        1  50.663025\n",
       "1     -0.019623  0.0       2        1  49.336975, topic_info=           Term         Freq        Total Category  logprob  loglift\n",
       "76         help  7097.000000  7097.000000  Default  30.0000  30.0000\n",
       "73   depression  3349.000000  3349.000000  Default  29.0000  29.0000\n",
       "15         find  1228.000000  1228.000000  Default  28.0000  28.0000\n",
       "135      mental  7434.000000  7434.000000  Default  27.0000  27.0000\n",
       "2          feel  7118.000000  7118.000000  Default  26.0000  26.0000\n",
       "..          ...          ...          ...      ...      ...      ...\n",
       "63         want  1006.005724  2422.476778   Topic2  -5.0248  -0.1723\n",
       "29        wrong  1054.976843  2692.220469   Topic2  -4.9773  -0.2304\n",
       "81       friend   924.853050  2155.600971   Topic2  -5.1089  -0.1397\n",
       "134     illness   897.316796  2290.523680   Topic2  -5.1391  -0.2306\n",
       "168         bad   879.179619  2095.395612   Topic2  -5.1596  -0.1620\n",
       "\n",
       "[196 rows x 6 columns], token_table=      Topic      Freq     Term\n",
       "term                          \n",
       "56        1  0.546430   advice\n",
       "56        2  0.453192   advice\n",
       "760       1  0.770408   affect\n",
       "760       2  0.227902   affect\n",
       "13        1  0.645423  anxiety\n",
       "...     ...       ...      ...\n",
       "138       2  0.634778     work\n",
       "29        1  0.608048    wrong\n",
       "29        2  0.391870    wrong\n",
       "34        1  0.638269     year\n",
       "34        2  0.361828     year\n",
       "\n",
       "[292 rows x 3 columns], R=30, lambda_step=0.01, plot_opts={'xlab': 'PC1', 'ylab': 'PC2'}, topic_order=[1, 2])"
      ]
     },
     "execution_count": 41,
     "metadata": {},
     "output_type": "execute_result"
    }
   ],
   "source": [
    "# Enable the visualization of LDA (Latent Dirichlet Allocation) model results in the Jupyter notebook\n",
    "# The 'pyLDAvis.enable_notebook()' function is used to enable interactive visualization\n",
    "pyLDAvis.enable_notebook()\n",
    "\n",
    "# Prepare the data for visualization using pyLDAvis\n",
    "# 'lda_model' is the trained LDA model, 'corpus' is the bag-of-words corpus, and 'id2word' is the dictionary mapping word IDs to words\n",
    "# The 'gensimvis.prepare()' function from the pyLDAvis library is used to prepare the data for visualization\n",
    "lda_viz = gensimvis.prepare(lda_model, corpus, id2word)\n",
    "\n",
    "# The 'lda_viz' variable now holds the prepared data for visualization using pyLDAvis\n",
    "# The data can be further visualized using the 'pyLDAvis.display()' function or other related methods\n",
    "lda_viz"
   ]
  },
  {
   "cell_type": "code",
   "execution_count": 16,
   "id": "8182ce6d",
   "metadata": {
    "ExecuteTime": {
     "end_time": "2022-11-02T22:58:19.176878Z",
     "start_time": "2022-11-02T22:34:57.154757Z"
    }
   },
   "outputs": [
    {
     "name": "stdout",
     "output_type": "stream",
     "text": [
      "Coherence Score:  1 : 0.23150590115729255\n",
      "Coherence Score:  2 : 0.16613462060562778\n",
      "Coherence Score:  3 : 0.11826917763394512\n",
      "Coherence Score:  4 : 0.12123363972530607\n",
      "Coherence Score:  5 : 0.1258980651903131\n",
      "Coherence Score:  6 : 0.12391695139033054\n",
      "Coherence Score:  7 : 0.13282523911544966\n",
      "Coherence Score:  8 : 0.12763533899442858\n",
      "Coherence Score:  9 : 0.12460407354091448\n",
      "Coherence Score:  10 : 0.1267767910164238\n",
      "Coherence Score:  11 : 0.13416364252500232\n",
      "Coherence Score:  12 : 0.13253293268739105\n",
      "Coherence Score:  13 : 0.13827625451024098\n",
      "Coherence Score:  14 : 0.1376035680835702\n",
      "Coherence Score:  15 : 0.1413169058192366\n",
      "Coherence Score:  16 : 0.14320633512373931\n",
      "Coherence Score:  17 : 0.1453750092640464\n",
      "Coherence Score:  18 : 0.14230783870143224\n",
      "Coherence Score:  19 : 0.1477157139486982\n",
      "Coherence Score:  20 : 0.14569574014044828\n"
     ]
    }
   ],
   "source": [
    "# Loop to calculate the coherence scores for different numbers of topics (1 to 20) in LDA (Latent Dirichlet Allocation) models\n",
    "\n",
    "# Initialize an empty dictionary 'coh_dict' to store coherence scores for each model\n",
    "coh_dict = {}\n",
    "\n",
    "# Iterate from 1 to 20 (inclusive) to create LDA models with varying numbers of topics\n",
    "for i in range(1, 21):\n",
    "    # Create an LDA model with 'i' number of topics using 'gensim.models.LdaMulticore'\n",
    "    lda_model = gensim.models.LdaMulticore(corpus=corpus, id2word=id2word, num_topics=i)\n",
    "\n",
    "    # Calculate the coherence score for the current LDA model using the 'c_v' coherence measure.\n",
    "    coherence_model_lda = CoherenceModel(model=lda_model, texts=texts, dictionary=id2word, coherence='c_v')\n",
    "    coherence_lda = coherence_model_lda.get_coherence()\n",
    "\n",
    "    # Store the coherence score in the dictionary 'coh_dict' with the number of topics 'i' as the key\n",
    "    coh_dict[i] = coherence_lda\n",
    "\n",
    "    # Print the coherence score for the current LDA model with the number of topics 'i'\n",
    "    print('Coherence Score for', i, 'topics:', coherence_lda)"
   ]
  },
  {
   "cell_type": "code",
   "execution_count": 27,
   "id": "64f0857c",
   "metadata": {
    "ExecuteTime": {
     "end_time": "2022-11-14T17:35:00.899560Z",
     "start_time": "2022-11-14T17:18:33.469088Z"
    }
   },
   "outputs": [
    {
     "name": "stderr",
     "output_type": "stream",
     "text": [
      "/var/folders/9g/vy_4_9x1485_v_ltw5ybg00r0000gq/T/ipykernel_2707/3861351028.py:13: FutureWarning: The frame.append method is deprecated and will be removed from pandas in a future version. Use pandas.concat instead.\n",
      "  sent_topics_df = sent_topics_df.append(pd.Series([int(topic_num), round(prop_topic,4), topic_keywords]), ignore_index=True)\n",
      "/var/folders/9g/vy_4_9x1485_v_ltw5ybg00r0000gq/T/ipykernel_2707/3861351028.py:13: FutureWarning: The frame.append method is deprecated and will be removed from pandas in a future version. Use pandas.concat instead.\n",
      "  sent_topics_df = sent_topics_df.append(pd.Series([int(topic_num), round(prop_topic,4), topic_keywords]), ignore_index=True)\n"
     ]
    },
    {
     "data": {
      "text/html": [
       "<div>\n",
       "<style scoped>\n",
       "    .dataframe tbody tr th:only-of-type {\n",
       "        vertical-align: middle;\n",
       "    }\n",
       "\n",
       "    .dataframe tbody tr th {\n",
       "        vertical-align: top;\n",
       "    }\n",
       "\n",
       "    .dataframe thead th {\n",
       "        text-align: right;\n",
       "    }\n",
       "</style>\n",
       "<table border=\"1\" class=\"dataframe\">\n",
       "  <thead>\n",
       "    <tr style=\"text-align: right;\">\n",
       "      <th></th>\n",
       "      <th>Document_No</th>\n",
       "      <th>Dominant_Topic</th>\n",
       "      <th>Topic_Perc_Contrib</th>\n",
       "      <th>Keywords</th>\n",
       "      <th>Text</th>\n",
       "    </tr>\n",
       "  </thead>\n",
       "  <tbody>\n",
       "    <tr>\n",
       "      <th>0</th>\n",
       "      <td>0</td>\n",
       "      <td>1</td>\n",
       "      <td>0.8199</td>\n",
       "      <td>feel, help, like, think, stop, depression, dea...</td>\n",
       "      <td>[feel, like, alive, anymore]</td>\n",
       "    </tr>\n",
       "    <tr>\n",
       "      <th>1</th>\n",
       "      <td>1</td>\n",
       "      <td>4</td>\n",
       "      <td>0.7749</td>\n",
       "      <td>normal, wrong, mental, friend, self, help, hea...</td>\n",
       "      <td>[depress, people, shave, head]</td>\n",
       "    </tr>\n",
       "    <tr>\n",
       "      <th>2</th>\n",
       "      <td>2</td>\n",
       "      <td>6</td>\n",
       "      <td>0.8200</td>\n",
       "      <td>mental, good, know, feel, tell, people, wrong,...</td>\n",
       "      <td>[random, urge, kill, people]</td>\n",
       "    </tr>\n",
       "    <tr>\n",
       "      <th>3</th>\n",
       "      <td>3</td>\n",
       "      <td>8</td>\n",
       "      <td>0.7748</td>\n",
       "      <td>help, mental, health, feel, anxiety, people, d...</td>\n",
       "      <td>[slap, arm, anxious, normal]</td>\n",
       "    </tr>\n",
       "    <tr>\n",
       "      <th>4</th>\n",
       "      <td>4</td>\n",
       "      <td>7</td>\n",
       "      <td>0.8714</td>\n",
       "      <td>anxiety, help, feel, happen, like, life, thoug...</td>\n",
       "      <td>[tip, find, psychiatrist, specialize, panic, a...</td>\n",
       "    </tr>\n",
       "    <tr>\n",
       "      <th>5</th>\n",
       "      <td>5</td>\n",
       "      <td>4</td>\n",
       "      <td>0.5499</td>\n",
       "      <td>normal, wrong, mental, friend, self, help, hea...</td>\n",
       "      <td>[cry]</td>\n",
       "    </tr>\n",
       "    <tr>\n",
       "      <th>6</th>\n",
       "      <td>6</td>\n",
       "      <td>1</td>\n",
       "      <td>0.7750</td>\n",
       "      <td>feel, help, like, think, stop, depression, dea...</td>\n",
       "      <td>[normal, feel, like]</td>\n",
       "    </tr>\n",
       "    <tr>\n",
       "      <th>7</th>\n",
       "      <td>7</td>\n",
       "      <td>6</td>\n",
       "      <td>0.8199</td>\n",
       "      <td>mental, good, know, feel, tell, people, wrong,...</td>\n",
       "      <td>[experience, extreme, high, low]</td>\n",
       "    </tr>\n",
       "    <tr>\n",
       "      <th>8</th>\n",
       "      <td>8</td>\n",
       "      <td>3</td>\n",
       "      <td>0.9100</td>\n",
       "      <td>like, mental, feel, health, know, need, help, ...</td>\n",
       "      <td>[feel, like, not, care, not, bother, thing, la...</td>\n",
       "    </tr>\n",
       "    <tr>\n",
       "      <th>9</th>\n",
       "      <td>9</td>\n",
       "      <td>2</td>\n",
       "      <td>0.8499</td>\n",
       "      <td>depression, help, mental, people, talk, health...</td>\n",
       "      <td>[able, stop, take, antidepressant, year]</td>\n",
       "    </tr>\n",
       "  </tbody>\n",
       "</table>\n",
       "</div>"
      ],
      "text/plain": [
       "   Document_No  Dominant_Topic  Topic_Perc_Contrib  \\\n",
       "0            0               1              0.8199   \n",
       "1            1               4              0.7749   \n",
       "2            2               6              0.8200   \n",
       "3            3               8              0.7748   \n",
       "4            4               7              0.8714   \n",
       "5            5               4              0.5499   \n",
       "6            6               1              0.7750   \n",
       "7            7               6              0.8199   \n",
       "8            8               3              0.9100   \n",
       "9            9               2              0.8499   \n",
       "\n",
       "                                            Keywords  \\\n",
       "0  feel, help, like, think, stop, depression, dea...   \n",
       "1  normal, wrong, mental, friend, self, help, hea...   \n",
       "2  mental, good, know, feel, tell, people, wrong,...   \n",
       "3  help, mental, health, feel, anxiety, people, d...   \n",
       "4  anxiety, help, feel, happen, like, life, thoug...   \n",
       "5  normal, wrong, mental, friend, self, help, hea...   \n",
       "6  feel, help, like, think, stop, depression, dea...   \n",
       "7  mental, good, know, feel, tell, people, wrong,...   \n",
       "8  like, mental, feel, health, know, need, help, ...   \n",
       "9  depression, help, mental, people, talk, health...   \n",
       "\n",
       "                                                Text  \n",
       "0                       [feel, like, alive, anymore]  \n",
       "1                     [depress, people, shave, head]  \n",
       "2                       [random, urge, kill, people]  \n",
       "3                       [slap, arm, anxious, normal]  \n",
       "4  [tip, find, psychiatrist, specialize, panic, a...  \n",
       "5                                              [cry]  \n",
       "6                               [normal, feel, like]  \n",
       "7                   [experience, extreme, high, low]  \n",
       "8  [feel, like, not, care, not, bother, thing, la...  \n",
       "9           [able, stop, take, antidepressant, year]  "
      ]
     },
     "execution_count": 27,
     "metadata": {},
     "output_type": "execute_result"
    }
   ],
   "source": [
    "# Function to format LDA model results and extract the dominant topic for each document.\n",
    "def format_topics_sentences(ldamodel=lda_model, corpus=corpus, texts=texts):\n",
    "    # Initialize output DataFrame\n",
    "    sent_topics_df = pd.DataFrame()\n",
    "\n",
    "    # Get main topic in each document\n",
    "    for i, row in enumerate(ldamodel[corpus]):\n",
    "        row = sorted(row, key=lambda x: (x[1]), reverse=True)\n",
    "        # Get the Dominant topic, Perc Contribution, and Keywords for each document\n",
    "        for j, (topic_num, prop_topic) in enumerate(row):\n",
    "            if j == 0:  # => dominant topic\n",
    "                wp = ldamodel.show_topic(topic_num)\n",
    "                topic_keywords = \", \".join([word for word, prop in wp])\n",
    "                sent_topics_df = sent_topics_df.append(pd.Series([int(topic_num), round(prop_topic, 4), topic_keywords]), ignore_index=True)\n",
    "            else:\n",
    "                break\n",
    "    sent_topics_df.columns = ['Dominant_Topic', 'Perc_Contribution', 'Topic_Keywords']\n",
    "\n",
    "    # Add original text to the end of the output\n",
    "    contents = pd.Series(texts)\n",
    "    sent_topics_df = pd.concat([sent_topics_df, contents], axis=1)\n",
    "    return sent_topics_df\n",
    "\n",
    "# Format LDA model results\n",
    "df_topic_sents_keywords = format_topics_sentences(ldamodel=lda_model, corpus=corpus, texts=texts)\n",
    "\n",
    "# Format the results DataFrame and display the first 10 rows\n",
    "df_dominant_topic = df_topic_sents_keywords.reset_index()\n",
    "df_dominant_topic.columns = ['Document_No', 'Dominant_Topic', 'Topic_Perc_Contrib', 'Keywords', 'Text']\n",
    "df_dominant_topic.head(10)"
   ]
  },
  {
   "cell_type": "markdown",
   "id": "a65b1b2d",
   "metadata": {},
   "source": [
    "# Processing comments"
   ]
  },
  {
   "cell_type": "code",
   "execution_count": 42,
   "id": "ee2579d0",
   "metadata": {
    "ExecuteTime": {
     "end_time": "2022-11-14T18:02:57.682117Z",
     "start_time": "2022-11-14T18:02:56.726134Z"
    }
   },
   "outputs": [],
   "source": [
    "# Extract the 'lemmatized_comment' column from DataFrame 'all_data3' and convert it to a list.\n",
    "l1 = list(all_data3.lemmatized_comment)\n",
    "\n",
    "# Split the lemmatized comments into lists of individual words.\n",
    "# Each element in the list 'l1' is split into a list of words using the 'split()' method.\n",
    "X_comment = [el.split() for el in l1]"
   ]
  },
  {
   "cell_type": "code",
   "execution_count": 43,
   "id": "7a458994",
   "metadata": {
    "ExecuteTime": {
     "end_time": "2022-11-14T18:03:12.185130Z",
     "start_time": "2022-11-14T18:02:59.944491Z"
    }
   },
   "outputs": [
    {
     "name": "stdout",
     "output_type": "stream",
     "text": [
      "[(0, 3), (1, 2), (2, 1), (3, 1), (4, 1), (5, 1), (6, 1), (7, 1), (8, 2), (9, 1), (10, 1), (11, 4), (12, 1), (13, 2), (14, 2), (15, 1), (16, 1), (17, 1), (18, 1), (19, 1), (20, 1), (21, 1), (22, 2), (23, 1), (24, 1), (25, 1), (26, 1), (27, 1), (28, 1), (29, 1)]\n"
     ]
    }
   ],
   "source": [
    "# Create Dictionary\n",
    "id2word = corpora.Dictionary(X_comment)\n",
    "# Filter out words that occur less than 20 documents, or more than 50% of the documents.\n",
    "id2word.filter_extremes(no_below=20, no_above=0.5)\n",
    "# Create Corpus\n",
    "texts = X_comment\n",
    "# Term Document Frequency\n",
    "corpus = [id2word.doc2bow(text) for text in texts]\n",
    "# View\n",
    "print(corpus[:1][0][:30])"
   ]
  },
  {
   "cell_type": "code",
   "execution_count": 47,
   "id": "54984bb5",
   "metadata": {
    "ExecuteTime": {
     "end_time": "2022-11-14T18:05:51.091996Z",
     "start_time": "2022-11-14T18:05:11.063772Z"
    }
   },
   "outputs": [
    {
     "name": "stdout",
     "output_type": "stream",
     "text": [
      "[(0,\n",
      "  '0.016*\"feel\" + 0.013*\"people\" + 0.012*\"help\" + 0.011*\"think\" + '\n",
      "  '0.011*\"thing\" + 0.010*\"know\" + 0.009*\"good\" + 0.008*\"try\" + 0.007*\"time\" + '\n",
      "  '0.007*\"way\"'),\n",
      " (1,\n",
      "  '0.014*\"feel\" + 0.014*\"help\" + 0.011*\"thing\" + 0.011*\"think\" + 0.010*\"know\" '\n",
      "  '+ 0.010*\"time\" + 0.010*\"people\" + 0.010*\"good\" + 0.008*\"try\" + '\n",
      "  '0.008*\"want\"')]\n"
     ]
    }
   ],
   "source": [
    "# Define number of topics\n",
    "num_topics = 2\n",
    "# Build LDA model\n",
    "lda_model = gensim.models.LdaMulticore(corpus=corpus,\n",
    "                                       id2word=id2word,\n",
    "                                       num_topics=num_topics)\n",
    "# Print the Keyword in the 10 topics\n",
    "pprint(lda_model.print_topics())\n",
    "doc_lda = lda_model[corpus]"
   ]
  },
  {
   "cell_type": "code",
   "execution_count": 48,
   "id": "414bbe9e",
   "metadata": {
    "ExecuteTime": {
     "end_time": "2022-11-14T18:06:30.903603Z",
     "start_time": "2022-11-14T18:05:51.096625Z"
    }
   },
   "outputs": [
    {
     "data": {
      "text/plain": [
       "0.3028073253694564"
      ]
     },
     "execution_count": 48,
     "metadata": {},
     "output_type": "execute_result"
    }
   ],
   "source": [
    "# Calculate the coherence score of the LDA (Latent Dirichlet Allocation) model using the 'c_v' coherence measure\n",
    "# The 'CoherenceModel' from the gensim library is used to compute the coherence score\n",
    "# 'lda_model' is the trained LDA model, 'texts' is the list of tokenized texts used for training the model,\n",
    "# and 'id2word' is the dictionary mapping word IDs to words (the dictionary used during model training)\n",
    "# The 'coherence' parameter is set to 'c_v' to specify the coherence measure\n",
    "coherence_model_lda = CoherenceModel(model=lda_model, texts=texts, dictionary=id2word, coherence='c_v')\n",
    "\n",
    "# Get the coherence score of the LDA model\n",
    "# The coherence score reflects the quality and interpretability of the topics learned by the model\n",
    "coherence_lda = coherence_model_lda.get_coherence()\n",
    "\n",
    "# The 'coherence_lda' variable now holds the computed coherence score of the LDA model\n",
    "coherence_lda"
   ]
  },
  {
   "cell_type": "code",
   "execution_count": 21,
   "id": "58cdc556",
   "metadata": {
    "ExecuteTime": {
     "end_time": "2022-11-02T23:36:46.669762Z",
     "start_time": "2022-11-02T23:00:55.027678Z"
    }
   },
   "outputs": [
    {
     "name": "stdout",
     "output_type": "stream",
     "text": [
      "Coherence Score:  1 : 0.29531502625155254\n",
      "Coherence Score:  2 : 0.2953150262515526\n",
      "Coherence Score:  3 : 0.29890422378045517\n",
      "Coherence Score:  4 : 0.29994589967877205\n",
      "Coherence Score:  5 : 0.30043921086200615\n",
      "Coherence Score:  6 : 0.3007961813622529\n",
      "Coherence Score:  7 : 0.2990090743100038\n",
      "Coherence Score:  8 : 0.29881395574149894\n",
      "Coherence Score:  9 : 0.299702759086115\n",
      "Coherence Score:  10 : 0.3004868279115499\n",
      "Coherence Score:  11 : 0.30099521435674315\n",
      "Coherence Score:  12 : 0.2977015516105042\n",
      "Coherence Score:  13 : 0.2990232689646579\n",
      "Coherence Score:  14 : 0.2993183047956644\n",
      "Coherence Score:  15 : 0.2975890524442297\n",
      "Coherence Score:  16 : 0.2961966143748477\n",
      "Coherence Score:  17 : 0.2986383676858421\n",
      "Coherence Score:  18 : 0.29932056495920584\n",
      "Coherence Score:  19 : 0.29928182008234466\n",
      "Coherence Score:  20 : 0.2967905074419475\n"
     ]
    }
   ],
   "source": [
    "# Initialize an empty dictionary to store coherence scores for each LDA model\n",
    "coh_dict = {}\n",
    "\n",
    "# Loop to calculate coherence scores for LDA models with different numbers of topics (1 to 20)\n",
    "# 'i' represents the number of topics for each LDA model\n",
    "for i in range(1, 21):\n",
    "    # Create an LDA model with 'i' topics using 'gensim.models.LdaMulticore'\n",
    "    lda_model = gensim.models.LdaMulticore(corpus=corpus, id2word=id2word, num_topics=i)\n",
    "\n",
    "    # Calculate the coherence score for the current LDA model using 'c_v' coherence measure\n",
    "    coherence_model_lda = CoherenceModel(model=lda_model, texts=texts, dictionary=id2word, coherence='c_v')\n",
    "    coherence_lda = coherence_model_lda.get_coherence()\n",
    "\n",
    "    # Store the coherence score in the dictionary 'coh_dict' with 'i' as the key\n",
    "    coh_dict[i] = coherence_lda\n",
    "\n",
    "    # Print the coherence score for the current LDA model with the number of topics 'i'\n",
    "    print('Coherence Score for', i, ':', coherence_lda)"
   ]
  },
  {
   "cell_type": "code",
   "execution_count": 49,
   "id": "dbdbc03f",
   "metadata": {
    "ExecuteTime": {
     "end_time": "2022-11-14T18:07:14.118551Z",
     "start_time": "2022-11-14T18:06:30.905732Z"
    }
   },
   "outputs": [
    {
     "name": "stderr",
     "output_type": "stream",
     "text": [
      "/Users/yuliya/opt/anaconda3/lib/python3.9/site-packages/pyLDAvis/_prepare.py:246: FutureWarning: In a future version of pandas all arguments of DataFrame.drop except for the argument 'labels' will be keyword-only.\n",
      "  default_term_info = default_term_info.sort_values(\n",
      "/Users/yuliya/opt/anaconda3/lib/python3.9/site-packages/past/builtins/misc.py:45: DeprecationWarning: the imp module is deprecated in favour of importlib; see the module's documentation for alternative uses\n",
      "  from imp import reload\n"
     ]
    },
    {
     "data": {
      "text/html": [
       "\n",
       "<link rel=\"stylesheet\" type=\"text/css\" href=\"https://cdn.jsdelivr.net/gh/bmabey/pyLDAvis@3.3.1/pyLDAvis/js/ldavis.v1.0.0.css\">\n",
       "\n",
       "\n",
       "<div id=\"ldavis_el2707140512137496160720706053\"></div>\n",
       "<script type=\"text/javascript\">\n",
       "\n",
       "var ldavis_el2707140512137496160720706053_data = {\"mdsDat\": {\"x\": [0.0025417924027133177, -0.0025417924027133177], \"y\": [0.0, 0.0], \"topics\": [1, 2], \"cluster\": [1, 1], \"Freq\": [50.69942243723039, 49.30057756276962]}, \"tinfo\": {\"Term\": [\"time\", \"tell\", \"people\", \"change\", \"feel\", \"mental\", \"thought\", \"find\", \"year\", \"therapy\", \"come\", \"r\", \"mood\", \"diagnosis\", \"way\", \"doctor\", \"want\", \"make\", \"therapist\", \"stay\", \"feeling\", \"psychosis\", \"life\", \"exercise\", \"friend\", \"case\", \"job\", \"pretty\", \"advice\", \"yes\", \"how_to_handle_panic_attacks\", \"how_to_build_motivation\", \"mental_health_tips_and_quotes\", \"dljfk\", \"jzjvj\", \"how_to_deal_with_suicidal_feelings\", \"selfharm_an_overview_and_alternatives\", \"httpswwwmindorgukinformationsupporttypesofmentalhealthproblemsanxietyandpanicattackspanicattackshttpswwwmindorgukinformationsupporttypesofmentalhealthproblemsanxietyandpanicattackspanicattacks\", \"how_to_resolve_self_hate\", \"httpswwwmindorgukinformationsupporttypesofmentalhealthproblemsdissociationanddissociativedisordersaboutdissociationhttpswwwmindorgukinformationsupporttypesofmentalhealthproblemsdissociationanddissociativedisordersaboutdissociation\", \"motivationhttpswwwredditcom\", \"scott\", \"httpswwwrethinkorgadviceandinformationcarershubsuicidalthoughtshowtosupportsomeonehttpswwwrethinkorgadviceandinformationcarershubsuicidalthoughtshowtosupportsomeone\", \"httpswwwmindorgukinformationsupporttypesofmentalhealthproblemsparanoiaaboutparanoiahttpswwwmindorgukinformationsupporttypesofmentalhealthproblemsparanoiaaboutparanoia\", \"keto\", \"how_to_manage_stress\", \"repost\", \"attackshttpswwwredditcom\", \"sol\", \"feelingshttpswwwredditcom\", \"dyaawe\", \"dqs\", \"noodle\", \"solitaire\", \"how_to_deal_with_anger\", \"heading\", \"dawdle\", \"hippa\", \"inventory\", \"storm\", \"alternativeshttpswwwredditcom\", \"hatehttpswwwredditcom\", \"r\", \"mindovermatterscott\", \"cleaning\", \"enhance\", \"anxiety_an_overview_and_ways_to_treat_it\", \"time\", \"exercise\", \"stay\", \"overview\", \"cfej\", \"imagine\", \"luck\", \"mental\", \"find\", \"job\", \"advice\", \"step\", \"helpful\", \"make\", \"want\", \"help\", \"life\", \"friend\", \"go\", \"comment\", \"day\", \"eat\", \"health\", \"person\", \"read\", \"get\", \"good\", \"sleep\", \"able\", \"thing\", \"need\", \"try\", \"think\", \"know\", \"long\", \"feel\", \"say\", \"work\", \"take\", \"people\", \"anxiety\", \"talk\", \"lot\", \"look\", \"way\", \"well\", \"bad\", \"depression\", \"tell\", \"therapist\", \"pedophile\", \"alexithymia\", \"asexual\", \"scamme\", \"persistently\", \"composetofrfmentalillness\", \"teddy\", \"lovable\", \"abdomen\", \"homosexual\", \"psychosis\", \"quick\", \"daylio\", \"relabel\", \"tic\", \"aromantic\", \"pocd\", \"manic\", \"delirium\", \"hipaa\", \"hypersexual\", \"usampsource\", \"dsm\", \"topamax\", \"elevated\", \"allwhat\", \"yousound\", \"killing\", \"journalist\", \"preschool\", \"borderline\", \"mood\", \"eg\", \"compulsive\", \"pedophilia\", \"communication\", \"delusion\", \"put\", \"sexuality\", \"understanding\", \"amp\", \"diagnosis\", \"change\", \"tell\", \"insecure\", \"ok\", \"lie\", \"case\", \"episode\", \"people\", \"money\", \"law\", \"thought\", \"yes\", \"therapy\", \"year\", \"mom\", \"come\", \"pretty\", \"bipolar\", \"feel\", \"doctor\", \"way\", \"feeling\", \"therapist\", \"bad\", \"think\", \"start\", \"know\", \"well\", \"understand\", \"thing\", \"believe\", \"med\", \"work\", \"talk\", \"try\", \"help\", \"good\", \"lot\", \"need\", \"hope\", \"go\", \"hard\", \"want\", \"get\", \"life\", \"time\", \"depression\", \"find\", \"mental\", \"day\", \"anxiety\"], \"Freq\": [77013.0, 43939.0, 98544.0, 21784.0, 128194.0, 48537.0, 30768.0, 51314.0, 34401.0, 33117.0, 28426.0, 7488.0, 7543.0, 11189.0, 56756.0, 23221.0, 65436.0, 27849.0, 37755.0, 11000.0, 20995.0, 3521.0, 55920.0, 8391.0, 32718.0, 9728.0, 13230.0, 12743.0, 13644.0, 11163.0, 42.34807855883661, 18.530630716701648, 16.588374728760254, 31.15396778307757, 72.77445419528027, 196.1240299522431, 57.597599453019434, 18.289458012776453, 48.52170233232992, 27.970114621136844, 29.990435619164106, 40.297747874613506, 16.510435698804667, 29.98703821952165, 54.0527177167528, 26.122152728774328, 134.01234704581708, 69.87733384180014, 37.657834244543395, 313.1902451144862, 86.6718506705167, 67.63383091522705, 29.904439956683195, 18.62875095075346, 54.94747736852127, 513.6595492094324, 19.73538886228127, 76.69440316264898, 183.4324990285702, 247.09521678803316, 84.20421690054552, 66.85433495491675, 4939.2747159264, 2101.012279314257, 564.998159127129, 383.31832818205055, 362.70589816374377, 45805.98055712207, 5318.047648496856, 6860.586986745595, 571.4182366103315, 303.8478187407457, 2870.192141270998, 5290.32122618225, 28139.240247628008, 29635.61604464505, 8031.907908788649, 8243.181561455636, 5333.778811748484, 5632.7614241572255, 16253.79762531949, 36633.7625400067, 60452.16482386419, 31370.69021455103, 18795.122781640654, 35388.461143789544, 7203.2066454480955, 22637.08878043543, 5470.131511993935, 18890.57300093901, 15845.403269186967, 8593.368220747432, 28745.605274845704, 42996.82613033847, 8074.642969860587, 10711.561393886106, 51265.6065941795, 32132.552500320933, 37563.60006674003, 50058.615121616735, 46016.29812626097, 13854.734368851556, 60470.5166339137, 18579.994624652045, 28270.351654277685, 16046.873684546892, 44158.23769916601, 18010.963670871814, 23656.61713755362, 20585.450048583472, 17058.258165867595, 26178.854954930426, 20384.389531928737, 19967.297832711523, 17019.54042421211, 18167.443021753203, 17149.66765782852, 337.2873114958801, 36.32785970949241, 90.3693079551578, 17.81116709890437, 23.03623683582899, 14.26994354797508, 33.23249421787062, 31.47350354834309, 35.37814377047814, 29.998359107584232, 2369.791176448749, 1262.765909197124, 53.636587606588996, 27.432988363702226, 231.54644277306747, 36.156705507590644, 37.72385852083406, 1492.042087963917, 27.895289650691225, 75.74535487452437, 17.610933951822535, 35.39671699088262, 582.3822783706715, 19.240323060417037, 62.30616381299836, 14.932644943442101, 18.64732755389037, 21.181882558897033, 15.854988104916638, 16.756174590063416, 1518.5520643326226, 4763.317126576865, 899.6603670953814, 367.14464058435897, 127.74068231845608, 727.6547687702781, 1233.3121643327872, 2328.1451793611095, 253.83516083622808, 1793.4020890311979, 3652.605035557461, 6772.986236593678, 12996.438334021153, 25772.084546672326, 411.2862462145166, 4153.628388918559, 2930.06648559729, 5794.487148717155, 3269.1606948160943, 54386.0494858656, 3256.1670911190677, 1014.4895314475008, 17498.809016747316, 6544.16972527315, 18545.006560385387, 19222.33710153126, 4538.533549010479, 15979.604439616143, 7395.369130215101, 5354.352597202499, 67724.13138143478, 13127.932308525942, 30577.154399174422, 11831.541124968633, 20606.20040776557, 22586.19333686908, 48953.69935298582, 18194.881344103957, 44829.19124454211, 22211.719782548094, 12043.533934211804, 46428.08027997317, 8373.819153175764, 7590.95705954929, 28021.311337992007, 24080.51846089211, 34516.18296259886, 50676.288628658054, 37833.06434632755, 20250.37556806238, 27745.973193254205, 14341.49685587283, 28669.449771672804, 13851.107690744544, 28802.572499054597, 23797.27327734273, 24550.24067414197, 31207.166128476263, 16211.452859242494, 21679.14187131446, 20398.50912475408, 17626.20379457036, 16419.63984965133], \"Total\": [77013.0, 43939.0, 98544.0, 21784.0, 128194.0, 48537.0, 30768.0, 51314.0, 34401.0, 33117.0, 28426.0, 7488.0, 7543.0, 11189.0, 56756.0, 23221.0, 65436.0, 27849.0, 37755.0, 11000.0, 20995.0, 3521.0, 55920.0, 8391.0, 32718.0, 9728.0, 13230.0, 12743.0, 13644.0, 11163.0, 52.95556679937846, 23.424497452512462, 21.455972212945802, 40.694692242378494, 96.38709709524062, 262.5155079526728, 77.28427454137176, 24.70978709611742, 66.09323141877731, 38.20047263342854, 40.98192914331753, 55.35638544419408, 22.71285496771874, 41.369633380593314, 74.67156890608422, 36.2062970151808, 186.12932117990007, 97.089907476164, 52.3360319960677, 438.32452765483697, 121.42559438498853, 95.59133097490071, 42.401287066995906, 26.414624691596273, 77.94092664181207, 729.1571330464271, 28.018388678371473, 109.12083344608689, 261.1605807470136, 353.350958890952, 120.81657882914428, 95.77214361685876, 7488.1068052915225, 3164.132540053183, 828.7842349832281, 560.5196387005924, 530.5541774824817, 77013.14668559833, 8391.690470585429, 11000.72505292203, 850.9806429829343, 445.2985410469623, 4525.491161048678, 8507.483985400058, 48537.74937238209, 51314.757915959504, 13230.06462255829, 13644.828690956172, 8689.58334264652, 9222.162754905014, 27849.027952437886, 65436.33503906129, 111128.45345252224, 55920.930888692994, 32718.374108358883, 64057.910915462344, 12052.146602615527, 40263.29257500579, 9033.942707089425, 33306.341999650875, 27699.102514817074, 14547.790302980304, 52542.878552188435, 80829.89047666601, 13649.648586867486, 18470.471201191285, 97693.68687415267, 59878.52569357514, 72079.7830293389, 99012.31447460255, 90845.48937080309, 24824.86350484511, 128194.64801534847, 34723.40810284135, 56291.66299226969, 29784.662664257587, 98544.28718503162, 34430.603520523146, 47737.13559844573, 40835.82561664585, 32567.9067016037, 56756.00935410485, 42596.10931447683, 42553.49116958061, 33230.993283454605, 43939.52756842553, 37755.868065594084, 461.76404367010605, 51.02240866668576, 128.63728835391044, 25.410292621420876, 32.92475964318674, 20.683384215039858, 48.29837062504048, 46.29417588741872, 52.12556130193852, 44.47702993588178, 3521.672340292668, 1879.794024685939, 79.84979349049381, 41.04227234485772, 348.13108059986735, 54.3893993119869, 57.290261293842015, 2267.1300441543926, 42.4829129723073, 115.45961561604648, 26.869415904074323, 54.01613118843208, 890.2395163545376, 29.455321343464338, 95.42202219690313, 22.8828323864291, 28.58963473315962, 32.476828237321726, 24.33049643568105, 25.72128945763893, 2343.543432285615, 7543.481623488884, 1405.2661610031091, 570.3474371629242, 196.34923369330448, 1139.9246313313051, 1942.5931721798893, 3694.202578073725, 393.97102001081225, 2846.0703403229863, 5949.1077866848955, 11189.295746879447, 21784.207777992087, 43939.52756842553, 646.6145612131478, 6882.924352481592, 4806.302643158383, 9728.112844139345, 5412.8471746077375, 98544.28718503162, 5420.853727131276, 1630.0107620231297, 30768.501413867278, 11163.094558342851, 33117.59632356158, 34401.253398899535, 7655.585624952644, 28426.232720943925, 12743.2213042337, 9110.416727755295, 128194.64801534847, 23221.03978444745, 56756.00935410485, 20995.005619988966, 37755.868065594084, 42553.49116958061, 99012.31447460255, 34182.38317787331, 90845.48937080309, 42596.10931447683, 22042.42712906278, 97693.68687415267, 14888.95620348418, 13384.476282367305, 56291.66299226969, 47737.13559844573, 72079.7830293389, 111128.45345252224, 80829.89047666601, 40835.82561664585, 59878.52569357514, 27974.100458130146, 64057.910915462344, 26953.28468250436, 65436.33503906129, 52542.878552188435, 55920.930888692994, 77013.14668559833, 33230.993283454605, 51314.757915959504, 48537.74937238209, 40263.29257500579, 34430.603520523146], \"Category\": [\"Default\", \"Default\", \"Default\", \"Default\", \"Default\", \"Default\", \"Default\", \"Default\", \"Default\", \"Default\", \"Default\", \"Default\", \"Default\", \"Default\", \"Default\", \"Default\", \"Default\", \"Default\", \"Default\", \"Default\", \"Default\", \"Default\", \"Default\", \"Default\", \"Default\", \"Default\", \"Default\", \"Default\", \"Default\", \"Default\", \"Topic1\", \"Topic1\", \"Topic1\", \"Topic1\", \"Topic1\", \"Topic1\", \"Topic1\", \"Topic1\", \"Topic1\", \"Topic1\", \"Topic1\", \"Topic1\", \"Topic1\", \"Topic1\", \"Topic1\", \"Topic1\", \"Topic1\", \"Topic1\", \"Topic1\", \"Topic1\", \"Topic1\", \"Topic1\", \"Topic1\", \"Topic1\", \"Topic1\", \"Topic1\", \"Topic1\", \"Topic1\", \"Topic1\", \"Topic1\", \"Topic1\", \"Topic1\", \"Topic1\", \"Topic1\", \"Topic1\", \"Topic1\", \"Topic1\", \"Topic1\", \"Topic1\", \"Topic1\", \"Topic1\", \"Topic1\", \"Topic1\", \"Topic1\", \"Topic1\", \"Topic1\", \"Topic1\", \"Topic1\", \"Topic1\", \"Topic1\", \"Topic1\", \"Topic1\", \"Topic1\", \"Topic1\", \"Topic1\", \"Topic1\", \"Topic1\", \"Topic1\", \"Topic1\", \"Topic1\", \"Topic1\", \"Topic1\", \"Topic1\", \"Topic1\", \"Topic1\", \"Topic1\", \"Topic1\", \"Topic1\", \"Topic1\", \"Topic1\", \"Topic1\", \"Topic1\", \"Topic1\", \"Topic1\", \"Topic1\", \"Topic1\", \"Topic1\", \"Topic1\", \"Topic1\", \"Topic1\", \"Topic1\", \"Topic1\", \"Topic1\", \"Topic1\", \"Topic1\", \"Topic1\", \"Topic1\", \"Topic2\", \"Topic2\", \"Topic2\", \"Topic2\", \"Topic2\", \"Topic2\", \"Topic2\", \"Topic2\", \"Topic2\", \"Topic2\", \"Topic2\", \"Topic2\", \"Topic2\", \"Topic2\", \"Topic2\", \"Topic2\", \"Topic2\", \"Topic2\", \"Topic2\", \"Topic2\", \"Topic2\", \"Topic2\", \"Topic2\", \"Topic2\", \"Topic2\", \"Topic2\", \"Topic2\", \"Topic2\", \"Topic2\", \"Topic2\", \"Topic2\", \"Topic2\", \"Topic2\", \"Topic2\", \"Topic2\", \"Topic2\", \"Topic2\", \"Topic2\", \"Topic2\", \"Topic2\", \"Topic2\", \"Topic2\", \"Topic2\", \"Topic2\", \"Topic2\", \"Topic2\", \"Topic2\", \"Topic2\", \"Topic2\", \"Topic2\", \"Topic2\", \"Topic2\", \"Topic2\", \"Topic2\", \"Topic2\", \"Topic2\", \"Topic2\", \"Topic2\", \"Topic2\", \"Topic2\", \"Topic2\", \"Topic2\", \"Topic2\", \"Topic2\", \"Topic2\", \"Topic2\", \"Topic2\", \"Topic2\", \"Topic2\", \"Topic2\", \"Topic2\", \"Topic2\", \"Topic2\", \"Topic2\", \"Topic2\", \"Topic2\", \"Topic2\", \"Topic2\", \"Topic2\", \"Topic2\", \"Topic2\", \"Topic2\", \"Topic2\", \"Topic2\", \"Topic2\", \"Topic2\", \"Topic2\", \"Topic2\", \"Topic2\", \"Topic2\", \"Topic2\", \"Topic2\", \"Topic2\"], \"logprob\": [30.0, 29.0, 28.0, 27.0, 26.0, 25.0, 24.0, 23.0, 22.0, 21.0, 20.0, 19.0, 18.0, 17.0, 16.0, 15.0, 14.0, 13.0, 12.0, 11.0, 10.0, 9.0, 8.0, 7.0, 6.0, 5.0, 4.0, 3.0, 2.0, 1.0, -11.5666, -12.3931, -12.5038, -11.8736, -11.0251, -10.0338, -11.259, -12.4062, -11.4305, -11.9814, -11.9116, -11.6162, -12.5085, -11.9117, -11.3226, -12.0497, -10.4146, -11.0658, -11.684, -9.5657, -10.8504, -11.0984, -11.9145, -12.3878, -11.3061, -9.071, -12.3301, -10.9727, -10.1007, -9.8027, -10.8793, -11.11, -6.8075, -7.6623, -8.9757, -9.3636, -9.4189, -4.5803, -6.7337, -6.479, -8.9644, -9.596, -7.3504, -6.7389, -5.0676, -5.0158, -6.3213, -6.2954, -6.7307, -6.6762, -5.6164, -4.8038, -4.3029, -4.9589, -5.4712, -4.8384, -6.4302, -5.2852, -6.7055, -5.4661, -5.6419, -6.2538, -5.0463, -4.6436, -6.316, -6.0334, -4.4677, -4.9349, -4.7787, -4.4916, -4.5758, -5.7761, -4.3026, -5.4827, -5.0629, -5.6292, -4.617, -5.5138, -5.2411, -5.3802, -5.5681, -5.1398, -5.39, -5.4107, -5.5704, -5.5051, -5.5628, -9.4636, -11.692, -10.7806, -12.4047, -12.1475, -12.6264, -11.781, -11.8354, -11.7184, -11.8834, -7.514, -8.1435, -11.3023, -11.9728, -9.8398, -11.6967, -11.6542, -7.9766, -11.9561, -10.9572, -12.416, -11.7179, -8.9174, -12.3275, -11.1525, -12.581, -12.3588, -12.2314, -12.5211, -12.4658, -7.959, -6.8158, -8.4825, -9.3788, -10.4345, -8.6947, -8.1671, -7.5317, -9.7478, -7.7927, -7.0813, -6.4638, -5.8121, -5.1275, -9.2652, -6.9528, -7.3018, -6.6199, -7.1922, -4.3807, -7.1962, -8.3624, -5.5146, -6.4982, -5.4566, -5.4207, -6.8642, -5.6055, -6.3759, -6.6989, -4.1613, -5.802, -4.9565, -5.906, -5.3512, -5.2594, -4.4859, -5.4756, -4.5739, -5.2762, -5.8883, -4.5389, -6.2517, -6.3498, -5.0438, -5.1954, -4.8354, -4.4513, -4.7436, -5.3686, -5.0537, -5.7136, -5.0209, -5.7484, -5.0163, -5.2072, -5.1761, -4.9361, -5.5911, -5.3004, -5.3613, -5.5074, -5.5783], \"loglift\": [30.0, 29.0, 28.0, 27.0, 26.0, 25.0, 24.0, 23.0, 22.0, 21.0, 20.0, 19.0, 18.0, 17.0, 16.0, 15.0, 14.0, 13.0, 12.0, 11.0, 10.0, 9.0, 8.0, 7.0, 6.0, 5.0, 4.0, 3.0, 2.0, 1.0, 0.4557, 0.4449, 0.422, 0.4121, 0.3982, 0.3877, 0.3852, 0.3784, 0.3702, 0.3675, 0.367, 0.3618, 0.3603, 0.3575, 0.3561, 0.3528, 0.3507, 0.3504, 0.3501, 0.3431, 0.3421, 0.3333, 0.3301, 0.33, 0.3297, 0.3289, 0.3288, 0.3266, 0.326, 0.3216, 0.3182, 0.3198, 0.2632, 0.2698, 0.2961, 0.2993, 0.2989, 0.1597, 0.2231, 0.2071, 0.281, 0.297, 0.2239, 0.2042, 0.1341, 0.1303, 0.1802, 0.1753, 0.1912, 0.1862, 0.1408, 0.0991, 0.0704, 0.1012, 0.1249, 0.0859, 0.1645, 0.1034, 0.1776, 0.1122, 0.1207, 0.1528, 0.0761, 0.048, 0.1543, 0.1344, 0.0344, 0.0568, 0.0275, -0.0028, -0.0009, 0.096, -0.0721, 0.0539, -0.0095, 0.0608, -0.1235, 0.0313, -0.0228, -0.0057, 0.0326, -0.0946, -0.0577, -0.0774, 0.0101, -0.2039, -0.1099, 0.3931, 0.3676, 0.3541, 0.3519, 0.3501, 0.3361, 0.3334, 0.3214, 0.3197, 0.3134, 0.3111, 0.3094, 0.3093, 0.3044, 0.2994, 0.2989, 0.2894, 0.2889, 0.2866, 0.2857, 0.2848, 0.2846, 0.2829, 0.2814, 0.281, 0.2804, 0.2799, 0.2799, 0.279, 0.2787, 0.2733, 0.2475, 0.2613, 0.2667, 0.2773, 0.2583, 0.2529, 0.2455, 0.2676, 0.2454, 0.2194, 0.2052, 0.1907, 0.1737, 0.2548, 0.2022, 0.2123, 0.1891, 0.203, 0.1128, 0.1975, 0.233, 0.1429, 0.1732, 0.1274, 0.1252, 0.1844, 0.1312, 0.1631, 0.1757, 0.0691, 0.1369, 0.0887, 0.1337, 0.1017, 0.0738, 0.0029, 0.0767, 0.0009, 0.0561, 0.1028, -0.0367, 0.1317, 0.1401, 0.0097, 0.0229, -0.0291, -0.078, -0.0519, 0.0058, -0.062, 0.0391, -0.0967, 0.0415, -0.1134, -0.0848, -0.116, -0.1961, -0.0105, -0.1544, -0.1596, -0.1188, -0.0332]}, \"token.table\": {\"Topic\": [1, 2, 1, 2, 1, 2, 1, 2, 1, 2, 1, 2, 1, 2, 1, 2, 1, 2, 1, 2, 1, 2, 1, 2, 1, 2, 1, 2, 1, 2, 1, 2, 1, 2, 1, 2, 1, 2, 1, 2, 1, 2, 1, 2, 1, 2, 1, 2, 1, 2, 1, 2, 1, 2, 1, 2, 1, 2, 1, 2, 1, 2, 1, 2, 1, 2, 1, 2, 1, 2, 1, 2, 1, 2, 1, 2, 1, 2, 1, 2, 1, 2, 1, 2, 1, 2, 1, 2, 1, 2, 1, 2, 1, 2, 1, 2, 1, 2, 1, 2, 1, 2, 1, 2, 1, 2, 1, 2, 1, 2, 1, 2, 1, 2, 1, 2, 1, 2, 1, 2, 1, 2, 1, 2, 1, 2, 1, 2, 1, 2, 1, 2, 1, 2, 1, 2, 1, 2, 1, 2, 1, 2, 1, 2, 1, 2, 1, 2, 1, 2, 1, 2, 1, 2, 1, 2, 1, 2, 1, 2, 1, 2, 1, 2, 1, 2, 1, 2, 1, 2, 1, 2, 1, 2, 1, 2, 1, 2, 1, 2, 1, 2, 1, 2, 1, 2, 1, 2, 1, 2, 1, 2, 1, 2, 1, 2, 1, 2, 1, 2, 1, 2, 1, 2, 1, 2, 1, 2, 1, 2, 1, 2, 1, 2, 1, 2, 1, 2, 1, 2, 1, 2, 1, 2, 1, 2, 1, 2, 1, 2, 1, 2, 1, 2, 1, 2, 1, 2, 1, 2, 1, 2, 1, 2, 1, 2, 1, 2, 1, 2, 1, 2, 1, 2, 1, 2, 1, 2, 1, 2, 1, 2, 1, 2, 1, 2, 1, 2, 1, 2, 1, 2, 1, 2, 1, 2, 1, 2, 1, 2, 1, 2, 1, 2, 1, 2, 1, 2, 1, 2, 1, 2, 1, 2, 1, 2, 1, 2, 1, 2, 1, 2, 1, 2, 1, 2], \"Freq\": [0.3261355767763748, 0.6714555992454775, 0.5799527193063223, 0.42007591010994727, 0.6041116518717073, 0.3959009029978119, 0.29398847275107187, 0.7055723346025724, 0.3496070707026846, 0.6555132575675336, 0.6952688183530727, 0.3062493604650439, 0.3861083178121386, 0.6140416564944459, 0.5231102030861624, 0.47690131223556637, 0.6841902588015827, 0.316650037131311, 0.33094684309251, 0.66189368618502, 0.2954042368761176, 0.6996416136539627, 0.7209812205989105, 0.2780927565167226, 0.4692211955167012, 0.5307672620794417, 0.43757264854304684, 0.5624302930006867, 0.4122753230987971, 0.5876789350029179, 0.35203102645099804, 0.6481637929443225, 0.40439498009832603, 0.5955934201041436, 0.6826880664941127, 0.31664150452522993, 0.40341150293646416, 0.5965789590535148, 0.6817214615712783, 0.31853887761914595, 0.4378701927262166, 0.562156799209845, 0.5976528694429275, 0.4023349665318278, 0.36142740377390553, 0.6386387134645709, 0.29008792456880045, 0.6768718239938677, 0.35592340172471304, 0.6434674307042842, 0.7138169232208135, 0.2855267692883254, 0.5622242631506086, 0.4377684703049267, 0.32561136182644385, 0.676269751485691, 0.3530831327356913, 0.6590885144399571, 0.3649760588854498, 0.6347185904171504, 0.5121724726920545, 0.487827729424847, 0.394662908184509, 0.6053106605828078, 0.7617701054320133, 0.245732292074843, 0.43464892587453813, 0.5653493608323528, 0.7113615775247932, 0.2929135907455031, 0.34597430729792394, 0.6537566456084147, 0.7164881542532152, 0.2882423609064659, 0.6054942097106055, 0.39451213225020076, 0.3600741368729795, 0.6404480695369201, 0.34583211757873433, 0.6497451906024706, 0.6832945245020818, 0.31577840949574015, 0.3960946856319425, 0.6039335481953452, 0.6337221348476406, 0.3663147503801518, 0.471712360353452, 0.5282903853512788, 0.4364371301370871, 0.5635626021807285, 0.7140827862739978, 0.28517683157907264, 0.5775336609506414, 0.4224710566793412, 0.57444786032929, 0.4255407054729824, 0.5470960250388245, 0.45290628636502145, 0.552437622368013, 0.44754815744513854, 0.5319443060783607, 0.468057048907194, 0.4861003085276889, 0.5138891294013905, 0.699577115742933, 0.3028020351723143, 0.7049235023629296, 0.29486099807009697, 0.5671892758501675, 0.4328304801575361, 0.5439830945350742, 0.45601282502910445, 0.610811167586905, 0.3891711841770641, 0.3464414790104397, 0.6582388101198354, 0.7056397716944055, 0.2932528921327399, 0.3147692195315749, 0.6745054704248034, 0.48734364203792746, 0.5126527668499903, 0.8111166542000713, 0.2134517511052819, 0.7056626392544681, 0.29509528550641395, 0.7466225577627039, 0.25141371843029825, 0.7931177501907685, 0.20772131552615367, 0.7181071289642947, 0.2761950496016518, 0.7413769753445424, 0.27234256237146454, 0.7284562966885413, 0.2428187655628471, 0.7329752243823735, 0.26177686585084764, 0.7251695881373978, 0.2658955156503792, 0.748474818518487, 0.2641675830065248, 0.3349533176355833, 0.6699066352711666, 0.6341853067137455, 0.36570616118858845, 0.3634313454975466, 0.6356182255297517, 0.700718307014611, 0.2986668193832768, 0.6071020988291179, 0.3928930166476289, 0.3288054570176331, 0.6576109140352662, 0.757362781948587, 0.24899598310638474, 0.7231668062032656, 0.2812315357457144, 0.338703026035006, 0.6466148678850115, 0.5065303772229898, 0.4934642359294465, 0.377911615280034, 0.6220817822953806, 0.3903208223207553, 0.609616209701393, 0.5609885154172765, 0.4390127204581982, 0.5581098158826089, 0.44189568244187793, 0.5237671599925099, 0.4762357047416947, 0.5040916814868797, 0.4958881005639695, 0.32401484014918003, 0.6696306696416388, 0.6218054608246485, 0.3781376498058401, 0.5836469419241305, 0.41635205436263645, 0.34184188154458695, 0.6581007577606757, 0.43288955636112636, 0.5671495723744063, 0.5797343379915973, 0.42027082556916007, 0.7923201909136879, 0.23303535026873173, 0.6640050545937896, 0.3359530571314604, 0.40715369831936027, 0.5929004288327161, 0.39938358586659767, 0.6006433974972942, 0.36853009508814066, 0.6314060585988539, 0.7320299611833126, 0.2684109857672146, 0.5366364590277114, 0.46337146211629415, 0.7075256926186857, 0.2830102770474743, 0.3964884488402197, 0.6035225417670474, 0.6709905856359777, 0.32903216108244093, 0.2685354169511479, 0.729809963810781, 0.35141466407644506, 0.6518996666925357, 0.448103094166045, 0.5518939915601822, 0.3037227942852832, 0.6985624268561513, 0.5720401948591669, 0.4279561041249962, 0.3490994725511882, 0.6632889978472576, 0.3499046972284316, 0.6609310947648153, 0.41967410533969346, 0.5803085282324295, 0.3271173149243814, 0.6729757260163055, 0.369768568758965, 0.6301765944881922, 0.32822745040009554, 0.6718821229421729, 0.659579267286869, 0.34040646938939645, 0.5906738976186379, 0.4092717777750925, 0.34111171726470185, 0.6578583118676393, 0.719929558387443, 0.2793756495234853, 0.5350857250236227, 0.4649025220159495, 0.31483305285732915, 0.7083743689289906, 0.7225905318605895, 0.2709714494477211, 0.7504760877188733, 0.2587848578340943, 0.3553560868415088, 0.6447174718410231, 0.5915903218027948, 0.4084354234118367, 0.7260772082005597, 0.2866094242896946, 0.7192985030767742, 0.30286252761127336, 0.46772631143954985, 0.5322917335903559, 0.6236861631386352, 0.3763388304028494, 0.613838407397732, 0.3862095416623151, 0.69902173401552, 0.29998503565038515, 0.5387672232815597, 0.46124410253892106, 0.4955680667352451, 0.5044500407934834, 0.31056948310846727, 0.683252862838628, 0.41345460466567713, 0.5865333886411532, 0.4542340271505593, 0.5457694672574009, 0.4400379743028636, 0.5599742148800251, 0.5247626703457305, 0.47524053483422884, 0.5055835757969331, 0.49442334784080916, 0.43128522320619905, 0.5687309812272251, 0.3360803057239141, 0.6664156489568211, 0.5947815661525988, 0.40521652916482886, 0.3394972298347999, 0.6450447366861198, 0.5211447429678053, 0.4788582671780633, 0.45362518117691275, 0.5464008082903027, 0.3699838282565076, 0.6299914568508245, 0.3517467760458376, 0.6479545874528587, 0.5598418673376474, 0.4401682946150095, 0.4612551216676868, 0.5387447135197242, 0.4785413580735703, 0.5214560756245165, 0.5022058062822234, 0.4977824159120688, 0.44123392319436716, 0.5587587108269403, 0.41377415338186346, 0.586217375997167, 0.34977711654362353, 0.6645765214328847], \"Term\": [\"abdomen\", \"abdomen\", \"able\", \"able\", \"advice\", \"advice\", \"alexithymia\", \"alexithymia\", \"allwhat\", \"allwhat\", \"alternativeshttpswwwredditcom\", \"alternativeshttpswwwredditcom\", \"amp\", \"amp\", \"anxiety\", \"anxiety\", \"anxiety_an_overview_and_ways_to_treat_it\", \"anxiety_an_overview_and_ways_to_treat_it\", \"aromantic\", \"aromantic\", \"asexual\", \"asexual\", \"attackshttpswwwredditcom\", \"attackshttpswwwredditcom\", \"bad\", \"bad\", \"believe\", \"believe\", \"bipolar\", \"bipolar\", \"borderline\", \"borderline\", \"case\", \"case\", \"cfej\", \"cfej\", \"change\", \"change\", \"cleaning\", \"cleaning\", \"come\", \"come\", \"comment\", \"comment\", \"communication\", \"communication\", \"composetofrfmentalillness\", \"composetofrfmentalillness\", \"compulsive\", \"compulsive\", \"dawdle\", \"dawdle\", \"day\", \"day\", \"daylio\", \"daylio\", \"delirium\", \"delirium\", \"delusion\", \"delusion\", \"depression\", \"depression\", \"diagnosis\", \"diagnosis\", \"dljfk\", \"dljfk\", \"doctor\", \"doctor\", \"dqs\", \"dqs\", \"dsm\", \"dsm\", \"dyaawe\", \"dyaawe\", \"eat\", \"eat\", \"eg\", \"eg\", \"elevated\", \"elevated\", \"enhance\", \"enhance\", \"episode\", \"episode\", \"exercise\", \"exercise\", \"feel\", \"feel\", \"feeling\", \"feeling\", \"feelingshttpswwwredditcom\", \"feelingshttpswwwredditcom\", \"find\", \"find\", \"friend\", \"friend\", \"get\", \"get\", \"go\", \"go\", \"good\", \"good\", \"hard\", \"hard\", \"hatehttpswwwredditcom\", \"hatehttpswwwredditcom\", \"heading\", \"heading\", \"health\", \"health\", \"help\", \"help\", \"helpful\", \"helpful\", \"hipaa\", \"hipaa\", \"hippa\", \"hippa\", \"homosexual\", \"homosexual\", \"hope\", \"hope\", \"how_to_build_motivation\", \"how_to_build_motivation\", \"how_to_deal_with_anger\", \"how_to_deal_with_anger\", \"how_to_deal_with_suicidal_feelings\", \"how_to_deal_with_suicidal_feelings\", \"how_to_handle_panic_attacks\", \"how_to_handle_panic_attacks\", \"how_to_manage_stress\", \"how_to_manage_stress\", \"how_to_resolve_self_hate\", \"how_to_resolve_self_hate\", \"httpswwwmindorgukinformationsupporttypesofmentalhealthproblemsanxietyandpanicattackspanicattackshttpswwwmindorgukinformationsupporttypesofmentalhealthproblemsanxietyandpanicattackspanicattacks\", \"httpswwwmindorgukinformationsupporttypesofmentalhealthproblemsanxietyandpanicattackspanicattackshttpswwwmindorgukinformationsupporttypesofmentalhealthproblemsanxietyandpanicattackspanicattacks\", \"httpswwwmindorgukinformationsupporttypesofmentalhealthproblemsdissociationanddissociativedisordersaboutdissociationhttpswwwmindorgukinformationsupporttypesofmentalhealthproblemsdissociationanddissociativedisordersaboutdissociation\", \"httpswwwmindorgukinformationsupporttypesofmentalhealthproblemsdissociationanddissociativedisordersaboutdissociationhttpswwwmindorgukinformationsupporttypesofmentalhealthproblemsdissociationanddissociativedisordersaboutdissociation\", \"httpswwwmindorgukinformationsupporttypesofmentalhealthproblemsparanoiaaboutparanoiahttpswwwmindorgukinformationsupporttypesofmentalhealthproblemsparanoiaaboutparanoia\", \"httpswwwmindorgukinformationsupporttypesofmentalhealthproblemsparanoiaaboutparanoiahttpswwwmindorgukinformationsupporttypesofmentalhealthproblemsparanoiaaboutparanoia\", \"httpswwwrethinkorgadviceandinformationcarershubsuicidalthoughtshowtosupportsomeonehttpswwwrethinkorgadviceandinformationcarershubsuicidalthoughtshowtosupportsomeone\", \"httpswwwrethinkorgadviceandinformationcarershubsuicidalthoughtshowtosupportsomeonehttpswwwrethinkorgadviceandinformationcarershubsuicidalthoughtshowtosupportsomeone\", \"hypersexual\", \"hypersexual\", \"imagine\", \"imagine\", \"insecure\", \"insecure\", \"inventory\", \"inventory\", \"job\", \"job\", \"journalist\", \"journalist\", \"jzjvj\", \"jzjvj\", \"keto\", \"keto\", \"killing\", \"killing\", \"know\", \"know\", \"law\", \"law\", \"lie\", \"lie\", \"life\", \"life\", \"long\", \"long\", \"look\", \"look\", \"lot\", \"lot\", \"lovable\", \"lovable\", \"luck\", \"luck\", \"make\", \"make\", \"manic\", \"manic\", \"med\", \"med\", \"mental\", \"mental\", \"mental_health_tips_and_quotes\", \"mental_health_tips_and_quotes\", \"mindovermatterscott\", \"mindovermatterscott\", \"mom\", \"mom\", \"money\", \"money\", \"mood\", \"mood\", \"motivationhttpswwwredditcom\", \"motivationhttpswwwredditcom\", \"need\", \"need\", \"noodle\", \"noodle\", \"ok\", \"ok\", \"overview\", \"overview\", \"pedophile\", \"pedophile\", \"pedophilia\", \"pedophilia\", \"people\", \"people\", \"persistently\", \"persistently\", \"person\", \"person\", \"pocd\", \"pocd\", \"preschool\", \"preschool\", \"pretty\", \"pretty\", \"psychosis\", \"psychosis\", \"put\", \"put\", \"quick\", \"quick\", \"r\", \"r\", \"read\", \"read\", \"relabel\", \"relabel\", \"repost\", \"repost\", \"say\", \"say\", \"scamme\", \"scamme\", \"scott\", \"scott\", \"selfharm_an_overview_and_alternatives\", \"selfharm_an_overview_and_alternatives\", \"sexuality\", \"sexuality\", \"sleep\", \"sleep\", \"sol\", \"sol\", \"solitaire\", \"solitaire\", \"start\", \"start\", \"stay\", \"stay\", \"step\", \"step\", \"storm\", \"storm\", \"take\", \"take\", \"talk\", \"talk\", \"teddy\", \"teddy\", \"tell\", \"tell\", \"therapist\", \"therapist\", \"therapy\", \"therapy\", \"thing\", \"thing\", \"think\", \"think\", \"thought\", \"thought\", \"tic\", \"tic\", \"time\", \"time\", \"topamax\", \"topamax\", \"try\", \"try\", \"understand\", \"understand\", \"understanding\", \"understanding\", \"usampsource\", \"usampsource\", \"want\", \"want\", \"way\", \"way\", \"well\", \"well\", \"work\", \"work\", \"year\", \"year\", \"yes\", \"yes\", \"yousound\", \"yousound\"]}, \"R\": 30, \"lambda.step\": 0.01, \"plot.opts\": {\"xlab\": \"PC1\", \"ylab\": \"PC2\"}, \"topic.order\": [2, 1]};\n",
       "\n",
       "function LDAvis_load_lib(url, callback){\n",
       "  var s = document.createElement('script');\n",
       "  s.src = url;\n",
       "  s.async = true;\n",
       "  s.onreadystatechange = s.onload = callback;\n",
       "  s.onerror = function(){console.warn(\"failed to load library \" + url);};\n",
       "  document.getElementsByTagName(\"head\")[0].appendChild(s);\n",
       "}\n",
       "\n",
       "if(typeof(LDAvis) !== \"undefined\"){\n",
       "   // already loaded: just create the visualization\n",
       "   !function(LDAvis){\n",
       "       new LDAvis(\"#\" + \"ldavis_el2707140512137496160720706053\", ldavis_el2707140512137496160720706053_data);\n",
       "   }(LDAvis);\n",
       "}else if(typeof define === \"function\" && define.amd){\n",
       "   // require.js is available: use it to load d3/LDAvis\n",
       "   require.config({paths: {d3: \"https://d3js.org/d3.v5\"}});\n",
       "   require([\"d3\"], function(d3){\n",
       "      window.d3 = d3;\n",
       "      LDAvis_load_lib(\"https://cdn.jsdelivr.net/gh/bmabey/pyLDAvis@3.3.1/pyLDAvis/js/ldavis.v3.0.0.js\", function(){\n",
       "        new LDAvis(\"#\" + \"ldavis_el2707140512137496160720706053\", ldavis_el2707140512137496160720706053_data);\n",
       "      });\n",
       "    });\n",
       "}else{\n",
       "    // require.js not available: dynamically load d3 & LDAvis\n",
       "    LDAvis_load_lib(\"https://d3js.org/d3.v5.js\", function(){\n",
       "         LDAvis_load_lib(\"https://cdn.jsdelivr.net/gh/bmabey/pyLDAvis@3.3.1/pyLDAvis/js/ldavis.v3.0.0.js\", function(){\n",
       "                 new LDAvis(\"#\" + \"ldavis_el2707140512137496160720706053\", ldavis_el2707140512137496160720706053_data);\n",
       "            })\n",
       "         });\n",
       "}\n",
       "</script>"
      ],
      "text/plain": [
       "PreparedData(topic_coordinates=              x    y  topics  cluster       Freq\n",
       "topic                                           \n",
       "1      0.002542  0.0       1        1  50.699422\n",
       "0     -0.002542  0.0       2        1  49.300578, topic_info=           Term           Freq          Total Category  logprob  loglift\n",
       "169        time   77013.000000   77013.000000  Default  30.0000  30.0000\n",
       "41         tell   43939.000000   43939.000000  Default  29.0000  29.0000\n",
       "93       people   98544.000000   98544.000000  Default  28.0000  28.0000\n",
       "53       change   21784.000000   21784.000000  Default  27.0000  27.0000\n",
       "11         feel  128194.000000  128194.000000  Default  26.0000  26.0000\n",
       "..          ...            ...            ...      ...      ...      ...\n",
       "287  depression   16211.452859   33230.993283   Topic2  -5.5911  -0.0105\n",
       "104        find   21679.141871   51314.757916   Topic2  -5.3004  -0.1544\n",
       "649      mental   20398.509125   48537.749372   Topic2  -5.3613  -0.1596\n",
       "155         day   17626.203795   40263.292575   Topic2  -5.5074  -0.1188\n",
       "122     anxiety   16419.639850   34430.603521   Topic2  -5.5783  -0.0332\n",
       "\n",
       "[210 rows x 6 columns], token_table=       Topic      Freq      Term\n",
       "term                            \n",
       "3991       1  0.326136   abdomen\n",
       "3991       2  0.671456   abdomen\n",
       "1036       1  0.579953      able\n",
       "1036       2  0.420076      able\n",
       "194        1  0.604112    advice\n",
       "...      ...       ...       ...\n",
       "49         2  0.558759      year\n",
       "253        1  0.413774       yes\n",
       "253        2  0.586217       yes\n",
       "10269      1  0.349777  yousound\n",
       "10269      2  0.664577  yousound\n",
       "\n",
       "[306 rows x 3 columns], R=30, lambda_step=0.01, plot_opts={'xlab': 'PC1', 'ylab': 'PC2'}, topic_order=[2, 1])"
      ]
     },
     "execution_count": 49,
     "metadata": {},
     "output_type": "execute_result"
    }
   ],
   "source": [
    "# Enable the visualization of LDA model results in the Jupyter notebook environment\n",
    "pyLDAvis.enable_notebook()\n",
    "\n",
    "# Prepare the data for visualization using pyLDAvis\n",
    "# 'lda_model' is the trained LDA model, 'corpus' is the bag-of-words corpus, and 'id2word' is the dictionary mapping word IDs to words\n",
    "lda_viz = gensimvis.prepare(lda_model, corpus, id2word)\n",
    "\n",
    "# The 'lda_viz' variable now holds the prepared data for visualization using pyLDAvis\n",
    "lda_viz"
   ]
  },
  {
   "cell_type": "code",
   "execution_count": 33,
   "id": "f0315bd7",
   "metadata": {
    "ExecuteTime": {
     "end_time": "2022-11-14T17:56:14.618517Z",
     "start_time": "2022-11-14T17:37:11.852732Z"
    }
   },
   "outputs": [
    {
     "name": "stderr",
     "output_type": "stream",
     "text": [
      "/var/folders/9g/vy_4_9x1485_v_ltw5ybg00r0000gq/T/ipykernel_2707/3861351028.py:13: FutureWarning: The frame.append method is deprecated and will be removed from pandas in a future version. Use pandas.concat instead.\n",
      "  sent_topics_df = sent_topics_df.append(pd.Series([int(topic_num), round(prop_topic,4), topic_keywords]), ignore_index=True)\n",
      "/var/folders/9g/vy_4_9x1485_v_ltw5ybg00r0000gq/T/ipykernel_2707/3861351028.py:13: FutureWarning: The frame.append method is deprecated and will be removed from pandas in a future version. Use pandas.concat instead.\n",
      "  sent_topics_df = sent_topics_df.append(pd.Series([int(topic_num), round(prop_topic,4), topic_keywords]), ignore_index=True)\n"
     ]
    },
    {
     "data": {
      "text/html": [
       "<div>\n",
       "<style scoped>\n",
       "    .dataframe tbody tr th:only-of-type {\n",
       "        vertical-align: middle;\n",
       "    }\n",
       "\n",
       "    .dataframe tbody tr th {\n",
       "        vertical-align: top;\n",
       "    }\n",
       "\n",
       "    .dataframe thead th {\n",
       "        text-align: right;\n",
       "    }\n",
       "</style>\n",
       "<table border=\"1\" class=\"dataframe\">\n",
       "  <thead>\n",
       "    <tr style=\"text-align: right;\">\n",
       "      <th></th>\n",
       "      <th>Document_No</th>\n",
       "      <th>Dominant_Topic</th>\n",
       "      <th>Topic_Perc_Contrib</th>\n",
       "      <th>Keywords</th>\n",
       "      <th>Text</th>\n",
       "    </tr>\n",
       "  </thead>\n",
       "  <tbody>\n",
       "    <tr>\n",
       "      <th>0</th>\n",
       "      <td>0</td>\n",
       "      <td>1</td>\n",
       "      <td>0.5374</td>\n",
       "      <td>feel, help, thing, know, need, people, want, t...</td>\n",
       "      <td>[anchor, anchor, need, successful, care, mom, ...</td>\n",
       "    </tr>\n",
       "    <tr>\n",
       "      <th>1</th>\n",
       "      <td>1</td>\n",
       "      <td>4</td>\n",
       "      <td>0.9833</td>\n",
       "      <td>think, know, people, help, thing, need, feel, ...</td>\n",
       "      <td>[know, urge, think, probably, take, care, hair...</td>\n",
       "    </tr>\n",
       "    <tr>\n",
       "      <th>2</th>\n",
       "      <td>2</td>\n",
       "      <td>4</td>\n",
       "      <td>0.9099</td>\n",
       "      <td>think, know, people, help, thing, need, feel, ...</td>\n",
       "      <td>[coward, handle, fact, people, well, life, sto...</td>\n",
       "    </tr>\n",
       "    <tr>\n",
       "      <th>3</th>\n",
       "      <td>3</td>\n",
       "      <td>8</td>\n",
       "      <td>0.8341</td>\n",
       "      <td>help, people, think, feel, good, thing, know, ...</td>\n",
       "      <td>[normal, crazy, binary, opposite, scale, maybe...</td>\n",
       "    </tr>\n",
       "    <tr>\n",
       "      <th>4</th>\n",
       "      <td>4</td>\n",
       "      <td>9</td>\n",
       "      <td>0.9625</td>\n",
       "      <td>help, think, go, feel, know, good, want, thing...</td>\n",
       "      <td>[assume, majority, aware, anxiety, disorder, t...</td>\n",
       "    </tr>\n",
       "    <tr>\n",
       "      <th>5</th>\n",
       "      <td>5</td>\n",
       "      <td>4</td>\n",
       "      <td>0.9571</td>\n",
       "      <td>think, know, people, help, thing, need, feel, ...</td>\n",
       "      <td>[matter, gender, feel, like, hink, thing, talk...</td>\n",
       "    </tr>\n",
       "    <tr>\n",
       "      <th>6</th>\n",
       "      <td>6</td>\n",
       "      <td>7</td>\n",
       "      <td>0.5943</td>\n",
       "      <td>feel, people, know, think, thing, time, want, ...</td>\n",
       "      <td>[person_shrugginglight_skin_tonefemale_sign, k...</td>\n",
       "    </tr>\n",
       "    <tr>\n",
       "      <th>7</th>\n",
       "      <td>7</td>\n",
       "      <td>8</td>\n",
       "      <td>0.9000</td>\n",
       "      <td>help, people, think, feel, good, thing, know, ...</td>\n",
       "      <td>[expert, sound, kinda, like, bipolar, see, psy...</td>\n",
       "    </tr>\n",
       "    <tr>\n",
       "      <th>8</th>\n",
       "      <td>8</td>\n",
       "      <td>0</td>\n",
       "      <td>0.7769</td>\n",
       "      <td>feel, help, thing, think, try, good, people, k...</td>\n",
       "      <td>[laugh, joke, friend, mean, think, problem, th...</td>\n",
       "    </tr>\n",
       "    <tr>\n",
       "      <th>9</th>\n",
       "      <td>9</td>\n",
       "      <td>6</td>\n",
       "      <td>0.9742</td>\n",
       "      <td>feel, help, know, think, good, work, thing, tr...</td>\n",
       "      <td>[yes, absolutely, mg, moderate, dose, poster, ...</td>\n",
       "    </tr>\n",
       "  </tbody>\n",
       "</table>\n",
       "</div>"
      ],
      "text/plain": [
       "   Document_No  Dominant_Topic  Topic_Perc_Contrib  \\\n",
       "0            0               1              0.5374   \n",
       "1            1               4              0.9833   \n",
       "2            2               4              0.9099   \n",
       "3            3               8              0.8341   \n",
       "4            4               9              0.9625   \n",
       "5            5               4              0.9571   \n",
       "6            6               7              0.5943   \n",
       "7            7               8              0.9000   \n",
       "8            8               0              0.7769   \n",
       "9            9               6              0.9742   \n",
       "\n",
       "                                            Keywords  \\\n",
       "0  feel, help, thing, know, need, people, want, t...   \n",
       "1  think, know, people, help, thing, need, feel, ...   \n",
       "2  think, know, people, help, thing, need, feel, ...   \n",
       "3  help, people, think, feel, good, thing, know, ...   \n",
       "4  help, think, go, feel, know, good, want, thing...   \n",
       "5  think, know, people, help, thing, need, feel, ...   \n",
       "6  feel, people, know, think, thing, time, want, ...   \n",
       "7  help, people, think, feel, good, thing, know, ...   \n",
       "8  feel, help, thing, think, try, good, people, k...   \n",
       "9  feel, help, know, think, good, work, thing, tr...   \n",
       "\n",
       "                                                Text  \n",
       "0  [anchor, anchor, need, successful, care, mom, ...  \n",
       "1  [know, urge, think, probably, take, care, hair...  \n",
       "2  [coward, handle, fact, people, well, life, sto...  \n",
       "3  [normal, crazy, binary, opposite, scale, maybe...  \n",
       "4  [assume, majority, aware, anxiety, disorder, t...  \n",
       "5  [matter, gender, feel, like, hink, thing, talk...  \n",
       "6  [person_shrugginglight_skin_tonefemale_sign, k...  \n",
       "7  [expert, sound, kinda, like, bipolar, see, psy...  \n",
       "8  [laugh, joke, friend, mean, think, problem, th...  \n",
       "9  [yes, absolutely, mg, moderate, dose, poster, ...  "
      ]
     },
     "execution_count": 33,
     "metadata": {},
     "output_type": "execute_result"
    }
   ],
   "source": [
    "# Function to format LDA model results and extract the dominant topic for each document\n",
    "def format_topics_sentences(ldamodel=lda_model, corpus=corpus, texts=texts):\n",
    "    # Initialize an empty DataFrame to store the output\n",
    "    sent_topics_df = pd.DataFrame()\n",
    "\n",
    "    # Iterate through each document in the LDA model results\n",
    "    for i, row in enumerate(ldamodel[corpus]):\n",
    "        # Sort the topics in descending order based on the topic's contribution to the document\n",
    "        row = sorted(row, key=lambda x: (x[1]), reverse=True)\n",
    "\n",
    "        # Extract the Dominant topic, Percentage Contribution, and Keywords for each document\n",
    "        for j, (topic_num, prop_topic) in enumerate(row):\n",
    "            if j == 0:  # => dominant topic\n",
    "                # Get the topic's keywords from the LDA model\n",
    "                wp = ldamodel.show_topic(topic_num)\n",
    "                topic_keywords = \", \".join([word for word, prop in wp])\n",
    "\n",
    "                # Append the Dominant Topic, Percentage Contribution, and Keywords to 'sent_topics_df'\n",
    "                sent_topics_df = sent_topics_df.append(pd.Series([int(topic_num), round(prop_topic, 4), topic_keywords]), ignore_index=True)\n",
    "            else:\n",
    "                break\n",
    "\n",
    "    # Set column names for the output DataFrame\n",
    "    sent_topics_df.columns = ['Dominant_Topic', 'Perc_Contribution', 'Topic_Keywords']\n",
    "\n",
    "    # Add the original text to the end of the output DataFrame\n",
    "    contents = pd.Series(texts)\n",
    "    sent_topics_df = pd.concat([sent_topics_df, contents], axis=1)\n",
    "\n",
    "    return(sent_topics_df)\n",
    "\n",
    "# Format LDA model results and extract the dominant topics for each document\n",
    "df_topic_sents_keywords = format_topics_sentences(ldamodel=lda_model, corpus=corpus, texts=texts)\n",
    "\n",
    "# Format the results DataFrame and display the first 10 rows\n",
    "df_dominant_topic = df_topic_sents_keywords.reset_index()\n",
    "df_dominant_topic.columns = ['Document_No', 'Dominant_Topic', 'Topic_Perc_Contrib', 'Keywords', 'Text']\n",
    "\n",
    "# Show the first 10 rows of the formatted DataFrame\n",
    "df_dominant_topic.head(10)"
   ]
  }
 ],
 "metadata": {
  "kernelspec": {
   "display_name": "Python 3 (ipykernel)",
   "language": "python",
   "name": "python3"
  },
  "language_info": {
   "codemirror_mode": {
    "name": "ipython",
    "version": 3
   },
   "file_extension": ".py",
   "mimetype": "text/x-python",
   "name": "python",
   "nbconvert_exporter": "python",
   "pygments_lexer": "ipython3",
   "version": "3.9.12"
  }
 },
 "nbformat": 4,
 "nbformat_minor": 5
}
